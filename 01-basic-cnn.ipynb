{
  "cells": [
    {
      "cell_type": "markdown",
      "source": [
        "# Load Dataset from Google Drive"
      ],
      "metadata": {
        "id": "4n0IP2rPwhh6"
      }
    },
    {
      "cell_type": "code",
      "execution_count": 1,
      "metadata": {
        "id": "dXJOIFnywIZt",
        "outputId": "828ade73-bd27-415e-c75d-9cde39712c0b",
        "colab": {
          "base_uri": "https://localhost:8080/"
        }
      },
      "outputs": [
        {
          "output_type": "stream",
          "name": "stdout",
          "text": [
            "Mounted at /content/drive\n"
          ]
        }
      ],
      "source": [
        "import os\n",
        "from google.colab import drive\n",
        "drive.mount('/content/drive')\n",
        "# !unzip  drive/Shareddrives/Bangkit\\ Capstone/leaf_datasets.zip -d ."
      ]
    },
    {
      "cell_type": "markdown",
      "source": [
        "# Import Libraries"
      ],
      "metadata": {
        "id": "EJCqYLrjwe9E"
      }
    },
    {
      "cell_type": "code",
      "source": [
        "import os\n",
        "import zipfile\n",
        "import random\n",
        "import shutil\n",
        "import tensorflow as tf\n",
        "from tensorflow.keras.preprocessing.image import ImageDataGenerator\n",
        "from tensorflow.keras.preprocessing.image import img_to_array, load_img\n",
        "import numpy as np\n",
        "from shutil import copyfile\n",
        "import matplotlib.pyplot as plt"
      ],
      "metadata": {
        "id": "rBxlhby7wMok"
      },
      "execution_count": 4,
      "outputs": []
    },
    {
      "cell_type": "code",
      "source": [
        "import glob as gb\n",
        "def img_count_in_folder(FOLDER_PATH):  \n",
        "  print('-'*70)\n",
        "  for folder in os.listdir(FOLDER_PATH):\n",
        "    files=gb.glob(pathname=str(FOLDER_PATH + '/' + folder + '/*.jpg'))\n",
        "    print(f'{len(files):4} gambar yang ditemukan di dalam folder {folder}')\n",
        "  print('-'*70)"
      ],
      "metadata": {
        "id": "-ntQ3sJHfYFi"
      },
      "execution_count": 5,
      "outputs": []
    },
    {
      "cell_type": "code",
      "source": [
        "# def list_images():\n",
        "#   classes_dirs = os.listdir(train_dir)\n",
        "#   for folder in classes_dirs:\n",
        "#     train_classes = os.listdir(os.path.join(train_dir, folder))\n",
        "#     validation_classes = os.listdir(os.path.join(validation_dir, folder))\n",
        "#     test_classes = os.listdir(os.path.join(test_dir, folder))\n",
        "#     print(f\"{folder}: \\n \\t{len(train_classes)} train images, {len(validation_classes)} validation images, and {len(test_classes)} test images,  total {len(train_classes) + len(validation_classes) + len(test_classes)} images\")\n",
        "#     print()\n",
        "# list_images()"
      ],
      "metadata": {
        "id": "O6WVlJsXw4z0"
      },
      "execution_count": 39,
      "outputs": []
    },
    {
      "cell_type": "code",
      "source": [
        "dataset_dir = f\"/content/drive/Shareddrives/Bangkit Capstone/Final_Split_Datasets\"\n",
        "train_dir = os.path.join(dataset_dir, \"train\")\n",
        "validation_dir = os.path.join(dataset_dir, \"validation\")\n",
        "test_dir = os.path.join(dataset_dir, \"test\")"
      ],
      "metadata": {
        "id": "DLg-5HgLxhnF"
      },
      "execution_count": 7,
      "outputs": []
    },
    {
      "cell_type": "code",
      "source": [
        "# Load the first example of a horse\n",
        "pepaya_class = os.path.join(train_dir, 'Pepaya')\n",
        "sample_image  = load_img(f\"{os.path.join(pepaya_class, os.listdir(pepaya_class)[0])}\")\n",
        "\n",
        "# Convert the image into its numpy array representation\n",
        "sample_array = img_to_array(sample_image)\n",
        "\n",
        "print(f\"Each image has shape: {sample_array.shape}\")"
      ],
      "metadata": {
        "id": "xHsmO2lu0dtW",
        "outputId": "9bed65af-3b03-48cc-9a2f-7de2ee091398",
        "colab": {
          "base_uri": "https://localhost:8080/"
        }
      },
      "execution_count": 8,
      "outputs": [
        {
          "output_type": "stream",
          "name": "stdout",
          "text": [
            "Each image has shape: (500, 500, 3)\n"
          ]
        }
      ]
    },
    {
      "cell_type": "code",
      "source": [
        "def train_val_generators(TRAINING_DIR, VALIDATION_DIR, TEST_DIR):\n",
        "  train_datagen = ImageDataGenerator(rescale = 1./255.,\n",
        "                                    rotation_range=40,\n",
        "                                    width_shift_range=0.2,\n",
        "                                    height_shift_range=0.2,\n",
        "                                    shear_range=0.2,\n",
        "                                    zoom_range=0.2,\n",
        "                                    horizontal_flip=True,\n",
        "                                    fill_mode='nearest')\n",
        "\n",
        "  train_generator = train_datagen.flow_from_directory(directory=TRAINING_DIR,\n",
        "                                                      batch_size=32, \n",
        "                                                      class_mode='sparse',\n",
        "                                                      target_size=(224, 224))\n",
        "\n",
        "  validation_datagen = ImageDataGenerator(rescale = 1./255.)\n",
        "\n",
        "  validation_generator = validation_datagen.flow_from_directory(directory=VALIDATION_DIR,\n",
        "                                                                batch_size=32, \n",
        "                                                                class_mode='sparse',\n",
        "                                                                target_size=(224, 224))\n",
        "\n",
        "  test_datagen = ImageDataGenerator(rescale= 1./255.)\n",
        "\n",
        "  test_generator = test_datagen.flow_from_directory(directory=TEST_DIR,\n",
        "                                                                batch_size=32,\n",
        "                                                                shuffle=False, \n",
        "                                                                class_mode='sparse',\n",
        "                                                                target_size=(224, 224))\n",
        "  return train_generator, validation_generator, test_generator"
      ],
      "metadata": {
        "id": "pxAHnATVw7D3"
      },
      "execution_count": 10,
      "outputs": []
    },
    {
      "cell_type": "code",
      "source": [
        "train_generator, validation_generator, test_generator = train_val_generators(train_dir, validation_dir, test_dir)"
      ],
      "metadata": {
        "id": "fZEuSiux1G6m",
        "outputId": "e4c7de44-caa2-4fa3-bf5a-6cee9822da2c",
        "colab": {
          "base_uri": "https://localhost:8080/"
        }
      },
      "execution_count": 11,
      "outputs": [
        {
          "output_type": "stream",
          "name": "stdout",
          "text": [
            "Found 1790 images belonging to 11 classes.\n",
            "Found 497 images belonging to 11 classes.\n",
            "Found 261 images belonging to 11 classes.\n"
          ]
        }
      ]
    },
    {
      "cell_type": "code",
      "source": [
        "from keras.models import Sequential\n",
        "from keras.layers import Conv2D, MaxPooling2D\n",
        "from keras.layers import Activation, Dropout, Flatten, Dense\n",
        "from tensorflow.keras.optimizers import Adam, RMSprop\n",
        "\n",
        "def create_model():\n",
        "\n",
        "  model = tf.keras.models.Sequential([ \n",
        "    tf.keras.layers.Conv2D(16, (3,3), activation='relu', input_shape=(224, 224, 3)),\n",
        "    tf.keras.layers.MaxPooling2D(2,2),\n",
        "\n",
        "    tf.keras.layers.Conv2D(32, (3,3), activation='relu',),\n",
        "    tf.keras.layers.MaxPooling2D(2,2),\n",
        "\n",
        "    tf.keras.layers.Conv2D(64, (3,3), activation='relu',),\n",
        "    tf.keras.layers.MaxPooling2D(2,2),\n",
        "\n",
        "    tf.keras.layers.Conv2D(64, (3,3), activation='relu',),\n",
        "    tf.keras.layers.MaxPooling2D(2,2),\n",
        "\n",
        "    tf.keras.layers.Conv2D(64, (3,3), activation='relu',),\n",
        "    tf.keras.layers.MaxPooling2D(2,2),\n",
        "\n",
        "    tf.keras.layers.Flatten(),\n",
        "    tf.keras.layers.Dense(512, activation='relu'),\n",
        "    tf.keras.layers.Dense(11, activation='softmax')\n",
        "  ])\n",
        "\n",
        "  \n",
        "  model.compile(optimizer=Adam(learning_rate=0.001),\n",
        "                  loss='sparse_categorical_crossentropy',\n",
        "                  metrics=['accuracy'])\n",
        "  return model"
      ],
      "metadata": {
        "id": "k3fr-8ZD1JZo"
      },
      "execution_count": 60,
      "outputs": []
    },
    {
      "cell_type": "code",
      "source": [
        "model = create_model()\n",
        "model.summary()"
      ],
      "metadata": {
        "id": "Oszsd5A_1npV",
        "outputId": "9b9c6932-fffa-49f3-e756-4d95e0afe30e",
        "colab": {
          "base_uri": "https://localhost:8080/"
        }
      },
      "execution_count": 62,
      "outputs": [
        {
          "output_type": "stream",
          "name": "stdout",
          "text": [
            "Model: \"sequential_8\"\n",
            "_________________________________________________________________\n",
            " Layer (type)                Output Shape              Param #   \n",
            "=================================================================\n",
            " conv2d_40 (Conv2D)          (None, 222, 222, 16)      448       \n",
            "                                                                 \n",
            " max_pooling2d_40 (MaxPoolin  (None, 111, 111, 16)     0         \n",
            " g2D)                                                            \n",
            "                                                                 \n",
            " conv2d_41 (Conv2D)          (None, 109, 109, 32)      4640      \n",
            "                                                                 \n",
            " max_pooling2d_41 (MaxPoolin  (None, 54, 54, 32)       0         \n",
            " g2D)                                                            \n",
            "                                                                 \n",
            " conv2d_42 (Conv2D)          (None, 52, 52, 64)        18496     \n",
            "                                                                 \n",
            " max_pooling2d_42 (MaxPoolin  (None, 26, 26, 64)       0         \n",
            " g2D)                                                            \n",
            "                                                                 \n",
            " conv2d_43 (Conv2D)          (None, 24, 24, 64)        36928     \n",
            "                                                                 \n",
            " max_pooling2d_43 (MaxPoolin  (None, 12, 12, 64)       0         \n",
            " g2D)                                                            \n",
            "                                                                 \n",
            " conv2d_44 (Conv2D)          (None, 10, 10, 64)        36928     \n",
            "                                                                 \n",
            " max_pooling2d_44 (MaxPoolin  (None, 5, 5, 64)         0         \n",
            " g2D)                                                            \n",
            "                                                                 \n",
            " flatten_8 (Flatten)         (None, 1600)              0         \n",
            "                                                                 \n",
            " dense_16 (Dense)            (None, 512)               819712    \n",
            "                                                                 \n",
            " dense_17 (Dense)            (None, 11)                5643      \n",
            "                                                                 \n",
            "=================================================================\n",
            "Total params: 922,795\n",
            "Trainable params: 922,795\n",
            "Non-trainable params: 0\n",
            "_________________________________________________________________\n"
          ]
        }
      ]
    },
    {
      "cell_type": "code",
      "source": [
        "history = model.fit(train_generator,\n",
        "                    epochs=15,\n",
        "                    verbose=1,\n",
        "                    validation_data=validation_generator)"
      ],
      "metadata": {
        "id": "_u3uCv4m1rXM",
        "outputId": "1c1e167f-110f-44b3-95e8-9bc0aa3b1efe",
        "colab": {
          "base_uri": "https://localhost:8080/"
        }
      },
      "execution_count": 65,
      "outputs": [
        {
          "output_type": "stream",
          "name": "stdout",
          "text": [
            "Epoch 1/15\n",
            "56/56 [==============================] - 94s 2s/step - loss: 2.1049 - accuracy: 0.2872 - val_loss: 1.9322 - val_accuracy: 0.3642\n",
            "Epoch 2/15\n",
            "56/56 [==============================] - 91s 2s/step - loss: 1.8041 - accuracy: 0.3916 - val_loss: 1.6588 - val_accuracy: 0.4245\n",
            "Epoch 3/15\n",
            "56/56 [==============================] - 90s 2s/step - loss: 1.6656 - accuracy: 0.4156 - val_loss: 1.5382 - val_accuracy: 0.4588\n",
            "Epoch 4/15\n",
            "56/56 [==============================] - 90s 2s/step - loss: 1.5525 - accuracy: 0.4520 - val_loss: 1.5910 - val_accuracy: 0.4708\n",
            "Epoch 5/15\n",
            "56/56 [==============================] - 91s 2s/step - loss: 1.5214 - accuracy: 0.4737 - val_loss: 1.4756 - val_accuracy: 0.4668\n",
            "Epoch 6/15\n",
            "56/56 [==============================] - 91s 2s/step - loss: 1.4282 - accuracy: 0.5050 - val_loss: 1.4330 - val_accuracy: 0.4990\n",
            "Epoch 7/15\n",
            "56/56 [==============================] - 92s 2s/step - loss: 1.3716 - accuracy: 0.5235 - val_loss: 1.4207 - val_accuracy: 0.5091\n",
            "Epoch 8/15\n",
            "56/56 [==============================] - 91s 2s/step - loss: 1.3413 - accuracy: 0.5391 - val_loss: 1.3269 - val_accuracy: 0.5473\n",
            "Epoch 9/15\n",
            "56/56 [==============================] - 91s 2s/step - loss: 1.2763 - accuracy: 0.5536 - val_loss: 1.2311 - val_accuracy: 0.5734\n",
            "Epoch 10/15\n",
            "56/56 [==============================] - 91s 2s/step - loss: 1.2348 - accuracy: 0.5698 - val_loss: 1.3206 - val_accuracy: 0.5674\n",
            "Epoch 11/15\n",
            "56/56 [==============================] - 93s 2s/step - loss: 1.2202 - accuracy: 0.5709 - val_loss: 1.2294 - val_accuracy: 0.5956\n",
            "Epoch 12/15\n",
            "56/56 [==============================] - 92s 2s/step - loss: 1.1751 - accuracy: 0.5911 - val_loss: 1.3672 - val_accuracy: 0.5513\n",
            "Epoch 13/15\n",
            "56/56 [==============================] - 92s 2s/step - loss: 1.1795 - accuracy: 0.5927 - val_loss: 1.2426 - val_accuracy: 0.5915\n",
            "Epoch 14/15\n",
            "56/56 [==============================] - 91s 2s/step - loss: 1.1447 - accuracy: 0.6101 - val_loss: 1.2188 - val_accuracy: 0.5835\n",
            "Epoch 15/15\n",
            "56/56 [==============================] - 92s 2s/step - loss: 1.1044 - accuracy: 0.6235 - val_loss: 1.1573 - val_accuracy: 0.6056\n"
          ]
        }
      ]
    },
    {
      "cell_type": "code",
      "source": [
        "def plot_loss(history):\n",
        "  acc = history.history['accuracy']\n",
        "  val_acc = history.history['val_accuracy']\n",
        "  loss = history.history['loss']\n",
        "  val_loss = history.history['val_loss']\n",
        "  \n",
        "  epochs = range(len(acc))\n",
        "  \n",
        "  plt.plot(epochs, acc, 'r', label='Training accuracy')\n",
        "  plt.plot(epochs, val_acc, 'b', label='Validation accuracy')\n",
        "  plt.title('Training and validation accuracy')\n",
        "  plt.legend(loc=0)\n",
        "  plt.figure()\n",
        "  \n",
        "  plt.show()\n",
        "\n",
        "plot_loss(history)"
      ],
      "metadata": {
        "id": "FzM-NL0M1x-S",
        "outputId": "ed249eb3-a17d-4d9b-ae54-1dbe290bb126",
        "colab": {
          "base_uri": "https://localhost:8080/",
          "height": 298
        }
      },
      "execution_count": 66,
      "outputs": [
        {
          "output_type": "display_data",
          "data": {
            "text/plain": [
              "<Figure size 432x288 with 1 Axes>"
            ],
            "image/png": "[encoded data removed]"
          },
          "metadata": {
            "needs_background": "light"
          }
        },
        {
          "output_type": "display_data",
          "data": {
            "text/plain": [
              "<Figure size 432x288 with 0 Axes>"
            ]
          },
          "metadata": {}
        }
      ]
    },
    {
      "cell_type": "code",
      "source": [
        "from sklearn.metrics import classification_report, confusion_matrix\n",
        "import numpy as np\n",
        "import pandas as pd\n",
        "from shutil import copyfile\n",
        "import matplotlib.pyplot as plt\n",
        "import seaborn as sns\n",
        "def evaluate_model(model, test_gen):\n",
        "  evaluate = model.evaluate(test_gen)\n",
        "  print('Loss of the model is - ', evaluate[0])\n",
        "  print('Accuracy of the model is - ', evaluate[1]*100, '%')\n",
        "\n",
        "  classes =  list(test_gen.class_indices.keys())\n",
        "  Y_pred = model.predict(test_gen)\n",
        "  y_pred = np.argmax(Y_pred, axis=1)\n",
        "  \n",
        "  print(classification_report(test_gen.classes, y_pred, target_names=classes))\n",
        "  print('Confusion Matrix')\n",
        "  conf_matrix = confusion_matrix(test_gen.classes, y_pred)\n",
        "  df_cm = pd.DataFrame(conf_matrix, index = classes, columns = classes)\n",
        "  ax = sns.heatmap(df_cm, annot=True, cmap='Blues')\n",
        "\n",
        "  ax.set_title('Seaborn Confusion Matrix with labels\\n\\n');\n",
        "  ax.set_xlabel('\\nPredicted Values')\n",
        "  ax.set_ylabel('Actual Values ');\n",
        "  \n",
        "  ## Ticket labels - List must be in alphabetical order\n",
        "\n",
        "evaluate_model(model, test_generator)"
      ],
      "metadata": {
        "colab": {
          "base_uri": "https://localhost:8080/",
          "height": 806
        },
        "id": "l3OyK4AX9Lua",
        "outputId": "92c6ef96-614b-4554-84bf-73780e745413"
      },
      "execution_count": 67,
      "outputs": [
        {
          "output_type": "stream",
          "name": "stderr",
          "text": [
            "/usr/local/lib/python3.7/dist-packages/PIL/Image.py:960: UserWarning: Palette images with Transparency expressed in bytes should be converted to RGBA images\n",
            "  \"Palette images with Transparency expressed in bytes should be \"\n"
          ]
        },
        {
          "output_type": "stream",
          "name": "stdout",
          "text": [
            "9/9 [==============================] - 8s 875ms/step - loss: 1.0577 - accuracy: 0.6552\n",
            "Loss of the model is -  1.0576775074005127\n",
            "Accuracy of the model is -  65.51724076271057 %\n",
            "              precision    recall  f1-score   support\n",
            "\n",
            " Bayam Hijau       1.00      0.59      0.74        29\n",
            "        Jahe       0.87      0.87      0.87        47\n",
            "  Jambu Biji       0.75      0.45      0.56        20\n",
            " Jeruk Purut       0.50      0.23      0.32        13\n",
            "       Kelor       0.54      0.59      0.57        22\n",
            "      Kersen       0.61      0.85      0.71        13\n",
            "       Lemon       0.75      0.78      0.77        23\n",
            "    Lengkuas       1.00      0.30      0.46        10\n",
            "        Mint       0.48      0.62      0.54        45\n",
            "      Nangka       0.77      0.67      0.71        15\n",
            "      Pepaya       0.46      0.75      0.57        24\n",
            "\n",
            "    accuracy                           0.66       261\n",
            "   macro avg       0.70      0.61      0.62       261\n",
            "weighted avg       0.70      0.66      0.65       261\n",
            "\n",
            "Confusion Matrix\n"
          ]
        },
        {
          "output_type": "display_data",
          "data": {
            "text/plain": [
              "<Figure size 432x288 with 2 Axes>"
            ],
            "image/png": "[encoded data removed]"
          },
          "metadata": {
            "needs_background": "light"
          }
        }
      ]
    },
    {
      "cell_type": "code",
      "source": [
        "# # X_test, y_test = test_generator.next()\n",
        "# # print('Loss of the model is - ', model.evaluate(X_test, y_test)[0])\n",
        "# # print('Accuracy of the model is - ', model.evaluate(X_test, y_test)[1]*100, '%')\n",
        "# evaluate = model.evaluate(test_generator)\n",
        "# print('Loss of the model is - ', evaluate[0])\n",
        "# print('Accuracy of the model is - ', evaluate[1]*100, '%')"
      ],
      "metadata": {
        "id": "5Ujke7ZnqCZb"
      },
      "execution_count": 33,
      "outputs": []
    },
    {
      "cell_type": "code",
      "source": [
        "def load_image(img_path, show=False):\n",
        "\n",
        "    img = load_img(img_path, target_size=(224, 224))\n",
        "    img_tensor = img_to_array(img)                    # (height, width, channels)\n",
        "    img_tensor = np.expand_dims(img_tensor, axis=0)         # (1, height, width, channels), add a dimension because the model expects this shape: (batch_size, height, width, channels)\n",
        "    img_tensor /= 255.                                      # imshow expects values in the range [0, 1]\n",
        "\n",
        "    if show:\n",
        "        plt.imshow(img_tensor[0])                           \n",
        "        plt.axis('off')\n",
        "        plt.show()\n",
        "\n",
        "    return img_tensor"
      ],
      "metadata": {
        "id": "EZxT5thPAveN"
      },
      "execution_count": 68,
      "outputs": []
    },
    {
      "cell_type": "code",
      "source": [
        "label_map = (train_generator.class_indices)\n",
        "label_map = {v: k for k, v in label_map.items()}\n",
        "image_path ='/content/drive/Shareddrives/Bangkit Capstone/Segmented Medicinal Leaf Images/test/Bayam Hijau/AV-S-021.jpg'\n",
        "image = load_image(image_path, show=True)\n",
        "print(label_map[np.argmax(model.predict(image))])"
      ],
      "metadata": {
        "id": "DHB9xo1Y-b10",
        "outputId": "e32125cc-f2b5-4011-8ca8-db9a1c1e8135",
        "colab": {
          "base_uri": "https://localhost:8080/",
          "height": 265
        }
      },
      "execution_count": 70,
      "outputs": [
        {
          "output_type": "display_data",
          "data": {
            "text/plain": [
              "<Figure size 432x288 with 1 Axes>"
            ],
            "image/png": "[encoded data removed]"
          },
          "metadata": {
            "needs_background": "light"
          }
        },
        {
          "output_type": "stream",
          "name": "stdout",
          "text": [
            "Bayam Hijau\n"
          ]
        }
      ]
    },
    {
      "cell_type": "code",
      "source": [
        "image = load_img('/content/Segmented Medicinal Leaf Images/test/Bayam Hijau/AV-S-009.jpg')"
      ],
      "metadata": {
        "id": "WaZPJjXu9fy0",
        "outputId": "413d89fb-af71-4b9f-a789-c48e103b4a16",
        "colab": {
          "base_uri": "https://localhost:8080/"
        }
      },
      "execution_count": null,
      "outputs": [
        {
          "output_type": "stream",
          "name": "stdout",
          "text": [
            "<PIL.JpegImagePlugin.JpegImageFile image mode=RGB size=1600x1200 at 0x7EFCCAC16990>\n"
          ]
        }
      ]
    }
  ],
  "metadata": {
    "language_info": {
      "name": "python"
    },
    "orig_nbformat": 4,
    "colab": {
      "name": "01-basic-cnn.ipynb",
      "provenance": []
    },
    "kernelspec": {
      "name": "python3",
      "display_name": "Python 3"
    },
    "accelerator": "GPU"
  },
  "nbformat": 4,
  "nbformat_minor": 0
}