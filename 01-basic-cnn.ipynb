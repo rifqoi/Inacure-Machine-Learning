{
  "cells": [
    {
      "cell_type": "markdown",
      "source": [
        "# Load Dataset from Google Drive"
      ],
      "metadata": {
        "id": "4n0IP2rPwhh6"
      }
    },
    {
      "cell_type": "code",
      "execution_count": 1,
      "metadata": {
        "id": "dXJOIFnywIZt",
        "outputId": "828ade73-bd27-415e-c75d-9cde39712c0b",
        "colab": {
          "base_uri": "https://localhost:8080/"
        }
      },
      "outputs": [
        {
          "output_type": "stream",
          "name": "stdout",
          "text": [
            "Mounted at /content/drive\n"
          ]
        }
      ],
      "source": [
        "import os\n",
        "from google.colab import drive\n",
        "drive.mount('/content/drive')\n",
        "# !unzip  drive/Shareddrives/Bangkit\\ Capstone/leaf_datasets.zip -d ."
      ]
    },
    {
      "cell_type": "markdown",
      "source": [
        "# Import Libraries"
      ],
      "metadata": {
        "id": "EJCqYLrjwe9E"
      }
    },
    {
      "cell_type": "code",
      "source": [
        "import os\n",
        "import zipfile\n",
        "import random\n",
        "import shutil\n",
        "import tensorflow as tf\n",
        "from tensorflow.keras.preprocessing.image import ImageDataGenerator\n",
        "from tensorflow.keras.preprocessing.image import img_to_array, load_img\n",
        "import numpy as np\n",
        "from shutil import copyfile\n",
        "import matplotlib.pyplot as plt"
      ],
      "metadata": {
        "id": "rBxlhby7wMok"
      },
      "execution_count": 4,
      "outputs": []
    },
    {
      "cell_type": "code",
      "source": [
        "import glob as gb\n",
        "def img_count_in_folder(FOLDER_PATH):  \n",
        "  print('-'*70)\n",
        "  for folder in os.listdir(FOLDER_PATH):\n",
        "    files=gb.glob(pathname=str(FOLDER_PATH + '/' + folder + '/*.jpg'))\n",
        "    print(f'{len(files):4} gambar yang ditemukan di dalam folder {folder}')\n",
        "  print('-'*70)"
      ],
      "metadata": {
        "id": "-ntQ3sJHfYFi"
      },
      "execution_count": 5,
      "outputs": []
    },
    {
      "cell_type": "code",
      "source": [
        "# def list_images():\n",
        "#   classes_dirs = os.listdir(train_dir)\n",
        "#   for folder in classes_dirs:\n",
        "#     train_classes = os.listdir(os.path.join(train_dir, folder))\n",
        "#     validation_classes = os.listdir(os.path.join(validation_dir, folder))\n",
        "#     test_classes = os.listdir(os.path.join(test_dir, folder))\n",
        "#     print(f\"{folder}: \\n \\t{len(train_classes)} train images, {len(validation_classes)} validation images, and {len(test_classes)} test images,  total {len(train_classes) + len(validation_classes) + len(test_classes)} images\")\n",
        "#     print()\n",
        "# list_images()"
      ],
      "metadata": {
        "id": "O6WVlJsXw4z0",
        "outputId": "6e8d275d-4f8d-46aa-ec28-a9619ce975a4",
        "colab": {
          "base_uri": "https://localhost:8080/",
          "height": 339
        }
      },
      "execution_count": 6,
      "outputs": [
        {
          "output_type": "error",
          "ename": "NameError",
          "evalue": "ignored",
          "traceback": [
            "\u001b[0;31m---------------------------------------------------------------------------\u001b[0m",
            "\u001b[0;31mNameError\u001b[0m                                 Traceback (most recent call last)",
            "\u001b[0;32m<ipython-input-6-9ad9bb742858>\u001b[0m in \u001b[0;36m<module>\u001b[0;34m()\u001b[0m\n\u001b[1;32m      7\u001b[0m     \u001b[0mprint\u001b[0m\u001b[0;34m(\u001b[0m\u001b[0;34mf\"{folder}: \\n \\t{len(train_classes)} train images, {len(validation_classes)} validation images, and {len(test_classes)} test images,  total {len(train_classes) + len(validation_classes) + len(test_classes)} images\"\u001b[0m\u001b[0;34m)\u001b[0m\u001b[0;34m\u001b[0m\u001b[0;34m\u001b[0m\u001b[0m\n\u001b[1;32m      8\u001b[0m     \u001b[0mprint\u001b[0m\u001b[0;34m(\u001b[0m\u001b[0;34m)\u001b[0m\u001b[0;34m\u001b[0m\u001b[0;34m\u001b[0m\u001b[0m\n\u001b[0;32m----> 9\u001b[0;31m \u001b[0mlist_images\u001b[0m\u001b[0;34m(\u001b[0m\u001b[0;34m)\u001b[0m\u001b[0;34m\u001b[0m\u001b[0;34m\u001b[0m\u001b[0m\n\u001b[0m",
            "\u001b[0;32m<ipython-input-6-9ad9bb742858>\u001b[0m in \u001b[0;36mlist_images\u001b[0;34m()\u001b[0m\n\u001b[1;32m      1\u001b[0m \u001b[0;32mdef\u001b[0m \u001b[0mlist_images\u001b[0m\u001b[0;34m(\u001b[0m\u001b[0;34m)\u001b[0m\u001b[0;34m:\u001b[0m\u001b[0;34m\u001b[0m\u001b[0;34m\u001b[0m\u001b[0m\n\u001b[0;32m----> 2\u001b[0;31m   \u001b[0mclasses_dirs\u001b[0m \u001b[0;34m=\u001b[0m \u001b[0mos\u001b[0m\u001b[0;34m.\u001b[0m\u001b[0mlistdir\u001b[0m\u001b[0;34m(\u001b[0m\u001b[0mtrain_dir\u001b[0m\u001b[0;34m)\u001b[0m\u001b[0;34m\u001b[0m\u001b[0;34m\u001b[0m\u001b[0m\n\u001b[0m\u001b[1;32m      3\u001b[0m   \u001b[0;32mfor\u001b[0m \u001b[0mfolder\u001b[0m \u001b[0;32min\u001b[0m \u001b[0mclasses_dirs\u001b[0m\u001b[0;34m:\u001b[0m\u001b[0;34m\u001b[0m\u001b[0;34m\u001b[0m\u001b[0m\n\u001b[1;32m      4\u001b[0m     \u001b[0mtrain_classes\u001b[0m \u001b[0;34m=\u001b[0m \u001b[0mos\u001b[0m\u001b[0;34m.\u001b[0m\u001b[0mlistdir\u001b[0m\u001b[0;34m(\u001b[0m\u001b[0mos\u001b[0m\u001b[0;34m.\u001b[0m\u001b[0mpath\u001b[0m\u001b[0;34m.\u001b[0m\u001b[0mjoin\u001b[0m\u001b[0;34m(\u001b[0m\u001b[0mtrain_dir\u001b[0m\u001b[0;34m,\u001b[0m \u001b[0mfolder\u001b[0m\u001b[0;34m)\u001b[0m\u001b[0;34m)\u001b[0m\u001b[0;34m\u001b[0m\u001b[0;34m\u001b[0m\u001b[0m\n\u001b[1;32m      5\u001b[0m     \u001b[0mvalidation_classes\u001b[0m \u001b[0;34m=\u001b[0m \u001b[0mos\u001b[0m\u001b[0;34m.\u001b[0m\u001b[0mlistdir\u001b[0m\u001b[0;34m(\u001b[0m\u001b[0mos\u001b[0m\u001b[0;34m.\u001b[0m\u001b[0mpath\u001b[0m\u001b[0;34m.\u001b[0m\u001b[0mjoin\u001b[0m\u001b[0;34m(\u001b[0m\u001b[0mvalidation_dir\u001b[0m\u001b[0;34m,\u001b[0m \u001b[0mfolder\u001b[0m\u001b[0;34m)\u001b[0m\u001b[0;34m)\u001b[0m\u001b[0;34m\u001b[0m\u001b[0;34m\u001b[0m\u001b[0m\n",
            "\u001b[0;31mNameError\u001b[0m: name 'train_dir' is not defined"
          ]
        }
      ]
    },
    {
      "cell_type": "code",
      "source": [
        "dataset_dir = f\"/content/drive/Shareddrives/Bangkit Capstone/Final_Split_Datasets\"\n",
        "train_dir = os.path.join(dataset_dir, \"train\")\n",
        "validation_dir = os.path.join(dataset_dir, \"validation\")\n",
        "test_dir = os.path.join(dataset_dir, \"test\")"
      ],
      "metadata": {
        "id": "DLg-5HgLxhnF"
      },
      "execution_count": 7,
      "outputs": []
    },
    {
      "cell_type": "code",
      "source": [
        "# Load the first example of a horse\n",
        "pepaya_class = os.path.join(train_dir, 'Pepaya')\n",
        "sample_image  = load_img(f\"{os.path.join(pepaya_class, os.listdir(pepaya_class)[0])}\")\n",
        "\n",
        "# Convert the image into its numpy array representation\n",
        "sample_array = img_to_array(sample_image)\n",
        "\n",
        "print(f\"Each image has shape: {sample_array.shape}\")"
      ],
      "metadata": {
        "id": "xHsmO2lu0dtW",
        "outputId": "9bed65af-3b03-48cc-9a2f-7de2ee091398",
        "colab": {
          "base_uri": "https://localhost:8080/"
        }
      },
      "execution_count": 8,
      "outputs": [
        {
          "output_type": "stream",
          "name": "stdout",
          "text": [
            "Each image has shape: (500, 500, 3)\n"
          ]
        }
      ]
    },
    {
      "cell_type": "code",
      "source": [
        "def train_val_generators(TRAINING_DIR, VALIDATION_DIR, TEST_DIR):\n",
        "  train_datagen = ImageDataGenerator(rescale = 1./255.,\n",
        "                                    rotation_range=40,\n",
        "                                    width_shift_range=0.2,\n",
        "                                    height_shift_range=0.2,\n",
        "                                    shear_range=0.2,\n",
        "                                    zoom_range=0.2,\n",
        "                                    horizontal_flip=True,\n",
        "                                    fill_mode='nearest')\n",
        "\n",
        "  train_generator = train_datagen.flow_from_directory(directory=TRAINING_DIR,\n",
        "                                                      batch_size=32, \n",
        "                                                      class_mode='sparse',\n",
        "                                                      target_size=(224, 224))\n",
        "\n",
        "  validation_datagen = ImageDataGenerator(rescale = 1./255.)\n",
        "\n",
        "  validation_generator = validation_datagen.flow_from_directory(directory=VALIDATION_DIR,\n",
        "                                                                batch_size=32, \n",
        "                                                                class_mode='sparse',\n",
        "                                                                target_size=(224, 224))\n",
        "\n",
        "  test_datagen = ImageDataGenerator(rescale= 1./255.)\n",
        "\n",
        "  test_generator = test_datagen.flow_from_directory(directory=TEST_DIR,\n",
        "                                                                batch_size=32,\n",
        "                                                                shuffle=False, \n",
        "                                                                class_mode='sparse',\n",
        "                                                                target_size=(224, 224))\n",
        "  return train_generator, validation_generator, test_generator"
      ],
      "metadata": {
        "id": "pxAHnATVw7D3"
      },
      "execution_count": 10,
      "outputs": []
    },
    {
      "cell_type": "code",
      "source": [
        "train_generator, validation_generator, test_generator = train_val_generators(train_dir, validation_dir, test_dir)"
      ],
      "metadata": {
        "id": "fZEuSiux1G6m",
        "outputId": "e4c7de44-caa2-4fa3-bf5a-6cee9822da2c",
        "colab": {
          "base_uri": "https://localhost:8080/"
        }
      },
      "execution_count": 11,
      "outputs": [
        {
          "output_type": "stream",
          "name": "stdout",
          "text": [
            "Found 1790 images belonging to 11 classes.\n",
            "Found 497 images belonging to 11 classes.\n",
            "Found 261 images belonging to 11 classes.\n"
          ]
        }
      ]
    },
    {
      "cell_type": "code",
      "source": [
        "from tensorflow.keras.optimizers import Adam, RMSprop\n",
        "def create_model():\n",
        "\n",
        "  model = tf.keras.models.Sequential([ \n",
        "    tf.keras.layers.Conv2D(16, (3,3), activation='relu', input_shape=(224, 224, 3)),\n",
        "    tf.keras.layers.MaxPooling2D(2,2),\n",
        "\n",
        "    tf.keras.layers.Conv2D(32, (3,3), activation='relu',),\n",
        "    tf.keras.layers.MaxPooling2D(2,2),\n",
        "\n",
        "    tf.keras.layers.Conv2D(64, (3,3), activation='relu',),\n",
        "    tf.keras.layers.MaxPooling2D(2,2),\n",
        "\n",
        "    tf.keras.layers.Conv2D(64, (3,3), activation='relu',),\n",
        "    tf.keras.layers.MaxPooling2D(2,2),\n",
        "\n",
        "    tf.keras.layers.Conv2D(64, (3,3), activation='relu',),\n",
        "    tf.keras.layers.MaxPooling2D(2,2),\n",
        "\n",
        "    tf.keras.layers.Flatten(),\n",
        "    tf.keras.layers.Dense(512, activation='relu'),\n",
        "    tf.keras.layers.Dense(11, activation='softmax')\n",
        "  ])\n",
        "\n",
        "  \n",
        "  model.compile(optimizer='adam',\n",
        "                loss='sparse_categorical_crossentropy',\n",
        "                metrics=['accuracy']) \n",
        "    \n",
        "\n",
        "  return model"
      ],
      "metadata": {
        "id": "k3fr-8ZD1JZo"
      },
      "execution_count": 12,
      "outputs": []
    },
    {
      "cell_type": "code",
      "source": [
        "model = create_model()\n",
        "model.summary()"
      ],
      "metadata": {
        "id": "Oszsd5A_1npV",
        "outputId": "e3c56a43-468f-4f03-a774-f724b6dc41bf",
        "colab": {
          "base_uri": "https://localhost:8080/"
        }
      },
      "execution_count": 13,
      "outputs": [
        {
          "output_type": "stream",
          "name": "stdout",
          "text": [
            "Model: \"sequential\"\n",
            "_________________________________________________________________\n",
            " Layer (type)                Output Shape              Param #   \n",
            "=================================================================\n",
            " conv2d (Conv2D)             (None, 222, 222, 16)      448       \n",
            "                                                                 \n",
            " max_pooling2d (MaxPooling2D  (None, 111, 111, 16)     0         \n",
            " )                                                               \n",
            "                                                                 \n",
            " conv2d_1 (Conv2D)           (None, 109, 109, 32)      4640      \n",
            "                                                                 \n",
            " max_pooling2d_1 (MaxPooling  (None, 54, 54, 32)       0         \n",
            " 2D)                                                             \n",
            "                                                                 \n",
            " conv2d_2 (Conv2D)           (None, 52, 52, 64)        18496     \n",
            "                                                                 \n",
            " max_pooling2d_2 (MaxPooling  (None, 26, 26, 64)       0         \n",
            " 2D)                                                             \n",
            "                                                                 \n",
            " conv2d_3 (Conv2D)           (None, 24, 24, 64)        36928     \n",
            "                                                                 \n",
            " max_pooling2d_3 (MaxPooling  (None, 12, 12, 64)       0         \n",
            " 2D)                                                             \n",
            "                                                                 \n",
            " conv2d_4 (Conv2D)           (None, 10, 10, 64)        36928     \n",
            "                                                                 \n",
            " max_pooling2d_4 (MaxPooling  (None, 5, 5, 64)         0         \n",
            " 2D)                                                             \n",
            "                                                                 \n",
            " flatten (Flatten)           (None, 1600)              0         \n",
            "                                                                 \n",
            " dense (Dense)               (None, 512)               819712    \n",
            "                                                                 \n",
            " dense_1 (Dense)             (None, 11)                5643      \n",
            "                                                                 \n",
            "=================================================================\n",
            "Total params: 922,795\n",
            "Trainable params: 922,795\n",
            "Non-trainable params: 0\n",
            "_________________________________________________________________\n"
          ]
        }
      ]
    },
    {
      "cell_type": "code",
      "source": [
        "history = model.fit(train_generator,\n",
        "                    epochs=15,\n",
        "                    verbose=1,\n",
        "                    validation_data=validation_generator)"
      ],
      "metadata": {
        "id": "_u3uCv4m1rXM",
        "outputId": "de15a1dc-5d76-42a5-b690-2ee8a4ca6360",
        "colab": {
          "base_uri": "https://localhost:8080/"
        }
      },
      "execution_count": 14,
      "outputs": [
        {
          "output_type": "stream",
          "name": "stdout",
          "text": [
            "Epoch 1/15\n",
            "56/56 [==============================] - 1359s 24s/step - loss: 2.1853 - accuracy: 0.2201 - val_loss: 2.0113 - val_accuracy: 0.3159\n",
            "Epoch 2/15\n",
            "56/56 [==============================] - 91s 2s/step - loss: 1.9087 - accuracy: 0.3598 - val_loss: 1.7921 - val_accuracy: 0.3763\n",
            "Epoch 3/15\n",
            "56/56 [==============================] - 92s 2s/step - loss: 1.7094 - accuracy: 0.4229 - val_loss: 1.7566 - val_accuracy: 0.3883\n",
            "Epoch 4/15\n",
            "56/56 [==============================] - 92s 2s/step - loss: 1.6248 - accuracy: 0.4441 - val_loss: 1.5014 - val_accuracy: 0.4688\n",
            "Epoch 5/15\n",
            "56/56 [==============================] - 91s 2s/step - loss: 1.5707 - accuracy: 0.4704 - val_loss: 1.5942 - val_accuracy: 0.4588\n",
            "Epoch 6/15\n",
            "56/56 [==============================] - 91s 2s/step - loss: 1.5333 - accuracy: 0.4698 - val_loss: 1.4175 - val_accuracy: 0.5211\n",
            "Epoch 7/15\n",
            "56/56 [==============================] - 92s 2s/step - loss: 1.4247 - accuracy: 0.5117 - val_loss: 1.3749 - val_accuracy: 0.5312\n",
            "Epoch 8/15\n",
            "56/56 [==============================] - 92s 2s/step - loss: 1.3627 - accuracy: 0.5257 - val_loss: 1.4147 - val_accuracy: 0.5231\n",
            "Epoch 9/15\n",
            "56/56 [==============================] - 92s 2s/step - loss: 1.3382 - accuracy: 0.5285 - val_loss: 1.3341 - val_accuracy: 0.5594\n",
            "Epoch 10/15\n",
            "56/56 [==============================] - 92s 2s/step - loss: 1.3107 - accuracy: 0.5363 - val_loss: 1.3765 - val_accuracy: 0.5513\n",
            "Epoch 11/15\n",
            "56/56 [==============================] - 91s 2s/step - loss: 1.2461 - accuracy: 0.5721 - val_loss: 1.3433 - val_accuracy: 0.5694\n",
            "Epoch 12/15\n",
            "56/56 [==============================] - 92s 2s/step - loss: 1.2295 - accuracy: 0.5788 - val_loss: 1.2646 - val_accuracy: 0.5614\n",
            "Epoch 13/15\n",
            "56/56 [==============================] - 92s 2s/step - loss: 1.2158 - accuracy: 0.5732 - val_loss: 1.2281 - val_accuracy: 0.5875\n",
            "Epoch 14/15\n",
            "56/56 [==============================] - 92s 2s/step - loss: 1.1848 - accuracy: 0.5883 - val_loss: 1.3856 - val_accuracy: 0.5332\n",
            "Epoch 15/15\n",
            "56/56 [==============================] - 92s 2s/step - loss: 1.1281 - accuracy: 0.6056 - val_loss: 1.4088 - val_accuracy: 0.5231\n"
          ]
        }
      ]
    },
    {
      "cell_type": "code",
      "source": [
        "def plot_loss(history):\n",
        "  acc = history.history['accuracy']\n",
        "  val_acc = history.history['val_accuracy']\n",
        "  loss = history.history['loss']\n",
        "  val_loss = history.history['val_loss']\n",
        "  \n",
        "  epochs = range(len(acc))\n",
        "  \n",
        "  plt.plot(epochs, acc, 'r', label='Training accuracy')\n",
        "  plt.plot(epochs, val_acc, 'b', label='Validation accuracy')\n",
        "  plt.title('Training and validation accuracy')\n",
        "  plt.legend(loc=0)\n",
        "  plt.figure()\n",
        "  \n",
        "  plt.show()\n",
        "\n",
        "plot_loss(history)"
      ],
      "metadata": {
        "id": "FzM-NL0M1x-S",
        "outputId": "871d20b2-7c2d-4270-a6e0-8cb3c4cb4db1",
        "colab": {
          "base_uri": "https://localhost:8080/",
          "height": 298
        }
      },
      "execution_count": 15,
      "outputs": [
        {
          "output_type": "display_data",
          "data": {
            "text/plain": [
              "<Figure size 432x288 with 1 Axes>"
            ],
            "image/png": "[encoded data removed]"
          },
          "metadata": {
            "needs_background": "light"
          }
        },
        {
          "output_type": "display_data",
          "data": {
            "text/plain": [
              "<Figure size 432x288 with 0 Axes>"
            ]
          },
          "metadata": {}
        }
      ]
    },
    {
      "cell_type": "code",
      "source": [
        "from sklearn.metrics import classification_report, confusion_matrix\n",
        "import numpy as np\n",
        "import pandas as pd\n",
        "from shutil import copyfile\n",
        "import matplotlib.pyplot as plt\n",
        "import seaborn as sns\n",
        "def evaluate_model(model, test_gen):\n",
        "  evaluate = model.evaluate(test_gen)\n",
        "  print('Loss of the model is - ', evaluate[0])\n",
        "  print('Accuracy of the model is - ', evaluate[1]*100, '%')\n",
        "\n",
        "  classes =  list(test_gen.class_indices.keys())\n",
        "  Y_pred = model.predict(test_gen)\n",
        "  y_pred = np.argmax(Y_pred, axis=1)\n",
        "  \n",
        "  print(classification_report(test_gen.classes, y_pred, target_names=classes))\n",
        "  print('Confusion Matrix')\n",
        "  conf_matrix = confusion_matrix(test_gen.classes, y_pred)\n",
        "  df_cm = pd.DataFrame(conf_matrix, index = classes, columns = classes)\n",
        "  ax = sns.heatmap(df_cm, annot=True, cmap='Blues')\n",
        "\n",
        "  ax.set_title('Seaborn Confusion Matrix with labels\\n\\n');\n",
        "  ax.set_xlabel('\\nPredicted Values')\n",
        "  ax.set_ylabel('Actual Values ');\n",
        "  \n",
        "  ## Ticket labels - List must be in alphabetical order\n",
        "\n",
        "evaluate_model(model, test_generator)"
      ],
      "metadata": {
        "id": "l3OyK4AX9Lua",
        "outputId": "6e20ec70-3cea-450c-d5fe-735a05e4e6b7",
        "colab": {
          "base_uri": "https://localhost:8080/",
          "height": 806
        }
      },
      "execution_count": 16,
      "outputs": [
        {
          "output_type": "stream",
          "name": "stderr",
          "text": [
            "/usr/local/lib/python3.7/dist-packages/PIL/Image.py:960: UserWarning: Palette images with Transparency expressed in bytes should be converted to RGBA images\n",
            "  \"Palette images with Transparency expressed in bytes should be \"\n"
          ]
        },
        {
          "output_type": "stream",
          "name": "stdout",
          "text": [
            "9/9 [==============================] - 159s 20s/step - loss: 1.2637 - accuracy: 0.5594\n",
            "Loss of the model is -  1.263709306716919\n",
            "Accuracy of the model is -  55.93869686126709 %\n",
            "              precision    recall  f1-score   support\n",
            "\n",
            " Bayam Hijau       0.72      0.45      0.55        29\n",
            "        Jahe       0.80      0.87      0.84        47\n",
            "  Jambu Biji       0.44      0.55      0.49        20\n",
            " Jeruk Purut       0.25      0.15      0.19        13\n",
            "       Kelor       0.56      0.41      0.47        22\n",
            "      Kersen       0.67      0.62      0.64        13\n",
            "       Lemon       0.76      0.96      0.85        23\n",
            "    Lengkuas       0.67      0.20      0.31        10\n",
            "        Mint       0.33      0.27      0.30        45\n",
            "      Nangka       0.69      0.60      0.64        15\n",
            "      Pepaya       0.34      0.71      0.46        24\n",
            "\n",
            "    accuracy                           0.56       261\n",
            "   macro avg       0.57      0.53      0.52       261\n",
            "weighted avg       0.57      0.56      0.55       261\n",
            "\n",
            "Confusion Matrix\n"
          ]
        },
        {
          "output_type": "display_data",
          "data": {
            "text/plain": [
              "<Figure size 432x288 with 2 Axes>"
            ],
            "image/png": "[encoded data removed]"
          },
          "metadata": {
            "needs_background": "light"
          }
        }
      ]
    },
    {
      "cell_type": "code",
      "source": [
        "# # X_test, y_test = test_generator.next()\n",
        "# # print('Loss of the model is - ', model.evaluate(X_test, y_test)[0])\n",
        "# # print('Accuracy of the model is - ', model.evaluate(X_test, y_test)[1]*100, '%')\n",
        "# evaluate = model.evaluate(test_generator)\n",
        "# print('Loss of the model is - ', evaluate[0])\n",
        "# print('Accuracy of the model is - ', evaluate[1]*100, '%')"
      ],
      "metadata": {
        "id": "5Ujke7ZnqCZb",
        "outputId": "91454e26-45cb-492e-82c1-a68147cf6b90",
        "colab": {
          "base_uri": "https://localhost:8080/"
        }
      },
      "execution_count": null,
      "outputs": [
        {
          "output_type": "stream",
          "name": "stderr",
          "text": [
            "/usr/local/lib/python3.7/dist-packages/ipykernel_launcher.py:4: UserWarning: `Model.evaluate_generator` is deprecated and will be removed in a future version. Please use `Model.evaluate`, which supports generators.\n",
            "  after removing the cwd from sys.path.\n",
            "/usr/local/lib/python3.7/dist-packages/PIL/Image.py:960: UserWarning: Palette images with Transparency expressed in bytes should be converted to RGBA images\n",
            "  \"Palette images with Transparency expressed in bytes should be \"\n"
          ]
        },
        {
          "output_type": "stream",
          "name": "stdout",
          "text": [
            "Loss of the model is -  1.968740463256836\n",
            "Accuracy of the model is -  72.03065156936646 %\n"
          ]
        }
      ]
    },
    {
      "cell_type": "code",
      "source": [
        "def load_image(img_path, show=False):\n",
        "\n",
        "    img = load_img(img_path, target_size=(224, 224))\n",
        "    img_tensor = img_to_array(img)                    # (height, width, channels)\n",
        "    img_tensor = np.expand_dims(img_tensor, axis=0)         # (1, height, width, channels), add a dimension because the model expects this shape: (batch_size, height, width, channels)\n",
        "    img_tensor /= 255.                                      # imshow expects values in the range [0, 1]\n",
        "\n",
        "    if show:\n",
        "        plt.imshow(img_tensor[0])                           \n",
        "        plt.axis('off')\n",
        "        plt.show()\n",
        "\n",
        "    return img_tensor"
      ],
      "metadata": {
        "id": "EZxT5thPAveN"
      },
      "execution_count": 24,
      "outputs": []
    },
    {
      "cell_type": "code",
      "source": [
        "label_map = (train_generator.class_indices)\n",
        "label_map = {v: k for k, v in label_map.items()}\n",
        "image_path ='/content/drive/Shareddrives/Bangkit Capstone/Segmented Medicinal Leaf Images/test/Sawi India/BJ-S-010.jpg'\n",
        "image = load_image(image_path, show=True)\n",
        "print(label_map[np.argmax(model.predict(image))])"
      ],
      "metadata": {
        "id": "DHB9xo1Y-b10",
        "outputId": "e1c431cb-14f9-446d-8e60-0469686c22eb",
        "colab": {
          "base_uri": "https://localhost:8080/",
          "height": 265
        }
      },
      "execution_count": 25,
      "outputs": [
        {
          "output_type": "display_data",
          "data": {
            "text/plain": [
              "<Figure size 432x288 with 1 Axes>"
            ],
            "image/png": "[encoded data removed]"
          },
          "metadata": {
            "needs_background": "light"
          }
        },
        {
          "output_type": "stream",
          "name": "stdout",
          "text": [
            "Kelor\n"
          ]
        }
      ]
    },
    {
      "cell_type": "code",
      "source": [
        "image = load_img('/content/Segmented Medicinal Leaf Images/test/Bayam Hijau/AV-S-009.jpg')"
      ],
      "metadata": {
        "id": "WaZPJjXu9fy0",
        "outputId": "413d89fb-af71-4b9f-a789-c48e103b4a16",
        "colab": {
          "base_uri": "https://localhost:8080/"
        }
      },
      "execution_count": null,
      "outputs": [
        {
          "output_type": "stream",
          "name": "stdout",
          "text": [
            "<PIL.JpegImagePlugin.JpegImageFile image mode=RGB size=1600x1200 at 0x7EFCCAC16990>\n"
          ]
        }
      ]
    }
  ],
  "metadata": {
    "language_info": {
      "name": "python"
    },
    "orig_nbformat": 4,
    "colab": {
      "name": "01-basic-cnn.ipynb",
      "provenance": []
    },
    "kernelspec": {
      "name": "python3",
      "display_name": "Python 3"
    },
    "accelerator": "GPU"
  },
  "nbformat": 4,
  "nbformat_minor": 0
}