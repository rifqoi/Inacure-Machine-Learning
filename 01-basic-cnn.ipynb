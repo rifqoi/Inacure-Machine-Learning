{
  "cells": [
    {
      "cell_type": "markdown",
      "source": [
        "# Load Dataset from Google Drive"
      ],
      "metadata": {
        "id": "4n0IP2rPwhh6"
      }
    },
    {
      "cell_type": "code",
      "execution_count": 1,
      "metadata": {
        "id": "dXJOIFnywIZt",
        "outputId": "b8f90cb9-dfe1-48d9-87df-c5d6e86f4add",
        "colab": {
          "base_uri": "https://localhost:8080/"
        }
      },
      "outputs": [
        {
          "output_type": "stream",
          "name": "stdout",
          "text": [
            "Mounted at /content/drive\n"
          ]
        }
      ],
      "source": [
        "import os\n",
        "from google.colab import drive\n",
        "drive.mount('/content/drive')\n",
        "# !unzip  drive/Shareddrives/Bangkit\\ Capstone/leaf_datasets.zip -d ."
      ]
    },
    {
      "cell_type": "markdown",
      "source": [
        "# Import Libraries"
      ],
      "metadata": {
        "id": "EJCqYLrjwe9E"
      }
    },
    {
      "cell_type": "code",
      "source": [
        "import os\n",
        "import zipfile\n",
        "import random\n",
        "import shutil\n",
        "import tensorflow as tf\n",
        "from tensorflow.keras.preprocessing.image import ImageDataGenerator\n",
        "from tensorflow.keras.preprocessing.image import img_to_array, load_img\n",
        "import numpy as np\n",
        "from shutil import copyfile\n",
        "import matplotlib.pyplot as plt"
      ],
      "metadata": {
        "id": "rBxlhby7wMok"
      },
      "execution_count": 2,
      "outputs": []
    },
    {
      "cell_type": "code",
      "source": [
        "import glob as gb\n",
        "def img_count_in_folder(FOLDER_PATH):  \n",
        "  print('-'*70)\n",
        "  for folder in os.listdir(FOLDER_PATH):\n",
        "    files=gb.glob(pathname=str(FOLDER_PATH + '/' + folder + '/*.jpg'))\n",
        "    print(f'{len(files):4} gambar yang ditemukan di dalam folder {folder}')\n",
        "  print('-'*70)"
      ],
      "metadata": {
        "id": "-ntQ3sJHfYFi"
      },
      "execution_count": 3,
      "outputs": []
    },
    {
      "cell_type": "code",
      "source": [
        "def list_images():\n",
        "  classes_dirs = os.listdir(train_dir)\n",
        "  for folder in classes_dirs:\n",
        "    train_classes = os.listdir(os.path.join(train_dir, folder))\n",
        "    validation_classes = os.listdir(os.path.join(validation_dir, folder))\n",
        "    test_classes = os.listdir(os.path.join(test_dir, folder))\n",
        "    print(f\"{folder}: \\n \\t{len(train_classes)} train images, {len(validation_classes)} validation images, and {len(test_classes)} test images,  total {len(train_classes) + len(validation_classes) + len(test_classes)} images\")\n",
        "    print()\n",
        "list_images()"
      ],
      "metadata": {
        "id": "O6WVlJsXw4z0",
        "outputId": "2079ef28-6f37-4f37-8a58-0ce7384bf622",
        "colab": {
          "base_uri": "https://localhost:8080/"
        }
      },
      "execution_count": 11,
      "outputs": [
        {
          "output_type": "stream",
          "name": "stdout",
          "text": [
            "Mint: \n",
            " \t302 train images, 85 validation images, and 45 test images,  total 432 images\n",
            "\n",
            "Jeruk Purut: \n",
            " \t135 train images, 38 validation images, and 21 test images,  total 194 images\n",
            "\n",
            "Kelor: \n",
            " \t153 train images, 43 validation images, and 23 test images,  total 219 images\n",
            "\n",
            "Bayam Hijau: \n",
            " \t206 train images, 58 validation images, and 31 test images,  total 295 images\n",
            "\n",
            "Nangka: \n",
            " \t109 train images, 31 validation images, and 16 test images,  total 156 images\n",
            "\n",
            "Lemon: \n",
            " \t151 train images, 42 validation images, and 23 test images,  total 216 images\n",
            "\n",
            "Kersen: \n",
            " \t81 train images, 23 validation images, and 13 test images,  total 117 images\n",
            "\n",
            "Jahe: \n",
            " \t320 train images, 91 validation images, and 47 test images,  total 458 images\n",
            "\n",
            "Pepaya: \n",
            " \t168 train images, 47 validation images, and 25 test images,  total 240 images\n",
            "\n",
            "Lengkuas: \n",
            " \t72 train images, 20 validation images, and 11 test images,  total 103 images\n",
            "\n",
            "Jambu Biji: \n",
            " \t154 train images, 44 validation images, and 23 test images,  total 221 images\n",
            "\n"
          ]
        }
      ]
    },
    {
      "cell_type": "code",
      "source": [
        "# Load the first example of a horse\n",
        "pepaya_class = os.path.join(train_dir, 'Pepaya')\n",
        "sample_image  = load_img(f\"{os.path.join(pepaya_class, os.listdir(pepaya_class)[0])}\")\n",
        "\n",
        "# Convert the image into its numpy array representation\n",
        "sample_array = img_to_array(sample_image)\n",
        "\n",
        "print(f\"Each image has shape: {sample_array.shape}\")"
      ],
      "metadata": {
        "id": "xHsmO2lu0dtW",
        "outputId": "7b1dcfee-f214-45ae-c437-b30ba86d8322",
        "colab": {
          "base_uri": "https://localhost:8080/"
        }
      },
      "execution_count": null,
      "outputs": [
        {
          "output_type": "stream",
          "name": "stdout",
          "text": [
            "Each image has shape: (500, 500, 3)\n"
          ]
        }
      ]
    },
    {
      "cell_type": "code",
      "source": [
        "def train_val_generators(TRAINING_DIR, VALIDATION_DIR, TEST_DIR):\n",
        "  train_datagen = ImageDataGenerator(rescale = 1./255. )\n",
        "\n",
        "  train_generator = train_datagen.flow_from_directory(directory=TRAINING_DIR,\n",
        "                                                      batch_size=32, \n",
        "                                                      class_mode='sparse',\n",
        "                                                      target_size=(224, 224))\n",
        "\n",
        "  validation_datagen = ImageDataGenerator(rescale = 1/255)\n",
        "\n",
        "  validation_generator = validation_datagen.flow_from_directory(directory=VALIDATION_DIR,\n",
        "                                                                batch_size=32, \n",
        "                                                                class_mode='sparse',\n",
        "                                                                target_size=(224, 224))\n",
        "\n",
        "  test_datagen = ImageDataGenerator(rescale= 1/255.)\n",
        "\n",
        "  test_generator = test_datagen.flow_from_directory(directory=TEST_DIR,\n",
        "                                                                batch_size=32, \n",
        "                                                                class_mode='sparse',\n",
        "                                                                target_size=(224, 224))\n",
        "  return train_generator, validation_generator, test_generator"
      ],
      "metadata": {
        "id": "pxAHnATVw7D3"
      },
      "execution_count": 16,
      "outputs": []
    },
    {
      "cell_type": "code",
      "source": [
        "train_generator, validation_generator, test_generator = train_val_generators(train_dir, validation_dir, test_dir)"
      ],
      "metadata": {
        "id": "fZEuSiux1G6m",
        "outputId": "840b296f-8022-422e-b632-af0b29bd1fba",
        "colab": {
          "base_uri": "https://localhost:8080/"
        }
      },
      "execution_count": 17,
      "outputs": [
        {
          "output_type": "stream",
          "name": "stdout",
          "text": [
            "Found 1790 images belonging to 11 classes.\n",
            "Found 497 images belonging to 11 classes.\n",
            "Found 261 images belonging to 11 classes.\n"
          ]
        }
      ]
    },
    {
      "cell_type": "code",
      "source": [
        "from tensorflow.keras.optimizers import Adam, RMSprop\n",
        "def create_model():\n",
        "\n",
        "  model = tf.keras.models.Sequential([ \n",
        "    tf.keras.layers.Conv2D(16, (3,3), activation='relu', input_shape=(224, 224, 3)),\n",
        "    tf.keras.layers.MaxPooling2D(2,2),\n",
        "\n",
        "    tf.keras.layers.Conv2D(32, (3,3), activation='relu',),\n",
        "    tf.keras.layers.MaxPooling2D(2,2),\n",
        "\n",
        "    tf.keras.layers.Conv2D(64, (3,3), activation='relu',),\n",
        "    tf.keras.layers.MaxPooling2D(2,2),\n",
        "\n",
        "    tf.keras.layers.Conv2D(64, (3,3), activation='relu',),\n",
        "    tf.keras.layers.MaxPooling2D(2,2),\n",
        "\n",
        "    tf.keras.layers.Conv2D(64, (3,3), activation='relu',),\n",
        "    tf.keras.layers.MaxPooling2D(2,2),\n",
        "\n",
        "    tf.keras.layers.Flatten(),\n",
        "    tf.keras.layers.Dense(512, activation='relu'),\n",
        "    tf.keras.layers.Dense(11, activation='softmax')\n",
        "  ])\n",
        "\n",
        "  \n",
        "  model.compile(optimizer='adam',\n",
        "                loss='sparse_categorical_crossentropy',\n",
        "                metrics=['accuracy']) \n",
        "    \n",
        "\n",
        "  return model"
      ],
      "metadata": {
        "id": "k3fr-8ZD1JZo"
      },
      "execution_count": 29,
      "outputs": []
    },
    {
      "cell_type": "code",
      "source": [
        "model = create_model()\n",
        "model.summary()"
      ],
      "metadata": {
        "id": "Oszsd5A_1npV",
        "outputId": "203e344e-e4f9-4f16-93e9-890871ff54b5",
        "colab": {
          "base_uri": "https://localhost:8080/"
        }
      },
      "execution_count": 30,
      "outputs": [
        {
          "output_type": "stream",
          "name": "stdout",
          "text": [
            "Model: \"sequential_4\"\n",
            "_________________________________________________________________\n",
            " Layer (type)                Output Shape              Param #   \n",
            "=================================================================\n",
            " conv2d_20 (Conv2D)          (None, 222, 222, 16)      448       \n",
            "                                                                 \n",
            " max_pooling2d_20 (MaxPoolin  (None, 111, 111, 16)     0         \n",
            " g2D)                                                            \n",
            "                                                                 \n",
            " conv2d_21 (Conv2D)          (None, 109, 109, 32)      4640      \n",
            "                                                                 \n",
            " max_pooling2d_21 (MaxPoolin  (None, 54, 54, 32)       0         \n",
            " g2D)                                                            \n",
            "                                                                 \n",
            " conv2d_22 (Conv2D)          (None, 52, 52, 64)        18496     \n",
            "                                                                 \n",
            " max_pooling2d_22 (MaxPoolin  (None, 26, 26, 64)       0         \n",
            " g2D)                                                            \n",
            "                                                                 \n",
            " conv2d_23 (Conv2D)          (None, 24, 24, 64)        36928     \n",
            "                                                                 \n",
            " max_pooling2d_23 (MaxPoolin  (None, 12, 12, 64)       0         \n",
            " g2D)                                                            \n",
            "                                                                 \n",
            " conv2d_24 (Conv2D)          (None, 10, 10, 64)        36928     \n",
            "                                                                 \n",
            " max_pooling2d_24 (MaxPoolin  (None, 5, 5, 64)         0         \n",
            " g2D)                                                            \n",
            "                                                                 \n",
            " flatten_4 (Flatten)         (None, 1600)              0         \n",
            "                                                                 \n",
            " dense_8 (Dense)             (None, 512)               819712    \n",
            "                                                                 \n",
            " dense_9 (Dense)             (None, 11)                5643      \n",
            "                                                                 \n",
            "=================================================================\n",
            "Total params: 922,795\n",
            "Trainable params: 922,795\n",
            "Non-trainable params: 0\n",
            "_________________________________________________________________\n"
          ]
        }
      ]
    },
    {
      "cell_type": "code",
      "source": [
        "history = model.fit(train_generator,\n",
        "                    epochs=15,\n",
        "                    verbose=1,\n",
        "                    validation_data=validation_generator)"
      ],
      "metadata": {
        "id": "_u3uCv4m1rXM",
        "outputId": "f0a026a0-60b8-4493-a911-cdfc57cb7f62",
        "colab": {
          "base_uri": "https://localhost:8080/"
        }
      },
      "execution_count": 31,
      "outputs": [
        {
          "output_type": "stream",
          "name": "stdout",
          "text": [
            "Epoch 1/15\n",
            "56/56 [==============================] - 646s 12s/step - loss: 2.0408 - accuracy: 0.2911 - val_loss: 1.6956 - val_accuracy: 0.4567\n",
            "Epoch 2/15\n",
            "56/56 [==============================] - 70s 1s/step - loss: 1.4722 - accuracy: 0.5101 - val_loss: 1.3673 - val_accuracy: 0.5573\n",
            "Epoch 3/15\n",
            "56/56 [==============================] - 70s 1s/step - loss: 1.2028 - accuracy: 0.5888 - val_loss: 1.3149 - val_accuracy: 0.5573\n",
            "Epoch 4/15\n",
            "56/56 [==============================] - 70s 1s/step - loss: 1.1329 - accuracy: 0.6145 - val_loss: 1.2856 - val_accuracy: 0.5714\n",
            "Epoch 5/15\n",
            "56/56 [==============================] - 70s 1s/step - loss: 1.0375 - accuracy: 0.6676 - val_loss: 1.3562 - val_accuracy: 0.5875\n",
            "Epoch 6/15\n",
            "56/56 [==============================] - 70s 1s/step - loss: 0.8424 - accuracy: 0.7184 - val_loss: 1.4669 - val_accuracy: 0.5875\n",
            "Epoch 7/15\n",
            "56/56 [==============================] - 70s 1s/step - loss: 0.7293 - accuracy: 0.7559 - val_loss: 1.5993 - val_accuracy: 0.5392\n",
            "Epoch 8/15\n",
            "56/56 [==============================] - 70s 1s/step - loss: 0.5943 - accuracy: 0.8011 - val_loss: 1.3952 - val_accuracy: 0.6197\n",
            "Epoch 9/15\n",
            "56/56 [==============================] - 70s 1s/step - loss: 0.4193 - accuracy: 0.8637 - val_loss: 1.5588 - val_accuracy: 0.6338\n",
            "Epoch 10/15\n",
            "56/56 [==============================] - 70s 1s/step - loss: 0.3551 - accuracy: 0.8872 - val_loss: 1.7423 - val_accuracy: 0.5996\n",
            "Epoch 11/15\n",
            "56/56 [==============================] - 69s 1s/step - loss: 0.3578 - accuracy: 0.8911 - val_loss: 1.7834 - val_accuracy: 0.6600\n",
            "Epoch 12/15\n",
            "56/56 [==============================] - 70s 1s/step - loss: 0.1667 - accuracy: 0.9531 - val_loss: 1.7404 - val_accuracy: 0.6519\n",
            "Epoch 13/15\n",
            "56/56 [==============================] - 70s 1s/step - loss: 0.1806 - accuracy: 0.9464 - val_loss: 1.8425 - val_accuracy: 0.6881\n",
            "Epoch 14/15\n",
            "56/56 [==============================] - 70s 1s/step - loss: 0.1185 - accuracy: 0.9665 - val_loss: 2.5005 - val_accuracy: 0.6298\n",
            "Epoch 15/15\n",
            "56/56 [==============================] - 70s 1s/step - loss: 0.1229 - accuracy: 0.9682 - val_loss: 2.1862 - val_accuracy: 0.6942\n"
          ]
        }
      ]
    },
    {
      "cell_type": "code",
      "source": [
        "def plot_loss(history):\n",
        "  acc = history.history['accuracy']\n",
        "  val_acc = history.history['val_accuracy']\n",
        "  loss = history.history['loss']\n",
        "  val_loss = history.history['val_loss']\n",
        "  \n",
        "  epochs = range(len(acc))\n",
        "  \n",
        "  plt.plot(epochs, acc, 'r', label='Training accuracy')\n",
        "  plt.plot(epochs, val_acc, 'b', label='Validation accuracy')\n",
        "  plt.title('Training and validation accuracy')\n",
        "  plt.legend(loc=0)\n",
        "  plt.figure()\n",
        "  \n",
        "  plt.show()\n",
        "\n",
        "plot_loss(history)"
      ],
      "metadata": {
        "id": "FzM-NL0M1x-S",
        "outputId": "a666e6c2-a76d-4f51-c568-a6b62b3cd79f",
        "colab": {
          "base_uri": "https://localhost:8080/",
          "height": 298
        }
      },
      "execution_count": 32,
      "outputs": [
        {
          "output_type": "display_data",
          "data": {
            "text/plain": [
              "<Figure size 432x288 with 1 Axes>"
            ],
            "image/png": "[encoded data removed]"
          },
          "metadata": {
            "needs_background": "light"
          }
        },
        {
          "output_type": "display_data",
          "data": {
            "text/plain": [
              "<Figure size 432x288 with 0 Axes>"
            ]
          },
          "metadata": {}
        }
      ]
    },
    {
      "cell_type": "code",
      "source": [
        "# X_test, y_test = test_generator.next()\n",
        "# print('Loss of the model is - ', model.evaluate(X_test, y_test)[0])\n",
        "# print('Accuracy of the model is - ', model.evaluate(X_test, y_test)[1]*100, '%')\n",
        "evaluate = model.evaluate(test_generator)\n",
        "print('Loss of the model is - ', evaluate[0])\n",
        "print('Accuracy of the model is - ', evaluate[1]*100, '%')"
      ],
      "metadata": {
        "id": "5Ujke7ZnqCZb",
        "outputId": "91454e26-45cb-492e-82c1-a68147cf6b90",
        "colab": {
          "base_uri": "https://localhost:8080/"
        }
      },
      "execution_count": 50,
      "outputs": [
        {
          "output_type": "stream",
          "name": "stderr",
          "text": [
            "/usr/local/lib/python3.7/dist-packages/ipykernel_launcher.py:4: UserWarning: `Model.evaluate_generator` is deprecated and will be removed in a future version. Please use `Model.evaluate`, which supports generators.\n",
            "  after removing the cwd from sys.path.\n",
            "/usr/local/lib/python3.7/dist-packages/PIL/Image.py:960: UserWarning: Palette images with Transparency expressed in bytes should be converted to RGBA images\n",
            "  \"Palette images with Transparency expressed in bytes should be \"\n"
          ]
        },
        {
          "output_type": "stream",
          "name": "stdout",
          "text": [
            "Loss of the model is -  1.968740463256836\n",
            "Accuracy of the model is -  72.03065156936646 %\n"
          ]
        }
      ]
    },
    {
      "cell_type": "code",
      "source": [
        "def load_image(img_path, show=False):\n",
        "\n",
        "    img = load_img(img_path, target_size=(150, 150))\n",
        "    img_tensor = img_to_array(img)                    # (height, width, channels)\n",
        "    img_tensor = np.expand_dims(img_tensor, axis=0)         # (1, height, width, channels), add a dimension because the model expects this shape: (batch_size, height, width, channels)\n",
        "    img_tensor /= 255.                                      # imshow expects values in the range [0, 1]\n",
        "\n",
        "    if show:\n",
        "        plt.imshow(img_tensor[0])                           \n",
        "        plt.axis('off')\n",
        "        plt.show()\n",
        "\n",
        "    return img_tensor"
      ],
      "metadata": {
        "id": "EZxT5thPAveN"
      },
      "execution_count": null,
      "outputs": []
    },
    {
      "cell_type": "code",
      "source": [
        "label_map = (train_generator.class_indices)\n",
        "label_map = {v: k for k, v in label_map.items()}\n",
        "image_path ='/content/Segmented Medicinal Leaf Images/test/Sawi India/BJ-S-010.jpg'\n",
        "image = load_image(image_path, show=True)\n",
        "print(label_map[np.argmax(model.predict(image))])"
      ],
      "metadata": {
        "id": "DHB9xo1Y-b10",
        "outputId": "ef205637-c1ed-4d52-9e81-646f48b5bb1c",
        "colab": {
          "base_uri": "https://localhost:8080/",
          "height": 266
        }
      },
      "execution_count": null,
      "outputs": [
        {
          "output_type": "display_data",
          "data": {
            "text/plain": [
              "<Figure size 432x288 with 1 Axes>"
            ],
            "image/png": "[encoded data removed]"
          },
          "metadata": {
            "needs_background": "light"
          }
        },
        {
          "output_type": "stream",
          "name": "stdout",
          "text": [
            "Sawi India\n"
          ]
        }
      ]
    },
    {
      "cell_type": "code",
      "source": [
        "image = load_img('/content/Segmented Medicinal Leaf Images/test/Bayam Hijau/AV-S-009.jpg')"
      ],
      "metadata": {
        "id": "WaZPJjXu9fy0",
        "outputId": "413d89fb-af71-4b9f-a789-c48e103b4a16",
        "colab": {
          "base_uri": "https://localhost:8080/"
        }
      },
      "execution_count": null,
      "outputs": [
        {
          "output_type": "stream",
          "name": "stdout",
          "text": [
            "<PIL.JpegImagePlugin.JpegImageFile image mode=RGB size=1600x1200 at 0x7EFCCAC16990>\n"
          ]
        }
      ]
    }
  ],
  "metadata": {
    "language_info": {
      "name": "python"
    },
    "orig_nbformat": 4,
    "colab": {
      "name": "01-basic-cnn.ipynb",
      "provenance": []
    },
    "kernelspec": {
      "name": "python3",
      "display_name": "Python 3"
    },
    "accelerator": "GPU"
  },
  "nbformat": 4,
  "nbformat_minor": 0
}