{
  "cells": [
    {
      "cell_type": "markdown",
      "source": [
        "# Load Dataset from Google Drive"
      ],
      "metadata": {
        "id": "4n0IP2rPwhh6"
      }
    },
    {
      "cell_type": "code",
      "execution_count": 2,
      "metadata": {
        "id": "dXJOIFnywIZt",
        "outputId": "4c0cfb73-2723-40f9-cc93-56bbf173fcd8",
        "colab": {
          "base_uri": "https://localhost:8080/"
        }
      },
      "outputs": [
        {
          "output_type": "stream",
          "name": "stdout",
          "text": [
            "Mounted at /content/drive\n"
          ]
        }
      ],
      "source": [
        "import os\n",
        "from google.colab import drive\n",
        "drive.mount('/content/drive')\n",
        "# !unzip  drive/Shareddrives/Bangkit\\ Capstone/leaf_datasets.zip -d ."
      ]
    },
    {
      "cell_type": "markdown",
      "source": [
        "# Import Libraries"
      ],
      "metadata": {
        "id": "EJCqYLrjwe9E"
      }
    },
    {
      "cell_type": "code",
      "source": [
        "import os\n",
        "import zipfile\n",
        "import random\n",
        "import shutil\n",
        "import tensorflow as tf\n",
        "from tensorflow.keras.preprocessing.image import ImageDataGenerator\n",
        "from tensorflow.keras.preprocessing.image import img_to_array, load_img\n",
        "from tensorflow.keras.optimizers import Adam, RMSprop\n",
        "from tensorflow.keras.applications.vgg16 import VGG16\n",
        "from tensorflow.keras.applications.vgg16 import preprocess_input\n",
        "from tensorflow.keras import layers, models\n",
        "from tensorflow.keras.callbacks import EarlyStopping\n",
        "import numpy as np\n",
        "from shutil import copyfile\n",
        "import matplotlib.pyplot as plt"
      ],
      "metadata": {
        "id": "rBxlhby7wMok"
      },
      "execution_count": 51,
      "outputs": []
    },
    {
      "cell_type": "code",
      "source": [
        "train_dir = './Segmented Medicinal Leaf Images/train'\n",
        "test_dir = './Segmented Medicinal Leaf Images/test'"
      ],
      "metadata": {
        "id": "TXhMCdHlwdp4"
      },
      "execution_count": 3,
      "outputs": []
    },
    {
      "cell_type": "code",
      "source": [
        "def list_images(train_dir, test_dir):\n",
        "  classes_dirs = os.listdir(train_dir)\n",
        "  count = 0 \n",
        "  for folder in classes_dirs:\n",
        "    train_classes = os.listdir(os.path.join(train_dir, folder))\n",
        "    test_classes = os.listdir(os.path.join(test_dir, folder))\n",
        "    total_classes = len(train_classes) + len(test_classes)\n",
        "    if total_classes < 50:\n",
        "      continue\n",
        "    print(f\"{folder}: \\n \\t{len(train_classes)} train images and {len(test_classes)} test images,  total {len(train_classes) + len(test_classes)} images\")\n",
        "    count += 1\n",
        "  print(f\"{count} total classes\")\n",
        "list_images(train_dir, test_dir)"
      ],
      "metadata": {
        "id": "O6WVlJsXw4z0",
        "outputId": "14fdcbbd-64a7-4694-eef1-1de27536a54a",
        "colab": {
          "base_uri": "https://localhost:8080/"
        }
      },
      "execution_count": 8,
      "outputs": [
        {
          "output_type": "stream",
          "name": "stdout",
          "text": [
            "Ruku-ruku: \n",
            " \t36 train images and 16 test images,  total 52 images\n",
            "Lemon: \n",
            " \t39 train images and 18 test images,  total 57 images\n",
            "Oleander: \n",
            " \t43 train images and 19 test images,  total 62 images\n",
            "Mondokaki: \n",
            " \t39 train images and 17 test images,  total 56 images\n",
            "Mint: \n",
            " \t67 train images and 30 test images,  total 97 images\n",
            "Tanaman Ara Suci: \n",
            " \t44 train images and 19 test images,  total 63 images\n",
            "Kersen: \n",
            " \t39 train images and 17 test images,  total 56 images\n",
            "Delima: \n",
            " \t55 train images and 24 test images,  total 79 images\n",
            "Mimba: \n",
            " \t42 train images and 18 test images,  total 60 images\n",
            "Kelor: \n",
            " \t53 train images and 24 test images,  total 77 images\n",
            "Jambu Mawar: \n",
            " \t39 train images and 17 test images,  total 56 images\n",
            "Jeruk Purut: \n",
            " \t36 train images and 16 test images,  total 52 images\n",
            "Mangga: \n",
            " \t43 train images and 19 test images,  total 62 images\n",
            "Jambu Biji: \n",
            " \t45 train images and 20 test images,  total 65 images\n",
            "Bayam Malabar: \n",
            " \t72 train images and 31 test images,  total 103 images\n",
            "Malapari: \n",
            " \t42 train images and 19 test images,  total 61 images\n",
            "Lengkuas: \n",
            " \t35 train images and 15 test images,  total 50 images\n",
            "Pepaya: \n",
            " \t35 train images and 15 test images,  total 50 images\n",
            "Salam Koja: \n",
            " \t42 train images and 18 test images,  total 60 images\n",
            "Nangka: \n",
            " \t39 train images and 17 test images,  total 56 images\n",
            "Melati: \n",
            " \t49 train images and 22 test images,  total 71 images\n",
            "Cendana: \n",
            " \t40 train images and 18 test images,  total 58 images\n",
            "Bayam Hijau: \n",
            " \t85 train images and 37 test images,  total 122 images\n",
            "Tanaman Ara: \n",
            " \t35 train images and 15 test images,  total 50 images\n",
            "Kerendang: \n",
            " \t51 train images and 23 test images,  total 74 images\n",
            "25 total classes\n"
          ]
        }
      ]
    },
    {
      "cell_type": "code",
      "source": [
        "# Load the first example of a horse\n",
        "def image_shapes():\n",
        "  classes_dirs = os.listdir(train_dir)\n",
        "  for folder in classes_dirs:\n",
        "    if folder == \"Jeruk Purut\":\n",
        "      continue\n",
        "    classes = os.listdir(os.path.join(train_dir, folder))\n",
        "    print(folder)\n",
        "    sample_image  = load_img(f\"{os.path.join(train_dir ,folder, classes[0])}\")\n",
        "    # # Convert the image into its numpy array representation\n",
        "    sample_array = img_to_array(sample_image)\n",
        "    print(f\"Each {folder} image has shape: {sample_array.shape}\")\n",
        "image_shapes()"
      ],
      "metadata": {
        "id": "xHsmO2lu0dtW",
        "outputId": "d0cabe43-867d-4777-e451-f156874629f9",
        "colab": {
          "base_uri": "https://localhost:8080/"
        }
      },
      "execution_count": 19,
      "outputs": [
        {
          "output_type": "stream",
          "name": "stdout",
          "text": [
            "Ruku-ruku\n",
            "Each Ruku-ruku image has shape: (1200, 1600, 3)\n",
            "Kembang Sepatu\n",
            "Each Kembang Sepatu image has shape: (1200, 1600, 3)\n",
            "Jamblang\n",
            "Each Jamblang image has shape: (1200, 1600, 3)\n",
            "Sawi India\n",
            "Each Sawi India image has shape: (1200, 1600, 3)\n",
            "Sirih\n",
            "Each Sirih image has shape: (1200, 1600, 3)\n",
            "Lemon\n",
            "Each Lemon image has shape: (1200, 1600, 3)\n",
            "Oleander\n",
            "Each Oleander image has shape: (1200, 1600, 3)\n",
            "Mondokaki\n",
            "Each Mondokaki image has shape: (1200, 1600, 3)\n",
            "Mint\n",
            "Each Mint image has shape: (1200, 1600, 3)\n",
            "Tanaman Ara Suci\n",
            "Each Tanaman Ara Suci image has shape: (1200, 1600, 3)\n",
            "Kersen\n",
            "Each Kersen image has shape: (1200, 1600, 3)\n",
            "Delima\n",
            "Each Delima image has shape: (1200, 1600, 3)\n",
            "Mimba\n",
            "Each Mimba image has shape: (1200, 1600, 3)\n",
            "Kelor\n",
            "Each Kelor image has shape: (1200, 1600, 3)\n",
            "Jambu Mawar\n",
            "Each Jambu Mawar image has shape: (1200, 1600, 3)\n",
            "Mangga\n",
            "Each Mangga image has shape: (1200, 1600, 3)\n",
            "Jambu Biji\n",
            "Each Jambu Biji image has shape: (1200, 1600, 3)\n",
            "Bayam Malabar\n",
            "Each Bayam Malabar image has shape: (1200, 1600, 3)\n",
            "Srigading\n",
            "Each Srigading image has shape: (1200, 1600, 3)\n",
            "Malapari\n",
            "Each Malapari image has shape: (1200, 1600, 3)\n",
            "Lengkuas\n",
            "Each Lengkuas image has shape: (1200, 1600, 3)\n",
            "Kelabat\n",
            "Each Kelabat image has shape: (1200, 1600, 3)\n",
            "Jintan\n",
            "Each Jintan image has shape: (1200, 1600, 3)\n",
            "Pepaya\n",
            "Each Pepaya image has shape: (500, 500, 3)\n",
            "Salam Koja\n",
            "Each Salam Koja image has shape: (1200, 1600, 3)\n",
            "Nangka\n",
            "Each Nangka image has shape: (1200, 1600, 3)\n",
            "Melati\n",
            "Each Melati image has shape: (1200, 1600, 3)\n",
            "Cendana\n",
            "Each Cendana image has shape: (1200, 1600, 3)\n",
            "Bayam Hijau\n",
            "Each Bayam Hijau image has shape: (1200, 1600, 3)\n",
            "Tanaman Ara\n",
            "Each Tanaman Ara image has shape: (1200, 1600, 3)\n",
            "Kerendang\n",
            "Each Kerendang image has shape: (1200, 1600, 3)\n"
          ]
        }
      ]
    },
    {
      "cell_type": "code",
      "source": [
        "def train_val_generators(TRAINING_DIR, VALIDATION_DIR):\n",
        "  train_datagen = ImageDataGenerator(rescale = 1./255.,\n",
        "                              rotation_range = 25,\n",
        "                              zoom_range = [0.5, 1.1],\n",
        "                              width_shift_range=0.15, \n",
        "                              shear_range= 0.15,\n",
        "                              height_shift_range=0.15,\n",
        "                              preprocessing_function=preprocess_input,\n",
        "                              horizontal_flip=True,\n",
        "                              vertical_flip= True,\n",
        "                              fill_mode='nearest',)\n",
        "\n",
        "  train_generator = train_datagen.flow_from_directory(directory=TRAINING_DIR,\n",
        "                                                      batch_size=32, \n",
        "                                                      class_mode='sparse',\n",
        "                                                      target_size=(225, 225))\n",
        "\n",
        "  validation_datagen = ImageDataGenerator(rescale = 1/255,\n",
        "                                          preprocessing_function=preprocess_input)\n",
        "\n",
        "  # Pass in the appropriate arguments to the flow_from_directory method\n",
        "  validation_generator = validation_datagen.flow_from_directory(directory=VALIDATION_DIR,\n",
        "                                                                batch_size=32, \n",
        "                                                                class_mode='sparse',\n",
        "                                                                target_size=(225, 225))\n",
        "  ### END CODE HERE\n",
        "  return train_generator, validation_generator"
      ],
      "metadata": {
        "id": "pxAHnATVw7D3"
      },
      "execution_count": 26,
      "outputs": []
    },
    {
      "cell_type": "code",
      "source": [
        "train_generator, validation_generator = train_val_generators(train_dir, test_dir)"
      ],
      "metadata": {
        "id": "fZEuSiux1G6m",
        "outputId": "37d05d82-e28c-465e-906c-cfec734cbe9c",
        "colab": {
          "base_uri": "https://localhost:8080/"
        }
      },
      "execution_count": 27,
      "outputs": [
        {
          "output_type": "stream",
          "name": "stdout",
          "text": [
            "Found 1308 images belonging to 32 classes.\n",
            "Found 577 images belonging to 32 classes.\n"
          ]
        }
      ]
    },
    {
      "cell_type": "code",
      "source": [
        "## Loading VGG16 model\n",
        "base_model = VGG16(weights=\"imagenet\", include_top=False, input_shape=(225, 225, 3))\n",
        "base_model.trainable = False ## Not trainable weights\n",
        "\n",
        "## Preprocessing input\n",
        "\n",
        "flatten_layer = layers.Flatten()\n",
        "dense_layer_1 = layers.Dense(50, activation='relu')\n",
        "dense_layer_2 = layers.Dense(20, activation='relu')\n",
        "prediction_layer = layers.Dense(32, activation='softmax')\n",
        "\n",
        "\n",
        "model = models.Sequential([\n",
        "    base_model,\n",
        "    flatten_layer,\n",
        "    dense_layer_1,\n",
        "    dense_layer_2,\n",
        "    prediction_layer\n",
        "])\n",
        "model.compile(\n",
        "    optimizer='adam',\n",
        "    loss='sparse_categorical_crossentropy',\n",
        "    metrics=['accuracy'],\n",
        ")\n",
        "\n",
        "\n",
        "# es = EarlyStopping(monitor='val_accuracy', mode='max', patience=5,  restore_best_weights=True)\n"
      ],
      "metadata": {
        "id": "k3fr-8ZD1JZo"
      },
      "execution_count": 38,
      "outputs": []
    },
    {
      "cell_type": "code",
      "source": [
        "model.summary()"
      ],
      "metadata": {
        "id": "Oszsd5A_1npV",
        "outputId": "41191729-1701-4fb9-8d09-da66d83d47b5",
        "colab": {
          "base_uri": "https://localhost:8080/"
        }
      },
      "execution_count": 39,
      "outputs": [
        {
          "output_type": "stream",
          "name": "stdout",
          "text": [
            "Model: \"sequential_4\"\n",
            "_________________________________________________________________\n",
            " Layer (type)                Output Shape              Param #   \n",
            "=================================================================\n",
            " vgg16 (Functional)          (None, 7, 7, 512)         14714688  \n",
            "                                                                 \n",
            " flatten_4 (Flatten)         (None, 25088)             0         \n",
            "                                                                 \n",
            " dense_12 (Dense)            (None, 50)                1254450   \n",
            "                                                                 \n",
            " dense_13 (Dense)            (None, 20)                1020      \n",
            "                                                                 \n",
            " dense_14 (Dense)            (None, 32)                672       \n",
            "                                                                 \n",
            "=================================================================\n",
            "Total params: 15,970,830\n",
            "Trainable params: 1,256,142\n",
            "Non-trainable params: 14,714,688\n",
            "_________________________________________________________________\n"
          ]
        }
      ]
    },
    {
      "cell_type": "code",
      "source": [
        "\n",
        "# history = model.fit(train_generator,  epochs=15,  validation_data=validation_generator)\n",
        "history = model.fit(train_generator,\n",
        "                    epochs=15,\n",
        "                    verbose=1,\n",
        "                    validation_data=validation_generator)"
      ],
      "metadata": {
        "id": "_u3uCv4m1rXM",
        "outputId": "7d4c0aae-7a58-4fea-cf65-96e2e7644636",
        "colab": {
          "base_uri": "https://localhost:8080/"
        }
      },
      "execution_count": 40,
      "outputs": [
        {
          "output_type": "stream",
          "name": "stdout",
          "text": [
            "Epoch 1/15\n",
            "41/41 [==============================] - 74s 1s/step - loss: 3.3960 - accuracy: 0.0734 - val_loss: 3.0459 - val_accuracy: 0.1109\n",
            "Epoch 2/15\n",
            "41/41 [==============================] - 57s 1s/step - loss: 3.0282 - accuracy: 0.1437 - val_loss: 2.5398 - val_accuracy: 0.2097\n",
            "Epoch 3/15\n",
            "41/41 [==============================] - 57s 1s/step - loss: 2.5976 - accuracy: 0.2791 - val_loss: 2.0617 - val_accuracy: 0.4333\n",
            "Epoch 4/15\n",
            "41/41 [==============================] - 56s 1s/step - loss: 2.2024 - accuracy: 0.3677 - val_loss: 1.7409 - val_accuracy: 0.5321\n",
            "Epoch 5/15\n",
            "41/41 [==============================] - 57s 1s/step - loss: 1.9184 - accuracy: 0.4404 - val_loss: 1.4087 - val_accuracy: 0.5979\n",
            "Epoch 6/15\n",
            "41/41 [==============================] - 57s 1s/step - loss: 1.5739 - accuracy: 0.5229 - val_loss: 1.2184 - val_accuracy: 0.6170\n",
            "Epoch 7/15\n",
            "41/41 [==============================] - 57s 1s/step - loss: 1.3547 - accuracy: 0.5841 - val_loss: 0.9411 - val_accuracy: 0.7036\n",
            "Epoch 8/15\n",
            "41/41 [==============================] - 57s 1s/step - loss: 1.2356 - accuracy: 0.6277 - val_loss: 0.7959 - val_accuracy: 0.7504\n",
            "Epoch 9/15\n",
            "41/41 [==============================] - 56s 1s/step - loss: 1.0506 - accuracy: 0.6743 - val_loss: 0.7265 - val_accuracy: 0.7834\n",
            "Epoch 10/15\n",
            "41/41 [==============================] - 56s 1s/step - loss: 0.9887 - accuracy: 0.6850 - val_loss: 0.6022 - val_accuracy: 0.8180\n",
            "Epoch 11/15\n",
            "41/41 [==============================] - 57s 1s/step - loss: 0.9105 - accuracy: 0.7057 - val_loss: 0.5711 - val_accuracy: 0.8215\n",
            "Epoch 12/15\n",
            "41/41 [==============================] - 57s 1s/step - loss: 0.8433 - accuracy: 0.7286 - val_loss: 0.5473 - val_accuracy: 0.8232\n",
            "Epoch 13/15\n",
            "41/41 [==============================] - 56s 1s/step - loss: 0.7998 - accuracy: 0.7408 - val_loss: 0.5049 - val_accuracy: 0.8388\n",
            "Epoch 14/15\n",
            "41/41 [==============================] - 56s 1s/step - loss: 0.7325 - accuracy: 0.7737 - val_loss: 0.4634 - val_accuracy: 0.8510\n",
            "Epoch 15/15\n",
            "41/41 [==============================] - 56s 1s/step - loss: 0.7168 - accuracy: 0.7706 - val_loss: 0.4942 - val_accuracy: 0.8250\n"
          ]
        }
      ]
    },
    {
      "cell_type": "code",
      "source": [
        "def plot_loss(history):\n",
        "  acc = history.history['accuracy']\n",
        "  val_acc = history.history['val_accuracy']\n",
        "  loss = history.history['loss']\n",
        "  val_loss = history.history['val_loss']\n",
        "  \n",
        "  epochs = range(len(acc))\n",
        "  \n",
        "  plt.plot(epochs, acc, 'r', label='Training accuracy')\n",
        "  plt.plot(epochs, val_acc, 'b', label='Validation accuracy')\n",
        "  plt.title('Training and validation accuracy')\n",
        "  plt.legend(loc=0)\n",
        "  plt.figure()\n",
        "  \n",
        "  plt.show()\n",
        "\n",
        "plot_loss(history)"
      ],
      "metadata": {
        "id": "FzM-NL0M1x-S",
        "outputId": "6d1012ca-10b5-4c6f-8afd-d6b10813c4d1",
        "colab": {
          "base_uri": "https://localhost:8080/",
          "height": 298
        }
      },
      "execution_count": 41,
      "outputs": [
        {
          "output_type": "display_data",
          "data": {
            "text/plain": [
              "<Figure size 432x288 with 1 Axes>"
            ],
            "image/png": "[encoded data removed]"
          },
          "metadata": {
            "needs_background": "light"
          }
        },
        {
          "output_type": "display_data",
          "data": {
            "text/plain": [
              "<Figure size 432x288 with 0 Axes>"
            ]
          },
          "metadata": {}
        }
      ]
    },
    {
      "cell_type": "code",
      "source": [
        "def load_image(img_path, show=False):\n",
        "\n",
        "    img = load_img(img_path, target_size=(225, 225))\n",
        "    img_tensor = img_to_array(img)                    # (height, width, channels)\n",
        "    img_tensor = np.expand_dims(img_tensor, axis=0)         # (1, height, width, channels), add a dimension because the model expects this shape: (batch_size, height, width, channels)\n",
        "    img_tensor /= 255.                                      # imshow expects values in the range [0, 1]\n",
        "\n",
        "    if show:\n",
        "        plt.imshow(img_tensor[0])                           \n",
        "        plt.axis('off')\n",
        "        plt.show()\n",
        "\n",
        "    return img_tensor"
      ],
      "metadata": {
        "id": "EZxT5thPAveN"
      },
      "execution_count": 44,
      "outputs": []
    },
    {
      "cell_type": "code",
      "source": [
        "label_map = (train_generator.class_indices)\n",
        "label_map = {v: k for k, v in label_map.items()}\n",
        "image_path ='/content/Segmented Medicinal Leaf Images/test/Cendana/SA-S-005.jpg'\n",
        "image = load_image(image_path, show=True)\n",
        "print(label_map[np.argmax(model.predict(image))])"
      ],
      "metadata": {
        "id": "DHB9xo1Y-b10",
        "outputId": "e355a63d-a84c-442e-c592-a8e6d405faad",
        "colab": {
          "base_uri": "https://localhost:8080/",
          "height": 266
        }
      },
      "execution_count": 50,
      "outputs": [
        {
          "output_type": "display_data",
          "data": {
            "text/plain": [
              "<Figure size 432x288 with 1 Axes>"
            ],
            "image/png": "[encoded data removed]"
          },
          "metadata": {
            "needs_background": "light"
          }
        },
        {
          "output_type": "stream",
          "name": "stdout",
          "text": [
            "Cendana\n"
          ]
        }
      ]
    },
    {
      "cell_type": "code",
      "source": [
        "image = load_img('/content/Segmented Medicinal Leaf Images/test/Bayam Hijau/AV-S-009.jpg')"
      ],
      "metadata": {
        "id": "WaZPJjXu9fy0",
        "outputId": "413d89fb-af71-4b9f-a789-c48e103b4a16",
        "colab": {
          "base_uri": "https://localhost:8080/"
        }
      },
      "execution_count": null,
      "outputs": [
        {
          "output_type": "stream",
          "name": "stdout",
          "text": [
            "<PIL.JpegImagePlugin.JpegImageFile image mode=RGB size=1600x1200 at 0x7EFCCAC16990>\n"
          ]
        }
      ]
    },
    {
      "cell_type": "code",
      "source": [
        ""
      ],
      "metadata": {
        "id": "nek4Enz6ALVI",
        "outputId": "bb00f4f6-ef1f-480e-e08a-766a7a8a762b",
        "colab": {
          "base_uri": "https://localhost:8080/"
        }
      },
      "execution_count": null,
      "outputs": [
        {
          "output_type": "execute_result",
          "data": {
            "text/plain": [
              "array([ 0,  0,  0, ..., 31, 31, 31], dtype=int32)"
            ]
          },
          "metadata": {},
          "execution_count": 45
        }
      ]
    },
    {
      "cell_type": "code",
      "source": [
        ""
      ],
      "metadata": {
        "id": "dgztFOeKCtF5"
      },
      "execution_count": null,
      "outputs": []
    }
  ],
  "metadata": {
    "language_info": {
      "name": "python"
    },
    "orig_nbformat": 4,
    "colab": {
      "name": "01-basic-cnn.ipynb",
      "provenance": []
    },
    "kernelspec": {
      "name": "python3",
      "display_name": "Python 3"
    },
    "accelerator": "GPU"
  },
  "nbformat": 4,
  "nbformat_minor": 0
}