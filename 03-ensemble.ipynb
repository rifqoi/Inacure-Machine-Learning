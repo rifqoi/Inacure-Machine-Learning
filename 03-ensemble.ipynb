{
  "cells": [
    {
      "cell_type": "markdown",
      "source": [
        "# Load Dataset from Google Drive"
      ],
      "metadata": {
        "id": "4n0IP2rPwhh6"
      }
    },
    {
      "cell_type": "code",
      "execution_count": 17,
      "metadata": {
        "id": "dXJOIFnywIZt",
        "outputId": "7504d525-ca68-4112-b6d0-26f73b3fbf2b",
        "colab": {
          "base_uri": "https://localhost:8080/"
        }
      },
      "outputs": [
        {
          "output_type": "stream",
          "name": "stdout",
          "text": [
            "Drive already mounted at /content/drive; to attempt to forcibly remount, call drive.mount(\"/content/drive\", force_remount=True).\n"
          ]
        }
      ],
      "source": [
        "import os\n",
        "from google.colab import drive\n",
        "drive.mount('/content/drive')\n",
        "# !unzip  drive/Shareddrives/Bangkit\\ Capstone/leaf_datasets.zip -d ."
      ]
    },
    {
      "cell_type": "markdown",
      "source": [
        "# Import Libraries"
      ],
      "metadata": {
        "id": "EJCqYLrjwe9E"
      }
    },
    {
      "cell_type": "code",
      "source": [
        "import re\n",
        "import os\n",
        "import zipfile\n",
        "import random\n",
        "import shutil\n",
        "import tensorflow as tf\n",
        "from tensorflow.keras.preprocessing.image import ImageDataGenerator\n",
        "from tensorflow.keras.preprocessing.image import img_to_array, load_img\n",
        "from tensorflow.keras.optimizers import Adam, RMSprop\n",
        "from tensorflow.keras import layers, models\n",
        "from tensorflow.keras.callbacks import EarlyStopping\n",
        "\n",
        "tf.keras.utils.set_random_seed(42)\n",
        "\n",
        "from sklearn.metrics import classification_report, confusion_matrix\n",
        "import matplotlib.pyplot as plt\n",
        "import numpy as np\n",
        "import pandas as pd\n",
        "import seaborn as sns\n",
        "from shutil import copyfile"
      ],
      "metadata": {
        "id": "rBxlhby7wMok"
      },
      "execution_count": 18,
      "outputs": []
    },
    {
      "cell_type": "code",
      "source": [
        "dataset_dir = f\"/content/drive/Shareddrives/Bangkit Capstone/Final_Split_Datasets\"\n",
        "train_dir = os.path.join(dataset_dir, \"train\")\n",
        "validation_dir = os.path.join(dataset_dir, \"validation\")\n",
        "test_dir = os.path.join(dataset_dir, \"test\")"
      ],
      "metadata": {
        "id": "TXhMCdHlwdp4"
      },
      "execution_count": 19,
      "outputs": []
    },
    {
      "cell_type": "code",
      "source": [
        "def list_images():\n",
        "  classes_dirs = os.listdir(train_dir)\n",
        "  for folder in classes_dirs:\n",
        "    train_classes = os.listdir(os.path.join(train_dir, folder))\n",
        "    validation_classes = os.listdir(os.path.join(validation_dir, folder))\n",
        "    test_classes = os.listdir(os.path.join(test_dir, folder))\n",
        "    print(f\"{folder}: \\n \\t{len(train_classes)} train images, {len(validation_classes)} validation images, and {len(test_classes)} test images,  total {len(train_classes) + len(validation_classes) + len(test_classes)} images\")\n",
        "    print()\n",
        "list_images()"
      ],
      "metadata": {
        "id": "O6WVlJsXw4z0",
        "outputId": "cf96f92f-9396-4bee-9919-9c7245252edb",
        "colab": {
          "base_uri": "https://localhost:8080/"
        }
      },
      "execution_count": 20,
      "outputs": [
        {
          "output_type": "stream",
          "name": "stdout",
          "text": [
            "Kersen: \n",
            " \t81 train images, 23 validation images, and 13 test images,  total 117 images\n",
            "\n",
            "Pepaya: \n",
            " \t168 train images, 47 validation images, and 25 test images,  total 240 images\n",
            "\n",
            "Lengkuas: \n",
            " \t72 train images, 20 validation images, and 11 test images,  total 103 images\n",
            "\n",
            "Jambu Biji: \n",
            " \t154 train images, 44 validation images, and 23 test images,  total 221 images\n",
            "\n",
            "Jeruk Purut: \n",
            " \t135 train images, 38 validation images, and 21 test images,  total 194 images\n",
            "\n",
            "Mint: \n",
            " \t302 train images, 85 validation images, and 45 test images,  total 432 images\n",
            "\n",
            "Kelor: \n",
            " \t153 train images, 43 validation images, and 23 test images,  total 219 images\n",
            "\n",
            "Lemon: \n",
            " \t151 train images, 42 validation images, and 23 test images,  total 216 images\n",
            "\n",
            "Nangka: \n",
            " \t108 train images, 31 validation images, and 16 test images,  total 155 images\n",
            "\n",
            "Bayam Hijau: \n",
            " \t206 train images, 58 validation images, and 31 test images,  total 295 images\n",
            "\n",
            "Mangga: \n",
            " \t304 train images, 86 validation images, and 45 test images,  total 435 images\n",
            "\n",
            "Basil: \n",
            " \t103 train images, 29 validation images, and 16 test images,  total 148 images\n",
            "\n"
          ]
        }
      ]
    },
    {
      "cell_type": "code",
      "source": [
        "def train_val_generators(TRAINING_DIR, VALIDATION_DIR, TEST_DIR):\n",
        "  train_datagen = ImageDataGenerator(rescale = 1./255.,\n",
        "                              rotation_range = 25,\n",
        "                              zoom_range = [0.5, 1.1],\n",
        "                              width_shift_range=0.15, \n",
        "                              shear_range= 0.15,\n",
        "                              height_shift_range=0.15,\n",
        "                              preprocessing_function=preprocess_input,\n",
        "                              horizontal_flip=True,\n",
        "                              vertical_flip= True,\n",
        "                              fill_mode='nearest',)\n",
        "\n",
        "  train_generator = train_datagen.flow_from_directory(directory=TRAINING_DIR,\n",
        "                                                      batch_size=32, \n",
        "                                                      seed=42,\n",
        "                                                      class_mode='sparse',\n",
        "                                                      target_size=(224, 224))\n",
        "\n",
        "  validation_datagen = ImageDataGenerator(rescale = 1/255,\n",
        "                                          preprocessing_function=preprocess_input)\n",
        "\n",
        "  # Pass in the appropriate arguments to the flow_from_directory method\n",
        "  validation_generator = validation_datagen.flow_from_directory(directory=VALIDATION_DIR,\n",
        "                                                                batch_size=32, \n",
        "                                                                seed=42,\n",
        "                                                                class_mode='sparse',\n",
        "                                                                target_size=(224, 224))\n",
        "  ### END CODE HERE\n",
        "  test_datagen = ImageDataGenerator(rescale= 1./255.)\n",
        "\n",
        "  test_generator = test_datagen.flow_from_directory(directory=TEST_DIR,\n",
        "                                                                batch_size=32,\n",
        "                                                                shuffle=False, \n",
        "                                                                seed=42,\n",
        "                                                                class_mode='sparse',\n",
        "                                                                target_size=(224, 224))\n",
        "  return train_generator, validation_generator, test_generator"
      ],
      "metadata": {
        "id": "pxAHnATVw7D3"
      },
      "execution_count": null,
      "outputs": []
    },
    {
      "cell_type": "code",
      "source": [
        "train_generator, validation_generator, test_generator = train_val_generators(train_dir, validation_dir, test_dir)"
      ],
      "metadata": {
        "id": "fZEuSiux1G6m",
        "outputId": "067feab7-b904-4577-d927-54a5eb0d6230",
        "colab": {
          "base_uri": "https://localhost:8080/"
        }
      },
      "execution_count": null,
      "outputs": [
        {
          "output_type": "stream",
          "name": "stdout",
          "text": [
            "Found 1876 images belonging to 12 classes.\n",
            "Found 521 images belonging to 12 classes.\n",
            "Found 275 images belonging to 12 classes.\n"
          ]
        }
      ]
    },
    {
      "cell_type": "code",
      "source": [
        "class Model:\n",
        "  def __init__(self, model, config):\n",
        "    self.config = config\n",
        "    self.batch_size = self.config['batch_size']\n",
        "    # self.trainable = self.config['trainable']\n",
        "    self.epochs = self.config['epochs']\n",
        "    self.classes= self.config['classes']\n",
        "    self.input_shape = self.config['input_shape']\n",
        "    self.base_model = model\n",
        "\n",
        "  def train_val_generators(self, TRAINING_DIR, VALIDATION_DIR, TEST_DIR, preprocess_input=None):\n",
        "    train_datagen = ImageDataGenerator(rescale = 1./255.,\n",
        "                                rotation_range = 25,\n",
        "                                zoom_range = [0.5, 1.1],\n",
        "                                width_shift_range=0.15, \n",
        "                                shear_range= 0.15,\n",
        "                                height_shift_range=0.15,\n",
        "                                preprocessing_function=preprocess_input,\n",
        "                                horizontal_flip=True,\n",
        "                                vertical_flip= True,\n",
        "                                fill_mode='nearest',)\n",
        "  \n",
        "    train_generator = train_datagen.flow_from_directory(directory=TRAINING_DIR,\n",
        "                                                        batch_size=32, \n",
        "                                                        seed=42,\n",
        "                                                        class_mode='sparse',\n",
        "                                                        target_size=(224, 224))\n",
        "  \n",
        "    validation_datagen = ImageDataGenerator(rescale = 1/255,\n",
        "                                            preprocessing_function=preprocess_input)\n",
        "  \n",
        "    # Pass in the appropriate arguments to the flow_from_directory method\n",
        "    validation_generator = validation_datagen.flow_from_directory(directory=VALIDATION_DIR,\n",
        "                                                                  batch_size=32, \n",
        "                                                                  seed=42,\n",
        "                                                                  class_mode='sparse',\n",
        "                                                                  target_size=(224, 224))\n",
        "    ### END CODE HERE\n",
        "    test_datagen = ImageDataGenerator(rescale= 1./255.)\n",
        "  \n",
        "    test_generator = test_datagen.flow_from_directory(directory=TEST_DIR,\n",
        "                                                                  batch_size=32,\n",
        "                                                                  shuffle=False, \n",
        "                                                                  seed=42,\n",
        "                                                                  class_mode='sparse',\n",
        "                                                                  target_size=(224, 224))\n",
        "\n",
        "    self.train_generator = train_generator\n",
        "    self.validation_generator = validation_generator\n",
        "    self.test_generator = test_generator\n",
        "    return train_generator, validation_generator, test_generator\n",
        "\n",
        "  def set_generator(self, train_generator, val_generator, test_generator, ):\n",
        "    self.train_generator = train_generator\n",
        "    self.valdation_generator = validation_generator\n",
        "    self.test_generator = test_generator\n",
        "  \n",
        "\n",
        "  def build_model(self, compile_config):\n",
        "    compile_config['metrics'] = [metric.replace(\"accuracy\", \"acc\") for metric in compile_config['metrics']]\n",
        "\n",
        "    # self.base_model.trainable = self.trainable\n",
        "    flatten_layer = tf.keras.layers.Flatten()\n",
        "    dense_layer_1 = tf.keras.layers.Dense(512, activation='relu')\n",
        "    prediction_layer = tf.keras.layers.Dense(self.classes, activation='softmax')\n",
        "    self.model = tf.keras.models.Sequential([\n",
        "                                             self.base_model,\n",
        "                                             flatten_layer,\n",
        "                                             dense_layer_1,\n",
        "                                             prediction_layer])\n",
        "\n",
        "    self.model.compile(**compile_config)\n",
        "    self.model.summary()\n",
        "\n",
        "    return self.model\n",
        "\n",
        "  def train(self, model_name, reduce_lr_config=None):\n",
        "    self.model_name = model_name\n",
        "    model_filepath = model_name +'-saved-model-{epoch:02d}-acc-{val_acc:.2f}.hdf5'\n",
        "    model_checkpoint = tf.keras.callbacks.ModelCheckpoint(model_filepath, monitor='val_acc', verbose=1, save_best_only=True, mode='max')\n",
        "    model_early_stopping = tf.keras.callbacks.EarlyStopping(monitor='loss', patience=5)\n",
        "    callbacks = [model_checkpoint, model_early_stopping]\n",
        "    if reduce_lr_config is not None:\n",
        "      reduce_lr = tf.keras.callbacks.ReduceLROnPlateau(**reduce_lr_config)\n",
        "      callbacks.append(reduce_lr)\n",
        "    model_history = self.model.fit(self.train_generator, epochs = self.epochs,\n",
        "                                   validation_data = self.validation_generator,callbacks=callbacks , verbose=1)\n",
        "    self.history = model_history\n",
        "    return model_history\n",
        "\n",
        "  def plot_history(self):\n",
        "    acc = self.history.history['acc']\n",
        "    val_acc = self.history.history['val_acc']\n",
        "    loss = self.history.history['loss']\n",
        "    val_loss = self.history.history['val_loss']\n",
        "    \n",
        "    epochs = range(len(acc))\n",
        "    \n",
        "    plt.subplot()\n",
        "    plt.plot(epochs, acc, 'r', label='Training accuracy')\n",
        "    plt.plot(epochs, val_acc, 'b', label='Validation accuracy')\n",
        "    plt.title('Training and validation accuracy')\n",
        "    plt.legend(loc=0)\n",
        "    plt.figure()\n",
        "  \n",
        "    plt.subplot()\n",
        "    plt.title('Training and validation loss')\n",
        "    plt.plot(epochs, loss, label='Training Loss')\n",
        "    plt.plot(epochs, val_loss,  label='Validation Loss')\n",
        "    plt.legend()\n",
        "    plt.show()\n",
        "    \n",
        "    plt.show()\n",
        "\n",
        "  def evaluate_model(self):\n",
        "    evaluate = self.model.evaluate(self.test_generator)\n",
        "    print('Loss of the model is - ', evaluate[0])\n",
        "    print('Accuracy of the model is - ', evaluate[1]*100, '%')\n",
        "  \n",
        "    classes =  list(self.test_generator.class_indices.keys())\n",
        "    Y_pred = self.model.predict(self.test_generator)\n",
        "    y_pred = np.argmax(Y_pred, axis=1)\n",
        "    \n",
        "    print(classification_report(self.test_generator.classes, y_pred, target_names=classes))\n",
        "    print('Confusion Matrix')\n",
        "    conf_matrix = confusion_matrix(self.test_generator.classes, y_pred)\n",
        "    df_cm = pd.DataFrame(conf_matrix, index = classes, columns = classes)\n",
        "    ax = sns.heatmap(df_cm, annot=True, cmap='Blues')\n",
        "  \n",
        "    ax.set_title('Seaborn Confusion Matrix with labels\\n\\n')\n",
        "    ax.set_xlabel('\\nPredicted Values')\n",
        "    ax.set_ylabel('Actual Values ')\n",
        "  \n",
        "  def find_best_model(self, weights_dir):\n",
        "    weights = os.listdir(weights_dir)\n",
        "    weights = list(filter(lambda x: self.model_name in x, weights))\n",
        "\n",
        "    best_acc = 0\n",
        "    best_weight = None\n",
        "    for weight in weights:\n",
        "      acc = int(re.search(r\"\\.(\\d+)\\.\", weight).group(1))\n",
        "      if best_acc < acc:\n",
        "        best_acc = acc\n",
        "        best_weight = weight\n",
        "    \n",
        "    self.best_weight = os.path.join(weights_dir, best_weight)\n",
        "    print(self.best_weight)\n",
        "\n",
        "  def evaluate_best_model(self, ):\n",
        "    if self.best_weight is None:\n",
        "      print(\"find_best_model dulu cuy\")\n",
        "      return 1\n",
        "    self.model.load_weights(self.best_weight)\n",
        "    self.evaluate_model()\n",
        "  \n",
        "  def save_best_model(self, target_dir):\n",
        "    if self.best_weight is None:\n",
        "      print(\"find_best_model dulu cuy\")\n",
        "      return 1\n",
        "    print(f\"Copy {self.best_weight} to {target_dir}\")\n",
        "    shutil.copy(self.best_weight, target_dir)\n",
        "  \n",
        "  def load_best_model(self, weight_path):\n",
        "    self.best_weight = weight_path\n",
        "    self.model.load_weights(self.best_weight)"
      ],
      "metadata": {
        "id": "2C7ob3aJsUzs"
      },
      "execution_count": 21,
      "outputs": []
    },
    {
      "cell_type": "code",
      "source": [
        "from tensorflow.keras.applications.vgg16 import VGG16\n",
        "from tensorflow.keras.applications.vgg16 import preprocess_input as vgg16_preprocess_input\n",
        "config = {\n",
        "    \"batch_size\": 32,\n",
        "    \"trainable\": False,\n",
        "    \"epochs\": 20,\n",
        "    \"classes\": 12,\n",
        "    \"input_shape\": (224, 224, 3)\n",
        "\n",
        "}\n",
        "\n",
        "compile_config = {\n",
        "    \"loss\": \"sparse_categorical_crossentropy\",\n",
        "    \"optimizer\": 'adam',\n",
        "    \"metrics\": [\"acc\"],\n",
        "}\n",
        "vgg16 = VGG16(weights=\"imagenet\", include_top=False, input_shape=config['input_shape'])\n",
        "vgg16.trainable = False\n",
        "vgg16_model = Model(model=vgg16, config=config)\n",
        "vgg16_model.train_val_generators(train_dir, validation_dir, test_dir, preprocess_input=vgg16_preprocess_input)\n",
        "vgg16_model.build_model(compile_config)"
      ],
      "metadata": {
        "id": "FyDbxPC0tAaP",
        "outputId": "ca0c0219-297e-4069-8821-b4726253adad",
        "colab": {
          "base_uri": "https://localhost:8080/"
        }
      },
      "execution_count": 22,
      "outputs": [
        {
          "output_type": "stream",
          "name": "stdout",
          "text": [
            "Found 1876 images belonging to 12 classes.\n",
            "Found 521 images belonging to 12 classes.\n",
            "Found 275 images belonging to 12 classes.\n",
            "Model: \"sequential_3\"\n",
            "_________________________________________________________________\n",
            " Layer (type)                Output Shape              Param #   \n",
            "=================================================================\n",
            " vgg16 (Functional)          (None, 7, 7, 512)         14714688  \n",
            "                                                                 \n",
            " flatten_3 (Flatten)         (None, 25088)             0         \n",
            "                                                                 \n",
            " dense_6 (Dense)             (None, 512)               12845568  \n",
            "                                                                 \n",
            " dense_7 (Dense)             (None, 12)                6156      \n",
            "                                                                 \n",
            "=================================================================\n",
            "Total params: 27,566,412\n",
            "Trainable params: 12,851,724\n",
            "Non-trainable params: 14,714,688\n",
            "_________________________________________________________________\n"
          ]
        },
        {
          "output_type": "execute_result",
          "data": {
            "text/plain": [
              "<keras.engine.sequential.Sequential at 0x7f1c0219c610>"
            ]
          },
          "metadata": {},
          "execution_count": 22
        }
      ]
    },
    {
      "cell_type": "code",
      "source": [
        "vgg16_model.train(model_name='vgg16')"
      ],
      "metadata": {
        "id": "mn0dXP9Ksgyl",
        "outputId": "d1da22b9-19ef-4ff1-fa77-c01d407c34c0",
        "colab": {
          "base_uri": "https://localhost:8080/"
        }
      },
      "execution_count": null,
      "outputs": [
        {
          "output_type": "stream",
          "name": "stdout",
          "text": [
            "Epoch 1/20\n",
            "59/59 [==============================] - ETA: 0s - loss: 2.6208 - acc: 0.4893 \n",
            "Epoch 1: val_acc improved from -inf to 0.73129, saving model to vgg16-saved-model-01-acc-0.73.hdf5\n",
            "59/59 [==============================] - 959s 16s/step - loss: 2.6208 - acc: 0.4893 - val_loss: 0.8684 - val_acc: 0.7313\n",
            "Epoch 2/20\n",
            "59/59 [==============================] - ETA: 0s - loss: 0.8304 - acc: 0.7308\n",
            "Epoch 2: val_acc improved from 0.73129 to 0.77351, saving model to vgg16-saved-model-02-acc-0.77.hdf5\n",
            "59/59 [==============================] - 225s 4s/step - loss: 0.8304 - acc: 0.7308 - val_loss: 0.6914 - val_acc: 0.7735\n",
            "Epoch 3/20\n",
            "59/59 [==============================] - ETA: 0s - loss: 0.7118 - acc: 0.7676\n",
            "Epoch 3: val_acc improved from 0.77351 to 0.80806, saving model to vgg16-saved-model-03-acc-0.81.hdf5\n",
            "59/59 [==============================] - 224s 4s/step - loss: 0.7118 - acc: 0.7676 - val_loss: 0.6167 - val_acc: 0.8081\n",
            "Epoch 4/20\n",
            "59/59 [==============================] - ETA: 0s - loss: 0.6341 - acc: 0.7889\n",
            "Epoch 4: val_acc improved from 0.80806 to 0.81382, saving model to vgg16-saved-model-04-acc-0.81.hdf5\n",
            "59/59 [==============================] - 222s 4s/step - loss: 0.6341 - acc: 0.7889 - val_loss: 0.6363 - val_acc: 0.8138\n",
            "Epoch 5/20\n",
            "59/59 [==============================] - ETA: 0s - loss: 0.5368 - acc: 0.8188\n",
            "Epoch 5: val_acc improved from 0.81382 to 0.83301, saving model to vgg16-saved-model-05-acc-0.83.hdf5\n",
            "59/59 [==============================] - 221s 4s/step - loss: 0.5368 - acc: 0.8188 - val_loss: 0.5793 - val_acc: 0.8330\n",
            "Epoch 6/20\n",
            "59/59 [==============================] - ETA: 0s - loss: 0.4871 - acc: 0.8369\n",
            "Epoch 6: val_acc improved from 0.83301 to 0.85413, saving model to vgg16-saved-model-06-acc-0.85.hdf5\n",
            "59/59 [==============================] - 221s 4s/step - loss: 0.4871 - acc: 0.8369 - val_loss: 0.4737 - val_acc: 0.8541\n",
            "Epoch 7/20\n",
            "59/59 [==============================] - ETA: 0s - loss: 0.4369 - acc: 0.8539\n",
            "Epoch 7: val_acc improved from 0.85413 to 0.86564, saving model to vgg16-saved-model-07-acc-0.87.hdf5\n",
            "59/59 [==============================] - 221s 4s/step - loss: 0.4369 - acc: 0.8539 - val_loss: 0.4833 - val_acc: 0.8656\n",
            "Epoch 8/20\n",
            "59/59 [==============================] - ETA: 0s - loss: 0.4261 - acc: 0.8609\n",
            "Epoch 8: val_acc improved from 0.86564 to 0.87332, saving model to vgg16-saved-model-08-acc-0.87.hdf5\n",
            "59/59 [==============================] - 222s 4s/step - loss: 0.4261 - acc: 0.8609 - val_loss: 0.4947 - val_acc: 0.8733\n",
            "Epoch 9/20\n",
            "59/59 [==============================] - ETA: 0s - loss: 0.3979 - acc: 0.8577\n",
            "Epoch 9: val_acc did not improve from 0.87332\n",
            "59/59 [==============================] - 222s 4s/step - loss: 0.3979 - acc: 0.8577 - val_loss: 0.5365 - val_acc: 0.8522\n",
            "Epoch 10/20\n",
            "59/59 [==============================] - ETA: 0s - loss: 0.3522 - acc: 0.8859\n",
            "Epoch 10: val_acc improved from 0.87332 to 0.88100, saving model to vgg16-saved-model-10-acc-0.88.hdf5\n",
            "59/59 [==============================] - 222s 4s/step - loss: 0.3522 - acc: 0.8859 - val_loss: 0.4832 - val_acc: 0.8810\n",
            "Epoch 11/20\n",
            "59/59 [==============================] - ETA: 0s - loss: 0.3780 - acc: 0.8731\n",
            "Epoch 11: val_acc did not improve from 0.88100\n",
            "59/59 [==============================] - 223s 4s/step - loss: 0.3780 - acc: 0.8731 - val_loss: 0.5400 - val_acc: 0.8522\n",
            "Epoch 12/20\n",
            "59/59 [==============================] - ETA: 0s - loss: 0.3549 - acc: 0.8817\n",
            "Epoch 12: val_acc did not improve from 0.88100\n",
            "59/59 [==============================] - 222s 4s/step - loss: 0.3549 - acc: 0.8817 - val_loss: 0.4568 - val_acc: 0.8772\n",
            "Epoch 13/20\n",
            "59/59 [==============================] - ETA: 0s - loss: 0.3343 - acc: 0.8907\n",
            "Epoch 13: val_acc did not improve from 0.88100\n",
            "59/59 [==============================] - 221s 4s/step - loss: 0.3343 - acc: 0.8907 - val_loss: 0.5641 - val_acc: 0.8541\n",
            "Epoch 14/20\n",
            "59/59 [==============================] - ETA: 0s - loss: 0.3176 - acc: 0.8870\n",
            "Epoch 14: val_acc did not improve from 0.88100\n",
            "59/59 [==============================] - 221s 4s/step - loss: 0.3176 - acc: 0.8870 - val_loss: 0.5115 - val_acc: 0.8541\n",
            "Epoch 15/20\n",
            "59/59 [==============================] - ETA: 0s - loss: 0.3050 - acc: 0.8907\n",
            "Epoch 15: val_acc did not improve from 0.88100\n",
            "59/59 [==============================] - 220s 4s/step - loss: 0.3050 - acc: 0.8907 - val_loss: 0.5182 - val_acc: 0.8560\n",
            "Epoch 16/20\n",
            "59/59 [==============================] - ETA: 0s - loss: 0.2654 - acc: 0.9120\n",
            "Epoch 16: val_acc improved from 0.88100 to 0.89060, saving model to vgg16-saved-model-16-acc-0.89.hdf5\n",
            "59/59 [==============================] - 221s 4s/step - loss: 0.2654 - acc: 0.9120 - val_loss: 0.4916 - val_acc: 0.8906\n",
            "Epoch 17/20\n",
            "59/59 [==============================] - ETA: 0s - loss: 0.2558 - acc: 0.9115\n",
            "Epoch 17: val_acc did not improve from 0.89060\n",
            "59/59 [==============================] - 221s 4s/step - loss: 0.2558 - acc: 0.9115 - val_loss: 0.4711 - val_acc: 0.8714\n",
            "Epoch 18/20\n",
            "59/59 [==============================] - ETA: 0s - loss: 0.2736 - acc: 0.9046\n",
            "Epoch 18: val_acc did not improve from 0.89060\n",
            "59/59 [==============================] - 220s 4s/step - loss: 0.2736 - acc: 0.9046 - val_loss: 0.5039 - val_acc: 0.8733\n",
            "Epoch 19/20\n",
            "59/59 [==============================] - ETA: 0s - loss: 0.2838 - acc: 0.9057\n",
            "Epoch 19: val_acc did not improve from 0.89060\n",
            "59/59 [==============================] - 220s 4s/step - loss: 0.2838 - acc: 0.9057 - val_loss: 0.4560 - val_acc: 0.8887\n",
            "Epoch 20/20\n",
            "59/59 [==============================] - ETA: 0s - loss: 0.2270 - acc: 0.9216\n",
            "Epoch 20: val_acc did not improve from 0.89060\n",
            "59/59 [==============================] - 220s 4s/step - loss: 0.2270 - acc: 0.9216 - val_loss: 0.5759 - val_acc: 0.8503\n"
          ]
        },
        {
          "output_type": "execute_result",
          "data": {
            "text/plain": [
              "<keras.callbacks.History at 0x7f2bbe810f50>"
            ]
          },
          "metadata": {},
          "execution_count": 10
        }
      ]
    },
    {
      "cell_type": "code",
      "source": [
        "vgg16_model.plot_history()"
      ],
      "metadata": {
        "colab": {
          "base_uri": "https://localhost:8080/",
          "height": 545
        },
        "id": "Yhx7XtHa8oGa",
        "outputId": "097102b0-c33b-429d-b7a3-e26b88fc927c"
      },
      "execution_count": null,
      "outputs": [
        {
          "output_type": "display_data",
          "data": {
            "text/plain": [
              "<Figure size 432x288 with 1 Axes>"
            ],
            "image/png": "[encoded data removed]"
          },
          "metadata": {
            "needs_background": "light"
          }
        },
        {
          "output_type": "display_data",
          "data": {
            "text/plain": [
              "<Figure size 432x288 with 1 Axes>"
            ],
            "image/png": "[encoded data removed]"
          },
          "metadata": {
            "needs_background": "light"
          }
        }
      ]
    },
    {
      "cell_type": "code",
      "source": [
        "vgg16_model.evaluate_model()"
      ],
      "metadata": {
        "colab": {
          "base_uri": "https://localhost:8080/",
          "height": 844
        },
        "id": "B_C2qe1E9Ago",
        "outputId": "9ace9572-6d35-4691-923b-bb145c22d019"
      },
      "execution_count": null,
      "outputs": [
        {
          "output_type": "stream",
          "name": "stdout",
          "text": [
            "\r1/9 [==>...........................] - ETA: 38s - loss: 0.0983 - acc: 0.9688"
          ]
        },
        {
          "output_type": "stream",
          "name": "stderr",
          "text": [
            "/usr/local/lib/python3.7/dist-packages/PIL/Image.py:960: UserWarning: Palette images with Transparency expressed in bytes should be converted to RGBA images\n",
            "  \"Palette images with Transparency expressed in bytes should be \"\n"
          ]
        },
        {
          "output_type": "stream",
          "name": "stdout",
          "text": [
            "9/9 [==============================] - 97s 12s/step - loss: 0.7911 - acc: 0.8291\n",
            "Loss of the model is -  0.7911089062690735\n",
            "Accuracy of the model is -  82.90908932685852 %\n",
            "              precision    recall  f1-score   support\n",
            "\n",
            "       Basil       1.00      1.00      1.00        16\n",
            " Bayam Hijau       0.64      0.97      0.77        29\n",
            "  Jambu Biji       0.70      0.80      0.74        20\n",
            " Jeruk Purut       0.75      0.23      0.35        13\n",
            "       Kelor       0.61      0.91      0.73        22\n",
            "      Kersen       0.92      0.85      0.88        13\n",
            "       Lemon       1.00      0.78      0.88        23\n",
            "    Lengkuas       1.00      0.40      0.57        10\n",
            "      Mangga       1.00      0.98      0.99        45\n",
            "        Mint       0.88      0.80      0.84        45\n",
            "      Nangka       0.87      0.87      0.87        15\n",
            "      Pepaya       0.90      0.79      0.84        24\n",
            "\n",
            "    accuracy                           0.83       275\n",
            "   macro avg       0.85      0.78      0.79       275\n",
            "weighted avg       0.86      0.83      0.82       275\n",
            "\n",
            "Confusion Matrix\n"
          ]
        },
        {
          "output_type": "display_data",
          "data": {
            "text/plain": [
              "<Figure size 432x288 with 2 Axes>"
            ],
            "image/png": "[encoded data removed]"
          },
          "metadata": {
            "needs_background": "light"
          }
        }
      ]
    },
    {
      "cell_type": "code",
      "source": [
        "vgg16_model.model_name = 'vgg16'\n",
        "vgg16_model.find_best_model('.')"
      ],
      "metadata": {
        "colab": {
          "base_uri": "https://localhost:8080/",
          "height": 329
        },
        "id": "9wutXKL7g_Qx",
        "outputId": "df9f0d4e-b530-4c47-899f-d046b5215ac4"
      },
      "execution_count": 7,
      "outputs": [
        {
          "output_type": "error",
          "ename": "TypeError",
          "evalue": "ignored",
          "traceback": [
            "\u001b[0;31m---------------------------------------------------------------------------\u001b[0m",
            "\u001b[0;31mTypeError\u001b[0m                                 Traceback (most recent call last)",
            "\u001b[0;32m<ipython-input-7-be0fe48cf87a>\u001b[0m in \u001b[0;36m<module>\u001b[0;34m()\u001b[0m\n\u001b[1;32m      1\u001b[0m \u001b[0mvgg16_model\u001b[0m\u001b[0;34m.\u001b[0m\u001b[0mmodel_name\u001b[0m \u001b[0;34m=\u001b[0m \u001b[0;34m'vgg16'\u001b[0m\u001b[0;34m\u001b[0m\u001b[0;34m\u001b[0m\u001b[0m\n\u001b[0;32m----> 2\u001b[0;31m \u001b[0mvgg16_model\u001b[0m\u001b[0;34m.\u001b[0m\u001b[0mfind_best_model\u001b[0m\u001b[0;34m(\u001b[0m\u001b[0;34m'.'\u001b[0m\u001b[0;34m)\u001b[0m\u001b[0;34m\u001b[0m\u001b[0;34m\u001b[0m\u001b[0m\n\u001b[0m",
            "\u001b[0;32m<ipython-input-5-c6c922dadce9>\u001b[0m in \u001b[0;36mfind_best_model\u001b[0;34m(self, weights_dir)\u001b[0m\n\u001b[1;32m    144\u001b[0m         \u001b[0mbest_weight\u001b[0m \u001b[0;34m=\u001b[0m \u001b[0mweight\u001b[0m\u001b[0;34m\u001b[0m\u001b[0;34m\u001b[0m\u001b[0m\n\u001b[1;32m    145\u001b[0m \u001b[0;34m\u001b[0m\u001b[0m\n\u001b[0;32m--> 146\u001b[0;31m     \u001b[0mself\u001b[0m\u001b[0;34m.\u001b[0m\u001b[0mbest_weight\u001b[0m \u001b[0;34m=\u001b[0m \u001b[0mos\u001b[0m\u001b[0;34m.\u001b[0m\u001b[0mpath\u001b[0m\u001b[0;34m.\u001b[0m\u001b[0mjoin\u001b[0m\u001b[0;34m(\u001b[0m\u001b[0mweights_dir\u001b[0m\u001b[0;34m,\u001b[0m \u001b[0mbest_weight\u001b[0m\u001b[0;34m)\u001b[0m\u001b[0;34m\u001b[0m\u001b[0;34m\u001b[0m\u001b[0m\n\u001b[0m\u001b[1;32m    147\u001b[0m     \u001b[0mprint\u001b[0m\u001b[0;34m(\u001b[0m\u001b[0mself\u001b[0m\u001b[0;34m.\u001b[0m\u001b[0mbest_weight\u001b[0m\u001b[0;34m)\u001b[0m\u001b[0;34m\u001b[0m\u001b[0;34m\u001b[0m\u001b[0m\n\u001b[1;32m    148\u001b[0m \u001b[0;34m\u001b[0m\u001b[0m\n",
            "\u001b[0;32m/usr/lib/python3.7/posixpath.py\u001b[0m in \u001b[0;36mjoin\u001b[0;34m(a, *p)\u001b[0m\n\u001b[1;32m     92\u001b[0m                 \u001b[0mpath\u001b[0m \u001b[0;34m+=\u001b[0m \u001b[0msep\u001b[0m \u001b[0;34m+\u001b[0m \u001b[0mb\u001b[0m\u001b[0;34m\u001b[0m\u001b[0;34m\u001b[0m\u001b[0m\n\u001b[1;32m     93\u001b[0m     \u001b[0;32mexcept\u001b[0m \u001b[0;34m(\u001b[0m\u001b[0mTypeError\u001b[0m\u001b[0;34m,\u001b[0m \u001b[0mAttributeError\u001b[0m\u001b[0;34m,\u001b[0m \u001b[0mBytesWarning\u001b[0m\u001b[0;34m)\u001b[0m\u001b[0;34m:\u001b[0m\u001b[0;34m\u001b[0m\u001b[0;34m\u001b[0m\u001b[0m\n\u001b[0;32m---> 94\u001b[0;31m         \u001b[0mgenericpath\u001b[0m\u001b[0;34m.\u001b[0m\u001b[0m_check_arg_types\u001b[0m\u001b[0;34m(\u001b[0m\u001b[0;34m'join'\u001b[0m\u001b[0;34m,\u001b[0m \u001b[0ma\u001b[0m\u001b[0;34m,\u001b[0m \u001b[0;34m*\u001b[0m\u001b[0mp\u001b[0m\u001b[0;34m)\u001b[0m\u001b[0;34m\u001b[0m\u001b[0;34m\u001b[0m\u001b[0m\n\u001b[0m\u001b[1;32m     95\u001b[0m         \u001b[0;32mraise\u001b[0m\u001b[0;34m\u001b[0m\u001b[0;34m\u001b[0m\u001b[0m\n\u001b[1;32m     96\u001b[0m     \u001b[0;32mreturn\u001b[0m \u001b[0mpath\u001b[0m\u001b[0;34m\u001b[0m\u001b[0;34m\u001b[0m\u001b[0m\n",
            "\u001b[0;32m/usr/lib/python3.7/genericpath.py\u001b[0m in \u001b[0;36m_check_arg_types\u001b[0;34m(funcname, *args)\u001b[0m\n\u001b[1;32m    151\u001b[0m         \u001b[0;32melse\u001b[0m\u001b[0;34m:\u001b[0m\u001b[0;34m\u001b[0m\u001b[0;34m\u001b[0m\u001b[0m\n\u001b[1;32m    152\u001b[0m             raise TypeError('%s() argument must be str or bytes, not %r' %\n\u001b[0;32m--> 153\u001b[0;31m                             (funcname, s.__class__.__name__)) from None\n\u001b[0m\u001b[1;32m    154\u001b[0m     \u001b[0;32mif\u001b[0m \u001b[0mhasstr\u001b[0m \u001b[0;32mand\u001b[0m \u001b[0mhasbytes\u001b[0m\u001b[0;34m:\u001b[0m\u001b[0;34m\u001b[0m\u001b[0;34m\u001b[0m\u001b[0m\n\u001b[1;32m    155\u001b[0m         \u001b[0;32mraise\u001b[0m \u001b[0mTypeError\u001b[0m\u001b[0;34m(\u001b[0m\u001b[0;34m\"Can't mix strings and bytes in path components\"\u001b[0m\u001b[0;34m)\u001b[0m \u001b[0;32mfrom\u001b[0m \u001b[0;32mNone\u001b[0m\u001b[0;34m\u001b[0m\u001b[0;34m\u001b[0m\u001b[0m\n",
            "\u001b[0;31mTypeError\u001b[0m: join() argument must be str or bytes, not 'NoneType'"
          ]
        }
      ]
    },
    {
      "cell_type": "code",
      "source": [
        "vgg16_model.evaluate_best_model()"
      ],
      "metadata": {
        "colab": {
          "base_uri": "https://localhost:8080/",
          "height": 824
        },
        "id": "B25KozAEhllq",
        "outputId": "0078a497-becd-4774-9569-c10a82145508"
      },
      "execution_count": null,
      "outputs": [
        {
          "output_type": "stream",
          "name": "stderr",
          "text": [
            "/usr/local/lib/python3.7/dist-packages/PIL/Image.py:960: UserWarning: Palette images with Transparency expressed in bytes should be converted to RGBA images\n",
            "  \"Palette images with Transparency expressed in bytes should be \"\n"
          ]
        },
        {
          "output_type": "stream",
          "name": "stdout",
          "text": [
            "9/9 [==============================] - 29s 3s/step - loss: 0.6255 - acc: 0.8364\n",
            "Loss of the model is -  0.6255186200141907\n",
            "Accuracy of the model is -  83.63636136054993 %\n",
            "              precision    recall  f1-score   support\n",
            "\n",
            "       Basil       1.00      1.00      1.00        16\n",
            " Bayam Hijau       0.68      0.97      0.80        29\n",
            "  Jambu Biji       0.79      0.75      0.77        20\n",
            " Jeruk Purut       0.67      0.46      0.55        13\n",
            "       Kelor       0.76      0.73      0.74        22\n",
            "      Kersen       0.91      0.77      0.83        13\n",
            "       Lemon       1.00      0.65      0.79        23\n",
            "    Lengkuas       1.00      0.50      0.67        10\n",
            "      Mangga       1.00      0.98      0.99        45\n",
            "        Mint       0.82      0.93      0.87        45\n",
            "      Nangka       0.67      0.80      0.73        15\n",
            "      Pepaya       0.84      0.88      0.86        24\n",
            "\n",
            "    accuracy                           0.84       275\n",
            "   macro avg       0.85      0.78      0.80       275\n",
            "weighted avg       0.85      0.84      0.83       275\n",
            "\n",
            "Confusion Matrix\n"
          ]
        },
        {
          "output_type": "display_data",
          "data": {
            "text/plain": [
              "<Figure size 432x288 with 2 Axes>"
            ],
            "image/png": "[encoded data removed]"
          },
          "metadata": {
            "needs_background": "light"
          }
        }
      ]
    },
    {
      "cell_type": "code",
      "source": [
        "from tensorflow.keras.applications.inception_v3 import InceptionV3\n",
        "from tensorflow.keras.applications.inception_v3 import preprocess_input as iv3_preprocess_input\n",
        "\n",
        "config = {\n",
        "    \"batch_size\": 32,\n",
        "    \"epochs\": 20,\n",
        "    \"classes\": 12,\n",
        "    \"input_shape\": (224, 224, 3)\n",
        "\n",
        "}\n",
        "\n",
        "compile_config = {\n",
        "    \"loss\": \"sparse_categorical_crossentropy\",\n",
        "    \"optimizer\": 'adam',\n",
        "    \"metrics\": [\"accuracy\"],\n",
        "}\n",
        "\n",
        "inceptionv3  = InceptionV3(weights=\"imagenet\", include_top=False, input_shape=config['input_shape'], classes=config['classes'])\n",
        "inceptionv3.trainable=False\n",
        "# for layer in inceptionv3.layers[:249]:\n",
        "#    layer.trainable = False\n",
        "# for layer in inceptionv3.layers[249:]:\n",
        "#    layer.trainable = True\n",
        "\n",
        "iv3_model = Model(model=inceptionv3, config=config)\n",
        "iv3_model.train_val_generators(train_dir, validation_dir, test_dir, preprocess_input=iv3_preprocess_input)\n",
        "iv3_model.build_model(compile_config)"
      ],
      "metadata": {
        "colab": {
          "base_uri": "https://localhost:8080/"
        },
        "id": "k4xEm-H4mB85",
        "outputId": "802504a6-6f1a-4204-da14-b620cf4382fb"
      },
      "execution_count": null,
      "outputs": [
        {
          "output_type": "stream",
          "name": "stdout",
          "text": [
            "Found 1876 images belonging to 12 classes.\n",
            "Found 521 images belonging to 12 classes.\n",
            "Found 275 images belonging to 12 classes.\n",
            "Model: \"sequential_11\"\n",
            "_________________________________________________________________\n",
            " Layer (type)                Output Shape              Param #   \n",
            "=================================================================\n",
            " inception_v3 (Functional)   (None, 5, 5, 2048)        21802784  \n",
            "                                                                 \n",
            " flatten_11 (Flatten)        (None, 51200)             0         \n",
            "                                                                 \n",
            " dense_22 (Dense)            (None, 512)               26214912  \n",
            "                                                                 \n",
            " dense_23 (Dense)            (None, 12)                6156      \n",
            "                                                                 \n",
            "=================================================================\n",
            "Total params: 48,023,852\n",
            "Trainable params: 26,221,068\n",
            "Non-trainable params: 21,802,784\n",
            "_________________________________________________________________\n"
          ]
        },
        {
          "output_type": "execute_result",
          "data": {
            "text/plain": [
              "<keras.engine.sequential.Sequential at 0x7f5591318510>"
            ]
          },
          "metadata": {},
          "execution_count": 72
        }
      ]
    },
    {
      "cell_type": "code",
      "source": [
        "reduce_lr_config = {\n",
        "    'monitor': 'val_loss',\n",
        "    'factor': 0.05, \n",
        "    'patience':5, \n",
        "    'min_lr': 0.000002\n",
        "}\n",
        "iv3_model.train('inceptionv3', reduce_lr_config=reduce_lr_config)"
      ],
      "metadata": {
        "colab": {
          "base_uri": "https://localhost:8080/"
        },
        "id": "JnlEkmELmvZJ",
        "outputId": "01da30d3-8068-49e4-f619-3fa076310ab0"
      },
      "execution_count": null,
      "outputs": [
        {
          "output_type": "stream",
          "name": "stdout",
          "text": [
            "Epoch 1/20\n",
            "59/59 [==============================] - ETA: 0s - loss: 4.1195 - acc: 0.2846\n",
            "Epoch 1: val_acc improved from -inf to 0.38964, saving model to inceptionv3-saved-model-01-acc-0.39.hdf5\n",
            "59/59 [==============================] - 243s 4s/step - loss: 4.1195 - acc: 0.2846 - val_loss: 1.9879 - val_acc: 0.3896 - lr: 0.0010\n",
            "Epoch 2/20\n",
            "59/59 [==============================] - ETA: 0s - loss: 1.6922 - acc: 0.4190\n",
            "Epoch 2: val_acc improved from 0.38964 to 0.43378, saving model to inceptionv3-saved-model-02-acc-0.43.hdf5\n",
            "59/59 [==============================] - 235s 4s/step - loss: 1.6922 - acc: 0.4190 - val_loss: 1.5874 - val_acc: 0.4338 - lr: 0.0010\n",
            "Epoch 3/20\n",
            "59/59 [==============================] - ETA: 0s - loss: 1.5308 - acc: 0.4654\n",
            "Epoch 3: val_acc improved from 0.43378 to 0.49712, saving model to inceptionv3-saved-model-03-acc-0.50.hdf5\n",
            "59/59 [==============================] - 236s 4s/step - loss: 1.5308 - acc: 0.4654 - val_loss: 1.6836 - val_acc: 0.4971 - lr: 0.0010\n",
            "Epoch 4/20\n",
            "59/59 [==============================] - ETA: 0s - loss: 1.5425 - acc: 0.4638\n",
            "Epoch 4: val_acc did not improve from 0.49712\n",
            "59/59 [==============================] - 235s 4s/step - loss: 1.5425 - acc: 0.4638 - val_loss: 1.4915 - val_acc: 0.4741 - lr: 0.0010\n",
            "Epoch 5/20\n",
            "59/59 [==============================] - ETA: 0s - loss: 1.4785 - acc: 0.4883\n",
            "Epoch 5: val_acc improved from 0.49712 to 0.55278, saving model to inceptionv3-saved-model-05-acc-0.55.hdf5\n",
            "59/59 [==============================] - 236s 4s/step - loss: 1.4785 - acc: 0.4883 - val_loss: 1.3432 - val_acc: 0.5528 - lr: 0.0010\n",
            "Epoch 6/20\n",
            "59/59 [==============================] - ETA: 0s - loss: 1.4542 - acc: 0.4893\n",
            "Epoch 6: val_acc did not improve from 0.55278\n",
            "59/59 [==============================] - 229s 4s/step - loss: 1.4542 - acc: 0.4893 - val_loss: 1.4283 - val_acc: 0.4664 - lr: 0.0010\n",
            "Epoch 7/20\n",
            "59/59 [==============================] - ETA: 0s - loss: 1.4446 - acc: 0.4851\n",
            "Epoch 7: val_acc improved from 0.55278 to 0.56046, saving model to inceptionv3-saved-model-07-acc-0.56.hdf5\n",
            "59/59 [==============================] - 269s 5s/step - loss: 1.4446 - acc: 0.4851 - val_loss: 1.2357 - val_acc: 0.5605 - lr: 0.0010\n",
            "Epoch 8/20\n",
            "59/59 [==============================] - ETA: 0s - loss: 1.3707 - acc: 0.5011\n",
            "Epoch 8: val_acc did not improve from 0.56046\n",
            "59/59 [==============================] - 223s 4s/step - loss: 1.3707 - acc: 0.5011 - val_loss: 1.3218 - val_acc: 0.5259 - lr: 0.0010\n",
            "Epoch 9/20\n",
            "59/59 [==============================] - ETA: 0s - loss: 1.3744 - acc: 0.5069\n",
            "Epoch 9: val_acc improved from 0.56046 to 0.59885, saving model to inceptionv3-saved-model-09-acc-0.60.hdf5\n",
            "59/59 [==============================] - 223s 4s/step - loss: 1.3744 - acc: 0.5069 - val_loss: 1.1990 - val_acc: 0.5988 - lr: 0.0010\n",
            "Epoch 10/20\n",
            "59/59 [==============================] - ETA: 0s - loss: 1.3404 - acc: 0.5176\n",
            "Epoch 10: val_acc did not improve from 0.59885\n",
            "59/59 [==============================] - 221s 4s/step - loss: 1.3404 - acc: 0.5176 - val_loss: 1.1532 - val_acc: 0.5988 - lr: 0.0010\n",
            "Epoch 11/20\n",
            "59/59 [==============================] - ETA: 0s - loss: 1.3159 - acc: 0.5267\n",
            "Epoch 11: val_acc did not improve from 0.59885\n",
            "59/59 [==============================] - 220s 4s/step - loss: 1.3159 - acc: 0.5267 - val_loss: 1.2838 - val_acc: 0.5509 - lr: 0.0010\n",
            "Epoch 12/20\n",
            "59/59 [==============================] - ETA: 0s - loss: 1.3112 - acc: 0.5352\n",
            "Epoch 12: val_acc did not improve from 0.59885\n",
            "59/59 [==============================] - 219s 4s/step - loss: 1.3112 - acc: 0.5352 - val_loss: 1.2783 - val_acc: 0.5163 - lr: 0.0010\n",
            "Epoch 13/20\n",
            "59/59 [==============================] - ETA: 0s - loss: 1.2474 - acc: 0.5704\n",
            "Epoch 13: val_acc did not improve from 0.59885\n",
            "59/59 [==============================] - 217s 4s/step - loss: 1.2474 - acc: 0.5704 - val_loss: 1.2565 - val_acc: 0.5470 - lr: 0.0010\n",
            "Epoch 14/20\n",
            "59/59 [==============================] - ETA: 0s - loss: 1.2411 - acc: 0.5517\n",
            "Epoch 14: val_acc did not improve from 0.59885\n",
            "59/59 [==============================] - 218s 4s/step - loss: 1.2411 - acc: 0.5517 - val_loss: 1.2816 - val_acc: 0.5566 - lr: 0.0010\n",
            "Epoch 15/20\n",
            "59/59 [==============================] - ETA: 0s - loss: 1.2230 - acc: 0.5821\n",
            "Epoch 15: val_acc did not improve from 0.59885\n",
            "59/59 [==============================] - 218s 4s/step - loss: 1.2230 - acc: 0.5821 - val_loss: 1.1361 - val_acc: 0.5988 - lr: 0.0010\n",
            "Epoch 16/20\n",
            "59/59 [==============================] - ETA: 0s - loss: 1.2162 - acc: 0.5794\n",
            "Epoch 16: val_acc improved from 0.59885 to 0.62380, saving model to inceptionv3-saved-model-16-acc-0.62.hdf5\n",
            "59/59 [==============================] - 218s 4s/step - loss: 1.2162 - acc: 0.5794 - val_loss: 1.1162 - val_acc: 0.6238 - lr: 0.0010\n",
            "Epoch 17/20\n",
            "59/59 [==============================] - ETA: 0s - loss: 1.1726 - acc: 0.5848\n",
            "Epoch 17: val_acc improved from 0.62380 to 0.63148, saving model to inceptionv3-saved-model-17-acc-0.63.hdf5\n",
            "59/59 [==============================] - 221s 4s/step - loss: 1.1726 - acc: 0.5848 - val_loss: 1.0828 - val_acc: 0.6315 - lr: 0.0010\n",
            "Epoch 18/20\n",
            "59/59 [==============================] - ETA: 0s - loss: 1.2057 - acc: 0.5880\n",
            "Epoch 18: val_acc did not improve from 0.63148\n",
            "59/59 [==============================] - 219s 4s/step - loss: 1.2057 - acc: 0.5880 - val_loss: 1.1994 - val_acc: 0.5451 - lr: 0.0010\n",
            "Epoch 19/20\n",
            "59/59 [==============================] - ETA: 0s - loss: 1.2079 - acc: 0.5672\n",
            "Epoch 19: val_acc did not improve from 0.63148\n",
            "59/59 [==============================] - 218s 4s/step - loss: 1.2079 - acc: 0.5672 - val_loss: 1.1248 - val_acc: 0.5662 - lr: 0.0010\n",
            "Epoch 20/20\n",
            "59/59 [==============================] - ETA: 0s - loss: 1.1673 - acc: 0.5730\n",
            "Epoch 20: val_acc did not improve from 0.63148\n",
            "59/59 [==============================] - 218s 4s/step - loss: 1.1673 - acc: 0.5730 - val_loss: 1.1203 - val_acc: 0.6180 - lr: 0.0010\n"
          ]
        },
        {
          "output_type": "execute_result",
          "data": {
            "text/plain": [
              "<keras.callbacks.History at 0x7f5591287f10>"
            ]
          },
          "metadata": {},
          "execution_count": 73
        }
      ]
    },
    {
      "cell_type": "code",
      "source": [
        "iv3_model.model_name = 'inceptionv3'\n",
        "iv3_model.find_best_model('.')\n",
        "iv3_model.evaluate_best_model()"
      ],
      "metadata": {
        "colab": {
          "base_uri": "https://localhost:8080/",
          "height": 398
        },
        "id": "FQS6rsDJpEeL",
        "outputId": "edb62c3b-7605-4dd9-da9f-6b08bc90c2a7"
      },
      "execution_count": null,
      "outputs": [
        {
          "output_type": "stream",
          "name": "stdout",
          "text": [
            "./vgg16-saved-model-16-acc-0.89.hdf5\n"
          ]
        },
        {
          "output_type": "error",
          "ename": "ValueError",
          "evalue": "ignored",
          "traceback": [
            "\u001b[0;31m---------------------------------------------------------------------------\u001b[0m",
            "\u001b[0;31mValueError\u001b[0m                                Traceback (most recent call last)",
            "\u001b[0;32m<ipython-input-74-645c8b35af08>\u001b[0m in \u001b[0;36m<module>\u001b[0;34m()\u001b[0m\n\u001b[1;32m      1\u001b[0m \u001b[0miv3_model\u001b[0m\u001b[0;34m.\u001b[0m\u001b[0mmodel_name\u001b[0m \u001b[0;34m=\u001b[0m \u001b[0;34m'vgg16'\u001b[0m\u001b[0;34m\u001b[0m\u001b[0;34m\u001b[0m\u001b[0m\n\u001b[1;32m      2\u001b[0m \u001b[0miv3_model\u001b[0m\u001b[0;34m.\u001b[0m\u001b[0mfind_best_model\u001b[0m\u001b[0;34m(\u001b[0m\u001b[0;34m'.'\u001b[0m\u001b[0;34m)\u001b[0m\u001b[0;34m\u001b[0m\u001b[0;34m\u001b[0m\u001b[0m\n\u001b[0;32m----> 3\u001b[0;31m \u001b[0miv3_model\u001b[0m\u001b[0;34m.\u001b[0m\u001b[0mevaluate_best_model\u001b[0m\u001b[0;34m(\u001b[0m\u001b[0;34m)\u001b[0m\u001b[0;34m\u001b[0m\u001b[0;34m\u001b[0m\u001b[0m\n\u001b[0m",
            "\u001b[0;32m<ipython-input-62-c149501f8584>\u001b[0m in \u001b[0;36mevaluate_best_model\u001b[0;34m(self)\u001b[0m\n\u001b[1;32m    151\u001b[0m       \u001b[0mprint\u001b[0m\u001b[0;34m(\u001b[0m\u001b[0;34m\"find_best_model dulu cuy\"\u001b[0m\u001b[0;34m)\u001b[0m\u001b[0;34m\u001b[0m\u001b[0;34m\u001b[0m\u001b[0m\n\u001b[1;32m    152\u001b[0m       \u001b[0;32mreturn\u001b[0m \u001b[0;36m1\u001b[0m\u001b[0;34m\u001b[0m\u001b[0;34m\u001b[0m\u001b[0m\n\u001b[0;32m--> 153\u001b[0;31m     \u001b[0mself\u001b[0m\u001b[0;34m.\u001b[0m\u001b[0mmodel\u001b[0m\u001b[0;34m.\u001b[0m\u001b[0mload_weights\u001b[0m\u001b[0;34m(\u001b[0m\u001b[0mself\u001b[0m\u001b[0;34m.\u001b[0m\u001b[0mbest_weight\u001b[0m\u001b[0;34m)\u001b[0m\u001b[0;34m\u001b[0m\u001b[0;34m\u001b[0m\u001b[0m\n\u001b[0m\u001b[1;32m    154\u001b[0m     \u001b[0mself\u001b[0m\u001b[0;34m.\u001b[0m\u001b[0mevaluate_model\u001b[0m\u001b[0;34m(\u001b[0m\u001b[0;34m)\u001b[0m\u001b[0;34m\u001b[0m\u001b[0;34m\u001b[0m\u001b[0m\n\u001b[1;32m    155\u001b[0m \u001b[0;34m\u001b[0m\u001b[0m\n",
            "\u001b[0;32m/usr/local/lib/python3.7/dist-packages/keras/utils/traceback_utils.py\u001b[0m in \u001b[0;36merror_handler\u001b[0;34m(*args, **kwargs)\u001b[0m\n\u001b[1;32m     65\u001b[0m     \u001b[0;32mexcept\u001b[0m \u001b[0mException\u001b[0m \u001b[0;32mas\u001b[0m \u001b[0me\u001b[0m\u001b[0;34m:\u001b[0m  \u001b[0;31m# pylint: disable=broad-except\u001b[0m\u001b[0;34m\u001b[0m\u001b[0;34m\u001b[0m\u001b[0m\n\u001b[1;32m     66\u001b[0m       \u001b[0mfiltered_tb\u001b[0m \u001b[0;34m=\u001b[0m \u001b[0m_process_traceback_frames\u001b[0m\u001b[0;34m(\u001b[0m\u001b[0me\u001b[0m\u001b[0;34m.\u001b[0m\u001b[0m__traceback__\u001b[0m\u001b[0;34m)\u001b[0m\u001b[0;34m\u001b[0m\u001b[0;34m\u001b[0m\u001b[0m\n\u001b[0;32m---> 67\u001b[0;31m       \u001b[0;32mraise\u001b[0m \u001b[0me\u001b[0m\u001b[0;34m.\u001b[0m\u001b[0mwith_traceback\u001b[0m\u001b[0;34m(\u001b[0m\u001b[0mfiltered_tb\u001b[0m\u001b[0;34m)\u001b[0m \u001b[0;32mfrom\u001b[0m \u001b[0;32mNone\u001b[0m\u001b[0;34m\u001b[0m\u001b[0;34m\u001b[0m\u001b[0m\n\u001b[0m\u001b[1;32m     68\u001b[0m     \u001b[0;32mfinally\u001b[0m\u001b[0;34m:\u001b[0m\u001b[0;34m\u001b[0m\u001b[0;34m\u001b[0m\u001b[0m\n\u001b[1;32m     69\u001b[0m       \u001b[0;32mdel\u001b[0m \u001b[0mfiltered_tb\u001b[0m\u001b[0;34m\u001b[0m\u001b[0;34m\u001b[0m\u001b[0m\n",
            "\u001b[0;32m<__array_function__ internals>\u001b[0m in \u001b[0;36mtranspose\u001b[0;34m(*args, **kwargs)\u001b[0m\n",
            "\u001b[0;32m/usr/local/lib/python3.7/dist-packages/numpy/core/fromnumeric.py\u001b[0m in \u001b[0;36mtranspose\u001b[0;34m(a, axes)\u001b[0m\n\u001b[1;32m    658\u001b[0m \u001b[0;34m\u001b[0m\u001b[0m\n\u001b[1;32m    659\u001b[0m     \"\"\"\n\u001b[0;32m--> 660\u001b[0;31m     \u001b[0;32mreturn\u001b[0m \u001b[0m_wrapfunc\u001b[0m\u001b[0;34m(\u001b[0m\u001b[0ma\u001b[0m\u001b[0;34m,\u001b[0m \u001b[0;34m'transpose'\u001b[0m\u001b[0;34m,\u001b[0m \u001b[0maxes\u001b[0m\u001b[0;34m)\u001b[0m\u001b[0;34m\u001b[0m\u001b[0;34m\u001b[0m\u001b[0m\n\u001b[0m\u001b[1;32m    661\u001b[0m \u001b[0;34m\u001b[0m\u001b[0m\n\u001b[1;32m    662\u001b[0m \u001b[0;34m\u001b[0m\u001b[0m\n",
            "\u001b[0;32m/usr/local/lib/python3.7/dist-packages/numpy/core/fromnumeric.py\u001b[0m in \u001b[0;36m_wrapfunc\u001b[0;34m(obj, method, *args, **kwds)\u001b[0m\n\u001b[1;32m     55\u001b[0m \u001b[0;34m\u001b[0m\u001b[0m\n\u001b[1;32m     56\u001b[0m     \u001b[0;32mtry\u001b[0m\u001b[0;34m:\u001b[0m\u001b[0;34m\u001b[0m\u001b[0;34m\u001b[0m\u001b[0m\n\u001b[0;32m---> 57\u001b[0;31m         \u001b[0;32mreturn\u001b[0m \u001b[0mbound\u001b[0m\u001b[0;34m(\u001b[0m\u001b[0;34m*\u001b[0m\u001b[0margs\u001b[0m\u001b[0;34m,\u001b[0m \u001b[0;34m**\u001b[0m\u001b[0mkwds\u001b[0m\u001b[0;34m)\u001b[0m\u001b[0;34m\u001b[0m\u001b[0;34m\u001b[0m\u001b[0m\n\u001b[0m\u001b[1;32m     58\u001b[0m     \u001b[0;32mexcept\u001b[0m \u001b[0mTypeError\u001b[0m\u001b[0;34m:\u001b[0m\u001b[0;34m\u001b[0m\u001b[0;34m\u001b[0m\u001b[0m\n\u001b[1;32m     59\u001b[0m         \u001b[0;31m# A TypeError occurs if the object does have such a method in its\u001b[0m\u001b[0;34m\u001b[0m\u001b[0;34m\u001b[0m\u001b[0;34m\u001b[0m\u001b[0m\n",
            "\u001b[0;31mValueError\u001b[0m: axes don't match array"
          ]
        }
      ]
    },
    {
      "cell_type": "code",
      "source": [
        "target_dir = '/content/drive/Shareddrives/Bangkit Capstone/Best Model'\n",
        "iv3_model.save_best_model(target_dir=target_dir)"
      ],
      "metadata": {
        "id": "o0FHGhz9pNep"
      },
      "execution_count": null,
      "outputs": []
    },
    {
      "cell_type": "code",
      "source": [
        "from tensorflow.keras.applications.resnet50 import ResNet50\n",
        "from tensorflow.keras.applications.resnet50 import preprocess_input as resnet50_preprocess_input\n",
        "config = {\n",
        "    \"batch_size\": 32,\n",
        "    \"trainable\": False,\n",
        "    \"epochs\": 20,\n",
        "    \"classes\": 12,\n",
        "    \"input_shape\": (224, 224, 3)\n",
        "\n",
        "}\n",
        "\n",
        "compile_config = {\n",
        "    \"loss\": \"sparse_categorical_crossentropy\",\n",
        "    \"optimizer\": 'adam',\n",
        "    \"metrics\": [\"accuracy\"],\n",
        "}\n",
        "resnet50 = ResNet50(weights=\"imagenet\", include_top=False, input_shape=config['input_shape'], classes=config['classes'])\n",
        "resnet50.trainable = False\n",
        "resnet50_model = Model(model=resnet50, config=config)\n",
        "resnet50_model.train_val_generators(train_dir, validation_dir, test_dir, preprocess_input=resnet50_preprocess_input)\n",
        "resnet50_model.build_model(compile_config)"
      ],
      "metadata": {
        "id": "ci6J-KPE_Xmr",
        "outputId": "59a01360-973e-46ce-e246-30f3a76d3a2e",
        "colab": {
          "base_uri": "https://localhost:8080/"
        }
      },
      "execution_count": 10,
      "outputs": [
        {
          "output_type": "stream",
          "name": "stdout",
          "text": [
            "Found 1876 images belonging to 12 classes.\n",
            "Found 521 images belonging to 12 classes.\n",
            "Found 275 images belonging to 12 classes.\n",
            "Model: \"sequential_2\"\n",
            "_________________________________________________________________\n",
            " Layer (type)                Output Shape              Param #   \n",
            "=================================================================\n",
            " resnet50 (Functional)       (None, 7, 7, 2048)        23587712  \n",
            "                                                                 \n",
            " flatten_2 (Flatten)         (None, 100352)            0         \n",
            "                                                                 \n",
            " dense_4 (Dense)             (None, 512)               51380736  \n",
            "                                                                 \n",
            " dense_5 (Dense)             (None, 12)                6156      \n",
            "                                                                 \n",
            "=================================================================\n",
            "Total params: 74,974,604\n",
            "Trainable params: 51,386,892\n",
            "Non-trainable params: 23,587,712\n",
            "_________________________________________________________________\n"
          ]
        },
        {
          "output_type": "execute_result",
          "data": {
            "text/plain": [
              "<keras.engine.sequential.Sequential at 0x7f1c03647e90>"
            ]
          },
          "metadata": {},
          "execution_count": 10
        }
      ]
    },
    {
      "cell_type": "code",
      "source": [
        "reduce_lr_config = {\n",
        "    'monitor': 'val_loss',\n",
        "    'factor': 0.05, \n",
        "    'patience':5, \n",
        "    'min_lr': 0.000002\n",
        "}\n",
        "resnet50_model.train('resnet50', reduce_lr_config=reduce_lr_config)"
      ],
      "metadata": {
        "id": "HSwEk7PdAQ51",
        "outputId": "c44d979d-97f9-4eb7-98af-72531663fe59",
        "colab": {
          "base_uri": "https://localhost:8080/"
        }
      },
      "execution_count": 11,
      "outputs": [
        {
          "output_type": "stream",
          "name": "stdout",
          "text": [
            "Epoch 1/20\n",
            "59/59 [==============================] - ETA: 0s - loss: 7.9133 - acc: 0.2031\n",
            "Epoch 1: val_acc improved from -inf to 0.17850, saving model to resnet50-saved-model-01-acc-0.18.hdf5\n",
            "59/59 [==============================] - 235s 4s/step - loss: 7.9133 - acc: 0.2031 - val_loss: 2.9746 - val_acc: 0.1785 - lr: 0.0010\n",
            "Epoch 2/20\n",
            "59/59 [==============================] - ETA: 0s - loss: 2.4663 - acc: 0.3017\n",
            "Epoch 2: val_acc improved from 0.17850 to 0.31478, saving model to resnet50-saved-model-02-acc-0.31.hdf5\n",
            "59/59 [==============================] - 227s 4s/step - loss: 2.4663 - acc: 0.3017 - val_loss: 3.1347 - val_acc: 0.3148 - lr: 0.0010\n",
            "Epoch 3/20\n",
            "59/59 [==============================] - ETA: 0s - loss: 2.4426 - acc: 0.3273\n",
            "Epoch 3: val_acc did not improve from 0.31478\n",
            "59/59 [==============================] - 222s 4s/step - loss: 2.4426 - acc: 0.3273 - val_loss: 2.4310 - val_acc: 0.2572 - lr: 0.0010\n",
            "Epoch 4/20\n",
            "59/59 [==============================] - ETA: 0s - loss: 2.3713 - acc: 0.3145\n",
            "Epoch 4: val_acc improved from 0.31478 to 0.38004, saving model to resnet50-saved-model-04-acc-0.38.hdf5\n",
            "59/59 [==============================] - 222s 4s/step - loss: 2.3713 - acc: 0.3145 - val_loss: 2.1726 - val_acc: 0.3800 - lr: 0.0010\n",
            "Epoch 5/20\n",
            "59/59 [==============================] - ETA: 0s - loss: 2.2498 - acc: 0.3198\n",
            "Epoch 5: val_acc did not improve from 0.38004\n",
            "59/59 [==============================] - 219s 4s/step - loss: 2.2498 - acc: 0.3198 - val_loss: 2.6029 - val_acc: 0.3186 - lr: 0.0010\n",
            "Epoch 6/20\n",
            "59/59 [==============================] - ETA: 0s - loss: 2.1422 - acc: 0.3406\n",
            "Epoch 6: val_acc improved from 0.38004 to 0.40499, saving model to resnet50-saved-model-06-acc-0.40.hdf5\n",
            "59/59 [==============================] - 221s 4s/step - loss: 2.1422 - acc: 0.3406 - val_loss: 1.8201 - val_acc: 0.4050 - lr: 0.0010\n",
            "Epoch 7/20\n",
            "59/59 [==============================] - ETA: 0s - loss: 1.8646 - acc: 0.3667\n",
            "Epoch 7: val_acc improved from 0.40499 to 0.42226, saving model to resnet50-saved-model-07-acc-0.42.hdf5\n",
            "59/59 [==============================] - 221s 4s/step - loss: 1.8646 - acc: 0.3667 - val_loss: 1.6329 - val_acc: 0.4223 - lr: 0.0010\n",
            "Epoch 8/20\n",
            "59/59 [==============================] - ETA: 0s - loss: 1.7966 - acc: 0.3737\n",
            "Epoch 8: val_acc did not improve from 0.42226\n",
            "59/59 [==============================] - 219s 4s/step - loss: 1.7966 - acc: 0.3737 - val_loss: 1.7534 - val_acc: 0.3935 - lr: 0.0010\n",
            "Epoch 9/20\n",
            "59/59 [==============================] - ETA: 0s - loss: 1.7925 - acc: 0.3699\n",
            "Epoch 9: val_acc did not improve from 0.42226\n",
            "59/59 [==============================] - 219s 4s/step - loss: 1.7925 - acc: 0.3699 - val_loss: 1.8391 - val_acc: 0.3704 - lr: 0.0010\n",
            "Epoch 10/20\n",
            "59/59 [==============================] - ETA: 0s - loss: 1.8114 - acc: 0.3897\n",
            "Epoch 10: val_acc did not improve from 0.42226\n",
            "59/59 [==============================] - 219s 4s/step - loss: 1.8114 - acc: 0.3897 - val_loss: 1.9390 - val_acc: 0.4031 - lr: 0.0010\n",
            "Epoch 11/20\n",
            "59/59 [==============================] - ETA: 0s - loss: 1.7918 - acc: 0.3923\n",
            "Epoch 11: val_acc did not improve from 0.42226\n",
            "59/59 [==============================] - 219s 4s/step - loss: 1.7918 - acc: 0.3923 - val_loss: 1.6526 - val_acc: 0.3916 - lr: 0.0010\n",
            "Epoch 12/20\n",
            "59/59 [==============================] - ETA: 0s - loss: 1.7037 - acc: 0.3939\n",
            "Epoch 12: val_acc improved from 0.42226 to 0.43954, saving model to resnet50-saved-model-12-acc-0.44.hdf5\n",
            "59/59 [==============================] - 220s 4s/step - loss: 1.7037 - acc: 0.3939 - val_loss: 1.5705 - val_acc: 0.4395 - lr: 0.0010\n",
            "Epoch 13/20\n",
            "59/59 [==============================] - ETA: 0s - loss: 1.7170 - acc: 0.4078\n",
            "Epoch 13: val_acc did not improve from 0.43954\n",
            "59/59 [==============================] - 220s 4s/step - loss: 1.7170 - acc: 0.4078 - val_loss: 1.5413 - val_acc: 0.4165 - lr: 0.0010\n",
            "Epoch 14/20\n",
            "59/59 [==============================] - ETA: 0s - loss: 1.6747 - acc: 0.4014\n",
            "Epoch 14: val_acc did not improve from 0.43954\n",
            "59/59 [==============================] - 220s 4s/step - loss: 1.6747 - acc: 0.4014 - val_loss: 1.6852 - val_acc: 0.3820 - lr: 0.0010\n",
            "Epoch 15/20\n",
            "59/59 [==============================] - ETA: 0s - loss: 1.6731 - acc: 0.4072\n",
            "Epoch 15: val_acc improved from 0.43954 to 0.44338, saving model to resnet50-saved-model-15-acc-0.44.hdf5\n",
            "59/59 [==============================] - 221s 4s/step - loss: 1.6731 - acc: 0.4072 - val_loss: 1.6041 - val_acc: 0.4434 - lr: 0.0010\n",
            "Epoch 16/20\n",
            "59/59 [==============================] - ETA: 0s - loss: 1.6363 - acc: 0.4158\n",
            "Epoch 16: val_acc did not improve from 0.44338\n",
            "59/59 [==============================] - 220s 4s/step - loss: 1.6363 - acc: 0.4158 - val_loss: 1.5840 - val_acc: 0.4127 - lr: 0.0010\n",
            "Epoch 17/20\n",
            "59/59 [==============================] - ETA: 0s - loss: 1.6783 - acc: 0.4041\n",
            "Epoch 17: val_acc did not improve from 0.44338\n",
            "59/59 [==============================] - 220s 4s/step - loss: 1.6783 - acc: 0.4041 - val_loss: 1.6161 - val_acc: 0.4069 - lr: 0.0010\n",
            "Epoch 18/20\n",
            "59/59 [==============================] - ETA: 0s - loss: 1.6834 - acc: 0.4019\n",
            "Epoch 18: val_acc improved from 0.44338 to 0.48177, saving model to resnet50-saved-model-18-acc-0.48.hdf5\n",
            "59/59 [==============================] - 223s 4s/step - loss: 1.6834 - acc: 0.4019 - val_loss: 1.4806 - val_acc: 0.4818 - lr: 0.0010\n",
            "Epoch 19/20\n",
            "59/59 [==============================] - ETA: 0s - loss: 1.6184 - acc: 0.4142\n",
            "Epoch 19: val_acc did not improve from 0.48177\n",
            "59/59 [==============================] - 220s 4s/step - loss: 1.6184 - acc: 0.4142 - val_loss: 1.6885 - val_acc: 0.4146 - lr: 0.0010\n",
            "Epoch 20/20\n",
            "59/59 [==============================] - ETA: 0s - loss: 1.6387 - acc: 0.4158\n",
            "Epoch 20: val_acc did not improve from 0.48177\n",
            "59/59 [==============================] - 220s 4s/step - loss: 1.6387 - acc: 0.4158 - val_loss: 1.5155 - val_acc: 0.4261 - lr: 0.0010\n"
          ]
        },
        {
          "output_type": "execute_result",
          "data": {
            "text/plain": [
              "<keras.callbacks.History at 0x7f1c0386f450>"
            ]
          },
          "metadata": {},
          "execution_count": 11
        }
      ]
    },
    {
      "cell_type": "code",
      "source": [
        "resnet50_model.model_name = 'resnet50'\n",
        "resnet50_model.find_best_model('.')\n",
        "resnet50_model.evaluate_best_model()"
      ],
      "metadata": {
        "id": "-b4J_X9mpiG1",
        "outputId": "0f9378ce-c3a7-45e8-b26d-4ee7a4cf7302",
        "colab": {
          "base_uri": "https://localhost:8080/",
          "height": 966
        }
      },
      "execution_count": 12,
      "outputs": [
        {
          "output_type": "stream",
          "name": "stdout",
          "text": [
            "./resnet50-saved-model-18-acc-0.48.hdf5\n",
            "1/9 [==>...........................] - ETA: 37s - loss: 1.7265 - acc: 0.2500"
          ]
        },
        {
          "output_type": "stream",
          "name": "stderr",
          "text": [
            "/usr/local/lib/python3.7/dist-packages/PIL/Image.py:960: UserWarning: Palette images with Transparency expressed in bytes should be converted to RGBA images\n",
            "  \"Palette images with Transparency expressed in bytes should be \"\n"
          ]
        },
        {
          "output_type": "stream",
          "name": "stdout",
          "text": [
            "9/9 [==============================] - 102s 12s/step - loss: 1.4562 - acc: 0.4764\n",
            "Loss of the model is -  1.4562342166900635\n",
            "Accuracy of the model is -  47.63636291027069 %\n"
          ]
        },
        {
          "output_type": "stream",
          "name": "stderr",
          "text": [
            "/usr/local/lib/python3.7/dist-packages/sklearn/metrics/_classification.py:1318: UndefinedMetricWarning: Precision and F-score are ill-defined and being set to 0.0 in labels with no predicted samples. Use `zero_division` parameter to control this behavior.\n",
            "  _warn_prf(average, modifier, msg_start, len(result))\n",
            "/usr/local/lib/python3.7/dist-packages/sklearn/metrics/_classification.py:1318: UndefinedMetricWarning: Precision and F-score are ill-defined and being set to 0.0 in labels with no predicted samples. Use `zero_division` parameter to control this behavior.\n",
            "  _warn_prf(average, modifier, msg_start, len(result))\n",
            "/usr/local/lib/python3.7/dist-packages/sklearn/metrics/_classification.py:1318: UndefinedMetricWarning: Precision and F-score are ill-defined and being set to 0.0 in labels with no predicted samples. Use `zero_division` parameter to control this behavior.\n",
            "  _warn_prf(average, modifier, msg_start, len(result))\n"
          ]
        },
        {
          "output_type": "stream",
          "name": "stdout",
          "text": [
            "              precision    recall  f1-score   support\n",
            "\n",
            "       Basil       0.00      0.00      0.00        16\n",
            " Bayam Hijau       0.34      0.41      0.38        29\n",
            "  Jambu Biji       0.86      0.30      0.44        20\n",
            " Jeruk Purut       0.00      0.00      0.00        13\n",
            "       Kelor       0.34      0.68      0.45        22\n",
            "      Kersen       1.00      0.23      0.38        13\n",
            "       Lemon       0.50      0.17      0.26        23\n",
            "    Lengkuas       0.60      0.30      0.40        10\n",
            "      Mangga       0.58      1.00      0.74        45\n",
            "        Mint       0.53      0.42      0.47        45\n",
            "      Nangka       0.62      0.53      0.57        15\n",
            "      Pepaya       0.35      0.67      0.46        24\n",
            "\n",
            "    accuracy                           0.48       275\n",
            "   macro avg       0.48      0.39      0.38       275\n",
            "weighted avg       0.48      0.48      0.43       275\n",
            "\n",
            "Confusion Matrix\n"
          ]
        },
        {
          "output_type": "display_data",
          "data": {
            "text/plain": [
              "<Figure size 432x288 with 2 Axes>"
            ],
            "image/png": "[encoded data removed]"
          },
          "metadata": {
            "needs_background": "light"
          }
        }
      ]
    },
    {
      "cell_type": "code",
      "source": [
        "resnet50_model.plot_history()"
      ],
      "metadata": {
        "colab": {
          "base_uri": "https://localhost:8080/",
          "height": 545
        },
        "id": "unMjCHQF8lcO",
        "outputId": "fa535208-d6e6-44e5-c386-2d84b4646d37"
      },
      "execution_count": 15,
      "outputs": [
        {
          "output_type": "display_data",
          "data": {
            "text/plain": [
              "<Figure size 432x288 with 1 Axes>"
            ],
            "image/png": "[encoded data removed]"
          },
          "metadata": {
            "needs_background": "light"
          }
        },
        {
          "output_type": "display_data",
          "data": {
            "text/plain": [
              "<Figure size 432x288 with 1 Axes>"
            ],
            "image/png": "[encoded data removed]"
          },
          "metadata": {
            "needs_background": "light"
          }
        }
      ]
    },
    {
      "cell_type": "code",
      "source": [
        "target_dir = '/content/drive/Shareddrives/Bangkit Capstone/Best Model'\n",
        "resnet50_model.save_best_model(target_dir=target_dir)"
      ],
      "metadata": {
        "id": "Oww1X3r3piG1",
        "outputId": "6207371c-543d-4c17-f8fb-f6f260a68de5",
        "colab": {
          "base_uri": "https://localhost:8080/"
        }
      },
      "execution_count": 13,
      "outputs": [
        {
          "output_type": "stream",
          "name": "stdout",
          "text": [
            "Copy ./resnet50-saved-model-18-acc-0.48.hdf5 to /content/drive/Shareddrives/Bangkit Capstone/Best Model\n"
          ]
        }
      ]
    },
    {
      "cell_type": "code",
      "source": [
        "from tensorflow.keras.applications.vgg19 import VGG19\n",
        "from tensorflow.keras.applications.vgg19 import preprocess_input as vgg19_preprocess_input\n",
        "\n",
        "config = {\n",
        "    \"batch_size\": 32,\n",
        "    \"trainable\": False,\n",
        "    \"epochs\": 20,\n",
        "    \"classes\": 12,\n",
        "    \"input_shape\": (224, 224, 3)\n",
        "\n",
        "}\n",
        "\n",
        "compile_config = {\n",
        "    \"loss\": \"sparse_categorical_crossentropy\",\n",
        "    \"optimizer\": 'adam',\n",
        "    \"metrics\": [\"accuracy\"],\n",
        "}\n",
        "vgg19 = VGG19(\n",
        "        include_top=False,\n",
        "        weights='imagenet',\n",
        "        input_shape=config['input_shape'],\n",
        "        pooling='avg',\n",
        "        classes=config['classes'],\n",
        "        classifier_activation='softmax',\n",
        ")\n",
        "\n",
        "vgg19.trainable = False\n",
        "vgg19_model = Model(model=vgg19, config=config)\n",
        "vgg19_model.train_val_generators(train_dir, validation_dir, test_dir, preprocess_input=vgg19_preprocess_input)\n",
        "vgg19_model.build_model(compile_config)"
      ],
      "metadata": {
        "id": "ODF3B43E9El6",
        "outputId": "ad696365-c10c-4a23-9e40-aa175d6b4081",
        "colab": {
          "base_uri": "https://localhost:8080/"
        }
      },
      "execution_count": 37,
      "outputs": [
        {
          "output_type": "stream",
          "name": "stdout",
          "text": [
            "Downloading data from https://storage.googleapis.com/tensorflow/keras-applications/vgg19/vgg19_weights_tf_dim_ordering_tf_kernels_notop.h5\n",
            "80142336/80134624 [==============================] - 0s 0us/step\n",
            "80150528/80134624 [==============================] - 0s 0us/step\n",
            "Found 1876 images belonging to 12 classes.\n",
            "Found 521 images belonging to 12 classes.\n",
            "Found 275 images belonging to 12 classes.\n",
            "Model: \"sequential_8\"\n",
            "_________________________________________________________________\n",
            " Layer (type)                Output Shape              Param #   \n",
            "=================================================================\n",
            " vgg19 (Functional)          (None, 512)               20024384  \n",
            "                                                                 \n",
            " flatten_8 (Flatten)         (None, 512)               0         \n",
            "                                                                 \n",
            " dense_16 (Dense)            (None, 512)               262656    \n",
            "                                                                 \n",
            " dense_17 (Dense)            (None, 12)                6156      \n",
            "                                                                 \n",
            "=================================================================\n",
            "Total params: 20,293,196\n",
            "Trainable params: 268,812\n",
            "Non-trainable params: 20,024,384\n",
            "_________________________________________________________________\n"
          ]
        },
        {
          "output_type": "execute_result",
          "data": {
            "text/plain": [
              "<keras.engine.sequential.Sequential at 0x7f19f8a6b850>"
            ]
          },
          "metadata": {},
          "execution_count": 37
        }
      ]
    },
    {
      "cell_type": "code",
      "source": [
        "reduce_lr_config = {\n",
        "    'monitor': 'val_loss',\n",
        "    'factor': 0.05, \n",
        "    'patience':5, \n",
        "    'min_lr': 0.000002\n",
        "}\n",
        "vgg19_model.train('vgg19', reduce_lr_config=reduce_lr_config)"
      ],
      "metadata": {
        "id": "zC1Cml0l-s7x",
        "outputId": "50ddd8f8-46cb-4be7-9adf-d5ce08ac9402",
        "colab": {
          "base_uri": "https://localhost:8080/"
        }
      },
      "execution_count": 38,
      "outputs": [
        {
          "output_type": "stream",
          "name": "stdout",
          "text": [
            "Epoch 1/20\n",
            "59/59 [==============================] - ETA: 0s - loss: 1.9150 - acc: 0.3763\n",
            "Epoch 1: val_acc improved from -inf to 0.51631, saving model to vgg19-saved-model-01-acc-0.52.hdf5\n",
            "59/59 [==============================] - 226s 4s/step - loss: 1.9150 - acc: 0.3763 - val_loss: 1.4666 - val_acc: 0.5163 - lr: 0.0010\n",
            "Epoch 2/20\n",
            "59/59 [==============================] - ETA: 0s - loss: 1.3485 - acc: 0.5549\n",
            "Epoch 2: val_acc improved from 0.51631 to 0.62380, saving model to vgg19-saved-model-02-acc-0.62.hdf5\n",
            "59/59 [==============================] - 221s 4s/step - loss: 1.3485 - acc: 0.5549 - val_loss: 1.1770 - val_acc: 0.6238 - lr: 0.0010\n",
            "Epoch 3/20\n",
            "59/59 [==============================] - ETA: 0s - loss: 1.0983 - acc: 0.6525\n",
            "Epoch 3: val_acc improved from 0.62380 to 0.67370, saving model to vgg19-saved-model-03-acc-0.67.hdf5\n",
            "59/59 [==============================] - 220s 4s/step - loss: 1.0983 - acc: 0.6525 - val_loss: 0.9852 - val_acc: 0.6737 - lr: 0.0010\n",
            "Epoch 4/20\n",
            "59/59 [==============================] - ETA: 0s - loss: 0.9690 - acc: 0.6892\n",
            "Epoch 4: val_acc improved from 0.67370 to 0.70058, saving model to vgg19-saved-model-04-acc-0.70.hdf5\n",
            "59/59 [==============================] - 220s 4s/step - loss: 0.9690 - acc: 0.6892 - val_loss: 0.9348 - val_acc: 0.7006 - lr: 0.0010\n",
            "Epoch 5/20\n",
            "59/59 [==============================] - ETA: 0s - loss: 0.8552 - acc: 0.7260\n",
            "Epoch 5: val_acc improved from 0.70058 to 0.72937, saving model to vgg19-saved-model-05-acc-0.73.hdf5\n",
            "59/59 [==============================] - 220s 4s/step - loss: 0.8552 - acc: 0.7260 - val_loss: 0.8325 - val_acc: 0.7294 - lr: 0.0010\n",
            "Epoch 6/20\n",
            "59/59 [==============================] - ETA: 0s - loss: 0.7738 - acc: 0.7676\n",
            "Epoch 6: val_acc improved from 0.72937 to 0.75048, saving model to vgg19-saved-model-06-acc-0.75.hdf5\n",
            "59/59 [==============================] - 221s 4s/step - loss: 0.7738 - acc: 0.7676 - val_loss: 0.7660 - val_acc: 0.7505 - lr: 0.0010\n",
            "Epoch 7/20\n",
            "59/59 [==============================] - ETA: 0s - loss: 0.7261 - acc: 0.7612\n",
            "Epoch 7: val_acc did not improve from 0.75048\n",
            "59/59 [==============================] - 220s 4s/step - loss: 0.7261 - acc: 0.7612 - val_loss: 0.7515 - val_acc: 0.7428 - lr: 0.0010\n",
            "Epoch 8/20\n",
            "59/59 [==============================] - ETA: 0s - loss: 0.7058 - acc: 0.7671\n",
            "Epoch 8: val_acc improved from 0.75048 to 0.78503, saving model to vgg19-saved-model-08-acc-0.79.hdf5\n",
            "59/59 [==============================] - 221s 4s/step - loss: 0.7058 - acc: 0.7671 - val_loss: 0.6645 - val_acc: 0.7850 - lr: 0.0010\n",
            "Epoch 9/20\n",
            "59/59 [==============================] - ETA: 0s - loss: 0.6440 - acc: 0.7905\n",
            "Epoch 9: val_acc improved from 0.78503 to 0.79463, saving model to vgg19-saved-model-09-acc-0.79.hdf5\n",
            "59/59 [==============================] - 221s 4s/step - loss: 0.6440 - acc: 0.7905 - val_loss: 0.6453 - val_acc: 0.7946 - lr: 0.0010\n",
            "Epoch 10/20\n",
            "59/59 [==============================] - ETA: 0s - loss: 0.6513 - acc: 0.7948\n",
            "Epoch 10: val_acc improved from 0.79463 to 0.80038, saving model to vgg19-saved-model-10-acc-0.80.hdf5\n",
            "59/59 [==============================] - 220s 4s/step - loss: 0.6513 - acc: 0.7948 - val_loss: 0.6164 - val_acc: 0.8004 - lr: 0.0010\n",
            "Epoch 11/20\n",
            "59/59 [==============================] - ETA: 0s - loss: 0.5920 - acc: 0.8065\n",
            "Epoch 11: val_acc improved from 0.80038 to 0.81766, saving model to vgg19-saved-model-11-acc-0.82.hdf5\n",
            "59/59 [==============================] - 220s 4s/step - loss: 0.5920 - acc: 0.8065 - val_loss: 0.6017 - val_acc: 0.8177 - lr: 0.0010\n",
            "Epoch 12/20\n",
            "59/59 [==============================] - ETA: 0s - loss: 0.5597 - acc: 0.8268\n",
            "Epoch 12: val_acc did not improve from 0.81766\n",
            "59/59 [==============================] - 220s 4s/step - loss: 0.5597 - acc: 0.8268 - val_loss: 0.5896 - val_acc: 0.8100 - lr: 0.0010\n",
            "Epoch 13/20\n",
            "59/59 [==============================] - ETA: 0s - loss: 0.5614 - acc: 0.8161\n",
            "Epoch 13: val_acc did not improve from 0.81766\n",
            "59/59 [==============================] - 225s 4s/step - loss: 0.5614 - acc: 0.8161 - val_loss: 0.5903 - val_acc: 0.8081 - lr: 0.0010\n",
            "Epoch 14/20\n",
            "59/59 [==============================] - ETA: 0s - loss: 0.5407 - acc: 0.8220\n",
            "Epoch 14: val_acc did not improve from 0.81766\n",
            "59/59 [==============================] - 230s 4s/step - loss: 0.5407 - acc: 0.8220 - val_loss: 0.5850 - val_acc: 0.8081 - lr: 0.0010\n",
            "Epoch 15/20\n",
            "59/59 [==============================] - ETA: 0s - loss: 0.4997 - acc: 0.8465\n",
            "Epoch 15: val_acc improved from 0.81766 to 0.82917, saving model to vgg19-saved-model-15-acc-0.83.hdf5\n",
            "59/59 [==============================] - 221s 4s/step - loss: 0.4997 - acc: 0.8465 - val_loss: 0.5710 - val_acc: 0.8292 - lr: 0.0010\n",
            "Epoch 16/20\n",
            "59/59 [==============================] - ETA: 0s - loss: 0.5036 - acc: 0.8417\n",
            "Epoch 16: val_acc did not improve from 0.82917\n",
            "59/59 [==============================] - 223s 4s/step - loss: 0.5036 - acc: 0.8417 - val_loss: 0.6375 - val_acc: 0.8061 - lr: 0.0010\n",
            "Epoch 17/20\n",
            "59/59 [==============================] - ETA: 0s - loss: 0.4845 - acc: 0.8385\n",
            "Epoch 17: val_acc improved from 0.82917 to 0.84069, saving model to vgg19-saved-model-17-acc-0.84.hdf5\n",
            "59/59 [==============================] - 224s 4s/step - loss: 0.4845 - acc: 0.8385 - val_loss: 0.5519 - val_acc: 0.8407 - lr: 0.0010\n",
            "Epoch 18/20\n",
            "59/59 [==============================] - ETA: 0s - loss: 0.4600 - acc: 0.8465\n",
            "Epoch 18: val_acc did not improve from 0.84069\n",
            "59/59 [==============================] - 221s 4s/step - loss: 0.4600 - acc: 0.8465 - val_loss: 0.6682 - val_acc: 0.7908 - lr: 0.0010\n",
            "Epoch 19/20\n",
            "59/59 [==============================] - ETA: 0s - loss: 0.4665 - acc: 0.8555\n",
            "Epoch 19: val_acc did not improve from 0.84069\n",
            "59/59 [==============================] - 222s 4s/step - loss: 0.4665 - acc: 0.8555 - val_loss: 0.5758 - val_acc: 0.8196 - lr: 0.0010\n",
            "Epoch 20/20\n",
            "59/59 [==============================] - ETA: 0s - loss: 0.4438 - acc: 0.8603\n",
            "Epoch 20: val_acc did not improve from 0.84069\n",
            "59/59 [==============================] - 227s 4s/step - loss: 0.4438 - acc: 0.8603 - val_loss: 0.5413 - val_acc: 0.8369 - lr: 0.0010\n"
          ]
        },
        {
          "output_type": "execute_result",
          "data": {
            "text/plain": [
              "<keras.callbacks.History at 0x7f19fc8179d0>"
            ]
          },
          "metadata": {},
          "execution_count": 38
        }
      ]
    },
    {
      "cell_type": "code",
      "source": [
        "vgg19_model.plot_history()"
      ],
      "metadata": {
        "outputId": "edaf2b26-9f74-4457-8bee-18a698b4a138",
        "colab": {
          "base_uri": "https://localhost:8080/",
          "height": 545
        },
        "id": "YJeG4odwPIT9"
      },
      "execution_count": 39,
      "outputs": [
        {
          "output_type": "display_data",
          "data": {
            "text/plain": [
              "<Figure size 432x288 with 1 Axes>"
            ],
            "image/png": "[encoded data removed]"
          },
          "metadata": {
            "needs_background": "light"
          }
        },
        {
          "output_type": "display_data",
          "data": {
            "text/plain": [
              "<Figure size 432x288 with 1 Axes>"
            ],
            "image/png": "[encoded data removed]"
          },
          "metadata": {
            "needs_background": "light"
          }
        }
      ]
    },
    {
      "cell_type": "code",
      "source": [
        "vgg19_model.model_name = 'vgg19'\n",
        "vgg19_model.find_best_model('.')\n",
        "vgg19_model.evaluate_best_model()"
      ],
      "metadata": {
        "id": "O1POG8eIPAvA",
        "outputId": "f541988f-ce8f-48cc-dcaf-57b3285324a1",
        "colab": {
          "base_uri": "https://localhost:8080/",
          "height": 861
        }
      },
      "execution_count": 40,
      "outputs": [
        {
          "output_type": "stream",
          "name": "stdout",
          "text": [
            "./vgg19-saved-model-17-acc-0.84.hdf5\n",
            "1/9 [==>...........................] - ETA: 38s - loss: 0.2275 - acc: 0.9688"
          ]
        },
        {
          "output_type": "stream",
          "name": "stderr",
          "text": [
            "/usr/local/lib/python3.7/dist-packages/PIL/Image.py:960: UserWarning: Palette images with Transparency expressed in bytes should be converted to RGBA images\n",
            "  \"Palette images with Transparency expressed in bytes should be \"\n"
          ]
        },
        {
          "output_type": "stream",
          "name": "stdout",
          "text": [
            "9/9 [==============================] - 25s 3s/step - loss: 0.6827 - acc: 0.7964\n",
            "Loss of the model is -  0.6826791167259216\n",
            "Accuracy of the model is -  79.63636517524719 %\n",
            "              precision    recall  f1-score   support\n",
            "\n",
            "       Basil       0.94      1.00      0.97        16\n",
            " Bayam Hijau       0.83      0.83      0.83        29\n",
            "  Jambu Biji       0.64      0.70      0.67        20\n",
            " Jeruk Purut       0.83      0.38      0.53        13\n",
            "       Kelor       0.61      0.86      0.72        22\n",
            "      Kersen       0.90      0.69      0.78        13\n",
            "       Lemon       0.89      0.74      0.81        23\n",
            "    Lengkuas       1.00      0.30      0.46        10\n",
            "      Mangga       0.98      0.96      0.97        45\n",
            "        Mint       0.97      0.73      0.84        45\n",
            "      Nangka       0.68      0.87      0.76        15\n",
            "      Pepaya       0.56      0.96      0.71        24\n",
            "\n",
            "    accuracy                           0.80       275\n",
            "   macro avg       0.82      0.75      0.75       275\n",
            "weighted avg       0.84      0.80      0.79       275\n",
            "\n",
            "Confusion Matrix\n"
          ]
        },
        {
          "output_type": "display_data",
          "data": {
            "text/plain": [
              "<Figure size 432x288 with 2 Axes>"
            ],
            "image/png": "[encoded data removed]"
          },
          "metadata": {
            "needs_background": "light"
          }
        }
      ]
    },
    {
      "cell_type": "code",
      "source": [
        "\n",
        "target_dir = '/content/drive/Shareddrives/Bangkit Capstone/Best Model'\n",
        "vgg19_model.save_best_model(target_dir=target_dir)"
      ],
      "metadata": {
        "id": "5L9XpvKfPRrj",
        "outputId": "71d38bfe-e99a-4658-b279-89df08f90eac",
        "colab": {
          "base_uri": "https://localhost:8080/"
        }
      },
      "execution_count": 41,
      "outputs": [
        {
          "output_type": "stream",
          "name": "stdout",
          "text": [
            "Copy ./vgg19-saved-model-17-acc-0.84.hdf5 to /content/drive/Shareddrives/Bangkit Capstone/Best Model\n"
          ]
        }
      ]
    },
    {
      "cell_type": "code",
      "source": [
        "def load_image(img_path, show=False):\n",
        "\n",
        "    img = load_img(img_path, target_size=(224, 224))\n",
        "    img_tensor = img_to_array(img)                    # (height, width, channels)\n",
        "    img_tensor = np.expand_dims(img_tensor, axis=0)         # (1, height, width, channels), add a dimension because the model expects this shape: (batch_size, height, width, channels)\n",
        "    img_tensor /= 255.                                      # imshow expects values in the range [0, 1]\n",
        "\n",
        "    if show:\n",
        "        plt.imshow(img_tensor[0])                           \n",
        "        plt.axis('off')\n",
        "        plt.show()\n",
        "\n",
        "    return img_tensor"
      ],
      "metadata": {
        "id": "EZxT5thPAveN"
      },
      "execution_count": null,
      "outputs": []
    },
    {
      "cell_type": "code",
      "source": [
        "!wget https://media.discordapp.net/attachments/971451202267119678/977480585750667294/IMG20220521145825.jpg -O daun8.jpg"
      ],
      "metadata": {
        "id": "gwyeZrfJfCIQ",
        "outputId": "c94ea8e4-a862-4249-f718-29b8293ceb85",
        "colab": {
          "base_uri": "https://localhost:8080/"
        }
      },
      "execution_count": null,
      "outputs": [
        {
          "output_type": "stream",
          "name": "stdout",
          "text": [
            "--2022-05-21 07:59:29--  https://media.discordapp.net/attachments/971451202267119678/977480585750667294/IMG20220521145825.jpg\n",
            "Resolving media.discordapp.net (media.discordapp.net)... 162.159.128.232, 162.159.133.232, 162.159.134.232, ...\n",
            "Connecting to media.discordapp.net (media.discordapp.net)|162.159.128.232|:443... connected.\n",
            "HTTP request sent, awaiting response... 200 OK\n",
            "Length: 2433187 (2.3M) [image/jpeg]\n",
            "Saving to: ‘daun8.jpg’\n",
            "\n",
            "\rdaun8.jpg             0%[                    ]       0  --.-KB/s               \rdaun8.jpg           100%[===================>]   2.32M  --.-KB/s    in 0.06s   \n",
            "\n",
            "2022-05-21 07:59:30 (37.6 MB/s) - ‘daun8.jpg’ saved [2433187/2433187]\n",
            "\n"
          ]
        }
      ]
    },
    {
      "cell_type": "code",
      "source": [
        "model = vgg16_model.model\n",
        "label_map = (train_generator.class_indices)\n",
        "label_map = {v: k for k, v in label_map.items()}\n",
        "image_path ='daun8.jpg'\n",
        "image = load_image(image_path, show=True)\n",
        "predict = model.predict(image)\n",
        "print(label_map[np.argmax(model.predict(image))])\n",
        "predicted_list = [ele * 100 for ele in predict.flatten()]\n",
        "\n",
        "for idx, ele in enumerate(predicted_list):\n",
        "  print(f\"{label_map[idx]}: {ele}\")"
      ],
      "metadata": {
        "id": "DHB9xo1Y-b10"
      },
      "execution_count": null,
      "outputs": []
    },
    {
      "cell_type": "code",
      "source": [
        "train_generator.class_indices"
      ],
      "metadata": {
        "id": "STyyK9UqfPWp",
        "outputId": "fc26c4e0-94df-4dce-b88a-037546d8cd03",
        "colab": {
          "base_uri": "https://localhost:8080/"
        }
      },
      "execution_count": null,
      "outputs": [
        {
          "output_type": "execute_result",
          "data": {
            "text/plain": [
              "{'Basil': 0,\n",
              " 'Bayam Hijau': 1,\n",
              " 'Jambu Biji': 2,\n",
              " 'Jeruk Purut': 3,\n",
              " 'Kelor': 4,\n",
              " 'Kersen': 5,\n",
              " 'Lemon': 6,\n",
              " 'Lengkuas': 7,\n",
              " 'Mangga': 8,\n",
              " 'Mint': 9,\n",
              " 'Nangka': 10,\n",
              " 'Pepaya': 11}"
            ]
          },
          "metadata": {},
          "execution_count": 119
        }
      ]
    },
    {
      "cell_type": "code",
      "source": [
        "import cv2\n",
        "from google.colab.patches import cv2_imshow\n",
        "img =  cv2.imread('/istockphoto-584504750-1024x1024.jpg')\n",
        "hsv = cv2.cvtColor(img, cv2.COLOR_BGR2HSV)\n",
        "\n",
        "# find the green color \n",
        "mask_green = cv2.inRange(hsv, (36,0,0), (86,255,255))\n",
        "# find the brown color\n",
        "mask_brown = cv2.inRange(hsv, (8, 60, 20), (30, 255, 200))\n",
        "# find the yellow color in the leaf\n",
        "mask_yellow = cv2.inRange(hsv, (21, 39, 64), (40, 255, 255))\n",
        "\n",
        "# find any of the three colors(green or brown or yellow) in the image\n",
        "mask = cv2.bitwise_or(mask_green, mask_brown)\n",
        "mask = cv2.bitwise_or(mask, mask_yellow)\n",
        "\n",
        "# Bitwise-AND mask and original image\n",
        "res = cv2.bitwise_and(img,img, mask= mask)\n",
        "\n",
        "cv2_imshow(img)\n",
        "cv2_imshow(res)\n",
        "cv2.waitKey(0)\n",
        "cv2.destroyAllWindows()"
      ],
      "metadata": {
        "id": "EGleFz34CW9L"
      },
      "execution_count": null,
      "outputs": []
    },
    {
      "cell_type": "code",
      "source": [
        "train_generator.class_indices"
      ],
      "metadata": {
        "id": "ZgQMagyLzuz5",
        "outputId": "e1899804-d1e5-41c9-8254-7630a2c84f5f",
        "colab": {
          "base_uri": "https://localhost:8080/"
        }
      },
      "execution_count": null,
      "outputs": [
        {
          "output_type": "execute_result",
          "data": {
            "text/plain": [
              "{'Bayam Hijau': 0,\n",
              " 'Jahe': 1,\n",
              " 'Jambu Biji': 2,\n",
              " 'Jeruk Purut': 3,\n",
              " 'Kelor': 4,\n",
              " 'Kersen': 5,\n",
              " 'Lemon': 6,\n",
              " 'Lengkuas': 7,\n",
              " 'Mint': 8,\n",
              " 'Nangka': 9,\n",
              " 'Pepaya': 10}"
            ]
          },
          "metadata": {},
          "execution_count": 29
        }
      ]
    }
  ],
  "metadata": {
    "language_info": {
      "name": "python"
    },
    "orig_nbformat": 4,
    "colab": {
      "name": "03-ensemble.ipynb",
      "provenance": []
    },
    "kernelspec": {
      "name": "python3",
      "display_name": "Python 3"
    },
    "accelerator": "GPU"
  },
  "nbformat": 4,
  "nbformat_minor": 0
}