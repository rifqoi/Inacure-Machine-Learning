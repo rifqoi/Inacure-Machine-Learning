{
  "cells": [
    {
      "cell_type": "markdown",
      "metadata": {
        "id": "view-in-github",
        "colab_type": "text"
      },
      "source": [
        "<a href=\"https://colab.research.google.com/github/rifqoi/Inacure-Machine-Learning/blob/main/03-ensemble.ipynb\" target=\"_parent\"><img src=\"https://colab.research.google.com/assets/colab-badge.svg\" alt=\"Open In Colab\"/></a>"
      ]
    },
    {
      "cell_type": "markdown",
      "source": [
        "# Load Dataset from Google Drive"
      ],
      "metadata": {
        "id": "4n0IP2rPwhh6"
      }
    },
    {
      "cell_type": "code",
      "execution_count": 1,
      "metadata": {
        "id": "dXJOIFnywIZt",
        "outputId": "e1a03b57-e1b4-45d0-e1ee-ee75a1a0e09b",
        "colab": {
          "base_uri": "https://localhost:8080/"
        }
      },
      "outputs": [
        {
          "output_type": "stream",
          "name": "stdout",
          "text": [
            "Mounted at /content/drive\n"
          ]
        }
      ],
      "source": [
        "import os\n",
        "from google.colab import drive\n",
        "drive.mount('/content/drive')\n",
        "# !unzip  drive/Shareddrives/Bangkit\\ Capstone/leaf_datasets.zip -d ."
      ]
    },
    {
      "cell_type": "markdown",
      "source": [
        "# Import Libraries"
      ],
      "metadata": {
        "id": "EJCqYLrjwe9E"
      }
    },
    {
      "cell_type": "code",
      "source": [
        "import re\n",
        "import os\n",
        "import zipfile\n",
        "import random\n",
        "import shutil\n",
        "import tensorflow as tf\n",
        "from tensorflow.keras.preprocessing.image import ImageDataGenerator\n",
        "from tensorflow.keras.preprocessing.image import img_to_array, load_img\n",
        "from tensorflow.keras.optimizers import Adam, RMSprop\n",
        "from tensorflow.keras import layers, models\n",
        "from tensorflow.keras.callbacks import EarlyStopping\n",
        "\n",
        "tf.keras.utils.set_random_seed(42)\n",
        "\n",
        "from sklearn.metrics import classification_report, confusion_matrix\n",
        "import matplotlib.pyplot as plt\n",
        "import numpy as np\n",
        "import pandas as pd\n",
        "import seaborn as sns\n",
        "from shutil import copyfile"
      ],
      "metadata": {
        "id": "rBxlhby7wMok"
      },
      "execution_count": 2,
      "outputs": []
    },
    {
      "cell_type": "markdown",
      "source": [
        "# List directories for each datasets"
      ],
      "metadata": {
        "id": "Bj591mJjB2rn"
      }
    },
    {
      "cell_type": "code",
      "source": [
        "dataset_dir = f\"/content/drive/Shareddrives/Bangkit Capstone/Final_Split_Datasets\"\n",
        "train_dir = os.path.join(dataset_dir, \"train\")\n",
        "validation_dir = os.path.join(dataset_dir, \"validation\")\n",
        "test_dir = os.path.join(dataset_dir, \"test\")"
      ],
      "metadata": {
        "id": "TXhMCdHlwdp4"
      },
      "execution_count": 6,
      "outputs": []
    },
    {
      "cell_type": "markdown",
      "source": [
        "# List Images"
      ],
      "metadata": {
        "id": "fgzqGwUxAn60"
      }
    },
    {
      "cell_type": "code",
      "source": [
        "def list_images():\n",
        "  classes_dirs = os.listdir(train_dir)\n",
        "  for folder in classes_dirs:\n",
        "    train_classes = os.listdir(os.path.join(train_dir, folder))\n",
        "    validation_classes = os.listdir(os.path.join(validation_dir, folder))\n",
        "    test_classes = os.listdir(os.path.join(test_dir, folder))\n",
        "    print(f\"{folder}: \\n \\t{len(train_classes)} train images, {len(validation_classes)} validation images, and {len(test_classes)} test images,  total {len(train_classes) + len(validation_classes) + len(test_classes)} images\")\n",
        "    print()\n",
        "list_images()"
      ],
      "metadata": {
        "id": "O6WVlJsXw4z0",
        "outputId": "eac3d77a-9485-4897-f823-cf522a2582dc",
        "colab": {
          "base_uri": "https://localhost:8080/"
        }
      },
      "execution_count": null,
      "outputs": [
        {
          "output_type": "stream",
          "name": "stdout",
          "text": [
            "Pepaya: \n",
            " \t168 train images, 47 validation images, and 25 test images,  total 240 images\n",
            "\n",
            "Jambu Biji: \n",
            " \t154 train images, 44 validation images, and 23 test images,  total 221 images\n",
            "\n",
            "Mint: \n",
            " \t302 train images, 85 validation images, and 45 test images,  total 432 images\n",
            "\n",
            "Kelor: \n",
            " \t153 train images, 43 validation images, and 23 test images,  total 219 images\n",
            "\n",
            "Lemon: \n",
            " \t151 train images, 42 validation images, and 23 test images,  total 216 images\n",
            "\n",
            "Bayam Hijau: \n",
            " \t206 train images, 58 validation images, and 31 test images,  total 295 images\n",
            "\n",
            "Mangga: \n",
            " \t304 train images, 86 validation images, and 45 test images,  total 435 images\n",
            "\n",
            "Basil: \n",
            " \t103 train images, 29 validation images, and 16 test images,  total 148 images\n",
            "\n"
          ]
        }
      ]
    },
    {
      "cell_type": "markdown",
      "source": [
        "# Create a model class to prevent code redundancy"
      ],
      "metadata": {
        "id": "nHbA41rUAsBG"
      }
    },
    {
      "cell_type": "code",
      "source": [
        "class Model:\n",
        "  def __init__(self, model, config):\n",
        "    self.config = config\n",
        "    self.batch_size = self.config['batch_size']\n",
        "    # self.trainable = self.config['trainable']\n",
        "    self.epochs = self.config['epochs']\n",
        "    self.classes= self.config['classes']\n",
        "    self.input_shape = self.config['input_shape']\n",
        "    self.base_model = model\n",
        "\n",
        "  def train_val_generators(self, TRAINING_DIR, VALIDATION_DIR, TEST_DIR, preprocess_input=None):\n",
        "    train_datagen = ImageDataGenerator(rescale = 1./255.,\n",
        "                                rotation_range = 25,\n",
        "                                zoom_range = [0.5, 1.1],\n",
        "                                width_shift_range=0.15, \n",
        "                                shear_range= 0.15,\n",
        "                                height_shift_range=0.15,\n",
        "                                preprocessing_function=preprocess_input,\n",
        "                                horizontal_flip=True,\n",
        "                                vertical_flip= True,\n",
        "                                fill_mode='nearest',)\n",
        "  \n",
        "    train_generator = train_datagen.flow_from_directory(directory=TRAINING_DIR,\n",
        "                                                        batch_size=32, \n",
        "                                                        seed=42,\n",
        "                                                        class_mode='sparse',\n",
        "                                                        target_size=(224, 224))\n",
        "  \n",
        "    validation_datagen = ImageDataGenerator(rescale = 1/255,\n",
        "                                            preprocessing_function=preprocess_input)\n",
        "  \n",
        "    validation_generator = validation_datagen.flow_from_directory(directory=VALIDATION_DIR,\n",
        "                                                                  batch_size=32, \n",
        "                                                                  seed=42,\n",
        "                                                                  class_mode='sparse',\n",
        "                                                                  target_size=(224, 224))\n",
        "    test_datagen = ImageDataGenerator(rescale= 1./255.)\n",
        "  \n",
        "    test_generator = test_datagen.flow_from_directory(directory=TEST_DIR,\n",
        "                                                                  batch_size=32,\n",
        "                                                                  shuffle=False, \n",
        "                                                                  seed=42,\n",
        "                                                                  class_mode='sparse',\n",
        "                                                                  target_size=(224, 224))\n",
        "\n",
        "    self.train_generator = train_generator\n",
        "    self.validation_generator = validation_generator\n",
        "    self.test_generator = test_generator\n",
        "    return train_generator, validation_generator, test_generator\n",
        "\n",
        "  def set_generator(self, train_generator, val_generator, test_generator, ):\n",
        "    self.train_generator = train_generator\n",
        "    self.valdation_generator = validation_generator\n",
        "    self.test_generator = test_generator\n",
        "  \n",
        "\n",
        "  def build_model(self, compile_config, custom_layer = None):\n",
        "\n",
        "    compile_config['metrics'] = [metric.replace(\"accuracy\", \"acc\") for metric in compile_config['metrics']]\n",
        "\n",
        "    layers = []\n",
        "    \n",
        "    # Append base model to layers_list\n",
        "    layers.append(self.base_model)\n",
        "\n",
        "    flatten_layer = tf.keras.layers.Flatten()\n",
        "    layers.append(flatten_layer)\n",
        "\n",
        "    if custom_layer is None:\n",
        "      layers.append(tf.keras.layers.Dense(512, activation='relu'))\n",
        "    else: \n",
        "      for layer in custom_layer:\n",
        "        layers.append(layer)\n",
        "    \n",
        "    prediction_layer = tf.keras.layers.Dense(self.classes, activation='softmax')\n",
        "    layers.append(prediction_layer)\n",
        "\n",
        "    self.model = tf.keras.models.Sequential(layers)\n",
        "\n",
        "    self.model.compile(**compile_config)\n",
        "    self.model.summary()\n",
        "\n",
        "    return self.model\n",
        "\n",
        "  def train(self, model_name, reduce_lr_config=None):\n",
        "    self.model_name = model_name\n",
        "    model_filepath = model_name +'-saved-model-{epoch:02d}-acc-{val_acc:.2f}.hdf5'\n",
        "    model_checkpoint = tf.keras.callbacks.ModelCheckpoint(model_filepath, monitor='val_acc', verbose=1, save_best_only=True, mode='max')\n",
        "    model_early_stopping = tf.keras.callbacks.EarlyStopping(monitor='loss', patience=5)\n",
        "    callbacks = [model_checkpoint, model_early_stopping]\n",
        "    if reduce_lr_config is not None:\n",
        "      reduce_lr = tf.keras.callbacks.ReduceLROnPlateau(**reduce_lr_config)\n",
        "      callbacks.append(reduce_lr)\n",
        "    model_history = self.model.fit(self.train_generator, epochs = self.epochs,\n",
        "                                   validation_data = self.validation_generator,callbacks=callbacks , verbose=1)\n",
        "    self.history = model_history\n",
        "    return model_history\n",
        "\n",
        "  def plot_history(self):\n",
        "    acc = self.history.history['acc']\n",
        "    val_acc = self.history.history['val_acc']\n",
        "    loss = self.history.history['loss']\n",
        "    val_loss = self.history.history['val_loss']\n",
        "    \n",
        "    epochs = range(len(acc))\n",
        "    \n",
        "    plt.subplot()\n",
        "    plt.plot(epochs, acc, 'r', label='Training accuracy')\n",
        "    plt.plot(epochs, val_acc, 'b', label='Validation accuracy')\n",
        "    plt.title('Training and validation accuracy')\n",
        "    plt.legend(loc=0)\n",
        "    plt.figure()\n",
        "  \n",
        "    plt.subplot()\n",
        "    plt.title('Training and validation loss')\n",
        "    plt.plot(epochs, loss, label='Training Loss')\n",
        "    plt.plot(epochs, val_loss,  label='Validation Loss')\n",
        "    plt.legend()\n",
        "    plt.show()\n",
        "    \n",
        "    plt.show()\n",
        "\n",
        "  def evaluate_model(self):\n",
        "    evaluate = self.model.evaluate(self.test_generator)\n",
        "    print('Loss of the model is - ', evaluate[0])\n",
        "    print('Accuracy of the model is - ', evaluate[1]*100, '%')\n",
        "  \n",
        "    classes =  list(self.test_generator.class_indices.keys())\n",
        "    Y_pred = self.model.predict(self.test_generator)\n",
        "    y_pred = np.argmax(Y_pred, axis=1)\n",
        "    \n",
        "    print(classification_report(self.test_generator.classes, y_pred, target_names=classes))\n",
        "    print('Confusion Matrix')\n",
        "    conf_matrix = confusion_matrix(self.test_generator.classes, y_pred)\n",
        "    df_cm = pd.DataFrame(conf_matrix, index = classes, columns = classes)\n",
        "    ax = sns.heatmap(df_cm, annot=True, cmap='Blues')\n",
        "  \n",
        "    ax.set_title('Seaborn Confusion Matrix with labels\\n\\n')\n",
        "    ax.set_xlabel('\\nPredicted Values')\n",
        "    ax.set_ylabel('Actual Values ')\n",
        "  \n",
        "  def find_best_model(self, weights_dir):\n",
        "    weights = os.listdir(weights_dir)\n",
        "    weights = list(filter(lambda x: self.model_name in x, weights))\n",
        "\n",
        "    best_acc = 0\n",
        "    best_weight = None\n",
        "    for weight in weights:\n",
        "      acc = int(re.search(r\"\\.(\\d+)\\.\", weight).group(1))\n",
        "      if best_acc < acc:\n",
        "        best_acc = acc\n",
        "        best_weight = weight\n",
        "    \n",
        "    self.best_weight = os.path.join(weights_dir, best_weight)\n",
        "    print(self.best_weight)\n",
        "\n",
        "  def evaluate_best_model(self, ):\n",
        "    if self.best_weight is None:\n",
        "      print(\"find_best_model dulu cuy\")\n",
        "      return 1\n",
        "    self.model.load_weights(self.best_weight)\n",
        "    self.evaluate_model()\n",
        "  \n",
        "  def save_best_model(self, target_dir):\n",
        "    if self.best_weight is None:\n",
        "      print(\"find_best_model dulu cuy\")\n",
        "      return 1\n",
        "    print(f\"Copy {self.best_weight} to {target_dir}\")\n",
        "    shutil.copy(self.best_weight, target_dir)\n",
        "  \n",
        "  def load_best_model(self, weight_path):\n",
        "    self.best_weight = weight_path\n",
        "    self.model.load_weights(self.best_weight)"
      ],
      "metadata": {
        "id": "2C7ob3aJsUzs"
      },
      "execution_count": 15,
      "outputs": []
    },
    {
      "cell_type": "markdown",
      "source": [
        "# VGG16 \n"
      ],
      "metadata": {
        "id": "Ibo8bmInDVqt"
      }
    },
    {
      "cell_type": "markdown",
      "source": [
        "## Build Model"
      ],
      "metadata": {
        "id": "TfA0MrwDUMI-"
      }
    },
    {
      "cell_type": "code",
      "source": [
        "from tensorflow.keras.applications.vgg16 import VGG16\n",
        "from tensorflow.keras.applications.vgg16 import preprocess_input as vgg16_preprocess_input\n",
        "config = {\n",
        "    \"batch_size\": 32,\n",
        "    \"epochs\": 20,\n",
        "    \"classes\": 8,\n",
        "    \"input_shape\": (224, 224, 3)\n",
        "\n",
        "}\n",
        "\n",
        "compile_config = {\n",
        "    \"loss\": \"sparse_categorical_crossentropy\",\n",
        "    \"optimizer\": Adam(learning_rate=0.0001),\n",
        "    \"metrics\": [\"acc\"],\n",
        "}\n",
        "\n",
        "custom_layer = [\n",
        "    tf.keras.layers.Dense(512, activation='relu'),\n",
        "    tf.keras.layers.Dense(1024, activation='relu'),\n",
        "    tf.keras.layers.Dense(1024, activation='relu')\n",
        "]\n",
        "\n",
        "vgg16 = VGG16(weights=\"imagenet\", include_top=False, input_shape=config['input_shape'])\n",
        "vgg16.trainable = False\n",
        "\n",
        "vgg16_model = Model(model=vgg16, config=config)\n",
        "vgg16_model.train_val_generators(train_dir, validation_dir, test_dir, preprocess_input=vgg16_preprocess_input)\n",
        "vgg16_model.build_model(compile_config, custom_layer=custom_layer)"
      ],
      "metadata": {
        "id": "FyDbxPC0tAaP",
        "outputId": "51bb1ec9-d8ab-4c10-8559-f0dd84ca7b01",
        "colab": {
          "base_uri": "https://localhost:8080/"
        }
      },
      "execution_count": 23,
      "outputs": [
        {
          "output_type": "stream",
          "name": "stdout",
          "text": [
            "Found 1518 images belonging to 8 classes.\n",
            "Found 427 images belonging to 8 classes.\n",
            "Found 224 images belonging to 8 classes.\n",
            "Model: \"sequential_8\"\n",
            "_________________________________________________________________\n",
            " Layer (type)                Output Shape              Param #   \n",
            "=================================================================\n",
            " vgg16 (Functional)          (None, 7, 7, 512)         14714688  \n",
            "                                                                 \n",
            " flatten_9 (Flatten)         (None, 25088)             0         \n",
            "                                                                 \n",
            " dense_20 (Dense)            (None, 512)               12845568  \n",
            "                                                                 \n",
            " dense_21 (Dense)            (None, 1024)              525312    \n",
            "                                                                 \n",
            " dense_22 (Dense)            (None, 1024)              1049600   \n",
            "                                                                 \n",
            " dense_23 (Dense)            (None, 8)                 8200      \n",
            "                                                                 \n",
            "=================================================================\n",
            "Total params: 29,143,368\n",
            "Trainable params: 14,428,680\n",
            "Non-trainable params: 14,714,688\n",
            "_________________________________________________________________\n"
          ]
        },
        {
          "output_type": "execute_result",
          "data": {
            "text/plain": [
              "<keras.engine.sequential.Sequential at 0x7f7c7ad9b710>"
            ]
          },
          "metadata": {},
          "execution_count": 23
        }
      ]
    },
    {
      "cell_type": "markdown",
      "source": [
        "## Train Model"
      ],
      "metadata": {
        "id": "g1OZAjC2UO4g"
      }
    },
    {
      "cell_type": "code",
      "source": [
        "vgg16_model.train(model_name='vgg16')"
      ],
      "metadata": {
        "id": "mn0dXP9Ksgyl",
        "outputId": "41dd8e2a-1d39-4128-874e-12f53b683969",
        "colab": {
          "base_uri": "https://localhost:8080/"
        }
      },
      "execution_count": 24,
      "outputs": [
        {
          "output_type": "stream",
          "name": "stdout",
          "text": [
            "Epoch 1/20\n",
            "48/48 [==============================] - ETA: 0s - loss: 1.2006 - acc: 0.5843 \n",
            "Epoch 1: val_acc improved from -inf to 0.75644, saving model to vgg16-saved-model-01-acc-0.76.hdf5\n",
            "48/48 [==============================] - 1219s 25s/step - loss: 1.2006 - acc: 0.5843 - val_loss: 0.6491 - val_acc: 0.7564\n",
            "Epoch 2/20\n",
            "48/48 [==============================] - ETA: 0s - loss: 0.6150 - acc: 0.7740\n",
            "Epoch 2: val_acc improved from 0.75644 to 0.83372, saving model to vgg16-saved-model-02-acc-0.83.hdf5\n",
            "48/48 [==============================] - 226s 5s/step - loss: 0.6150 - acc: 0.7740 - val_loss: 0.4525 - val_acc: 0.8337\n",
            "Epoch 3/20\n",
            "48/48 [==============================] - ETA: 0s - loss: 0.4506 - acc: 0.8373\n",
            "Epoch 3: val_acc improved from 0.83372 to 0.88993, saving model to vgg16-saved-model-03-acc-0.89.hdf5\n",
            "48/48 [==============================] - 222s 5s/step - loss: 0.4506 - acc: 0.8373 - val_loss: 0.3279 - val_acc: 0.8899\n",
            "Epoch 4/20\n",
            "48/48 [==============================] - ETA: 0s - loss: 0.3788 - acc: 0.8623\n",
            "Epoch 4: val_acc did not improve from 0.88993\n",
            "48/48 [==============================] - 223s 5s/step - loss: 0.3788 - acc: 0.8623 - val_loss: 0.5247 - val_acc: 0.8080\n",
            "Epoch 5/20\n",
            "48/48 [==============================] - ETA: 0s - loss: 0.3347 - acc: 0.8623\n",
            "Epoch 5: val_acc did not improve from 0.88993\n",
            "48/48 [==============================] - 221s 5s/step - loss: 0.3347 - acc: 0.8623 - val_loss: 0.3341 - val_acc: 0.8852\n",
            "Epoch 6/20\n",
            "48/48 [==============================] - ETA: 0s - loss: 0.3291 - acc: 0.8768\n",
            "Epoch 6: val_acc did not improve from 0.88993\n",
            "48/48 [==============================] - 219s 5s/step - loss: 0.3291 - acc: 0.8768 - val_loss: 0.3897 - val_acc: 0.8665\n",
            "Epoch 7/20\n",
            "48/48 [==============================] - ETA: 0s - loss: 0.2768 - acc: 0.9032\n",
            "Epoch 7: val_acc improved from 0.88993 to 0.90632, saving model to vgg16-saved-model-07-acc-0.91.hdf5\n",
            "48/48 [==============================] - 219s 5s/step - loss: 0.2768 - acc: 0.9032 - val_loss: 0.2634 - val_acc: 0.9063\n",
            "Epoch 8/20\n",
            "48/48 [==============================] - ETA: 0s - loss: 0.2700 - acc: 0.9038\n",
            "Epoch 8: val_acc did not improve from 0.90632\n",
            "48/48 [==============================] - 219s 5s/step - loss: 0.2700 - acc: 0.9038 - val_loss: 0.2948 - val_acc: 0.8970\n",
            "Epoch 9/20\n",
            "48/48 [==============================] - ETA: 0s - loss: 0.2379 - acc: 0.9084\n",
            "Epoch 9: val_acc improved from 0.90632 to 0.93208, saving model to vgg16-saved-model-09-acc-0.93.hdf5\n",
            "48/48 [==============================] - 218s 5s/step - loss: 0.2379 - acc: 0.9084 - val_loss: 0.2457 - val_acc: 0.9321\n",
            "Epoch 10/20\n",
            "48/48 [==============================] - ETA: 0s - loss: 0.2468 - acc: 0.9097\n",
            "Epoch 10: val_acc did not improve from 0.93208\n",
            "48/48 [==============================] - 220s 5s/step - loss: 0.2468 - acc: 0.9097 - val_loss: 0.2594 - val_acc: 0.9110\n",
            "Epoch 11/20\n",
            "48/48 [==============================] - ETA: 0s - loss: 0.2581 - acc: 0.9091\n",
            "Epoch 11: val_acc did not improve from 0.93208\n",
            "48/48 [==============================] - 217s 5s/step - loss: 0.2581 - acc: 0.9091 - val_loss: 0.2444 - val_acc: 0.9040\n",
            "Epoch 12/20\n",
            "48/48 [==============================] - ETA: 0s - loss: 0.2075 - acc: 0.9223\n",
            "Epoch 12: val_acc did not improve from 0.93208\n",
            "48/48 [==============================] - 217s 5s/step - loss: 0.2075 - acc: 0.9223 - val_loss: 0.2558 - val_acc: 0.9063\n",
            "Epoch 13/20\n",
            "48/48 [==============================] - ETA: 0s - loss: 0.1738 - acc: 0.9354\n",
            "Epoch 13: val_acc did not improve from 0.93208\n",
            "48/48 [==============================] - 217s 5s/step - loss: 0.1738 - acc: 0.9354 - val_loss: 0.2223 - val_acc: 0.9321\n",
            "Epoch 14/20\n",
            "48/48 [==============================] - ETA: 0s - loss: 0.1854 - acc: 0.9295\n",
            "Epoch 14: val_acc did not improve from 0.93208\n",
            "48/48 [==============================] - 219s 5s/step - loss: 0.1854 - acc: 0.9295 - val_loss: 0.2236 - val_acc: 0.9251\n",
            "Epoch 15/20\n",
            "48/48 [==============================] - ETA: 0s - loss: 0.1654 - acc: 0.9374\n",
            "Epoch 15: val_acc improved from 0.93208 to 0.94145, saving model to vgg16-saved-model-15-acc-0.94.hdf5\n",
            "48/48 [==============================] - 225s 5s/step - loss: 0.1654 - acc: 0.9374 - val_loss: 0.2052 - val_acc: 0.9415\n",
            "Epoch 16/20\n",
            "48/48 [==============================] - ETA: 0s - loss: 0.1763 - acc: 0.9315\n",
            "Epoch 16: val_acc did not improve from 0.94145\n",
            "48/48 [==============================] - 219s 5s/step - loss: 0.1763 - acc: 0.9315 - val_loss: 0.2791 - val_acc: 0.9063\n",
            "Epoch 17/20\n",
            "48/48 [==============================] - ETA: 0s - loss: 0.1822 - acc: 0.9361\n",
            "Epoch 17: val_acc did not improve from 0.94145\n",
            "48/48 [==============================] - 219s 5s/step - loss: 0.1822 - acc: 0.9361 - val_loss: 0.2278 - val_acc: 0.9227\n",
            "Epoch 18/20\n",
            "48/48 [==============================] - ETA: 0s - loss: 0.1733 - acc: 0.9374\n",
            "Epoch 18: val_acc did not improve from 0.94145\n",
            "48/48 [==============================] - 218s 5s/step - loss: 0.1733 - acc: 0.9374 - val_loss: 0.2290 - val_acc: 0.9251\n",
            "Epoch 19/20\n",
            "48/48 [==============================] - ETA: 0s - loss: 0.1734 - acc: 0.9401\n",
            "Epoch 19: val_acc did not improve from 0.94145\n",
            "48/48 [==============================] - 219s 5s/step - loss: 0.1734 - acc: 0.9401 - val_loss: 0.2760 - val_acc: 0.8899\n",
            "Epoch 20/20\n",
            "48/48 [==============================] - ETA: 0s - loss: 0.1850 - acc: 0.9315\n",
            "Epoch 20: val_acc did not improve from 0.94145\n",
            "48/48 [==============================] - 222s 5s/step - loss: 0.1850 - acc: 0.9315 - val_loss: 0.2778 - val_acc: 0.9087\n"
          ]
        },
        {
          "output_type": "execute_result",
          "data": {
            "text/plain": [
              "<keras.callbacks.History at 0x7f7c7ae29250>"
            ]
          },
          "metadata": {},
          "execution_count": 24
        }
      ]
    },
    {
      "cell_type": "markdown",
      "source": [
        "## History"
      ],
      "metadata": {
        "id": "yc_EmXjJIsTK"
      }
    },
    {
      "cell_type": "code",
      "source": [
        "vgg16_model.plot_history()"
      ],
      "metadata": {
        "colab": {
          "base_uri": "https://localhost:8080/",
          "height": 545
        },
        "id": "Yhx7XtHa8oGa",
        "outputId": "d75eebac-06d0-44a4-a2f6-54fd934a2ed4"
      },
      "execution_count": 25,
      "outputs": [
        {
          "output_type": "display_data",
          "data": {
            "text/plain": [
              "<Figure size 432x288 with 1 Axes>"
            ],
            "image/png": "[encoded data removed]"
          },
          "metadata": {
            "needs_background": "light"
          }
        },
        {
          "output_type": "display_data",
          "data": {
            "text/plain": [
              "<Figure size 432x288 with 1 Axes>"
            ],
            "image/png": "[encoded data removed]"
          },
          "metadata": {
            "needs_background": "light"
          }
        }
      ]
    },
    {
      "cell_type": "markdown",
      "source": [
        "## Evaluate Model"
      ],
      "metadata": {
        "id": "feO9XLn9IvaM"
      }
    },
    {
      "cell_type": "code",
      "source": [
        "vgg16_model.evaluate_model()"
      ],
      "metadata": {
        "colab": {
          "base_uri": "https://localhost:8080/",
          "height": 775
        },
        "id": "B_C2qe1E9Ago",
        "outputId": "bb848f51-4601-4079-f487-cd1417a5b1df"
      },
      "execution_count": 26,
      "outputs": [
        {
          "output_type": "stream",
          "name": "stdout",
          "text": [
            "\r1/7 [===>..........................] - ETA: 30s - loss: 0.0510 - acc: 1.0000"
          ]
        },
        {
          "output_type": "stream",
          "name": "stderr",
          "text": [
            "/usr/local/lib/python3.7/dist-packages/PIL/Image.py:960: UserWarning: Palette images with Transparency expressed in bytes should be converted to RGBA images\n",
            "  \"Palette images with Transparency expressed in bytes should be \"\n"
          ]
        },
        {
          "output_type": "stream",
          "name": "stdout",
          "text": [
            "7/7 [==============================] - 130s 21s/step - loss: 0.3834 - acc: 0.8839\n",
            "Loss of the model is -  0.383413165807724\n",
            "Accuracy of the model is -  88.39285969734192 %\n",
            "              precision    recall  f1-score   support\n",
            "\n",
            "       Basil       1.00      1.00      1.00        16\n",
            " Bayam Hijau       0.81      1.00      0.89        29\n",
            "  Jambu Biji       0.83      0.75      0.79        20\n",
            "       Kelor       0.69      0.91      0.78        22\n",
            "       Lemon       0.86      0.78      0.82        23\n",
            "      Mangga       0.98      0.93      0.95        45\n",
            "        Mint       0.93      0.84      0.88        45\n",
            "      Pepaya       1.00      0.83      0.91        24\n",
            "\n",
            "    accuracy                           0.88       224\n",
            "   macro avg       0.89      0.88      0.88       224\n",
            "weighted avg       0.90      0.88      0.89       224\n",
            "\n",
            "Confusion Matrix\n"
          ]
        },
        {
          "output_type": "display_data",
          "data": {
            "text/plain": [
              "<Figure size 432x288 with 2 Axes>"
            ],
            "image/png": "[encoded data removed]"
          },
          "metadata": {
            "needs_background": "light"
          }
        }
      ]
    },
    {
      "cell_type": "code",
      "source": [
        "vgg16_model.model_name = 'vgg16'\n",
        "vgg16_model.find_best_model('.')"
      ],
      "metadata": {
        "colab": {
          "base_uri": "https://localhost:8080/"
        },
        "id": "9wutXKL7g_Qx",
        "outputId": "08b8b72b-f5a2-4b2d-9e93-11144d34bbbc"
      },
      "execution_count": 27,
      "outputs": [
        {
          "output_type": "stream",
          "name": "stdout",
          "text": [
            "./vgg16-saved-model-15-acc-0.94.hdf5\n"
          ]
        }
      ]
    },
    {
      "cell_type": "markdown",
      "source": [
        "## Evaluate Best Model"
      ],
      "metadata": {
        "id": "xSlvnfMJI1DQ"
      }
    },
    {
      "cell_type": "code",
      "source": [
        "vgg16_model.evaluate_best_model()"
      ],
      "metadata": {
        "colab": {
          "base_uri": "https://localhost:8080/",
          "height": 775
        },
        "id": "B25KozAEhllq",
        "outputId": "4b4f1561-d8e1-4c07-b57a-6b7f9c218ce5"
      },
      "execution_count": 28,
      "outputs": [
        {
          "output_type": "stream",
          "name": "stdout",
          "text": [
            "\r1/7 [===>..........................] - ETA: 29s - loss: 0.0174 - acc: 1.0000"
          ]
        },
        {
          "output_type": "stream",
          "name": "stderr",
          "text": [
            "/usr/local/lib/python3.7/dist-packages/PIL/Image.py:960: UserWarning: Palette images with Transparency expressed in bytes should be converted to RGBA images\n",
            "  \"Palette images with Transparency expressed in bytes should be \"\n"
          ]
        },
        {
          "output_type": "stream",
          "name": "stdout",
          "text": [
            "7/7 [==============================] - 23s 3s/step - loss: 0.2628 - acc: 0.9107\n",
            "Loss of the model is -  0.262822687625885\n",
            "Accuracy of the model is -  91.07142686843872 %\n",
            "              precision    recall  f1-score   support\n",
            "\n",
            "       Basil       1.00      1.00      1.00        16\n",
            " Bayam Hijau       0.78      0.97      0.86        29\n",
            "  Jambu Biji       0.89      0.80      0.84        20\n",
            "       Kelor       0.90      0.86      0.88        22\n",
            "       Lemon       0.91      0.91      0.91        23\n",
            "      Mangga       0.98      0.96      0.97        45\n",
            "        Mint       0.91      0.89      0.90        45\n",
            "      Pepaya       0.95      0.88      0.91        24\n",
            "\n",
            "    accuracy                           0.91       224\n",
            "   macro avg       0.92      0.91      0.91       224\n",
            "weighted avg       0.92      0.91      0.91       224\n",
            "\n",
            "Confusion Matrix\n"
          ]
        },
        {
          "output_type": "display_data",
          "data": {
            "text/plain": [
              "<Figure size 432x288 with 2 Axes>"
            ],
            "image/png": "[encoded data removed]"
          },
          "metadata": {
            "needs_background": "light"
          }
        }
      ]
    },
    {
      "cell_type": "markdown",
      "source": [
        "# InceptionV3 (sucks)"
      ],
      "metadata": {
        "id": "wQUlJ2SiI56r"
      }
    },
    {
      "cell_type": "markdown",
      "source": [
        "## Build Model"
      ],
      "metadata": {
        "id": "It-WgMZHa1vQ"
      }
    },
    {
      "cell_type": "code",
      "source": [
        "from tensorflow.keras.applications.inception_v3 import InceptionV3\n",
        "from tensorflow.keras.applications.inception_v3 import preprocess_input as iv3_preprocess_input\n",
        "\n",
        "config = {\n",
        "    \"batch_size\": 32,\n",
        "    \"epochs\": 20,\n",
        "    \"classes\": 8,\n",
        "    \"input_shape\": (224, 224, 3)\n",
        "\n",
        "}\n",
        "\n",
        "compile_config = {\n",
        "    \"loss\": \"sparse_categorical_crossentropy\",\n",
        "    \"optimizer\": Adam(learning_rate=0.0001),\n",
        "    \"metrics\": [\"accuracy\"],\n",
        "}\n",
        "\n",
        "inceptionv3  = InceptionV3(weights=\"imagenet\", include_top=False, input_shape=config['input_shape'],)\n",
        "for layer in inceptionv3.layers[:249]:\n",
        "   layer.trainable = False\n",
        "for layer in inceptionv3.layers[249:]:\n",
        "   layer.trainable = True\n",
        "\n",
        "custom_layer = [\n",
        "    tf.keras.layers.Dropout(0.5),\n",
        "    tf.keras.layers.Dense(512, activation='relu'),\n",
        "    tf.keras.layers.Dense(1024, activation='relu'),\n",
        "    tf.keras.layers.Dense(1024, activation='relu')\n",
        "]\n",
        "\n",
        "iv3_model = Model(model=inceptionv3, config=config)\n",
        "iv3_model.train_val_generators(train_dir, validation_dir, test_dir, preprocess_input=iv3_preprocess_input)\n",
        "iv3_model.build_model(compile_config, custom_layer=custom_layer)"
      ],
      "metadata": {
        "colab": {
          "base_uri": "https://localhost:8080/"
        },
        "id": "k4xEm-H4mB85",
        "outputId": "546fb596-fd1d-4a20-d140-e83f0630f32d"
      },
      "execution_count": 32,
      "outputs": [
        {
          "output_type": "stream",
          "name": "stdout",
          "text": [
            "Found 1518 images belonging to 8 classes.\n",
            "Found 427 images belonging to 8 classes.\n",
            "Found 224 images belonging to 8 classes.\n",
            "Model: \"sequential_11\"\n",
            "_________________________________________________________________\n",
            " Layer (type)                Output Shape              Param #   \n",
            "=================================================================\n",
            " inception_v3 (Functional)   (None, 5, 5, 2048)        21802784  \n",
            "                                                                 \n",
            " flatten_12 (Flatten)        (None, 51200)             0         \n",
            "                                                                 \n",
            " dropout_2 (Dropout)         (None, 51200)             0         \n",
            "                                                                 \n",
            " dense_33 (Dense)            (None, 512)               26214912  \n",
            "                                                                 \n",
            " dense_34 (Dense)            (None, 1024)              525312    \n",
            "                                                                 \n",
            " dense_35 (Dense)            (None, 1024)              1049600   \n",
            "                                                                 \n",
            " dense_36 (Dense)            (None, 8)                 8200      \n",
            "                                                                 \n",
            "=================================================================\n",
            "Total params: 49,600,808\n",
            "Trainable params: 38,912,904\n",
            "Non-trainable params: 10,687,904\n",
            "_________________________________________________________________\n"
          ]
        },
        {
          "output_type": "execute_result",
          "data": {
            "text/plain": [
              "<keras.engine.sequential.Sequential at 0x7f7c683e7590>"
            ]
          },
          "metadata": {},
          "execution_count": 32
        }
      ]
    },
    {
      "cell_type": "markdown",
      "source": [
        "## Train Model"
      ],
      "metadata": {
        "id": "vQup3hAfbFTG"
      }
    },
    {
      "cell_type": "code",
      "source": [
        "reduce_lr_config = {\n",
        "    'monitor': 'val_loss',\n",
        "    'factor': 0.05, \n",
        "    'patience':5, \n",
        "    'min_lr': 0.000002\n",
        "}\n",
        "iv3_model.train('inceptionv3', reduce_lr_config=reduce_lr_config)"
      ],
      "metadata": {
        "colab": {
          "base_uri": "https://localhost:8080/"
        },
        "id": "JnlEkmELmvZJ",
        "outputId": "0ee9ee49-9ec7-481a-dcfa-9f2178516db7"
      },
      "execution_count": 33,
      "outputs": [
        {
          "output_type": "stream",
          "name": "stdout",
          "text": [
            "Epoch 1/20\n",
            "48/48 [==============================] - ETA: 0s - loss: 1.5567 - acc: 0.3926\n",
            "Epoch 1: val_acc improved from -inf to 0.30445, saving model to inceptionv3-saved-model-01-acc-0.30.hdf5\n",
            "48/48 [==============================] - 235s 5s/step - loss: 1.5567 - acc: 0.3926 - val_loss: 1.7362 - val_acc: 0.3044 - lr: 1.0000e-04\n",
            "Epoch 2/20\n",
            "48/48 [==============================] - ETA: 0s - loss: 1.2836 - acc: 0.4947\n",
            "Epoch 2: val_acc improved from 0.30445 to 0.48478, saving model to inceptionv3-saved-model-02-acc-0.48.hdf5\n",
            "48/48 [==============================] - 226s 5s/step - loss: 1.2836 - acc: 0.4947 - val_loss: 1.3601 - val_acc: 0.4848 - lr: 1.0000e-04\n",
            "Epoch 3/20\n",
            "48/48 [==============================] - ETA: 0s - loss: 1.1994 - acc: 0.5244\n",
            "Epoch 3: val_acc improved from 0.48478 to 0.49180, saving model to inceptionv3-saved-model-03-acc-0.49.hdf5\n",
            "48/48 [==============================] - 227s 5s/step - loss: 1.1994 - acc: 0.5244 - val_loss: 1.2302 - val_acc: 0.4918 - lr: 1.0000e-04\n",
            "Epoch 4/20\n",
            "48/48 [==============================] - ETA: 0s - loss: 1.1875 - acc: 0.5231\n",
            "Epoch 4: val_acc improved from 0.49180 to 0.55738, saving model to inceptionv3-saved-model-04-acc-0.56.hdf5\n",
            "48/48 [==============================] - 225s 5s/step - loss: 1.1875 - acc: 0.5231 - val_loss: 1.0944 - val_acc: 0.5574 - lr: 1.0000e-04\n",
            "Epoch 5/20\n",
            "48/48 [==============================] - ETA: 0s - loss: 1.0905 - acc: 0.5606\n",
            "Epoch 5: val_acc improved from 0.55738 to 0.64403, saving model to inceptionv3-saved-model-05-acc-0.64.hdf5\n",
            "48/48 [==============================] - 228s 5s/step - loss: 1.0905 - acc: 0.5606 - val_loss: 0.9177 - val_acc: 0.6440 - lr: 1.0000e-04\n",
            "Epoch 6/20\n",
            "48/48 [==============================] - ETA: 0s - loss: 1.0686 - acc: 0.5804\n",
            "Epoch 6: val_acc did not improve from 0.64403\n",
            "48/48 [==============================] - 228s 5s/step - loss: 1.0686 - acc: 0.5804 - val_loss: 1.1416 - val_acc: 0.5059 - lr: 1.0000e-04\n",
            "Epoch 7/20\n",
            "48/48 [==============================] - ETA: 0s - loss: 1.0172 - acc: 0.5995\n",
            "Epoch 7: val_acc improved from 0.64403 to 0.66979, saving model to inceptionv3-saved-model-07-acc-0.67.hdf5\n",
            "48/48 [==============================] - 229s 5s/step - loss: 1.0172 - acc: 0.5995 - val_loss: 0.8371 - val_acc: 0.6698 - lr: 1.0000e-04\n",
            "Epoch 8/20\n",
            "48/48 [==============================] - ETA: 0s - loss: 1.0155 - acc: 0.6041\n",
            "Epoch 8: val_acc improved from 0.66979 to 0.71194, saving model to inceptionv3-saved-model-08-acc-0.71.hdf5\n",
            "48/48 [==============================] - 227s 5s/step - loss: 1.0155 - acc: 0.6041 - val_loss: 0.8103 - val_acc: 0.7119 - lr: 1.0000e-04\n",
            "Epoch 9/20\n",
            "48/48 [==============================] - ETA: 0s - loss: 0.9955 - acc: 0.6113\n",
            "Epoch 9: val_acc did not improve from 0.71194\n",
            "48/48 [==============================] - 224s 5s/step - loss: 0.9955 - acc: 0.6113 - val_loss: 0.8953 - val_acc: 0.6557 - lr: 1.0000e-04\n",
            "Epoch 10/20\n",
            "48/48 [==============================] - ETA: 0s - loss: 0.9518 - acc: 0.6410\n",
            "Epoch 10: val_acc did not improve from 0.71194\n",
            "48/48 [==============================] - 223s 5s/step - loss: 0.9518 - acc: 0.6410 - val_loss: 0.9047 - val_acc: 0.6487 - lr: 1.0000e-04\n",
            "Epoch 11/20\n",
            "48/48 [==============================] - ETA: 0s - loss: 0.9001 - acc: 0.6443\n",
            "Epoch 11: val_acc did not improve from 0.71194\n",
            "48/48 [==============================] - 223s 5s/step - loss: 0.9001 - acc: 0.6443 - val_loss: 1.2007 - val_acc: 0.5316 - lr: 1.0000e-04\n",
            "Epoch 12/20\n",
            "48/48 [==============================] - ETA: 0s - loss: 0.9121 - acc: 0.6410\n",
            "Epoch 12: val_acc did not improve from 0.71194\n",
            "48/48 [==============================] - 223s 5s/step - loss: 0.9121 - acc: 0.6410 - val_loss: 0.9722 - val_acc: 0.6370 - lr: 1.0000e-04\n",
            "Epoch 13/20\n",
            "48/48 [==============================] - ETA: 0s - loss: 0.9292 - acc: 0.6390\n",
            "Epoch 13: val_acc did not improve from 0.71194\n",
            "48/48 [==============================] - 223s 5s/step - loss: 0.9292 - acc: 0.6390 - val_loss: 0.8013 - val_acc: 0.7049 - lr: 1.0000e-04\n",
            "Epoch 14/20\n",
            "48/48 [==============================] - ETA: 0s - loss: 0.8535 - acc: 0.6719\n",
            "Epoch 14: val_acc did not improve from 0.71194\n",
            "48/48 [==============================] - 226s 5s/step - loss: 0.8535 - acc: 0.6719 - val_loss: 0.9382 - val_acc: 0.6089 - lr: 1.0000e-04\n",
            "Epoch 15/20\n",
            "48/48 [==============================] - ETA: 0s - loss: 0.9011 - acc: 0.6627\n",
            "Epoch 15: val_acc did not improve from 0.71194\n",
            "48/48 [==============================] - 226s 5s/step - loss: 0.9011 - acc: 0.6627 - val_loss: 0.7925 - val_acc: 0.6745 - lr: 1.0000e-04\n",
            "Epoch 16/20\n",
            "48/48 [==============================] - ETA: 0s - loss: 0.8537 - acc: 0.6568\n",
            "Epoch 16: val_acc did not improve from 0.71194\n",
            "48/48 [==============================] - 227s 5s/step - loss: 0.8537 - acc: 0.6568 - val_loss: 1.0313 - val_acc: 0.5785 - lr: 1.0000e-04\n",
            "Epoch 17/20\n",
            "48/48 [==============================] - ETA: 0s - loss: 0.8625 - acc: 0.6700\n",
            "Epoch 17: val_acc did not improve from 0.71194\n",
            "48/48 [==============================] - 230s 5s/step - loss: 0.8625 - acc: 0.6700 - val_loss: 0.9095 - val_acc: 0.6464 - lr: 1.0000e-04\n",
            "Epoch 18/20\n",
            "48/48 [==============================] - ETA: 0s - loss: 0.8445 - acc: 0.6759\n",
            "Epoch 18: val_acc did not improve from 0.71194\n",
            "48/48 [==============================] - 224s 5s/step - loss: 0.8445 - acc: 0.6759 - val_loss: 0.9599 - val_acc: 0.6464 - lr: 1.0000e-04\n",
            "Epoch 19/20\n",
            "48/48 [==============================] - ETA: 0s - loss: 0.8708 - acc: 0.6568\n",
            "Epoch 19: val_acc improved from 0.71194 to 0.72834, saving model to inceptionv3-saved-model-19-acc-0.73.hdf5\n",
            "48/48 [==============================] - 227s 5s/step - loss: 0.8708 - acc: 0.6568 - val_loss: 0.7343 - val_acc: 0.7283 - lr: 1.0000e-04\n",
            "Epoch 20/20\n",
            "48/48 [==============================] - ETA: 0s - loss: 0.8113 - acc: 0.6864\n",
            "Epoch 20: val_acc did not improve from 0.72834\n",
            "48/48 [==============================] - 224s 5s/step - loss: 0.8113 - acc: 0.6864 - val_loss: 0.8734 - val_acc: 0.6089 - lr: 1.0000e-04\n"
          ]
        },
        {
          "output_type": "execute_result",
          "data": {
            "text/plain": [
              "<keras.callbacks.History at 0x7f7be0a96990>"
            ]
          },
          "metadata": {},
          "execution_count": 33
        }
      ]
    },
    {
      "cell_type": "markdown",
      "source": [
        "## History"
      ],
      "metadata": {
        "id": "UQ5k6kAG_SXX"
      }
    },
    {
      "cell_type": "code",
      "source": [
        "iv3_model.plot_history()"
      ],
      "metadata": {
        "colab": {
          "base_uri": "https://localhost:8080/",
          "height": 545
        },
        "id": "SKcEqO_2Ni4Y",
        "outputId": "cf206495-bfd7-4ce8-9c93-d2cff9d76a8a"
      },
      "execution_count": 34,
      "outputs": [
        {
          "output_type": "display_data",
          "data": {
            "text/plain": [
              "<Figure size 432x288 with 1 Axes>"
            ],
            "image/png": "[encoded data removed]"
          },
          "metadata": {
            "needs_background": "light"
          }
        },
        {
          "output_type": "display_data",
          "data": {
            "text/plain": [
              "<Figure size 432x288 with 1 Axes>"
            ],
            "image/png": "[encoded data removed]"
          },
          "metadata": {
            "needs_background": "light"
          }
        }
      ]
    },
    {
      "cell_type": "markdown",
      "source": [
        "## Evaluate Model"
      ],
      "metadata": {
        "id": "-AIF9Z3t_UHG"
      }
    },
    {
      "cell_type": "code",
      "source": [
        "iv3_model.evaluate_model()"
      ],
      "metadata": {
        "colab": {
          "base_uri": "https://localhost:8080/",
          "height": 879
        },
        "id": "pNG8AdQQNima",
        "outputId": "9ca1b017-a7bc-4bdd-fe12-065549676ec0"
      },
      "execution_count": 35,
      "outputs": [
        {
          "output_type": "stream",
          "name": "stdout",
          "text": [
            "\r1/7 [===>..........................] - ETA: 29s - loss: 11.1516 - acc: 0.0000e+00"
          ]
        },
        {
          "output_type": "stream",
          "name": "stderr",
          "text": [
            "/usr/local/lib/python3.7/dist-packages/PIL/Image.py:960: UserWarning: Palette images with Transparency expressed in bytes should be converted to RGBA images\n",
            "  \"Palette images with Transparency expressed in bytes should be \"\n"
          ]
        },
        {
          "output_type": "stream",
          "name": "stdout",
          "text": [
            "7/7 [==============================] - 24s 3s/step - loss: 8.4691 - acc: 0.1027\n",
            "Loss of the model is -  8.469086647033691\n",
            "Accuracy of the model is -  10.26785746216774 %\n"
          ]
        },
        {
          "output_type": "stream",
          "name": "stderr",
          "text": [
            "/usr/local/lib/python3.7/dist-packages/sklearn/metrics/_classification.py:1318: UndefinedMetricWarning: Precision and F-score are ill-defined and being set to 0.0 in labels with no predicted samples. Use `zero_division` parameter to control this behavior.\n",
            "  _warn_prf(average, modifier, msg_start, len(result))\n",
            "/usr/local/lib/python3.7/dist-packages/sklearn/metrics/_classification.py:1318: UndefinedMetricWarning: Precision and F-score are ill-defined and being set to 0.0 in labels with no predicted samples. Use `zero_division` parameter to control this behavior.\n",
            "  _warn_prf(average, modifier, msg_start, len(result))\n",
            "/usr/local/lib/python3.7/dist-packages/sklearn/metrics/_classification.py:1318: UndefinedMetricWarning: Precision and F-score are ill-defined and being set to 0.0 in labels with no predicted samples. Use `zero_division` parameter to control this behavior.\n",
            "  _warn_prf(average, modifier, msg_start, len(result))\n"
          ]
        },
        {
          "output_type": "stream",
          "name": "stdout",
          "text": [
            "              precision    recall  f1-score   support\n",
            "\n",
            "       Basil       0.00      0.00      0.00        16\n",
            " Bayam Hijau       0.00      0.00      0.00        29\n",
            "  Jambu Biji       0.00      0.00      0.00        20\n",
            "       Kelor       0.10      0.95      0.17        22\n",
            "       Lemon       0.00      0.00      0.00        23\n",
            "      Mangga       0.00      0.00      0.00        45\n",
            "        Mint       0.00      0.00      0.00        45\n",
            "      Pepaya       0.50      0.08      0.14        24\n",
            "\n",
            "    accuracy                           0.10       224\n",
            "   macro avg       0.07      0.13      0.04       224\n",
            "weighted avg       0.06      0.10      0.03       224\n",
            "\n",
            "Confusion Matrix\n"
          ]
        },
        {
          "output_type": "display_data",
          "data": {
            "text/plain": [
              "<Figure size 432x288 with 2 Axes>"
            ],
            "image/png": "[encoded data removed]"
          },
          "metadata": {
            "needs_background": "light"
          }
        }
      ]
    },
    {
      "cell_type": "markdown",
      "source": [
        "## Evaluate Best Model"
      ],
      "metadata": {
        "id": "Bkiqo6qD_W-d"
      }
    },
    {
      "cell_type": "code",
      "source": [
        "iv3_model.model_name = 'inceptionv3'\n",
        "iv3_model.find_best_model('.')\n",
        "iv3_model.evaluate_best_model()"
      ],
      "metadata": {
        "colab": {
          "base_uri": "https://localhost:8080/",
          "height": 896
        },
        "id": "FQS6rsDJpEeL",
        "outputId": "38b0f5b7-87fa-4c82-a0b4-f3e2177a43fa"
      },
      "execution_count": 36,
      "outputs": [
        {
          "output_type": "stream",
          "name": "stdout",
          "text": [
            "./inceptionv3-saved-model-19-acc-0.73.hdf5\n",
            "1/7 [===>..........................] - ETA: 29s - loss: 11.4252 - acc: 0.0000e+00"
          ]
        },
        {
          "output_type": "stream",
          "name": "stderr",
          "text": [
            "/usr/local/lib/python3.7/dist-packages/PIL/Image.py:960: UserWarning: Palette images with Transparency expressed in bytes should be converted to RGBA images\n",
            "  \"Palette images with Transparency expressed in bytes should be \"\n"
          ]
        },
        {
          "output_type": "stream",
          "name": "stdout",
          "text": [
            "7/7 [==============================] - 23s 3s/step - loss: 8.7554 - acc: 0.1295\n",
            "Loss of the model is -  8.755419731140137\n",
            "Accuracy of the model is -  12.94642835855484 %\n"
          ]
        },
        {
          "output_type": "stream",
          "name": "stderr",
          "text": [
            "/usr/local/lib/python3.7/dist-packages/sklearn/metrics/_classification.py:1318: UndefinedMetricWarning: Precision and F-score are ill-defined and being set to 0.0 in labels with no predicted samples. Use `zero_division` parameter to control this behavior.\n",
            "  _warn_prf(average, modifier, msg_start, len(result))\n",
            "/usr/local/lib/python3.7/dist-packages/sklearn/metrics/_classification.py:1318: UndefinedMetricWarning: Precision and F-score are ill-defined and being set to 0.0 in labels with no predicted samples. Use `zero_division` parameter to control this behavior.\n",
            "  _warn_prf(average, modifier, msg_start, len(result))\n",
            "/usr/local/lib/python3.7/dist-packages/sklearn/metrics/_classification.py:1318: UndefinedMetricWarning: Precision and F-score are ill-defined and being set to 0.0 in labels with no predicted samples. Use `zero_division` parameter to control this behavior.\n",
            "  _warn_prf(average, modifier, msg_start, len(result))\n"
          ]
        },
        {
          "output_type": "stream",
          "name": "stdout",
          "text": [
            "              precision    recall  f1-score   support\n",
            "\n",
            "       Basil       0.00      0.00      0.00        16\n",
            " Bayam Hijau       0.00      0.00      0.00        29\n",
            "  Jambu Biji       0.00      0.00      0.00        20\n",
            "       Kelor       0.10      0.86      0.17        22\n",
            "       Lemon       0.00      0.00      0.00        23\n",
            "      Mangga       0.00      0.00      0.00        45\n",
            "        Mint       0.00      0.00      0.00        45\n",
            "      Pepaya       0.37      0.42      0.39        24\n",
            "\n",
            "    accuracy                           0.13       224\n",
            "   macro avg       0.06      0.16      0.07       224\n",
            "weighted avg       0.05      0.13      0.06       224\n",
            "\n",
            "Confusion Matrix\n"
          ]
        },
        {
          "output_type": "display_data",
          "data": {
            "text/plain": [
              "<Figure size 432x288 with 2 Axes>"
            ],
            "image/png": "[encoded data removed]"
          },
          "metadata": {
            "needs_background": "light"
          }
        }
      ]
    },
    {
      "cell_type": "code",
      "source": [
        "target_dir = '/content/drive/Shareddrives/Bangkit Capstone/Best Model'\n",
        "iv3_model.save_best_model(target_dir=target_dir)"
      ],
      "metadata": {
        "id": "o0FHGhz9pNep",
        "colab": {
          "base_uri": "https://localhost:8080/"
        },
        "outputId": "edc932b4-c8cc-436d-aa40-6fba6cd3e6da"
      },
      "execution_count": null,
      "outputs": [
        {
          "output_type": "stream",
          "name": "stdout",
          "text": [
            "Copy ./inceptionv3-saved-model-06-acc-0.68.hdf5 to /content/drive/Shareddrives/Bangkit Capstone/Best Model\n"
          ]
        }
      ]
    },
    {
      "cell_type": "markdown",
      "source": [
        "# ResNet50"
      ],
      "metadata": {
        "id": "VEeOempr_Z3q"
      }
    },
    {
      "cell_type": "markdown",
      "source": [
        "## Build Model"
      ],
      "metadata": {
        "id": "UTvkoCJH_bvA"
      }
    },
    {
      "cell_type": "code",
      "source": [
        "from tensorflow.keras.applications.resnet50 import ResNet50\n",
        "from tensorflow.keras.applications.resnet50 import preprocess_input as resnet50_preprocess_input\n",
        "config = {\n",
        "    \"batch_size\": 32,\n",
        "    \"trainable\": False,\n",
        "    \"epochs\": 20,\n",
        "    \"classes\": 8,\n",
        "    \"input_shape\": (224, 224, 3)\n",
        "\n",
        "}\n",
        "\n",
        "compile_config = {\n",
        "    \"loss\": \"sparse_categorical_crossentropy\",\n",
        "    \"optimizer\": Adam(lr=1e-4),\n",
        "    \"metrics\": [\"accuracy\"],\n",
        "}\n",
        "\n",
        "custom_layer = [\n",
        "    tf.keras.layers.Dense(512, activation='relu'),\n",
        "    tf.keras.layers.Dense(1024, activation='relu'),\n",
        "    tf.keras.layers.Dense(1024, activation='relu')\n",
        "]\n",
        "\n",
        "resnet50 = ResNet50(weights=\"imagenet\", include_top=False, input_shape=config['input_shape'],)\n",
        "resnet50.trainable = False\n",
        "resnet50_model = Model(model=resnet50, config=config)\n",
        "resnet50_model.train_val_generators(train_dir, validation_dir, test_dir, preprocess_input=resnet50_preprocess_input)\n",
        "resnet50_model.build_model(compile_config, custom_layer=custom_layer)"
      ],
      "metadata": {
        "id": "ci6J-KPE_Xmr",
        "outputId": "d5a09a8a-dc81-4f8a-8edd-21637470edfb",
        "colab": {
          "base_uri": "https://localhost:8080/"
        }
      },
      "execution_count": 38,
      "outputs": [
        {
          "output_type": "stream",
          "name": "stderr",
          "text": [
            "/usr/local/lib/python3.7/dist-packages/keras/optimizer_v2/adam.py:105: UserWarning: The `lr` argument is deprecated, use `learning_rate` instead.\n",
            "  super(Adam, self).__init__(name, **kwargs)\n"
          ]
        },
        {
          "output_type": "stream",
          "name": "stdout",
          "text": [
            "Downloading data from https://storage.googleapis.com/tensorflow/keras-applications/resnet/resnet50_weights_tf_dim_ordering_tf_kernels_notop.h5\n",
            "94773248/94765736 [==============================] - 1s 0us/step\n",
            "94781440/94765736 [==============================] - 1s 0us/step\n",
            "Found 1518 images belonging to 8 classes.\n",
            "Found 427 images belonging to 8 classes.\n",
            "Found 224 images belonging to 8 classes.\n",
            "Model: \"sequential_12\"\n",
            "_________________________________________________________________\n",
            " Layer (type)                Output Shape              Param #   \n",
            "=================================================================\n",
            " resnet50 (Functional)       (None, 7, 7, 2048)        23587712  \n",
            "                                                                 \n",
            " flatten_13 (Flatten)        (None, 100352)            0         \n",
            "                                                                 \n",
            " dense_37 (Dense)            (None, 512)               51380736  \n",
            "                                                                 \n",
            " dense_38 (Dense)            (None, 1024)              525312    \n",
            "                                                                 \n",
            " dense_39 (Dense)            (None, 1024)              1049600   \n",
            "                                                                 \n",
            " dense_40 (Dense)            (None, 8)                 8200      \n",
            "                                                                 \n",
            "=================================================================\n",
            "Total params: 76,551,560\n",
            "Trainable params: 52,963,848\n",
            "Non-trainable params: 23,587,712\n",
            "_________________________________________________________________\n"
          ]
        },
        {
          "output_type": "execute_result",
          "data": {
            "text/plain": [
              "<keras.engine.sequential.Sequential at 0x7f79dd257a90>"
            ]
          },
          "metadata": {},
          "execution_count": 38
        }
      ]
    },
    {
      "cell_type": "markdown",
      "source": [
        "## Train Model"
      ],
      "metadata": {
        "id": "DFRjy3st_duV"
      }
    },
    {
      "cell_type": "code",
      "source": [
        "reduce_lr_config = {\n",
        "    'monitor': 'val_loss',\n",
        "    'factor': 0.05, \n",
        "    'patience':5, \n",
        "    'min_lr': 0.000002\n",
        "}\n",
        "resnet50_model.train('resnet50', reduce_lr_config=reduce_lr_config)"
      ],
      "metadata": {
        "id": "HSwEk7PdAQ51",
        "outputId": "31c4904a-fd29-41a1-eba3-c7967ca47d96",
        "colab": {
          "base_uri": "https://localhost:8080/"
        }
      },
      "execution_count": 39,
      "outputs": [
        {
          "output_type": "stream",
          "name": "stdout",
          "text": [
            "Epoch 1/20\n",
            "48/48 [==============================] - ETA: 0s - loss: 1.8786 - acc: 0.3142\n",
            "Epoch 1: val_acc improved from -inf to 0.42623, saving model to resnet50-saved-model-01-acc-0.43.hdf5\n",
            "48/48 [==============================] - 234s 5s/step - loss: 1.8786 - acc: 0.3142 - val_loss: 1.5219 - val_acc: 0.4262 - lr: 1.0000e-04\n",
            "Epoch 2/20\n",
            "48/48 [==============================] - ETA: 0s - loss: 1.6161 - acc: 0.3748\n",
            "Epoch 2: val_acc did not improve from 0.42623\n",
            "48/48 [==============================] - 223s 5s/step - loss: 1.6161 - acc: 0.3748 - val_loss: 1.5354 - val_acc: 0.4239 - lr: 1.0000e-04\n",
            "Epoch 3/20\n",
            "48/48 [==============================] - ETA: 0s - loss: 1.4853 - acc: 0.4130\n",
            "Epoch 3: val_acc improved from 0.42623 to 0.44028, saving model to resnet50-saved-model-03-acc-0.44.hdf5\n",
            "48/48 [==============================] - 225s 5s/step - loss: 1.4853 - acc: 0.4130 - val_loss: 1.4317 - val_acc: 0.4403 - lr: 1.0000e-04\n",
            "Epoch 4/20\n",
            "48/48 [==============================] - ETA: 0s - loss: 1.4584 - acc: 0.4117\n",
            "Epoch 4: val_acc did not improve from 0.44028\n",
            "48/48 [==============================] - 226s 5s/step - loss: 1.4584 - acc: 0.4117 - val_loss: 1.3681 - val_acc: 0.3817 - lr: 1.0000e-04\n",
            "Epoch 5/20\n",
            "48/48 [==============================] - ETA: 0s - loss: 1.3934 - acc: 0.4559\n",
            "Epoch 5: val_acc did not improve from 0.44028\n",
            "48/48 [==============================] - 226s 5s/step - loss: 1.3934 - acc: 0.4559 - val_loss: 1.3473 - val_acc: 0.4192 - lr: 1.0000e-04\n",
            "Epoch 6/20\n",
            "48/48 [==============================] - ETA: 0s - loss: 1.3880 - acc: 0.4427\n",
            "Epoch 6: val_acc did not improve from 0.44028\n",
            "48/48 [==============================] - 226s 5s/step - loss: 1.3880 - acc: 0.4427 - val_loss: 1.3528 - val_acc: 0.4098 - lr: 1.0000e-04\n",
            "Epoch 7/20\n",
            "48/48 [==============================] - ETA: 0s - loss: 1.3735 - acc: 0.4473\n",
            "Epoch 7: val_acc did not improve from 0.44028\n",
            "48/48 [==============================] - 229s 5s/step - loss: 1.3735 - acc: 0.4473 - val_loss: 1.3944 - val_acc: 0.3888 - lr: 1.0000e-04\n",
            "Epoch 8/20\n",
            "48/48 [==============================] - ETA: 0s - loss: 1.3139 - acc: 0.4671\n",
            "Epoch 8: val_acc did not improve from 0.44028\n",
            "48/48 [==============================] - 230s 5s/step - loss: 1.3139 - acc: 0.4671 - val_loss: 1.3071 - val_acc: 0.4379 - lr: 1.0000e-04\n",
            "Epoch 9/20\n",
            "48/48 [==============================] - ETA: 0s - loss: 1.3348 - acc: 0.4756\n",
            "Epoch 9: val_acc did not improve from 0.44028\n",
            "48/48 [==============================] - 227s 5s/step - loss: 1.3348 - acc: 0.4756 - val_loss: 1.3637 - val_acc: 0.3981 - lr: 1.0000e-04\n",
            "Epoch 10/20\n",
            "48/48 [==============================] - ETA: 0s - loss: 1.3021 - acc: 0.4783\n",
            "Epoch 10: val_acc improved from 0.44028 to 0.45433, saving model to resnet50-saved-model-10-acc-0.45.hdf5\n",
            "48/48 [==============================] - 230s 5s/step - loss: 1.3021 - acc: 0.4783 - val_loss: 1.2377 - val_acc: 0.4543 - lr: 1.0000e-04\n",
            "Epoch 11/20\n",
            "48/48 [==============================] - ETA: 0s - loss: 1.3136 - acc: 0.4565\n",
            "Epoch 11: val_acc improved from 0.45433 to 0.46604, saving model to resnet50-saved-model-11-acc-0.47.hdf5\n",
            "48/48 [==============================] - 229s 5s/step - loss: 1.3136 - acc: 0.4565 - val_loss: 1.3043 - val_acc: 0.4660 - lr: 1.0000e-04\n",
            "Epoch 12/20\n",
            "48/48 [==============================] - ETA: 0s - loss: 1.2945 - acc: 0.4776\n",
            "Epoch 12: val_acc did not improve from 0.46604\n",
            "48/48 [==============================] - 227s 5s/step - loss: 1.2945 - acc: 0.4776 - val_loss: 1.3188 - val_acc: 0.4590 - lr: 1.0000e-04\n",
            "Epoch 13/20\n",
            "48/48 [==============================] - ETA: 0s - loss: 1.2894 - acc: 0.4690\n",
            "Epoch 13: val_acc did not improve from 0.46604\n",
            "48/48 [==============================] - 229s 5s/step - loss: 1.2894 - acc: 0.4690 - val_loss: 1.3652 - val_acc: 0.4567 - lr: 1.0000e-04\n",
            "Epoch 14/20\n",
            "48/48 [==============================] - ETA: 0s - loss: 1.2503 - acc: 0.4901\n",
            "Epoch 14: val_acc did not improve from 0.46604\n",
            "48/48 [==============================] - 227s 5s/step - loss: 1.2503 - acc: 0.4901 - val_loss: 1.2586 - val_acc: 0.4567 - lr: 1.0000e-04\n",
            "Epoch 15/20\n",
            "48/48 [==============================] - ETA: 0s - loss: 1.2283 - acc: 0.4947\n",
            "Epoch 15: val_acc did not improve from 0.46604\n",
            "48/48 [==============================] - 228s 5s/step - loss: 1.2283 - acc: 0.4947 - val_loss: 1.2737 - val_acc: 0.4309 - lr: 1.0000e-04\n",
            "Epoch 16/20\n",
            "48/48 [==============================] - ETA: 0s - loss: 1.1513 - acc: 0.5217\n",
            "Epoch 16: val_acc did not improve from 0.46604\n",
            "48/48 [==============================] - 228s 5s/step - loss: 1.1513 - acc: 0.5217 - val_loss: 1.2225 - val_acc: 0.4496 - lr: 5.0000e-06\n",
            "Epoch 17/20\n",
            "48/48 [==============================] - ETA: 0s - loss: 1.1394 - acc: 0.5329\n",
            "Epoch 17: val_acc did not improve from 0.46604\n",
            "48/48 [==============================] - 228s 5s/step - loss: 1.1394 - acc: 0.5329 - val_loss: 1.2458 - val_acc: 0.4356 - lr: 5.0000e-06\n",
            "Epoch 18/20\n",
            "48/48 [==============================] - ETA: 0s - loss: 1.1375 - acc: 0.5336\n",
            "Epoch 18: val_acc did not improve from 0.46604\n",
            "48/48 [==============================] - 227s 5s/step - loss: 1.1375 - acc: 0.5336 - val_loss: 1.2383 - val_acc: 0.4379 - lr: 5.0000e-06\n",
            "Epoch 19/20\n",
            "48/48 [==============================] - ETA: 0s - loss: 1.1375 - acc: 0.5283\n",
            "Epoch 19: val_acc did not improve from 0.46604\n",
            "48/48 [==============================] - 226s 5s/step - loss: 1.1375 - acc: 0.5283 - val_loss: 1.2046 - val_acc: 0.4543 - lr: 5.0000e-06\n",
            "Epoch 20/20\n",
            "48/48 [==============================] - ETA: 0s - loss: 1.1257 - acc: 0.5356\n",
            "Epoch 20: val_acc did not improve from 0.46604\n",
            "48/48 [==============================] - 244s 5s/step - loss: 1.1257 - acc: 0.5356 - val_loss: 1.2260 - val_acc: 0.4450 - lr: 5.0000e-06\n"
          ]
        },
        {
          "output_type": "execute_result",
          "data": {
            "text/plain": [
              "<keras.callbacks.History at 0x7f79dce96650>"
            ]
          },
          "metadata": {},
          "execution_count": 39
        }
      ]
    },
    {
      "cell_type": "markdown",
      "source": [
        "## History"
      ],
      "metadata": {
        "id": "ZOQX3OSS_yUC"
      }
    },
    {
      "cell_type": "code",
      "source": [
        "resnet50_model.plot_history()"
      ],
      "metadata": {
        "id": "ATjMJXtr_u84",
        "outputId": "755afe6f-dfc7-4ee6-c12e-d5ac38efa09a",
        "colab": {
          "base_uri": "https://localhost:8080/",
          "height": 545
        }
      },
      "execution_count": 42,
      "outputs": [
        {
          "output_type": "display_data",
          "data": {
            "text/plain": [
              "<Figure size 432x288 with 1 Axes>"
            ],
            "image/png": "[encoded data removed]"
          },
          "metadata": {
            "needs_background": "light"
          }
        },
        {
          "output_type": "display_data",
          "data": {
            "text/plain": [
              "<Figure size 432x288 with 1 Axes>"
            ],
            "image/png": "[encoded data removed]"
          },
          "metadata": {
            "needs_background": "light"
          }
        }
      ]
    },
    {
      "cell_type": "markdown",
      "source": [
        "## Evaluate Model"
      ],
      "metadata": {
        "id": "h36VBhMi_gUV"
      }
    },
    {
      "cell_type": "code",
      "source": [
        "resnet50_model.evaluate_model()"
      ],
      "metadata": {
        "id": "Ci1b1ren_iQj",
        "outputId": "ec8a7ad2-cd49-404e-b911-fe1256884b65",
        "colab": {
          "base_uri": "https://localhost:8080/",
          "height": 879
        }
      },
      "execution_count": 40,
      "outputs": [
        {
          "output_type": "stream",
          "name": "stdout",
          "text": [
            "\r1/7 [===>..........................] - ETA: 31s - loss: 1.6835 - acc: 0.0938"
          ]
        },
        {
          "output_type": "stream",
          "name": "stderr",
          "text": [
            "/usr/local/lib/python3.7/dist-packages/PIL/Image.py:960: UserWarning: Palette images with Transparency expressed in bytes should be converted to RGBA images\n",
            "  \"Palette images with Transparency expressed in bytes should be \"\n"
          ]
        },
        {
          "output_type": "stream",
          "name": "stdout",
          "text": [
            "7/7 [==============================] - 24s 3s/step - loss: 1.3344 - acc: 0.4554\n",
            "Loss of the model is -  1.33437979221344\n",
            "Accuracy of the model is -  45.53571343421936 %\n"
          ]
        },
        {
          "output_type": "stream",
          "name": "stderr",
          "text": [
            "/usr/local/lib/python3.7/dist-packages/sklearn/metrics/_classification.py:1318: UndefinedMetricWarning: Precision and F-score are ill-defined and being set to 0.0 in labels with no predicted samples. Use `zero_division` parameter to control this behavior.\n",
            "  _warn_prf(average, modifier, msg_start, len(result))\n",
            "/usr/local/lib/python3.7/dist-packages/sklearn/metrics/_classification.py:1318: UndefinedMetricWarning: Precision and F-score are ill-defined and being set to 0.0 in labels with no predicted samples. Use `zero_division` parameter to control this behavior.\n",
            "  _warn_prf(average, modifier, msg_start, len(result))\n",
            "/usr/local/lib/python3.7/dist-packages/sklearn/metrics/_classification.py:1318: UndefinedMetricWarning: Precision and F-score are ill-defined and being set to 0.0 in labels with no predicted samples. Use `zero_division` parameter to control this behavior.\n",
            "  _warn_prf(average, modifier, msg_start, len(result))\n"
          ]
        },
        {
          "output_type": "stream",
          "name": "stdout",
          "text": [
            "              precision    recall  f1-score   support\n",
            "\n",
            "       Basil       0.00      0.00      0.00        16\n",
            " Bayam Hijau       0.23      0.10      0.14        29\n",
            "  Jambu Biji       0.00      0.00      0.00        20\n",
            "       Kelor       0.26      0.77      0.39        22\n",
            "       Lemon       0.00      0.00      0.00        23\n",
            "      Mangga       0.60      1.00      0.75        45\n",
            "        Mint       0.51      0.51      0.51        45\n",
            "      Pepaya       0.54      0.58      0.56        24\n",
            "\n",
            "    accuracy                           0.46       224\n",
            "   macro avg       0.27      0.37      0.29       224\n",
            "weighted avg       0.34      0.46      0.37       224\n",
            "\n",
            "Confusion Matrix\n"
          ]
        },
        {
          "output_type": "display_data",
          "data": {
            "text/plain": [
              "<Figure size 432x288 with 2 Axes>"
            ],
            "image/png": "[encoded data removed]"
          },
          "metadata": {
            "needs_background": "light"
          }
        }
      ]
    },
    {
      "cell_type": "markdown",
      "source": [
        "## Evaluate Best Model"
      ],
      "metadata": {
        "id": "uJXK9oTB_lSX"
      }
    },
    {
      "cell_type": "code",
      "source": [
        "resnet50_model.model_name = 'resnet50'\n",
        "resnet50_model.find_best_model('.')\n",
        "resnet50_model.evaluate_best_model()"
      ],
      "metadata": {
        "id": "-b4J_X9mpiG1",
        "outputId": "a0c6c55b-519c-433d-ea7d-cc19ebd8ced7",
        "colab": {
          "base_uri": "https://localhost:8080/",
          "height": 896
        }
      },
      "execution_count": 41,
      "outputs": [
        {
          "output_type": "stream",
          "name": "stdout",
          "text": [
            "./resnet50-saved-model-11-acc-0.47.hdf5\n",
            "1/7 [===>..........................] - ETA: 31s - loss: 1.8790 - acc: 0.0000e+00"
          ]
        },
        {
          "output_type": "stream",
          "name": "stderr",
          "text": [
            "/usr/local/lib/python3.7/dist-packages/PIL/Image.py:960: UserWarning: Palette images with Transparency expressed in bytes should be converted to RGBA images\n",
            "  \"Palette images with Transparency expressed in bytes should be \"\n"
          ]
        },
        {
          "output_type": "stream",
          "name": "stdout",
          "text": [
            "7/7 [==============================] - 25s 3s/step - loss: 1.3031 - acc: 0.4554\n",
            "Loss of the model is -  1.3030669689178467\n",
            "Accuracy of the model is -  45.53571343421936 %\n"
          ]
        },
        {
          "output_type": "stream",
          "name": "stderr",
          "text": [
            "/usr/local/lib/python3.7/dist-packages/sklearn/metrics/_classification.py:1318: UndefinedMetricWarning: Precision and F-score are ill-defined and being set to 0.0 in labels with no predicted samples. Use `zero_division` parameter to control this behavior.\n",
            "  _warn_prf(average, modifier, msg_start, len(result))\n",
            "/usr/local/lib/python3.7/dist-packages/sklearn/metrics/_classification.py:1318: UndefinedMetricWarning: Precision and F-score are ill-defined and being set to 0.0 in labels with no predicted samples. Use `zero_division` parameter to control this behavior.\n",
            "  _warn_prf(average, modifier, msg_start, len(result))\n",
            "/usr/local/lib/python3.7/dist-packages/sklearn/metrics/_classification.py:1318: UndefinedMetricWarning: Precision and F-score are ill-defined and being set to 0.0 in labels with no predicted samples. Use `zero_division` parameter to control this behavior.\n",
            "  _warn_prf(average, modifier, msg_start, len(result))\n"
          ]
        },
        {
          "output_type": "stream",
          "name": "stdout",
          "text": [
            "              precision    recall  f1-score   support\n",
            "\n",
            "       Basil       0.00      0.00      0.00        16\n",
            " Bayam Hijau       0.00      0.00      0.00        29\n",
            "  Jambu Biji       0.00      0.00      0.00        20\n",
            "       Kelor       0.24      0.59      0.34        22\n",
            "       Lemon       0.00      0.00      0.00        23\n",
            "      Mangga       0.60      1.00      0.75        45\n",
            "        Mint       0.52      0.53      0.53        45\n",
            "      Pepaya       0.45      0.83      0.59        24\n",
            "\n",
            "    accuracy                           0.46       224\n",
            "   macro avg       0.23      0.37      0.28       224\n",
            "weighted avg       0.30      0.46      0.35       224\n",
            "\n",
            "Confusion Matrix\n"
          ]
        },
        {
          "output_type": "display_data",
          "data": {
            "text/plain": [
              "<Figure size 432x288 with 2 Axes>"
            ],
            "image/png": "[encoded data removed]"
          },
          "metadata": {
            "needs_background": "light"
          }
        }
      ]
    },
    {
      "cell_type": "code",
      "source": [
        "target_dir = '/content/drive/Shareddrives/Bangkit Capstone/Best Model'\n",
        "resnet50_model.save_best_model(target_dir=target_dir)"
      ],
      "metadata": {
        "id": "Oww1X3r3piG1",
        "outputId": "c52c8622-df3b-4a48-9d74-64a4b81f0f5e",
        "colab": {
          "base_uri": "https://localhost:8080/"
        }
      },
      "execution_count": 43,
      "outputs": [
        {
          "output_type": "stream",
          "name": "stdout",
          "text": [
            "Copy ./resnet50-saved-model-11-acc-0.47.hdf5 to /content/drive/Shareddrives/Bangkit Capstone/Best Model\n"
          ]
        }
      ]
    },
    {
      "cell_type": "markdown",
      "source": [
        "# VGG19"
      ],
      "metadata": {
        "id": "NfPksWvrFx5f"
      }
    },
    {
      "cell_type": "markdown",
      "source": [
        "## Build Model"
      ],
      "metadata": {
        "id": "PdSXQrRbFzf7"
      }
    },
    {
      "cell_type": "code",
      "source": [
        "from tensorflow.keras.applications.vgg19 import VGG19\n",
        "from tensorflow.keras.applications.vgg19 import preprocess_input as vgg19_preprocess_input\n",
        "\n",
        "config = {\n",
        "    \"batch_size\": 32,\n",
        "    \"epochs\": 20,\n",
        "    \"classes\": 8,\n",
        "    \"input_shape\": (224, 224, 3)\n",
        "\n",
        "}\n",
        "\n",
        "compile_config = {\n",
        "    \"loss\": \"sparse_categorical_crossentropy\",\n",
        "    \"optimizer\": Adam(learning_rate=0.0001),\n",
        "    \"metrics\": [\"accuracy\"],\n",
        "}\n",
        "vgg19 = VGG19(\n",
        "        include_top=False,\n",
        "        weights='imagenet',\n",
        "        input_shape=config['input_shape'],\n",
        ")\n",
        "\n",
        "custom_layer = [\n",
        "    tf.keras.layers.Dense(512, activation='relu'),\n",
        "    tf.keras.layers.Dense(1024, activation='relu'),\n",
        "    tf.keras.layers.Dense(1024, activation='relu'),\n",
        "]\n",
        "\n",
        "vgg19.trainable = False\n",
        "vgg19_model = Model(model=vgg19, config=config)\n",
        "vgg19_model.train_val_generators(train_dir, validation_dir, test_dir, preprocess_input=vgg19_preprocess_input)\n",
        "vgg19_model.build_model(compile_config, custom_layer)"
      ],
      "metadata": {
        "id": "ODF3B43E9El6",
        "outputId": "68157e86-56b4-432a-d1d9-342d92d59ab2",
        "colab": {
          "base_uri": "https://localhost:8080/"
        }
      },
      "execution_count": 46,
      "outputs": [
        {
          "output_type": "stream",
          "name": "stdout",
          "text": [
            "Found 1518 images belonging to 8 classes.\n",
            "Found 427 images belonging to 8 classes.\n",
            "Found 224 images belonging to 8 classes.\n",
            "Model: \"sequential_14\"\n",
            "_________________________________________________________________\n",
            " Layer (type)                Output Shape              Param #   \n",
            "=================================================================\n",
            " vgg19 (Functional)          (None, 7, 7, 512)         20024384  \n",
            "                                                                 \n",
            " flatten_15 (Flatten)        (None, 25088)             0         \n",
            "                                                                 \n",
            " dense_45 (Dense)            (None, 512)               12845568  \n",
            "                                                                 \n",
            " dense_46 (Dense)            (None, 1024)              525312    \n",
            "                                                                 \n",
            " dense_47 (Dense)            (None, 1024)              1049600   \n",
            "                                                                 \n",
            " dense_48 (Dense)            (None, 8)                 8200      \n",
            "                                                                 \n",
            "=================================================================\n",
            "Total params: 34,453,064\n",
            "Trainable params: 14,428,680\n",
            "Non-trainable params: 20,024,384\n",
            "_________________________________________________________________\n"
          ]
        },
        {
          "output_type": "execute_result",
          "data": {
            "text/plain": [
              "<keras.engine.sequential.Sequential at 0x7f79d672fd90>"
            ]
          },
          "metadata": {},
          "execution_count": 46
        }
      ]
    },
    {
      "cell_type": "markdown",
      "source": [
        "## Train Model"
      ],
      "metadata": {
        "id": "Q51wrWa0F15-"
      }
    },
    {
      "cell_type": "code",
      "source": [
        "reduce_lr_config = {\n",
        "    'monitor': 'val_loss',\n",
        "    'factor': 0.05, \n",
        "    'patience':5, \n",
        "    'min_lr': 0.000002\n",
        "}\n",
        "vgg19_model.train('vgg19', reduce_lr_config=reduce_lr_config)"
      ],
      "metadata": {
        "id": "zC1Cml0l-s7x",
        "outputId": "425e7f2f-6791-4b99-f971-506a59ab934c",
        "colab": {
          "base_uri": "https://localhost:8080/"
        }
      },
      "execution_count": null,
      "outputs": [
        {
          "output_type": "stream",
          "name": "stdout",
          "text": [
            "Epoch 1/20\n",
            "48/48 [==============================] - ETA: 0s - loss: 1.3160 - acc: 0.5138\n",
            "Epoch 1: val_acc improved from -inf to 0.70492, saving model to vgg19-saved-model-01-acc-0.70.hdf5\n",
            "48/48 [==============================] - 229s 5s/step - loss: 1.3160 - acc: 0.5138 - val_loss: 0.8230 - val_acc: 0.7049 - lr: 1.0000e-04\n",
            "Epoch 2/20\n",
            "48/48 [==============================] - ETA: 0s - loss: 0.7185 - acc: 0.7431\n",
            "Epoch 2: val_acc improved from 0.70492 to 0.83607, saving model to vgg19-saved-model-02-acc-0.84.hdf5\n",
            "48/48 [==============================] - 226s 5s/step - loss: 0.7185 - acc: 0.7431 - val_loss: 0.4913 - val_acc: 0.8361 - lr: 1.0000e-04\n",
            "Epoch 3/20\n",
            "48/48 [==============================] - ETA: 0s - loss: 0.5775 - acc: 0.7839\n",
            "Epoch 3: val_acc improved from 0.83607 to 0.83841, saving model to vgg19-saved-model-03-acc-0.84.hdf5\n",
            "48/48 [==============================] - 224s 5s/step - loss: 0.5775 - acc: 0.7839 - val_loss: 0.4422 - val_acc: 0.8384 - lr: 1.0000e-04\n",
            "Epoch 4/20\n",
            "48/48 [==============================] - ETA: 0s - loss: 0.4552 - acc: 0.8412\n",
            "Epoch 4: val_acc improved from 0.83841 to 0.86183, saving model to vgg19-saved-model-04-acc-0.86.hdf5\n",
            "48/48 [==============================] - 224s 5s/step - loss: 0.4552 - acc: 0.8412 - val_loss: 0.3932 - val_acc: 0.8618 - lr: 1.0000e-04\n",
            "Epoch 5/20\n",
            "48/48 [==============================] - ETA: 0s - loss: 0.4061 - acc: 0.8656\n",
            "Epoch 5: val_acc improved from 0.86183 to 0.88290, saving model to vgg19-saved-model-05-acc-0.88.hdf5\n",
            "48/48 [==============================] - 225s 5s/step - loss: 0.4061 - acc: 0.8656 - val_loss: 0.3412 - val_acc: 0.8829 - lr: 1.0000e-04\n",
            "Epoch 6/20\n",
            "48/48 [==============================] - ETA: 0s - loss: 0.4212 - acc: 0.8445\n",
            "Epoch 6: val_acc did not improve from 0.88290\n",
            "48/48 [==============================] - 225s 5s/step - loss: 0.4212 - acc: 0.8445 - val_loss: 0.3369 - val_acc: 0.8829 - lr: 1.0000e-04\n",
            "Epoch 7/20\n",
            "48/48 [==============================] - ETA: 0s - loss: 0.3652 - acc: 0.8564\n",
            "Epoch 7: val_acc did not improve from 0.88290\n",
            "48/48 [==============================] - 222s 5s/step - loss: 0.3652 - acc: 0.8564 - val_loss: 0.3271 - val_acc: 0.8759 - lr: 1.0000e-04\n",
            "Epoch 8/20\n",
            "48/48 [==============================] - ETA: 0s - loss: 0.3232 - acc: 0.8781\n",
            "Epoch 8: val_acc did not improve from 0.88290\n",
            "48/48 [==============================] - 224s 5s/step - loss: 0.3232 - acc: 0.8781 - val_loss: 0.3265 - val_acc: 0.8829 - lr: 1.0000e-04\n",
            "Epoch 9/20\n",
            "48/48 [==============================] - ETA: 0s - loss: 0.3044 - acc: 0.8906\n",
            "Epoch 9: val_acc improved from 0.88290 to 0.88993, saving model to vgg19-saved-model-09-acc-0.89.hdf5\n",
            "48/48 [==============================] - 224s 5s/step - loss: 0.3044 - acc: 0.8906 - val_loss: 0.2872 - val_acc: 0.8899 - lr: 1.0000e-04\n",
            "Epoch 10/20\n",
            "48/48 [==============================] - ETA: 0s - loss: 0.2658 - acc: 0.9058\n",
            "Epoch 10: val_acc did not improve from 0.88993\n",
            "48/48 [==============================] - 223s 5s/step - loss: 0.2658 - acc: 0.9058 - val_loss: 0.3119 - val_acc: 0.8712 - lr: 1.0000e-04\n",
            "Epoch 11/20\n",
            "48/48 [==============================] - ETA: 0s - loss: 0.2930 - acc: 0.8946\n",
            "Epoch 11: val_acc improved from 0.88993 to 0.91335, saving model to vgg19-saved-model-11-acc-0.91.hdf5\n",
            "48/48 [==============================] - 224s 5s/step - loss: 0.2930 - acc: 0.8946 - val_loss: 0.2810 - val_acc: 0.9133 - lr: 1.0000e-04\n",
            "Epoch 12/20\n",
            "48/48 [==============================] - ETA: 0s - loss: 0.2701 - acc: 0.8992\n",
            "Epoch 12: val_acc improved from 0.91335 to 0.92037, saving model to vgg19-saved-model-12-acc-0.92.hdf5\n",
            "48/48 [==============================] - 226s 5s/step - loss: 0.2701 - acc: 0.8992 - val_loss: 0.2570 - val_acc: 0.9204 - lr: 1.0000e-04\n",
            "Epoch 13/20\n",
            "48/48 [==============================] - ETA: 0s - loss: 0.2609 - acc: 0.9091\n",
            "Epoch 13: val_acc did not improve from 0.92037\n",
            "48/48 [==============================] - 224s 5s/step - loss: 0.2609 - acc: 0.9091 - val_loss: 0.2901 - val_acc: 0.8970 - lr: 1.0000e-04\n",
            "Epoch 14/20\n",
            "48/48 [==============================] - ETA: 0s - loss: 0.2410 - acc: 0.9137\n",
            "Epoch 14: val_acc did not improve from 0.92037\n",
            "48/48 [==============================] - 224s 5s/step - loss: 0.2410 - acc: 0.9137 - val_loss: 0.2897 - val_acc: 0.8946 - lr: 1.0000e-04\n",
            "Epoch 15/20\n",
            "48/48 [==============================] - ETA: 0s - loss: 0.2465 - acc: 0.9137\n",
            "Epoch 15: val_acc did not improve from 0.92037\n",
            "48/48 [==============================] - 223s 5s/step - loss: 0.2465 - acc: 0.9137 - val_loss: 0.3268 - val_acc: 0.8852 - lr: 1.0000e-04\n",
            "Epoch 16/20\n",
            "48/48 [==============================] - ETA: 0s - loss: 0.2358 - acc: 0.9130\n",
            "Epoch 16: val_acc did not improve from 0.92037\n",
            "48/48 [==============================] - 225s 5s/step - loss: 0.2358 - acc: 0.9130 - val_loss: 0.3468 - val_acc: 0.8946 - lr: 1.0000e-04\n",
            "Epoch 17/20\n",
            "17/48 [=========>....................] - ETA: 1:56 - loss: 0.3436 - acc: 0.8859"
          ]
        }
      ]
    },
    {
      "cell_type": "markdown",
      "source": [
        "## History"
      ],
      "metadata": {
        "id": "Tv6u4f_dF3e3"
      }
    },
    {
      "cell_type": "code",
      "source": [
        "vgg19_model.plot_history()"
      ],
      "metadata": {
        "id": "YJeG4odwPIT9"
      },
      "execution_count": null,
      "outputs": []
    },
    {
      "cell_type": "markdown",
      "source": [
        "## Evaluate Model"
      ],
      "metadata": {
        "id": "Shtt8EgBF48h"
      }
    },
    {
      "cell_type": "code",
      "source": [
        "vgg19_model.evaluate_model()"
      ],
      "metadata": {
        "id": "1Wvehz6vFkfG"
      },
      "execution_count": null,
      "outputs": []
    },
    {
      "cell_type": "markdown",
      "source": [
        "## Evaluate Best Model"
      ],
      "metadata": {
        "id": "TASTQhyVF8UY"
      }
    },
    {
      "cell_type": "code",
      "source": [
        "vgg19_model.model_name = 'vgg19'\n",
        "vgg19_model.find_best_model('.')\n",
        "vgg19_model.evaluate_best_model()"
      ],
      "metadata": {
        "id": "O1POG8eIPAvA"
      },
      "execution_count": null,
      "outputs": []
    },
    {
      "cell_type": "code",
      "source": [
        "target_dir = '/content/drive/Shareddrives/Bangkit Capstone/Best Model'\n",
        "vgg19_model.save_best_model(target_dir=target_dir)"
      ],
      "metadata": {
        "id": "5L9XpvKfPRrj"
      },
      "execution_count": null,
      "outputs": []
    },
    {
      "cell_type": "code",
      "source": [
        "def load_image(img_path, show=False):\n",
        "\n",
        "    img = load_img(img_path, target_size=(224, 224))\n",
        "    img_tensor = img_to_array(img)                    # (height, width, channels)\n",
        "    img_tensor = np.expand_dims(img_tensor, axis=0)         # (1, height, width, channels), add a dimension because the model expects this shape: (batch_size, height, width, channels)\n",
        "    img_tensor /= 255.                                      # imshow expects values in the range [0, 1]\n",
        "\n",
        "    if show:\n",
        "        plt.imshow(img_tensor[0])                           \n",
        "        plt.axis('off')\n",
        "        plt.show()\n",
        "\n",
        "    return img_tensor"
      ],
      "metadata": {
        "id": "EZxT5thPAveN"
      },
      "execution_count": null,
      "outputs": []
    },
    {
      "cell_type": "code",
      "source": [
        "!wget https://media.discordapp.net/attachments/971451202267119678/977480585750667294/IMG20220521145825.jpg -O daun8.jpg"
      ],
      "metadata": {
        "id": "gwyeZrfJfCIQ",
        "outputId": "d8abcb21-0c48-4897-ef2c-1713738b4454",
        "colab": {
          "base_uri": "https://localhost:8080/"
        }
      },
      "execution_count": null,
      "outputs": [
        {
          "output_type": "stream",
          "name": "stdout",
          "text": [
            "--2022-05-29 12:36:31--  https://media.discordapp.net/attachments/971451202267119678/977480585750667294/IMG20220521145825.jpg\n",
            "Resolving media.discordapp.net (media.discordapp.net)... 162.159.128.232, 162.159.129.232, 162.159.130.232, ...\n",
            "Connecting to media.discordapp.net (media.discordapp.net)|162.159.128.232|:443... connected.\n",
            "HTTP request sent, awaiting response... 200 OK\n",
            "Length: 2433187 (2.3M) [image/jpeg]\n",
            "Saving to: ‘daun8.jpg’\n",
            "\n",
            "daun8.jpg           100%[===================>]   2.32M  --.-KB/s    in 0.03s   \n",
            "\n",
            "2022-05-29 12:36:31 (79.8 MB/s) - ‘daun8.jpg’ saved [2433187/2433187]\n",
            "\n"
          ]
        }
      ]
    },
    {
      "cell_type": "code",
      "source": [
        "model = vgg19_model.model\n",
        "label_map = (train_generator.class_indices)\n",
        "label_map = {v: k for k, v in label_map.items()}\n",
        "image_path ='daun8.jpg'\n",
        "image = load_image(image_path, show=True)\n",
        "predict = model.predict(image)\n",
        "print(label_map[np.argmax(model.predict(image))])\n",
        "predicted_list = [ele * 100 for ele in predict.flatten()]\n",
        "\n",
        "for idx, ele in enumerate(predicted_list):\n",
        "  print(f\"{label_map[idx]}: {ele}\")"
      ],
      "metadata": {
        "id": "DHB9xo1Y-b10"
      },
      "execution_count": null,
      "outputs": []
    },
    {
      "cell_type": "code",
      "source": [
        "train_generator.class_indices"
      ],
      "metadata": {
        "id": "STyyK9UqfPWp"
      },
      "execution_count": null,
      "outputs": []
    },
    {
      "cell_type": "code",
      "source": [
        "import cv2\n",
        "from google.colab.patches import cv2_imshow\n",
        "img =  cv2.imread('/istockphoto-584504750-1024x1024.jpg')\n",
        "hsv = cv2.cvtColor(img, cv2.COLOR_BGR2HSV)\n",
        "\n",
        "# find the green color \n",
        "mask_green = cv2.inRange(hsv, (36,0,0), (86,255,255))\n",
        "# find the brown color\n",
        "mask_brown = cv2.inRange(hsv, (8, 60, 20), (30, 255, 200))\n",
        "# find the yellow color in the leaf\n",
        "mask_yellow = cv2.inRange(hsv, (21, 39, 64), (40, 255, 255))\n",
        "\n",
        "# find any of the three colors(green or brown or yellow) in the image\n",
        "mask = cv2.bitwise_or(mask_green, mask_brown)\n",
        "mask = cv2.bitwise_or(mask, mask_yellow)\n",
        "\n",
        "# Bitwise-AND mask and original image\n",
        "res = cv2.bitwise_and(img,img, mask= mask)\n",
        "\n",
        "cv2_imshow(img)\n",
        "cv2_imshow(res)\n",
        "cv2.waitKey(0)\n",
        "cv2.destroyAllWindows()"
      ],
      "metadata": {
        "id": "EGleFz34CW9L"
      },
      "execution_count": null,
      "outputs": []
    },
    {
      "cell_type": "code",
      "source": [
        "train_generator.class_indices"
      ],
      "metadata": {
        "id": "ZgQMagyLzuz5",
        "outputId": "e1899804-d1e5-41c9-8254-7630a2c84f5f",
        "colab": {
          "base_uri": "https://localhost:8080/"
        }
      },
      "execution_count": null,
      "outputs": [
        {
          "output_type": "execute_result",
          "data": {
            "text/plain": [
              "{'Bayam Hijau': 0,\n",
              " 'Jahe': 1,\n",
              " 'Jambu Biji': 2,\n",
              " 'Jeruk Purut': 3,\n",
              " 'Kelor': 4,\n",
              " 'Kersen': 5,\n",
              " 'Lemon': 6,\n",
              " 'Lengkuas': 7,\n",
              " 'Mint': 8,\n",
              " 'Nangka': 9,\n",
              " 'Pepaya': 10}"
            ]
          },
          "metadata": {},
          "execution_count": 29
        }
      ]
    }
  ],
  "metadata": {
    "language_info": {
      "name": "python"
    },
    "orig_nbformat": 4,
    "colab": {
      "name": "03-ensemble.ipynb",
      "provenance": [],
      "toc_visible": true,
      "include_colab_link": true
    },
    "kernelspec": {
      "name": "python3",
      "display_name": "Python 3"
    },
    "accelerator": "GPU"
  },
  "nbformat": 4,
  "nbformat_minor": 0
}