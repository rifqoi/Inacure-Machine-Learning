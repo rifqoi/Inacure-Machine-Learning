{
  "cells": [
    {
      "cell_type": "markdown",
      "metadata": {
        "id": "view-in-github",
        "colab_type": "text"
      },
      "source": [
        "<a href=\"https://colab.research.google.com/github/rifqoi/Inacure-Machine-Learning/blob/main/03-ensemble.ipynb\" target=\"_parent\"><img src=\"https://colab.research.google.com/assets/colab-badge.svg\" alt=\"Open In Colab\"/></a>"
      ]
    },
    {
      "cell_type": "markdown",
      "source": [
        "# Load Dataset from Google Drive"
      ],
      "metadata": {
        "id": "4n0IP2rPwhh6"
      }
    },
    {
      "cell_type": "code",
      "execution_count": 1,
      "metadata": {
        "id": "dXJOIFnywIZt",
        "outputId": "42fc30a0-78de-4616-958d-af843a78b848",
        "colab": {
          "base_uri": "https://localhost:8080/"
        }
      },
      "outputs": [
        {
          "output_type": "stream",
          "name": "stdout",
          "text": [
            "Mounted at /content/drive\n"
          ]
        }
      ],
      "source": [
        "import os\n",
        "from google.colab import drive\n",
        "drive.mount('/content/drive')\n",
        "# !unzip  drive/Shareddrives/Bangkit\\ Capstone/leaf_datasets.zip -d ."
      ]
    },
    {
      "cell_type": "markdown",
      "source": [
        "# Import Libraries"
      ],
      "metadata": {
        "id": "EJCqYLrjwe9E"
      }
    },
    {
      "cell_type": "code",
      "source": [
        "import re\n",
        "import os\n",
        "import zipfile\n",
        "import random\n",
        "import shutil\n",
        "import tensorflow as tf\n",
        "from tensorflow.keras.preprocessing.image import ImageDataGenerator\n",
        "from tensorflow.keras.preprocessing.image import img_to_array, load_img\n",
        "from tensorflow.keras.optimizers import Adam, RMSprop\n",
        "from tensorflow.keras import layers, models\n",
        "from tensorflow.keras.callbacks import EarlyStopping\n",
        "\n",
        "tf.keras.utils.set_random_seed(42)\n",
        "\n",
        "from sklearn.metrics import classification_report, confusion_matrix\n",
        "import matplotlib.pyplot as plt\n",
        "import numpy as np\n",
        "import pandas as pd\n",
        "import seaborn as sns\n",
        "from shutil import copyfile"
      ],
      "metadata": {
        "id": "rBxlhby7wMok"
      },
      "execution_count": 2,
      "outputs": []
    },
    {
      "cell_type": "markdown",
      "source": [
        "# List directories for each datasets"
      ],
      "metadata": {
        "id": "Bj591mJjB2rn"
      }
    },
    {
      "cell_type": "code",
      "source": [
        "dataset_dir = f\"/content/drive/Shareddrives/Bangkit Capstone/Final_Split_Datasets\"\n",
        "train_dir = os.path.join(dataset_dir, \"train\")\n",
        "validation_dir = os.path.join(dataset_dir, \"validation\")\n",
        "test_dir = os.path.join(dataset_dir, \"test\")"
      ],
      "metadata": {
        "id": "TXhMCdHlwdp4"
      },
      "execution_count": 3,
      "outputs": []
    },
    {
      "cell_type": "markdown",
      "source": [
        "# List Images"
      ],
      "metadata": {
        "id": "fgzqGwUxAn60"
      }
    },
    {
      "cell_type": "code",
      "source": [
        "def list_images():\n",
        "  classes_dirs = os.listdir(train_dir)\n",
        "  for folder in classes_dirs:\n",
        "    train_classes = os.listdir(os.path.join(train_dir, folder))\n",
        "    validation_classes = os.listdir(os.path.join(validation_dir, folder))\n",
        "    test_classes = os.listdir(os.path.join(test_dir, folder))\n",
        "    print(f\"{folder}: \\n \\t{len(train_classes)} train images, {len(validation_classes)} validation images, and {len(test_classes)} test images,  total {len(train_classes) + len(validation_classes) + len(test_classes)} images\")\n",
        "    print()\n",
        "list_images()"
      ],
      "metadata": {
        "id": "O6WVlJsXw4z0",
        "outputId": "988d89e2-023d-430c-c5b6-900c4ebde2b8",
        "colab": {
          "base_uri": "https://localhost:8080/"
        }
      },
      "execution_count": 4,
      "outputs": [
        {
          "output_type": "stream",
          "name": "stdout",
          "text": [
            "Pepaya: \n",
            " \t168 train images, 47 validation images, and 25 test images,  total 240 images\n",
            "\n",
            "Lemon: \n",
            " \t151 train images, 42 validation images, and 23 test images,  total 216 images\n",
            "\n",
            "Mangga: \n",
            " \t304 train images, 86 validation images, and 45 test images,  total 435 images\n",
            "\n",
            "Jambu Biji: \n",
            " \t338 train images, 96 validation images, and 50 test images,  total 484 images\n",
            "\n",
            "Jamblang: \n",
            " \t226 train images, 64 validation images, and 34 test images,  total 324 images\n",
            "\n",
            "Delima: \n",
            " \t251 train images, 71 validation images, and 37 test images,  total 359 images\n",
            "\n",
            "Anggur: \n",
            " \t245 train images, 69 validation images, and 37 test images,  total 351 images\n",
            "\n",
            "Kedelai: \n",
            " \t245 train images, 69 validation images, and 37 test images,  total 351 images\n",
            "\n",
            "Apel: \n",
            " \t245 train images, 69 validation images, and 37 test images,  total 351 images\n",
            "\n",
            "Ceri: \n",
            " \t245 train images, 69 validation images, and 37 test images,  total 351 images\n",
            "\n"
          ]
        }
      ]
    },
    {
      "cell_type": "markdown",
      "source": [
        "# Create a model class to prevent code redundancy"
      ],
      "metadata": {
        "id": "nHbA41rUAsBG"
      }
    },
    {
      "cell_type": "code",
      "source": [
        "class Model:\n",
        "  def __init__(self, model, config):\n",
        "    self.config = config\n",
        "    self.batch_size = self.config['batch_size']\n",
        "    # self.trainable = self.config['trainable']\n",
        "    self.epochs = self.config['epochs']\n",
        "    self.classes= self.config['classes']\n",
        "    self.input_shape = self.config['input_shape']\n",
        "    self.base_model = model\n",
        "\n",
        "  def train_val_generators(self, TRAINING_DIR, VALIDATION_DIR, TEST_DIR, preprocess_input=None):\n",
        "    train_datagen = ImageDataGenerator(rescale = 1./255.,\n",
        "                                rotation_range = 25,\n",
        "                                zoom_range = [0.5, 1.1],\n",
        "                                width_shift_range=0.15, \n",
        "                                shear_range= 0.15,\n",
        "                                height_shift_range=0.15,\n",
        "                                preprocessing_function=preprocess_input,\n",
        "                                horizontal_flip=True,\n",
        "                                vertical_flip= True,\n",
        "                                fill_mode='nearest',)\n",
        "  \n",
        "    train_generator = train_datagen.flow_from_directory(directory=TRAINING_DIR,\n",
        "                                                        batch_size=32, \n",
        "                                                        seed=42,\n",
        "                                                        class_mode='sparse',\n",
        "                                                        target_size=(224, 224))\n",
        "  \n",
        "    validation_datagen = ImageDataGenerator(rescale = 1/255,\n",
        "                                            preprocessing_function=preprocess_input)\n",
        "  \n",
        "    validation_generator = validation_datagen.flow_from_directory(directory=VALIDATION_DIR,\n",
        "                                                                  batch_size=32, \n",
        "                                                                  seed=42,\n",
        "                                                                  class_mode='sparse',\n",
        "                                                                  target_size=(224, 224))\n",
        "    test_datagen = ImageDataGenerator(rescale= 1./255.)\n",
        "  \n",
        "    test_generator = test_datagen.flow_from_directory(directory=TEST_DIR,\n",
        "                                                                  batch_size=32,\n",
        "                                                                  shuffle=False, \n",
        "                                                                  seed=42,\n",
        "                                                                  class_mode='sparse',\n",
        "                                                                  target_size=(224, 224))\n",
        "\n",
        "    self.train_generator = train_generator\n",
        "    self.validation_generator = validation_generator\n",
        "    self.test_generator = test_generator\n",
        "    return train_generator, validation_generator, test_generator\n",
        "\n",
        "  def set_generator(self, train_generator, val_generator, test_generator, ):\n",
        "    self.train_generator = train_generator\n",
        "    self.valdation_generator = validation_generator\n",
        "    self.test_generator = test_generator\n",
        "  \n",
        "\n",
        "  def build_model(self, compile_config, custom_layer = None):\n",
        "\n",
        "    compile_config['metrics'] = [metric.replace(\"accuracy\", \"acc\") for metric in compile_config['metrics']]\n",
        "\n",
        "    layers = []\n",
        "    \n",
        "    # Append base model to layers_list\n",
        "    layers.append(self.base_model)\n",
        "\n",
        "    flatten_layer = tf.keras.layers.Flatten()\n",
        "    layers.append(flatten_layer)\n",
        "\n",
        "    if custom_layer is None:\n",
        "      layers.append(tf.keras.layers.Dense(512, activation='relu'))\n",
        "    else: \n",
        "      for layer in custom_layer:\n",
        "        layers.append(layer)\n",
        "    \n",
        "    prediction_layer = tf.keras.layers.Dense(self.classes, activation='softmax')\n",
        "    layers.append(prediction_layer)\n",
        "\n",
        "    self.model = tf.keras.models.Sequential(layers)\n",
        "\n",
        "    self.model.compile(**compile_config)\n",
        "    self.model.summary()\n",
        "\n",
        "    return self.model\n",
        "\n",
        "  def train(self, model_name, reduce_lr_config=None):\n",
        "    self.model_name = model_name\n",
        "    model_filepath = model_name +'-saved-model-{epoch:02d}-acc-{val_acc:.2f}.hdf5'\n",
        "    model_checkpoint = tf.keras.callbacks.ModelCheckpoint(model_filepath, monitor='val_acc', verbose=1, save_best_only=True, mode='max')\n",
        "    model_early_stopping = tf.keras.callbacks.EarlyStopping(monitor='loss', patience=5)\n",
        "    callbacks = [model_checkpoint, model_early_stopping]\n",
        "    if reduce_lr_config is not None:\n",
        "      reduce_lr = tf.keras.callbacks.ReduceLROnPlateau(**reduce_lr_config)\n",
        "      callbacks.append(reduce_lr)\n",
        "    model_history = self.model.fit(self.train_generator, epochs = self.epochs,\n",
        "                                   validation_data = self.validation_generator,callbacks=callbacks , verbose=1)\n",
        "    self.history = model_history\n",
        "    return model_history\n",
        "\n",
        "  def plot_history(self):\n",
        "    acc = self.history.history['acc']\n",
        "    val_acc = self.history.history['val_acc']\n",
        "    loss = self.history.history['loss']\n",
        "    val_loss = self.history.history['val_loss']\n",
        "    \n",
        "    epochs = range(len(acc))\n",
        "    \n",
        "    plt.subplot()\n",
        "    plt.plot(epochs, acc, 'r', label='Training accuracy')\n",
        "    plt.plot(epochs, val_acc, 'b', label='Validation accuracy')\n",
        "    plt.title('Training and validation accuracy')\n",
        "    plt.legend(loc=0)\n",
        "    plt.figure()\n",
        "  \n",
        "    plt.subplot()\n",
        "    plt.title('Training and validation loss')\n",
        "    plt.plot(epochs, loss, label='Training Loss')\n",
        "    plt.plot(epochs, val_loss,  label='Validation Loss')\n",
        "    plt.legend()\n",
        "    plt.show()\n",
        "    \n",
        "    plt.show()\n",
        "\n",
        "  def evaluate_model(self):\n",
        "    evaluate = self.model.evaluate(self.test_generator)\n",
        "    print('Loss of the model is - ', evaluate[0])\n",
        "    print('Accuracy of the model is - ', evaluate[1]*100, '%')\n",
        "  \n",
        "    classes =  list(self.test_generator.class_indices.keys())\n",
        "    Y_pred = self.model.predict(self.test_generator)\n",
        "    y_pred = np.argmax(Y_pred, axis=1)\n",
        "    \n",
        "    print(classification_report(self.test_generator.classes, y_pred, target_names=classes))\n",
        "    print('Confusion Matrix')\n",
        "    conf_matrix = confusion_matrix(self.test_generator.classes, y_pred)\n",
        "    df_cm = pd.DataFrame(conf_matrix, index = classes, columns = classes)\n",
        "    ax = sns.heatmap(df_cm, annot=True, cmap='Blues')\n",
        "  \n",
        "    ax.set_title('Seaborn Confusion Matrix with labels\\n\\n')\n",
        "    ax.set_xlabel('\\nPredicted Values')\n",
        "    ax.set_ylabel('Actual Values ')\n",
        "  \n",
        "  def find_best_model(self, weights_dir):\n",
        "    weights = os.listdir(weights_dir)\n",
        "    weights = list(filter(lambda x: self.model_name in x, weights))\n",
        "\n",
        "    best_acc = 0\n",
        "    best_weight = None\n",
        "    for weight in weights:\n",
        "      acc = int(re.search(r\"\\.(\\d+)\\.\", weight).group(1))\n",
        "      if best_acc < acc:\n",
        "        best_acc = acc\n",
        "        best_weight = weight\n",
        "    \n",
        "    self.best_weight = os.path.join(weights_dir, best_weight)\n",
        "    print(self.best_weight)\n",
        "\n",
        "  def evaluate_best_model(self, ):\n",
        "    if self.best_weight is None:\n",
        "      print(\"find_best_model dulu cuy\")\n",
        "      return 1\n",
        "    self.model.load_weights(self.best_weight)\n",
        "    self.evaluate_model()\n",
        "  \n",
        "  def save_best_model(self, target_dir):\n",
        "    if self.best_weight is None:\n",
        "      print(\"find_best_model dulu cuy\")\n",
        "      return 1\n",
        "    print(f\"Copy {self.best_weight} to {target_dir}\")\n",
        "    shutil.copy(self.best_weight, target_dir)\n",
        "  \n",
        "  def load_best_model(self, weight_path):\n",
        "    self.best_weight = weight_path\n",
        "    self.model.load_weights(self.best_weight)"
      ],
      "metadata": {
        "id": "2C7ob3aJsUzs"
      },
      "execution_count": 5,
      "outputs": []
    },
    {
      "cell_type": "markdown",
      "source": [
        "# VGG16 \n"
      ],
      "metadata": {
        "id": "Ibo8bmInDVqt"
      }
    },
    {
      "cell_type": "markdown",
      "source": [
        "## Build Model"
      ],
      "metadata": {
        "id": "TfA0MrwDUMI-"
      }
    },
    {
      "cell_type": "code",
      "source": [
        "from tensorflow.keras.applications.vgg16 import VGG16\n",
        "from tensorflow.keras.applications.vgg16 import preprocess_input as vgg16_preprocess_input\n",
        "config = {\n",
        "    \"batch_size\": 32,\n",
        "    \"epochs\": 20,\n",
        "    \"classes\": 10,\n",
        "    \"input_shape\": (224, 224, 3)\n",
        "\n",
        "}\n",
        "\n",
        "compile_config = {\n",
        "    \"loss\": \"sparse_categorical_crossentropy\",\n",
        "    \"optimizer\": Adam(),\n",
        "    \"metrics\": [\"acc\"],\n",
        "}\n",
        "\n",
        "custom_layer = [\n",
        "    tf.keras.layers.Dense(512, activation='relu'),\n",
        "    tf.keras.layers.Dense(1024, activation='relu'),\n",
        "    tf.keras.layers.Dense(1024, activation='relu')\n",
        "]\n",
        "\n",
        "vgg16 = VGG16(weights=\"imagenet\", include_top=False, input_shape=config['input_shape'])\n",
        "vgg16.trainable = False\n",
        "\n",
        "vgg16_model = Model(model=vgg16, config=config)\n",
        "vgg16_model.train_val_generators(train_dir, validation_dir, test_dir, preprocess_input=vgg16_preprocess_input)\n",
        "vgg16_model.build_model(compile_config, custom_layer=custom_layer)"
      ],
      "metadata": {
        "id": "FyDbxPC0tAaP",
        "outputId": "529cfdea-0d6d-439d-e225-835a44e7eab2",
        "colab": {
          "base_uri": "https://localhost:8080/"
        }
      },
      "execution_count": 8,
      "outputs": [
        {
          "output_type": "stream",
          "name": "stdout",
          "text": [
            "Found 2410 images belonging to 10 classes.\n",
            "Found 678 images belonging to 10 classes.\n",
            "Found 361 images belonging to 10 classes.\n",
            "Model: \"sequential_1\"\n",
            "_________________________________________________________________\n",
            " Layer (type)                Output Shape              Param #   \n",
            "=================================================================\n",
            " vgg16 (Functional)          (None, 7, 7, 512)         14714688  \n",
            "                                                                 \n",
            " flatten_1 (Flatten)         (None, 25088)             0         \n",
            "                                                                 \n",
            " dense_4 (Dense)             (None, 512)               12845568  \n",
            "                                                                 \n",
            " dense_5 (Dense)             (None, 1024)              525312    \n",
            "                                                                 \n",
            " dense_6 (Dense)             (None, 1024)              1049600   \n",
            "                                                                 \n",
            " dense_7 (Dense)             (None, 10)                10250     \n",
            "                                                                 \n",
            "=================================================================\n",
            "Total params: 29,145,418\n",
            "Trainable params: 14,430,730\n",
            "Non-trainable params: 14,714,688\n",
            "_________________________________________________________________\n"
          ]
        },
        {
          "output_type": "execute_result",
          "data": {
            "text/plain": [
              "<keras.engine.sequential.Sequential at 0x7f3ab02a04d0>"
            ]
          },
          "metadata": {},
          "execution_count": 8
        }
      ]
    },
    {
      "cell_type": "markdown",
      "source": [
        "## Train Model"
      ],
      "metadata": {
        "id": "g1OZAjC2UO4g"
      }
    },
    {
      "cell_type": "code",
      "source": [
        "vgg16_model.train(model_name='vgg16')"
      ],
      "metadata": {
        "id": "mn0dXP9Ksgyl",
        "outputId": "22f0c232-6a7b-415d-b1f9-e047cd27eceb",
        "colab": {
          "base_uri": "https://localhost:8080/"
        }
      },
      "execution_count": 9,
      "outputs": [
        {
          "output_type": "stream",
          "name": "stdout",
          "text": [
            "Epoch 1/20\n",
            "76/76 [==============================] - ETA: 0s - loss: 1.4582 - acc: 0.5245 \n",
            "Epoch 1: val_acc improved from -inf to 0.85103, saving model to vgg16-saved-model-01-acc-0.85.hdf5\n",
            "76/76 [==============================] - 2189s 29s/step - loss: 1.4582 - acc: 0.5245 - val_loss: 0.3975 - val_acc: 0.8510\n",
            "Epoch 2/20\n",
            "76/76 [==============================] - ETA: 0s - loss: 0.5750 - acc: 0.7863\n",
            "Epoch 2: val_acc improved from 0.85103 to 0.90265, saving model to vgg16-saved-model-02-acc-0.90.hdf5\n",
            "76/76 [==============================] - 450s 6s/step - loss: 0.5750 - acc: 0.7863 - val_loss: 0.2631 - val_acc: 0.9027\n",
            "Epoch 3/20\n",
            "76/76 [==============================] - ETA: 0s - loss: 0.4294 - acc: 0.8390\n",
            "Epoch 3: val_acc did not improve from 0.90265\n",
            "76/76 [==============================] - 442s 6s/step - loss: 0.4294 - acc: 0.8390 - val_loss: 0.2756 - val_acc: 0.8982\n",
            "Epoch 4/20\n",
            "76/76 [==============================] - ETA: 0s - loss: 0.3625 - acc: 0.8668\n",
            "Epoch 4: val_acc improved from 0.90265 to 0.92625, saving model to vgg16-saved-model-04-acc-0.93.hdf5\n",
            "76/76 [==============================] - 440s 6s/step - loss: 0.3625 - acc: 0.8668 - val_loss: 0.1905 - val_acc: 0.9263\n",
            "Epoch 5/20\n",
            "76/76 [==============================] - ETA: 0s - loss: 0.3500 - acc: 0.8739\n",
            "Epoch 5: val_acc did not improve from 0.92625\n",
            "76/76 [==============================] - 440s 6s/step - loss: 0.3500 - acc: 0.8739 - val_loss: 0.3320 - val_acc: 0.8982\n",
            "Epoch 6/20\n",
            "76/76 [==============================] - ETA: 0s - loss: 0.2947 - acc: 0.8971\n",
            "Epoch 6: val_acc improved from 0.92625 to 0.93805, saving model to vgg16-saved-model-06-acc-0.94.hdf5\n",
            "76/76 [==============================] - 442s 6s/step - loss: 0.2947 - acc: 0.8971 - val_loss: 0.1707 - val_acc: 0.9381\n",
            "Epoch 7/20\n",
            "76/76 [==============================] - ETA: 0s - loss: 0.2665 - acc: 0.9041\n",
            "Epoch 7: val_acc improved from 0.93805 to 0.95428, saving model to vgg16-saved-model-07-acc-0.95.hdf5\n",
            "76/76 [==============================] - 442s 6s/step - loss: 0.2665 - acc: 0.9041 - val_loss: 0.1664 - val_acc: 0.9543\n",
            "Epoch 8/20\n",
            "76/76 [==============================] - ETA: 0s - loss: 0.2731 - acc: 0.9017\n",
            "Epoch 8: val_acc improved from 0.95428 to 0.95870, saving model to vgg16-saved-model-08-acc-0.96.hdf5\n",
            "76/76 [==============================] - 445s 6s/step - loss: 0.2731 - acc: 0.9017 - val_loss: 0.1230 - val_acc: 0.9587\n",
            "Epoch 9/20\n",
            "76/76 [==============================] - ETA: 0s - loss: 0.2434 - acc: 0.9137\n",
            "Epoch 9: val_acc improved from 0.95870 to 0.96608, saving model to vgg16-saved-model-09-acc-0.97.hdf5\n",
            "76/76 [==============================] - 443s 6s/step - loss: 0.2434 - acc: 0.9137 - val_loss: 0.1122 - val_acc: 0.9661\n",
            "Epoch 10/20\n",
            "76/76 [==============================] - ETA: 0s - loss: 0.2883 - acc: 0.9033\n",
            "Epoch 10: val_acc did not improve from 0.96608\n",
            "76/76 [==============================] - 441s 6s/step - loss: 0.2883 - acc: 0.9033 - val_loss: 0.1576 - val_acc: 0.9513\n",
            "Epoch 11/20\n",
            "76/76 [==============================] - ETA: 0s - loss: 0.2917 - acc: 0.8975\n",
            "Epoch 11: val_acc did not improve from 0.96608\n",
            "76/76 [==============================] - 442s 6s/step - loss: 0.2917 - acc: 0.8975 - val_loss: 0.1220 - val_acc: 0.9587\n",
            "Epoch 12/20\n",
            "76/76 [==============================] - ETA: 0s - loss: 0.2320 - acc: 0.9141\n",
            "Epoch 12: val_acc did not improve from 0.96608\n",
            "76/76 [==============================] - 442s 6s/step - loss: 0.2320 - acc: 0.9141 - val_loss: 0.2652 - val_acc: 0.9056\n",
            "Epoch 13/20\n",
            "76/76 [==============================] - ETA: 0s - loss: 0.2189 - acc: 0.9249\n",
            "Epoch 13: val_acc did not improve from 0.96608\n",
            "76/76 [==============================] - 444s 6s/step - loss: 0.2189 - acc: 0.9249 - val_loss: 0.1932 - val_acc: 0.9322\n",
            "Epoch 14/20\n",
            "76/76 [==============================] - ETA: 0s - loss: 0.2512 - acc: 0.9112\n",
            "Epoch 14: val_acc did not improve from 0.96608\n",
            "76/76 [==============================] - 441s 6s/step - loss: 0.2512 - acc: 0.9112 - val_loss: 0.1677 - val_acc: 0.9513\n",
            "Epoch 15/20\n",
            "76/76 [==============================] - ETA: 0s - loss: 0.2249 - acc: 0.9187\n",
            "Epoch 15: val_acc did not improve from 0.96608\n",
            "76/76 [==============================] - 440s 6s/step - loss: 0.2249 - acc: 0.9187 - val_loss: 0.1890 - val_acc: 0.9381\n",
            "Epoch 16/20\n",
            "76/76 [==============================] - ETA: 0s - loss: 0.1551 - acc: 0.9461\n",
            "Epoch 16: val_acc did not improve from 0.96608\n",
            "76/76 [==============================] - 441s 6s/step - loss: 0.1551 - acc: 0.9461 - val_loss: 0.1650 - val_acc: 0.9395\n",
            "Epoch 17/20\n",
            "76/76 [==============================] - ETA: 0s - loss: 0.1485 - acc: 0.9461\n",
            "Epoch 17: val_acc did not improve from 0.96608\n",
            "76/76 [==============================] - 442s 6s/step - loss: 0.1485 - acc: 0.9461 - val_loss: 0.2289 - val_acc: 0.9277\n",
            "Epoch 18/20\n",
            "76/76 [==============================] - ETA: 0s - loss: 0.2253 - acc: 0.9278\n",
            "Epoch 18: val_acc did not improve from 0.96608\n",
            "76/76 [==============================] - 441s 6s/step - loss: 0.2253 - acc: 0.9278 - val_loss: 0.0961 - val_acc: 0.9661\n",
            "Epoch 19/20\n",
            "76/76 [==============================] - ETA: 0s - loss: 0.1767 - acc: 0.9378\n",
            "Epoch 19: val_acc did not improve from 0.96608\n",
            "76/76 [==============================] - 441s 6s/step - loss: 0.1767 - acc: 0.9378 - val_loss: 0.1396 - val_acc: 0.9528\n",
            "Epoch 20/20\n",
            "76/76 [==============================] - ETA: 0s - loss: 0.1628 - acc: 0.9427\n",
            "Epoch 20: val_acc did not improve from 0.96608\n",
            "76/76 [==============================] - 440s 6s/step - loss: 0.1628 - acc: 0.9427 - val_loss: 0.2185 - val_acc: 0.9366\n"
          ]
        },
        {
          "output_type": "execute_result",
          "data": {
            "text/plain": [
              "<keras.callbacks.History at 0x7f3ab0285ad0>"
            ]
          },
          "metadata": {},
          "execution_count": 9
        }
      ]
    },
    {
      "cell_type": "markdown",
      "source": [
        "## History"
      ],
      "metadata": {
        "id": "yc_EmXjJIsTK"
      }
    },
    {
      "cell_type": "code",
      "source": [
        "vgg16_model.plot_history()"
      ],
      "metadata": {
        "colab": {
          "base_uri": "https://localhost:8080/",
          "height": 545
        },
        "id": "Yhx7XtHa8oGa",
        "outputId": "7f9a08e9-e5f4-4fdc-a4a3-f66be9d23bf1"
      },
      "execution_count": 10,
      "outputs": [
        {
          "output_type": "display_data",
          "data": {
            "text/plain": [
              "<Figure size 432x288 with 1 Axes>"
            ],
            "image/png": "[encoded data removed]"
          },
          "metadata": {
            "needs_background": "light"
          }
        },
        {
          "output_type": "display_data",
          "data": {
            "text/plain": [
              "<Figure size 432x288 with 1 Axes>"
            ],
            "image/png": "[encoded data removed]"
          },
          "metadata": {
            "needs_background": "light"
          }
        }
      ]
    },
    {
      "cell_type": "markdown",
      "source": [
        "## Evaluate Model"
      ],
      "metadata": {
        "id": "feO9XLn9IvaM"
      }
    },
    {
      "cell_type": "code",
      "source": [
        "vgg16_model.evaluate_model()"
      ],
      "metadata": {
        "colab": {
          "base_uri": "https://localhost:8080/",
          "height": 741
        },
        "id": "B_C2qe1E9Ago",
        "outputId": "f374996d-2eb2-4c39-efb7-ec5f30a39730"
      },
      "execution_count": 11,
      "outputs": [
        {
          "output_type": "stream",
          "name": "stdout",
          "text": [
            "12/12 [==============================] - 303s 28s/step - loss: 0.3643 - acc: 0.9169\n",
            "Loss of the model is -  0.36428678035736084\n",
            "Accuracy of the model is -  91.68975353240967 %\n",
            "              precision    recall  f1-score   support\n",
            "\n",
            "      Anggur       1.00      1.00      1.00        37\n",
            "        Apel       1.00      0.95      0.97        37\n",
            "        Ceri       1.00      0.95      0.97        37\n",
            "      Delima       0.82      1.00      0.90        37\n",
            "    Jamblang       0.97      0.82      0.89        34\n",
            "  Jambu Biji       0.80      0.90      0.85        50\n",
            "     Kedelai       0.90      1.00      0.95        37\n",
            "       Lemon       0.72      0.57      0.63        23\n",
            "      Mangga       0.98      0.89      0.93        45\n",
            "      Pepaya       1.00      1.00      1.00        24\n",
            "\n",
            "    accuracy                           0.92       361\n",
            "   macro avg       0.92      0.91      0.91       361\n",
            "weighted avg       0.92      0.92      0.92       361\n",
            "\n",
            "Confusion Matrix\n"
          ]
        },
        {
          "output_type": "display_data",
          "data": {
            "text/plain": [
              "<Figure size 432x288 with 2 Axes>"
            ],
            "image/png": "[encoded data removed]"
          },
          "metadata": {
            "needs_background": "light"
          }
        }
      ]
    },
    {
      "cell_type": "code",
      "source": [
        "vgg16_model.model.save_weights(\"/content/vgg16-saved-model-20-acc-0.93.hdf5\")"
      ],
      "metadata": {
        "id": "H43xbDdkOXZ2"
      },
      "execution_count": 12,
      "outputs": []
    },
    {
      "cell_type": "code",
      "source": [
        "!cp \"/content/vgg16-saved-model-20-acc-0.93.hdf5\" \"/content/drive/Shareddrives/Bangkit Capstone/Best Model2\""
      ],
      "metadata": {
        "id": "c1yljOGrOq71"
      },
      "execution_count": 14,
      "outputs": []
    },
    {
      "cell_type": "code",
      "source": [
        "vgg16_model.model_name = 'vgg16'\n",
        "vgg16_model.find_best_model('.')"
      ],
      "metadata": {
        "colab": {
          "base_uri": "https://localhost:8080/"
        },
        "id": "9wutXKL7g_Qx",
        "outputId": "30709416-9cc7-49b4-9b47-1c34894f3990"
      },
      "execution_count": 15,
      "outputs": [
        {
          "output_type": "stream",
          "name": "stdout",
          "text": [
            "./vgg16-saved-model-09-acc-0.97.hdf5\n"
          ]
        }
      ]
    },
    {
      "cell_type": "markdown",
      "source": [
        "## Evaluate Best Model"
      ],
      "metadata": {
        "id": "xSlvnfMJI1DQ"
      }
    },
    {
      "cell_type": "code",
      "source": [
        "vgg16_model.model.save(\"asd\", save_format='tf')"
      ],
      "metadata": {
        "id": "SU825TkqtIGK",
        "outputId": "bbee27c7-ca17-49ed-c27a-8245b09b69ca",
        "colab": {
          "base_uri": "https://localhost:8080/"
        }
      },
      "execution_count": null,
      "outputs": [
        {
          "output_type": "stream",
          "name": "stdout",
          "text": [
            "INFO:tensorflow:Assets written to: asd/assets\n"
          ]
        }
      ]
    },
    {
      "cell_type": "code",
      "source": [
        "vgg16_model.evaluate_best_model()"
      ],
      "metadata": {
        "colab": {
          "base_uri": "https://localhost:8080/",
          "height": 741
        },
        "id": "B25KozAEhllq",
        "outputId": "481cbac0-8872-4a79-c5df-036f632d3b5c"
      },
      "execution_count": 16,
      "outputs": [
        {
          "output_type": "stream",
          "name": "stdout",
          "text": [
            "12/12 [==============================] - 49s 4s/step - loss: 0.1758 - acc: 0.9446\n",
            "Loss of the model is -  0.17579808831214905\n",
            "Accuracy of the model is -  94.45983171463013 %\n",
            "              precision    recall  f1-score   support\n",
            "\n",
            "      Anggur       1.00      1.00      1.00        37\n",
            "        Apel       0.89      0.92      0.91        37\n",
            "        Ceri       1.00      0.95      0.97        37\n",
            "      Delima       0.90      1.00      0.95        37\n",
            "    Jamblang       1.00      0.94      0.97        34\n",
            "  Jambu Biji       0.92      0.90      0.91        50\n",
            "     Kedelai       0.88      1.00      0.94        37\n",
            "       Lemon       1.00      0.74      0.85        23\n",
            "      Mangga       0.96      0.96      0.96        45\n",
            "      Pepaya       0.96      1.00      0.98        24\n",
            "\n",
            "    accuracy                           0.94       361\n",
            "   macro avg       0.95      0.94      0.94       361\n",
            "weighted avg       0.95      0.94      0.94       361\n",
            "\n",
            "Confusion Matrix\n"
          ]
        },
        {
          "output_type": "display_data",
          "data": {
            "text/plain": [
              "<Figure size 432x288 with 2 Axes>"
            ],
            "image/png": "[encoded data removed]"
          },
          "metadata": {
            "needs_background": "light"
          }
        }
      ]
    },
    {
      "cell_type": "markdown",
      "source": [
        "# InceptionV3 (sucks)"
      ],
      "metadata": {
        "id": "wQUlJ2SiI56r"
      }
    },
    {
      "cell_type": "markdown",
      "source": [
        "## Build Model"
      ],
      "metadata": {
        "id": "It-WgMZHa1vQ"
      }
    },
    {
      "cell_type": "code",
      "source": [
        "from tensorflow.keras.applications.inception_v3 import InceptionV3\n",
        "from tensorflow.keras.applications.inception_v3 import preprocess_input as iv3_preprocess_input\n",
        "\n",
        "config = {\n",
        "    \"batch_size\": 32,\n",
        "    \"epochs\": 20,\n",
        "    \"classes\": 8,\n",
        "    \"input_shape\": (224, 224, 3)\n",
        "\n",
        "}\n",
        "\n",
        "compile_config = {\n",
        "    \"loss\": \"sparse_categorical_crossentropy\",\n",
        "    \"optimizer\": Adam(learning_rate=0.0001),\n",
        "    \"metrics\": [\"accuracy\"],\n",
        "}\n",
        "\n",
        "inceptionv3  = InceptionV3(weights=\"imagenet\", include_top=False, input_shape=config['input_shape'],)\n",
        "for layer in inceptionv3.layers[:249]:\n",
        "   layer.trainable = False\n",
        "for layer in inceptionv3.layers[249:]:\n",
        "   layer.trainable = True\n",
        "\n",
        "custom_layer = [\n",
        "    tf.keras.layers.Dropout(0.5),\n",
        "    tf.keras.layers.Dense(512, activation='relu'),\n",
        "    tf.keras.layers.Dense(1024, activation='relu'),\n",
        "    tf.keras.layers.Dense(1024, activation='relu')\n",
        "]\n",
        "\n",
        "iv3_model = Model(model=inceptionv3, config=config)\n",
        "iv3_model.train_val_generators(train_dir, validation_dir, test_dir, preprocess_input=iv3_preprocess_input)\n",
        "iv3_model.build_model(compile_config, custom_layer=custom_layer)"
      ],
      "metadata": {
        "colab": {
          "base_uri": "https://localhost:8080/"
        },
        "id": "k4xEm-H4mB85",
        "outputId": "546fb596-fd1d-4a20-d140-e83f0630f32d"
      },
      "execution_count": null,
      "outputs": [
        {
          "output_type": "stream",
          "name": "stdout",
          "text": [
            "Found 1518 images belonging to 8 classes.\n",
            "Found 427 images belonging to 8 classes.\n",
            "Found 224 images belonging to 8 classes.\n",
            "Model: \"sequential_11\"\n",
            "_________________________________________________________________\n",
            " Layer (type)                Output Shape              Param #   \n",
            "=================================================================\n",
            " inception_v3 (Functional)   (None, 5, 5, 2048)        21802784  \n",
            "                                                                 \n",
            " flatten_12 (Flatten)        (None, 51200)             0         \n",
            "                                                                 \n",
            " dropout_2 (Dropout)         (None, 51200)             0         \n",
            "                                                                 \n",
            " dense_33 (Dense)            (None, 512)               26214912  \n",
            "                                                                 \n",
            " dense_34 (Dense)            (None, 1024)              525312    \n",
            "                                                                 \n",
            " dense_35 (Dense)            (None, 1024)              1049600   \n",
            "                                                                 \n",
            " dense_36 (Dense)            (None, 8)                 8200      \n",
            "                                                                 \n",
            "=================================================================\n",
            "Total params: 49,600,808\n",
            "Trainable params: 38,912,904\n",
            "Non-trainable params: 10,687,904\n",
            "_________________________________________________________________\n"
          ]
        },
        {
          "output_type": "execute_result",
          "data": {
            "text/plain": [
              "<keras.engine.sequential.Sequential at 0x7f7c683e7590>"
            ]
          },
          "metadata": {},
          "execution_count": 32
        }
      ]
    },
    {
      "cell_type": "markdown",
      "source": [
        "## Train Model"
      ],
      "metadata": {
        "id": "vQup3hAfbFTG"
      }
    },
    {
      "cell_type": "code",
      "source": [
        "reduce_lr_config = {\n",
        "    'monitor': 'val_loss',\n",
        "    'factor': 0.05, \n",
        "    'patience':5, \n",
        "    'min_lr': 0.000002\n",
        "}\n",
        "iv3_model.train('inceptionv3', reduce_lr_config=reduce_lr_config)"
      ],
      "metadata": {
        "colab": {
          "base_uri": "https://localhost:8080/"
        },
        "id": "JnlEkmELmvZJ",
        "outputId": "0ee9ee49-9ec7-481a-dcfa-9f2178516db7"
      },
      "execution_count": null,
      "outputs": [
        {
          "output_type": "stream",
          "name": "stdout",
          "text": [
            "Epoch 1/20\n",
            "48/48 [==============================] - ETA: 0s - loss: 1.5567 - acc: 0.3926\n",
            "Epoch 1: val_acc improved from -inf to 0.30445, saving model to inceptionv3-saved-model-01-acc-0.30.hdf5\n",
            "48/48 [==============================] - 235s 5s/step - loss: 1.5567 - acc: 0.3926 - val_loss: 1.7362 - val_acc: 0.3044 - lr: 1.0000e-04\n",
            "Epoch 2/20\n",
            "48/48 [==============================] - ETA: 0s - loss: 1.2836 - acc: 0.4947\n",
            "Epoch 2: val_acc improved from 0.30445 to 0.48478, saving model to inceptionv3-saved-model-02-acc-0.48.hdf5\n",
            "48/48 [==============================] - 226s 5s/step - loss: 1.2836 - acc: 0.4947 - val_loss: 1.3601 - val_acc: 0.4848 - lr: 1.0000e-04\n",
            "Epoch 3/20\n",
            "48/48 [==============================] - ETA: 0s - loss: 1.1994 - acc: 0.5244\n",
            "Epoch 3: val_acc improved from 0.48478 to 0.49180, saving model to inceptionv3-saved-model-03-acc-0.49.hdf5\n",
            "48/48 [==============================] - 227s 5s/step - loss: 1.1994 - acc: 0.5244 - val_loss: 1.2302 - val_acc: 0.4918 - lr: 1.0000e-04\n",
            "Epoch 4/20\n",
            "48/48 [==============================] - ETA: 0s - loss: 1.1875 - acc: 0.5231\n",
            "Epoch 4: val_acc improved from 0.49180 to 0.55738, saving model to inceptionv3-saved-model-04-acc-0.56.hdf5\n",
            "48/48 [==============================] - 225s 5s/step - loss: 1.1875 - acc: 0.5231 - val_loss: 1.0944 - val_acc: 0.5574 - lr: 1.0000e-04\n",
            "Epoch 5/20\n",
            "48/48 [==============================] - ETA: 0s - loss: 1.0905 - acc: 0.5606\n",
            "Epoch 5: val_acc improved from 0.55738 to 0.64403, saving model to inceptionv3-saved-model-05-acc-0.64.hdf5\n",
            "48/48 [==============================] - 228s 5s/step - loss: 1.0905 - acc: 0.5606 - val_loss: 0.9177 - val_acc: 0.6440 - lr: 1.0000e-04\n",
            "Epoch 6/20\n",
            "48/48 [==============================] - ETA: 0s - loss: 1.0686 - acc: 0.5804\n",
            "Epoch 6: val_acc did not improve from 0.64403\n",
            "48/48 [==============================] - 228s 5s/step - loss: 1.0686 - acc: 0.5804 - val_loss: 1.1416 - val_acc: 0.5059 - lr: 1.0000e-04\n",
            "Epoch 7/20\n",
            "48/48 [==============================] - ETA: 0s - loss: 1.0172 - acc: 0.5995\n",
            "Epoch 7: val_acc improved from 0.64403 to 0.66979, saving model to inceptionv3-saved-model-07-acc-0.67.hdf5\n",
            "48/48 [==============================] - 229s 5s/step - loss: 1.0172 - acc: 0.5995 - val_loss: 0.8371 - val_acc: 0.6698 - lr: 1.0000e-04\n",
            "Epoch 8/20\n",
            "48/48 [==============================] - ETA: 0s - loss: 1.0155 - acc: 0.6041\n",
            "Epoch 8: val_acc improved from 0.66979 to 0.71194, saving model to inceptionv3-saved-model-08-acc-0.71.hdf5\n",
            "48/48 [==============================] - 227s 5s/step - loss: 1.0155 - acc: 0.6041 - val_loss: 0.8103 - val_acc: 0.7119 - lr: 1.0000e-04\n",
            "Epoch 9/20\n",
            "48/48 [==============================] - ETA: 0s - loss: 0.9955 - acc: 0.6113\n",
            "Epoch 9: val_acc did not improve from 0.71194\n",
            "48/48 [==============================] - 224s 5s/step - loss: 0.9955 - acc: 0.6113 - val_loss: 0.8953 - val_acc: 0.6557 - lr: 1.0000e-04\n",
            "Epoch 10/20\n",
            "48/48 [==============================] - ETA: 0s - loss: 0.9518 - acc: 0.6410\n",
            "Epoch 10: val_acc did not improve from 0.71194\n",
            "48/48 [==============================] - 223s 5s/step - loss: 0.9518 - acc: 0.6410 - val_loss: 0.9047 - val_acc: 0.6487 - lr: 1.0000e-04\n",
            "Epoch 11/20\n",
            "48/48 [==============================] - ETA: 0s - loss: 0.9001 - acc: 0.6443\n",
            "Epoch 11: val_acc did not improve from 0.71194\n",
            "48/48 [==============================] - 223s 5s/step - loss: 0.9001 - acc: 0.6443 - val_loss: 1.2007 - val_acc: 0.5316 - lr: 1.0000e-04\n",
            "Epoch 12/20\n",
            "48/48 [==============================] - ETA: 0s - loss: 0.9121 - acc: 0.6410\n",
            "Epoch 12: val_acc did not improve from 0.71194\n",
            "48/48 [==============================] - 223s 5s/step - loss: 0.9121 - acc: 0.6410 - val_loss: 0.9722 - val_acc: 0.6370 - lr: 1.0000e-04\n",
            "Epoch 13/20\n",
            "48/48 [==============================] - ETA: 0s - loss: 0.9292 - acc: 0.6390\n",
            "Epoch 13: val_acc did not improve from 0.71194\n",
            "48/48 [==============================] - 223s 5s/step - loss: 0.9292 - acc: 0.6390 - val_loss: 0.8013 - val_acc: 0.7049 - lr: 1.0000e-04\n",
            "Epoch 14/20\n",
            "48/48 [==============================] - ETA: 0s - loss: 0.8535 - acc: 0.6719\n",
            "Epoch 14: val_acc did not improve from 0.71194\n",
            "48/48 [==============================] - 226s 5s/step - loss: 0.8535 - acc: 0.6719 - val_loss: 0.9382 - val_acc: 0.6089 - lr: 1.0000e-04\n",
            "Epoch 15/20\n",
            "48/48 [==============================] - ETA: 0s - loss: 0.9011 - acc: 0.6627\n",
            "Epoch 15: val_acc did not improve from 0.71194\n",
            "48/48 [==============================] - 226s 5s/step - loss: 0.9011 - acc: 0.6627 - val_loss: 0.7925 - val_acc: 0.6745 - lr: 1.0000e-04\n",
            "Epoch 16/20\n",
            "48/48 [==============================] - ETA: 0s - loss: 0.8537 - acc: 0.6568\n",
            "Epoch 16: val_acc did not improve from 0.71194\n",
            "48/48 [==============================] - 227s 5s/step - loss: 0.8537 - acc: 0.6568 - val_loss: 1.0313 - val_acc: 0.5785 - lr: 1.0000e-04\n",
            "Epoch 17/20\n",
            "48/48 [==============================] - ETA: 0s - loss: 0.8625 - acc: 0.6700\n",
            "Epoch 17: val_acc did not improve from 0.71194\n",
            "48/48 [==============================] - 230s 5s/step - loss: 0.8625 - acc: 0.6700 - val_loss: 0.9095 - val_acc: 0.6464 - lr: 1.0000e-04\n",
            "Epoch 18/20\n",
            "48/48 [==============================] - ETA: 0s - loss: 0.8445 - acc: 0.6759\n",
            "Epoch 18: val_acc did not improve from 0.71194\n",
            "48/48 [==============================] - 224s 5s/step - loss: 0.8445 - acc: 0.6759 - val_loss: 0.9599 - val_acc: 0.6464 - lr: 1.0000e-04\n",
            "Epoch 19/20\n",
            "48/48 [==============================] - ETA: 0s - loss: 0.8708 - acc: 0.6568\n",
            "Epoch 19: val_acc improved from 0.71194 to 0.72834, saving model to inceptionv3-saved-model-19-acc-0.73.hdf5\n",
            "48/48 [==============================] - 227s 5s/step - loss: 0.8708 - acc: 0.6568 - val_loss: 0.7343 - val_acc: 0.7283 - lr: 1.0000e-04\n",
            "Epoch 20/20\n",
            "48/48 [==============================] - ETA: 0s - loss: 0.8113 - acc: 0.6864\n",
            "Epoch 20: val_acc did not improve from 0.72834\n",
            "48/48 [==============================] - 224s 5s/step - loss: 0.8113 - acc: 0.6864 - val_loss: 0.8734 - val_acc: 0.6089 - lr: 1.0000e-04\n"
          ]
        },
        {
          "output_type": "execute_result",
          "data": {
            "text/plain": [
              "<keras.callbacks.History at 0x7f7be0a96990>"
            ]
          },
          "metadata": {},
          "execution_count": 33
        }
      ]
    },
    {
      "cell_type": "markdown",
      "source": [
        "## History"
      ],
      "metadata": {
        "id": "UQ5k6kAG_SXX"
      }
    },
    {
      "cell_type": "code",
      "source": [
        "iv3_model.plot_history()"
      ],
      "metadata": {
        "colab": {
          "base_uri": "https://localhost:8080/",
          "height": 545
        },
        "id": "SKcEqO_2Ni4Y",
        "outputId": "cf206495-bfd7-4ce8-9c93-d2cff9d76a8a"
      },
      "execution_count": null,
      "outputs": [
        {
          "output_type": "display_data",
          "data": {
            "text/plain": [
              "<Figure size 432x288 with 1 Axes>"
            ],
            "image/png": "[encoded data removed]"
          },
          "metadata": {
            "needs_background": "light"
          }
        },
        {
          "output_type": "display_data",
          "data": {
            "text/plain": [
              "<Figure size 432x288 with 1 Axes>"
            ],
            "image/png": "[encoded data removed]"
          },
          "metadata": {
            "needs_background": "light"
          }
        }
      ]
    },
    {
      "cell_type": "markdown",
      "source": [
        "## Evaluate Model"
      ],
      "metadata": {
        "id": "-AIF9Z3t_UHG"
      }
    },
    {
      "cell_type": "code",
      "source": [
        "iv3_model.evaluate_model()"
      ],
      "metadata": {
        "colab": {
          "base_uri": "https://localhost:8080/",
          "height": 879
        },
        "id": "pNG8AdQQNima",
        "outputId": "9ca1b017-a7bc-4bdd-fe12-065549676ec0"
      },
      "execution_count": null,
      "outputs": [
        {
          "output_type": "stream",
          "name": "stdout",
          "text": [
            "\r1/7 [===>..........................] - ETA: 29s - loss: 11.1516 - acc: 0.0000e+00"
          ]
        },
        {
          "output_type": "stream",
          "name": "stderr",
          "text": [
            "/usr/local/lib/python3.7/dist-packages/PIL/Image.py:960: UserWarning: Palette images with Transparency expressed in bytes should be converted to RGBA images\n",
            "  \"Palette images with Transparency expressed in bytes should be \"\n"
          ]
        },
        {
          "output_type": "stream",
          "name": "stdout",
          "text": [
            "7/7 [==============================] - 24s 3s/step - loss: 8.4691 - acc: 0.1027\n",
            "Loss of the model is -  8.469086647033691\n",
            "Accuracy of the model is -  10.26785746216774 %\n"
          ]
        },
        {
          "output_type": "stream",
          "name": "stderr",
          "text": [
            "/usr/local/lib/python3.7/dist-packages/sklearn/metrics/_classification.py:1318: UndefinedMetricWarning: Precision and F-score are ill-defined and being set to 0.0 in labels with no predicted samples. Use `zero_division` parameter to control this behavior.\n",
            "  _warn_prf(average, modifier, msg_start, len(result))\n",
            "/usr/local/lib/python3.7/dist-packages/sklearn/metrics/_classification.py:1318: UndefinedMetricWarning: Precision and F-score are ill-defined and being set to 0.0 in labels with no predicted samples. Use `zero_division` parameter to control this behavior.\n",
            "  _warn_prf(average, modifier, msg_start, len(result))\n",
            "/usr/local/lib/python3.7/dist-packages/sklearn/metrics/_classification.py:1318: UndefinedMetricWarning: Precision and F-score are ill-defined and being set to 0.0 in labels with no predicted samples. Use `zero_division` parameter to control this behavior.\n",
            "  _warn_prf(average, modifier, msg_start, len(result))\n"
          ]
        },
        {
          "output_type": "stream",
          "name": "stdout",
          "text": [
            "              precision    recall  f1-score   support\n",
            "\n",
            "       Basil       0.00      0.00      0.00        16\n",
            " Bayam Hijau       0.00      0.00      0.00        29\n",
            "  Jambu Biji       0.00      0.00      0.00        20\n",
            "       Kelor       0.10      0.95      0.17        22\n",
            "       Lemon       0.00      0.00      0.00        23\n",
            "      Mangga       0.00      0.00      0.00        45\n",
            "        Mint       0.00      0.00      0.00        45\n",
            "      Pepaya       0.50      0.08      0.14        24\n",
            "\n",
            "    accuracy                           0.10       224\n",
            "   macro avg       0.07      0.13      0.04       224\n",
            "weighted avg       0.06      0.10      0.03       224\n",
            "\n",
            "Confusion Matrix\n"
          ]
        },
        {
          "output_type": "display_data",
          "data": {
            "text/plain": [
              "<Figure size 432x288 with 2 Axes>"
            ],
            "image/png": "[encoded data removed]"
          },
          "metadata": {
            "needs_background": "light"
          }
        }
      ]
    },
    {
      "cell_type": "markdown",
      "source": [
        "## Evaluate Best Model"
      ],
      "metadata": {
        "id": "Bkiqo6qD_W-d"
      }
    },
    {
      "cell_type": "code",
      "source": [
        "iv3_model.model_name = 'inceptionv3'\n",
        "iv3_model.find_best_model('.')\n",
        "iv3_model.evaluate_best_model()"
      ],
      "metadata": {
        "colab": {
          "base_uri": "https://localhost:8080/",
          "height": 896
        },
        "id": "FQS6rsDJpEeL",
        "outputId": "38b0f5b7-87fa-4c82-a0b4-f3e2177a43fa"
      },
      "execution_count": null,
      "outputs": [
        {
          "output_type": "stream",
          "name": "stdout",
          "text": [
            "./inceptionv3-saved-model-19-acc-0.73.hdf5\n",
            "1/7 [===>..........................] - ETA: 29s - loss: 11.4252 - acc: 0.0000e+00"
          ]
        },
        {
          "output_type": "stream",
          "name": "stderr",
          "text": [
            "/usr/local/lib/python3.7/dist-packages/PIL/Image.py:960: UserWarning: Palette images with Transparency expressed in bytes should be converted to RGBA images\n",
            "  \"Palette images with Transparency expressed in bytes should be \"\n"
          ]
        },
        {
          "output_type": "stream",
          "name": "stdout",
          "text": [
            "7/7 [==============================] - 23s 3s/step - loss: 8.7554 - acc: 0.1295\n",
            "Loss of the model is -  8.755419731140137\n",
            "Accuracy of the model is -  12.94642835855484 %\n"
          ]
        },
        {
          "output_type": "stream",
          "name": "stderr",
          "text": [
            "/usr/local/lib/python3.7/dist-packages/sklearn/metrics/_classification.py:1318: UndefinedMetricWarning: Precision and F-score are ill-defined and being set to 0.0 in labels with no predicted samples. Use `zero_division` parameter to control this behavior.\n",
            "  _warn_prf(average, modifier, msg_start, len(result))\n",
            "/usr/local/lib/python3.7/dist-packages/sklearn/metrics/_classification.py:1318: UndefinedMetricWarning: Precision and F-score are ill-defined and being set to 0.0 in labels with no predicted samples. Use `zero_division` parameter to control this behavior.\n",
            "  _warn_prf(average, modifier, msg_start, len(result))\n",
            "/usr/local/lib/python3.7/dist-packages/sklearn/metrics/_classification.py:1318: UndefinedMetricWarning: Precision and F-score are ill-defined and being set to 0.0 in labels with no predicted samples. Use `zero_division` parameter to control this behavior.\n",
            "  _warn_prf(average, modifier, msg_start, len(result))\n"
          ]
        },
        {
          "output_type": "stream",
          "name": "stdout",
          "text": [
            "              precision    recall  f1-score   support\n",
            "\n",
            "       Basil       0.00      0.00      0.00        16\n",
            " Bayam Hijau       0.00      0.00      0.00        29\n",
            "  Jambu Biji       0.00      0.00      0.00        20\n",
            "       Kelor       0.10      0.86      0.17        22\n",
            "       Lemon       0.00      0.00      0.00        23\n",
            "      Mangga       0.00      0.00      0.00        45\n",
            "        Mint       0.00      0.00      0.00        45\n",
            "      Pepaya       0.37      0.42      0.39        24\n",
            "\n",
            "    accuracy                           0.13       224\n",
            "   macro avg       0.06      0.16      0.07       224\n",
            "weighted avg       0.05      0.13      0.06       224\n",
            "\n",
            "Confusion Matrix\n"
          ]
        },
        {
          "output_type": "display_data",
          "data": {
            "text/plain": [
              "<Figure size 432x288 with 2 Axes>"
            ],
            "image/png": "[encoded data removed]"
          },
          "metadata": {
            "needs_background": "light"
          }
        }
      ]
    },
    {
      "cell_type": "code",
      "source": [
        "target_dir = '/content/drive/Shareddrives/Bangkit Capstone/Best Model'\n",
        "iv3_model.save_best_model(target_dir=target_dir)"
      ],
      "metadata": {
        "id": "o0FHGhz9pNep",
        "colab": {
          "base_uri": "https://localhost:8080/"
        },
        "outputId": "edc932b4-c8cc-436d-aa40-6fba6cd3e6da"
      },
      "execution_count": null,
      "outputs": [
        {
          "output_type": "stream",
          "name": "stdout",
          "text": [
            "Copy ./inceptionv3-saved-model-06-acc-0.68.hdf5 to /content/drive/Shareddrives/Bangkit Capstone/Best Model\n"
          ]
        }
      ]
    },
    {
      "cell_type": "markdown",
      "source": [
        "# ResNet50"
      ],
      "metadata": {
        "id": "VEeOempr_Z3q"
      }
    },
    {
      "cell_type": "markdown",
      "source": [
        "## Build Model"
      ],
      "metadata": {
        "id": "UTvkoCJH_bvA"
      }
    },
    {
      "cell_type": "code",
      "source": [
        "from tensorflow.keras.applications.resnet50 import ResNet50\n",
        "from tensorflow.keras.applications.resnet50 import preprocess_input as resnet50_preprocess_input\n",
        "config = {\n",
        "    \"batch_size\": 32,\n",
        "    \"trainable\": False,\n",
        "    \"epochs\": 20,\n",
        "    \"classes\": 8,\n",
        "    \"input_shape\": (224, 224, 3)\n",
        "\n",
        "}\n",
        "\n",
        "compile_config = {\n",
        "    \"loss\": \"sparse_categorical_crossentropy\",\n",
        "    \"optimizer\": Adam(lr=1e-4),\n",
        "    \"metrics\": [\"accuracy\"],\n",
        "}\n",
        "\n",
        "custom_layer = [\n",
        "    tf.keras.layers.Dense(512, activation='relu'),\n",
        "    tf.keras.layers.Dense(1024, activation='relu'),\n",
        "    tf.keras.layers.Dense(1024, activation='relu')\n",
        "]\n",
        "\n",
        "resnet50 = ResNet50(weights=\"imagenet\", include_top=False, input_shape=config['input_shape'],)\n",
        "resnet50.trainable = False\n",
        "resnet50_model = Model(model=resnet50, config=config)\n",
        "resnet50_model.train_val_generators(train_dir, validation_dir, test_dir, preprocess_input=resnet50_preprocess_input)\n",
        "resnet50_model.build_model(compile_config, custom_layer=custom_layer)"
      ],
      "metadata": {
        "id": "ci6J-KPE_Xmr",
        "outputId": "d5a09a8a-dc81-4f8a-8edd-21637470edfb",
        "colab": {
          "base_uri": "https://localhost:8080/"
        }
      },
      "execution_count": null,
      "outputs": [
        {
          "output_type": "stream",
          "name": "stderr",
          "text": [
            "/usr/local/lib/python3.7/dist-packages/keras/optimizer_v2/adam.py:105: UserWarning: The `lr` argument is deprecated, use `learning_rate` instead.\n",
            "  super(Adam, self).__init__(name, **kwargs)\n"
          ]
        },
        {
          "output_type": "stream",
          "name": "stdout",
          "text": [
            "Downloading data from https://storage.googleapis.com/tensorflow/keras-applications/resnet/resnet50_weights_tf_dim_ordering_tf_kernels_notop.h5\n",
            "94773248/94765736 [==============================] - 1s 0us/step\n",
            "94781440/94765736 [==============================] - 1s 0us/step\n",
            "Found 1518 images belonging to 8 classes.\n",
            "Found 427 images belonging to 8 classes.\n",
            "Found 224 images belonging to 8 classes.\n",
            "Model: \"sequential_12\"\n",
            "_________________________________________________________________\n",
            " Layer (type)                Output Shape              Param #   \n",
            "=================================================================\n",
            " resnet50 (Functional)       (None, 7, 7, 2048)        23587712  \n",
            "                                                                 \n",
            " flatten_13 (Flatten)        (None, 100352)            0         \n",
            "                                                                 \n",
            " dense_37 (Dense)            (None, 512)               51380736  \n",
            "                                                                 \n",
            " dense_38 (Dense)            (None, 1024)              525312    \n",
            "                                                                 \n",
            " dense_39 (Dense)            (None, 1024)              1049600   \n",
            "                                                                 \n",
            " dense_40 (Dense)            (None, 8)                 8200      \n",
            "                                                                 \n",
            "=================================================================\n",
            "Total params: 76,551,560\n",
            "Trainable params: 52,963,848\n",
            "Non-trainable params: 23,587,712\n",
            "_________________________________________________________________\n"
          ]
        },
        {
          "output_type": "execute_result",
          "data": {
            "text/plain": [
              "<keras.engine.sequential.Sequential at 0x7f79dd257a90>"
            ]
          },
          "metadata": {},
          "execution_count": 38
        }
      ]
    },
    {
      "cell_type": "markdown",
      "source": [
        "## Train Model"
      ],
      "metadata": {
        "id": "DFRjy3st_duV"
      }
    },
    {
      "cell_type": "code",
      "source": [
        "reduce_lr_config = {\n",
        "    'monitor': 'val_loss',\n",
        "    'factor': 0.05, \n",
        "    'patience':5, \n",
        "    'min_lr': 0.000002\n",
        "}\n",
        "resnet50_model.train('resnet50', reduce_lr_config=reduce_lr_config)"
      ],
      "metadata": {
        "id": "HSwEk7PdAQ51",
        "outputId": "31c4904a-fd29-41a1-eba3-c7967ca47d96",
        "colab": {
          "base_uri": "https://localhost:8080/"
        }
      },
      "execution_count": null,
      "outputs": [
        {
          "output_type": "stream",
          "name": "stdout",
          "text": [
            "Epoch 1/20\n",
            "48/48 [==============================] - ETA: 0s - loss: 1.8786 - acc: 0.3142\n",
            "Epoch 1: val_acc improved from -inf to 0.42623, saving model to resnet50-saved-model-01-acc-0.43.hdf5\n",
            "48/48 [==============================] - 234s 5s/step - loss: 1.8786 - acc: 0.3142 - val_loss: 1.5219 - val_acc: 0.4262 - lr: 1.0000e-04\n",
            "Epoch 2/20\n",
            "48/48 [==============================] - ETA: 0s - loss: 1.6161 - acc: 0.3748\n",
            "Epoch 2: val_acc did not improve from 0.42623\n",
            "48/48 [==============================] - 223s 5s/step - loss: 1.6161 - acc: 0.3748 - val_loss: 1.5354 - val_acc: 0.4239 - lr: 1.0000e-04\n",
            "Epoch 3/20\n",
            "48/48 [==============================] - ETA: 0s - loss: 1.4853 - acc: 0.4130\n",
            "Epoch 3: val_acc improved from 0.42623 to 0.44028, saving model to resnet50-saved-model-03-acc-0.44.hdf5\n",
            "48/48 [==============================] - 225s 5s/step - loss: 1.4853 - acc: 0.4130 - val_loss: 1.4317 - val_acc: 0.4403 - lr: 1.0000e-04\n",
            "Epoch 4/20\n",
            "48/48 [==============================] - ETA: 0s - loss: 1.4584 - acc: 0.4117\n",
            "Epoch 4: val_acc did not improve from 0.44028\n",
            "48/48 [==============================] - 226s 5s/step - loss: 1.4584 - acc: 0.4117 - val_loss: 1.3681 - val_acc: 0.3817 - lr: 1.0000e-04\n",
            "Epoch 5/20\n",
            "48/48 [==============================] - ETA: 0s - loss: 1.3934 - acc: 0.4559\n",
            "Epoch 5: val_acc did not improve from 0.44028\n",
            "48/48 [==============================] - 226s 5s/step - loss: 1.3934 - acc: 0.4559 - val_loss: 1.3473 - val_acc: 0.4192 - lr: 1.0000e-04\n",
            "Epoch 6/20\n",
            "48/48 [==============================] - ETA: 0s - loss: 1.3880 - acc: 0.4427\n",
            "Epoch 6: val_acc did not improve from 0.44028\n",
            "48/48 [==============================] - 226s 5s/step - loss: 1.3880 - acc: 0.4427 - val_loss: 1.3528 - val_acc: 0.4098 - lr: 1.0000e-04\n",
            "Epoch 7/20\n",
            "48/48 [==============================] - ETA: 0s - loss: 1.3735 - acc: 0.4473\n",
            "Epoch 7: val_acc did not improve from 0.44028\n",
            "48/48 [==============================] - 229s 5s/step - loss: 1.3735 - acc: 0.4473 - val_loss: 1.3944 - val_acc: 0.3888 - lr: 1.0000e-04\n",
            "Epoch 8/20\n",
            "48/48 [==============================] - ETA: 0s - loss: 1.3139 - acc: 0.4671\n",
            "Epoch 8: val_acc did not improve from 0.44028\n",
            "48/48 [==============================] - 230s 5s/step - loss: 1.3139 - acc: 0.4671 - val_loss: 1.3071 - val_acc: 0.4379 - lr: 1.0000e-04\n",
            "Epoch 9/20\n",
            "48/48 [==============================] - ETA: 0s - loss: 1.3348 - acc: 0.4756\n",
            "Epoch 9: val_acc did not improve from 0.44028\n",
            "48/48 [==============================] - 227s 5s/step - loss: 1.3348 - acc: 0.4756 - val_loss: 1.3637 - val_acc: 0.3981 - lr: 1.0000e-04\n",
            "Epoch 10/20\n",
            "48/48 [==============================] - ETA: 0s - loss: 1.3021 - acc: 0.4783\n",
            "Epoch 10: val_acc improved from 0.44028 to 0.45433, saving model to resnet50-saved-model-10-acc-0.45.hdf5\n",
            "48/48 [==============================] - 230s 5s/step - loss: 1.3021 - acc: 0.4783 - val_loss: 1.2377 - val_acc: 0.4543 - lr: 1.0000e-04\n",
            "Epoch 11/20\n",
            "48/48 [==============================] - ETA: 0s - loss: 1.3136 - acc: 0.4565\n",
            "Epoch 11: val_acc improved from 0.45433 to 0.46604, saving model to resnet50-saved-model-11-acc-0.47.hdf5\n",
            "48/48 [==============================] - 229s 5s/step - loss: 1.3136 - acc: 0.4565 - val_loss: 1.3043 - val_acc: 0.4660 - lr: 1.0000e-04\n",
            "Epoch 12/20\n",
            "48/48 [==============================] - ETA: 0s - loss: 1.2945 - acc: 0.4776\n",
            "Epoch 12: val_acc did not improve from 0.46604\n",
            "48/48 [==============================] - 227s 5s/step - loss: 1.2945 - acc: 0.4776 - val_loss: 1.3188 - val_acc: 0.4590 - lr: 1.0000e-04\n",
            "Epoch 13/20\n",
            "48/48 [==============================] - ETA: 0s - loss: 1.2894 - acc: 0.4690\n",
            "Epoch 13: val_acc did not improve from 0.46604\n",
            "48/48 [==============================] - 229s 5s/step - loss: 1.2894 - acc: 0.4690 - val_loss: 1.3652 - val_acc: 0.4567 - lr: 1.0000e-04\n",
            "Epoch 14/20\n",
            "48/48 [==============================] - ETA: 0s - loss: 1.2503 - acc: 0.4901\n",
            "Epoch 14: val_acc did not improve from 0.46604\n",
            "48/48 [==============================] - 227s 5s/step - loss: 1.2503 - acc: 0.4901 - val_loss: 1.2586 - val_acc: 0.4567 - lr: 1.0000e-04\n",
            "Epoch 15/20\n",
            "48/48 [==============================] - ETA: 0s - loss: 1.2283 - acc: 0.4947\n",
            "Epoch 15: val_acc did not improve from 0.46604\n",
            "48/48 [==============================] - 228s 5s/step - loss: 1.2283 - acc: 0.4947 - val_loss: 1.2737 - val_acc: 0.4309 - lr: 1.0000e-04\n",
            "Epoch 16/20\n",
            "48/48 [==============================] - ETA: 0s - loss: 1.1513 - acc: 0.5217\n",
            "Epoch 16: val_acc did not improve from 0.46604\n",
            "48/48 [==============================] - 228s 5s/step - loss: 1.1513 - acc: 0.5217 - val_loss: 1.2225 - val_acc: 0.4496 - lr: 5.0000e-06\n",
            "Epoch 17/20\n",
            "48/48 [==============================] - ETA: 0s - loss: 1.1394 - acc: 0.5329\n",
            "Epoch 17: val_acc did not improve from 0.46604\n",
            "48/48 [==============================] - 228s 5s/step - loss: 1.1394 - acc: 0.5329 - val_loss: 1.2458 - val_acc: 0.4356 - lr: 5.0000e-06\n",
            "Epoch 18/20\n",
            "48/48 [==============================] - ETA: 0s - loss: 1.1375 - acc: 0.5336\n",
            "Epoch 18: val_acc did not improve from 0.46604\n",
            "48/48 [==============================] - 227s 5s/step - loss: 1.1375 - acc: 0.5336 - val_loss: 1.2383 - val_acc: 0.4379 - lr: 5.0000e-06\n",
            "Epoch 19/20\n",
            "48/48 [==============================] - ETA: 0s - loss: 1.1375 - acc: 0.5283\n",
            "Epoch 19: val_acc did not improve from 0.46604\n",
            "48/48 [==============================] - 226s 5s/step - loss: 1.1375 - acc: 0.5283 - val_loss: 1.2046 - val_acc: 0.4543 - lr: 5.0000e-06\n",
            "Epoch 20/20\n",
            "48/48 [==============================] - ETA: 0s - loss: 1.1257 - acc: 0.5356\n",
            "Epoch 20: val_acc did not improve from 0.46604\n",
            "48/48 [==============================] - 244s 5s/step - loss: 1.1257 - acc: 0.5356 - val_loss: 1.2260 - val_acc: 0.4450 - lr: 5.0000e-06\n"
          ]
        },
        {
          "output_type": "execute_result",
          "data": {
            "text/plain": [
              "<keras.callbacks.History at 0x7f79dce96650>"
            ]
          },
          "metadata": {},
          "execution_count": 39
        }
      ]
    },
    {
      "cell_type": "markdown",
      "source": [
        "## History"
      ],
      "metadata": {
        "id": "ZOQX3OSS_yUC"
      }
    },
    {
      "cell_type": "code",
      "source": [
        "resnet50_model.plot_history()"
      ],
      "metadata": {
        "id": "ATjMJXtr_u84",
        "outputId": "755afe6f-dfc7-4ee6-c12e-d5ac38efa09a",
        "colab": {
          "base_uri": "https://localhost:8080/",
          "height": 545
        }
      },
      "execution_count": null,
      "outputs": [
        {
          "output_type": "display_data",
          "data": {
            "text/plain": [
              "<Figure size 432x288 with 1 Axes>"
            ],
            "image/png": "[encoded data removed]"
          },
          "metadata": {
            "needs_background": "light"
          }
        },
        {
          "output_type": "display_data",
          "data": {
            "text/plain": [
              "<Figure size 432x288 with 1 Axes>"
            ],
            "image/png": "[encoded data removed]"
          },
          "metadata": {
            "needs_background": "light"
          }
        }
      ]
    },
    {
      "cell_type": "markdown",
      "source": [
        "## Evaluate Model"
      ],
      "metadata": {
        "id": "h36VBhMi_gUV"
      }
    },
    {
      "cell_type": "code",
      "source": [
        "resnet50_model.evaluate_model()"
      ],
      "metadata": {
        "id": "Ci1b1ren_iQj",
        "outputId": "ec8a7ad2-cd49-404e-b911-fe1256884b65",
        "colab": {
          "base_uri": "https://localhost:8080/",
          "height": 879
        }
      },
      "execution_count": null,
      "outputs": [
        {
          "output_type": "stream",
          "name": "stdout",
          "text": [
            "\r1/7 [===>..........................] - ETA: 31s - loss: 1.6835 - acc: 0.0938"
          ]
        },
        {
          "output_type": "stream",
          "name": "stderr",
          "text": [
            "/usr/local/lib/python3.7/dist-packages/PIL/Image.py:960: UserWarning: Palette images with Transparency expressed in bytes should be converted to RGBA images\n",
            "  \"Palette images with Transparency expressed in bytes should be \"\n"
          ]
        },
        {
          "output_type": "stream",
          "name": "stdout",
          "text": [
            "7/7 [==============================] - 24s 3s/step - loss: 1.3344 - acc: 0.4554\n",
            "Loss of the model is -  1.33437979221344\n",
            "Accuracy of the model is -  45.53571343421936 %\n"
          ]
        },
        {
          "output_type": "stream",
          "name": "stderr",
          "text": [
            "/usr/local/lib/python3.7/dist-packages/sklearn/metrics/_classification.py:1318: UndefinedMetricWarning: Precision and F-score are ill-defined and being set to 0.0 in labels with no predicted samples. Use `zero_division` parameter to control this behavior.\n",
            "  _warn_prf(average, modifier, msg_start, len(result))\n",
            "/usr/local/lib/python3.7/dist-packages/sklearn/metrics/_classification.py:1318: UndefinedMetricWarning: Precision and F-score are ill-defined and being set to 0.0 in labels with no predicted samples. Use `zero_division` parameter to control this behavior.\n",
            "  _warn_prf(average, modifier, msg_start, len(result))\n",
            "/usr/local/lib/python3.7/dist-packages/sklearn/metrics/_classification.py:1318: UndefinedMetricWarning: Precision and F-score are ill-defined and being set to 0.0 in labels with no predicted samples. Use `zero_division` parameter to control this behavior.\n",
            "  _warn_prf(average, modifier, msg_start, len(result))\n"
          ]
        },
        {
          "output_type": "stream",
          "name": "stdout",
          "text": [
            "              precision    recall  f1-score   support\n",
            "\n",
            "       Basil       0.00      0.00      0.00        16\n",
            " Bayam Hijau       0.23      0.10      0.14        29\n",
            "  Jambu Biji       0.00      0.00      0.00        20\n",
            "       Kelor       0.26      0.77      0.39        22\n",
            "       Lemon       0.00      0.00      0.00        23\n",
            "      Mangga       0.60      1.00      0.75        45\n",
            "        Mint       0.51      0.51      0.51        45\n",
            "      Pepaya       0.54      0.58      0.56        24\n",
            "\n",
            "    accuracy                           0.46       224\n",
            "   macro avg       0.27      0.37      0.29       224\n",
            "weighted avg       0.34      0.46      0.37       224\n",
            "\n",
            "Confusion Matrix\n"
          ]
        },
        {
          "output_type": "display_data",
          "data": {
            "text/plain": [
              "<Figure size 432x288 with 2 Axes>"
            ],
            "image/png": "[encoded data removed]"
          },
          "metadata": {
            "needs_background": "light"
          }
        }
      ]
    },
    {
      "cell_type": "markdown",
      "source": [
        "## Evaluate Best Model"
      ],
      "metadata": {
        "id": "uJXK9oTB_lSX"
      }
    },
    {
      "cell_type": "code",
      "source": [
        "resnet50_model.model_name = 'resnet50'\n",
        "resnet50_model.find_best_model('.')\n",
        "resnet50_model.evaluate_best_model()"
      ],
      "metadata": {
        "id": "-b4J_X9mpiG1",
        "outputId": "a0c6c55b-519c-433d-ea7d-cc19ebd8ced7",
        "colab": {
          "base_uri": "https://localhost:8080/",
          "height": 896
        }
      },
      "execution_count": null,
      "outputs": [
        {
          "output_type": "stream",
          "name": "stdout",
          "text": [
            "./resnet50-saved-model-11-acc-0.47.hdf5\n",
            "1/7 [===>..........................] - ETA: 31s - loss: 1.8790 - acc: 0.0000e+00"
          ]
        },
        {
          "output_type": "stream",
          "name": "stderr",
          "text": [
            "/usr/local/lib/python3.7/dist-packages/PIL/Image.py:960: UserWarning: Palette images with Transparency expressed in bytes should be converted to RGBA images\n",
            "  \"Palette images with Transparency expressed in bytes should be \"\n"
          ]
        },
        {
          "output_type": "stream",
          "name": "stdout",
          "text": [
            "7/7 [==============================] - 25s 3s/step - loss: 1.3031 - acc: 0.4554\n",
            "Loss of the model is -  1.3030669689178467\n",
            "Accuracy of the model is -  45.53571343421936 %\n"
          ]
        },
        {
          "output_type": "stream",
          "name": "stderr",
          "text": [
            "/usr/local/lib/python3.7/dist-packages/sklearn/metrics/_classification.py:1318: UndefinedMetricWarning: Precision and F-score are ill-defined and being set to 0.0 in labels with no predicted samples. Use `zero_division` parameter to control this behavior.\n",
            "  _warn_prf(average, modifier, msg_start, len(result))\n",
            "/usr/local/lib/python3.7/dist-packages/sklearn/metrics/_classification.py:1318: UndefinedMetricWarning: Precision and F-score are ill-defined and being set to 0.0 in labels with no predicted samples. Use `zero_division` parameter to control this behavior.\n",
            "  _warn_prf(average, modifier, msg_start, len(result))\n",
            "/usr/local/lib/python3.7/dist-packages/sklearn/metrics/_classification.py:1318: UndefinedMetricWarning: Precision and F-score are ill-defined and being set to 0.0 in labels with no predicted samples. Use `zero_division` parameter to control this behavior.\n",
            "  _warn_prf(average, modifier, msg_start, len(result))\n"
          ]
        },
        {
          "output_type": "stream",
          "name": "stdout",
          "text": [
            "              precision    recall  f1-score   support\n",
            "\n",
            "       Basil       0.00      0.00      0.00        16\n",
            " Bayam Hijau       0.00      0.00      0.00        29\n",
            "  Jambu Biji       0.00      0.00      0.00        20\n",
            "       Kelor       0.24      0.59      0.34        22\n",
            "       Lemon       0.00      0.00      0.00        23\n",
            "      Mangga       0.60      1.00      0.75        45\n",
            "        Mint       0.52      0.53      0.53        45\n",
            "      Pepaya       0.45      0.83      0.59        24\n",
            "\n",
            "    accuracy                           0.46       224\n",
            "   macro avg       0.23      0.37      0.28       224\n",
            "weighted avg       0.30      0.46      0.35       224\n",
            "\n",
            "Confusion Matrix\n"
          ]
        },
        {
          "output_type": "display_data",
          "data": {
            "text/plain": [
              "<Figure size 432x288 with 2 Axes>"
            ],
            "image/png": "[encoded data removed]"
          },
          "metadata": {
            "needs_background": "light"
          }
        }
      ]
    },
    {
      "cell_type": "code",
      "source": [
        "target_dir = '/content/drive/Shareddrives/Bangkit Capstone/Best Model'\n",
        "resnet50_model.save_best_model(target_dir=target_dir)"
      ],
      "metadata": {
        "id": "Oww1X3r3piG1",
        "outputId": "c52c8622-df3b-4a48-9d74-64a4b81f0f5e",
        "colab": {
          "base_uri": "https://localhost:8080/"
        }
      },
      "execution_count": null,
      "outputs": [
        {
          "output_type": "stream",
          "name": "stdout",
          "text": [
            "Copy ./resnet50-saved-model-11-acc-0.47.hdf5 to /content/drive/Shareddrives/Bangkit Capstone/Best Model\n"
          ]
        }
      ]
    },
    {
      "cell_type": "markdown",
      "source": [
        "# VGG19"
      ],
      "metadata": {
        "id": "NfPksWvrFx5f"
      }
    },
    {
      "cell_type": "markdown",
      "source": [
        "## Build Model"
      ],
      "metadata": {
        "id": "PdSXQrRbFzf7"
      }
    },
    {
      "cell_type": "code",
      "source": [
        "from tensorflow.keras.applications.vgg19 import VGG19\n",
        "from tensorflow.keras.applications.vgg19 import preprocess_input as vgg19_preprocess_input\n",
        "\n",
        "config = {\n",
        "    \"batch_size\": 32,\n",
        "    \"epochs\": 20,\n",
        "    \"classes\": 10,\n",
        "    \"input_shape\": (224, 224, 3)\n",
        "\n",
        "}\n",
        "\n",
        "compile_config = {\n",
        "    \"loss\": \"sparse_categorical_crossentropy\",\n",
        "    \"optimizer\": Adam(),\n",
        "    \"metrics\": [\"accuracy\"],\n",
        "}\n",
        "vgg19 = VGG19(\n",
        "        include_top=False,\n",
        "        weights='imagenet',\n",
        "        input_shape=config['input_shape'],\n",
        ")\n",
        "\n",
        "custom_layer = [\n",
        "    tf.keras.layers.Dense(512, activation='relu'),\n",
        "    tf.keras.layers.Dense(1024, activation='relu'),\n",
        "    tf.keras.layers.Dense(1024, activation='relu'),\n",
        "]\n",
        "\n",
        "vgg19.trainable = False\n",
        "vgg19_model = Model(model=vgg19, config=config)\n",
        "vgg19_model.train_val_generators(train_dir, validation_dir, test_dir, preprocess_input=vgg19_preprocess_input)\n",
        "vgg19_model.build_model(compile_config, custom_layer)"
      ],
      "metadata": {
        "id": "ODF3B43E9El6",
        "outputId": "94dda3ba-381e-4bb8-fe16-3e01ba6ed595",
        "colab": {
          "base_uri": "https://localhost:8080/"
        }
      },
      "execution_count": 50,
      "outputs": [
        {
          "output_type": "stream",
          "name": "stdout",
          "text": [
            "Downloading data from https://storage.googleapis.com/tensorflow/keras-applications/vgg19/vgg19_weights_tf_dim_ordering_tf_kernels_notop.h5\n",
            "80142336/80134624 [==============================] - 1s 0us/step\n",
            "80150528/80134624 [==============================] - 1s 0us/step\n",
            "Found 2410 images belonging to 10 classes.\n",
            "Found 678 images belonging to 10 classes.\n",
            "Found 361 images belonging to 10 classes.\n",
            "Model: \"sequential_2\"\n",
            "_________________________________________________________________\n",
            " Layer (type)                Output Shape              Param #   \n",
            "=================================================================\n",
            " vgg19 (Functional)          (None, 7, 7, 512)         20024384  \n",
            "                                                                 \n",
            " flatten_2 (Flatten)         (None, 25088)             0         \n",
            "                                                                 \n",
            " dense_8 (Dense)             (None, 512)               12845568  \n",
            "                                                                 \n",
            " dense_9 (Dense)             (None, 1024)              525312    \n",
            "                                                                 \n",
            " dense_10 (Dense)            (None, 1024)              1049600   \n",
            "                                                                 \n",
            " dense_11 (Dense)            (None, 10)                10250     \n",
            "                                                                 \n",
            "=================================================================\n",
            "Total params: 34,455,114\n",
            "Trainable params: 14,430,730\n",
            "Non-trainable params: 20,024,384\n",
            "_________________________________________________________________\n"
          ]
        },
        {
          "output_type": "execute_result",
          "data": {
            "text/plain": [
              "<keras.engine.sequential.Sequential at 0x7f39b4190890>"
            ]
          },
          "metadata": {},
          "execution_count": 50
        }
      ]
    },
    {
      "cell_type": "markdown",
      "source": [
        "## Train Model"
      ],
      "metadata": {
        "id": "Q51wrWa0F15-"
      }
    },
    {
      "cell_type": "code",
      "source": [
        "reduce_lr_config = {\n",
        "    'monitor': 'val_loss',\n",
        "    'factor': 0.05, \n",
        "    'patience':5, \n",
        "    'min_lr': 0.000002\n",
        "}\n",
        "vgg19_model.train('vgg19', reduce_lr_config=reduce_lr_config)"
      ],
      "metadata": {
        "id": "zC1Cml0l-s7x",
        "outputId": "cf9ba565-88ec-426f-c904-c9bf60603b78",
        "colab": {
          "base_uri": "https://localhost:8080/"
        }
      },
      "execution_count": null,
      "outputs": [
        {
          "output_type": "stream",
          "name": "stdout",
          "text": [
            "Epoch 1/20\n",
            "76/76 [==============================] - ETA: 0s - loss: 1.5361 - acc: 0.5212\n",
            "Epoch 1: val_acc improved from -inf to 0.73894, saving model to vgg19-saved-model-01-acc-0.74.hdf5\n",
            "76/76 [==============================] - 461s 6s/step - loss: 1.5361 - acc: 0.5212 - val_loss: 0.6488 - val_acc: 0.7389 - lr: 0.0010\n",
            "Epoch 2/20\n",
            "76/76 [==============================] - ETA: 0s - loss: 0.6594 - acc: 0.7456\n",
            "Epoch 2: val_acc improved from 0.73894 to 0.84071, saving model to vgg19-saved-model-02-acc-0.84.hdf5\n",
            "76/76 [==============================] - 448s 6s/step - loss: 0.6594 - acc: 0.7456 - val_loss: 0.5046 - val_acc: 0.8407 - lr: 0.0010\n",
            "Epoch 3/20\n",
            "76/76 [==============================] - ETA: 0s - loss: 0.4983 - acc: 0.8154\n",
            "Epoch 3: val_acc improved from 0.84071 to 0.87611, saving model to vgg19-saved-model-03-acc-0.88.hdf5\n",
            "76/76 [==============================] - 443s 6s/step - loss: 0.4983 - acc: 0.8154 - val_loss: 0.3115 - val_acc: 0.8761 - lr: 0.0010\n",
            "Epoch 4/20\n",
            "76/76 [==============================] - ETA: 0s - loss: 0.4838 - acc: 0.8311\n",
            "Epoch 4: val_acc improved from 0.87611 to 0.89823, saving model to vgg19-saved-model-04-acc-0.90.hdf5\n",
            "76/76 [==============================] - 444s 6s/step - loss: 0.4838 - acc: 0.8311 - val_loss: 0.3050 - val_acc: 0.8982 - lr: 0.0010\n",
            "Epoch 5/20\n",
            "76/76 [==============================] - ETA: 0s - loss: 0.4214 - acc: 0.8519\n",
            "Epoch 5: val_acc improved from 0.89823 to 0.90855, saving model to vgg19-saved-model-05-acc-0.91.hdf5\n",
            "76/76 [==============================] - 442s 6s/step - loss: 0.4214 - acc: 0.8519 - val_loss: 0.2574 - val_acc: 0.9086 - lr: 0.0010\n",
            "Epoch 6/20\n",
            "76/76 [==============================] - ETA: 0s - loss: 0.4630 - acc: 0.8315\n",
            "Epoch 6: val_acc did not improve from 0.90855\n",
            "76/76 [==============================] - 440s 6s/step - loss: 0.4630 - acc: 0.8315 - val_loss: 0.2618 - val_acc: 0.8997 - lr: 0.0010\n",
            "Epoch 7/20\n",
            "76/76 [==============================] - ETA: 0s - loss: 0.3371 - acc: 0.8826\n",
            "Epoch 7: val_acc improved from 0.90855 to 0.91888, saving model to vgg19-saved-model-07-acc-0.92.hdf5\n",
            "76/76 [==============================] - 440s 6s/step - loss: 0.3371 - acc: 0.8826 - val_loss: 0.2125 - val_acc: 0.9189 - lr: 0.0010\n",
            "Epoch 8/20\n",
            "76/76 [==============================] - ETA: 0s - loss: 0.3152 - acc: 0.8788\n",
            "Epoch 8: val_acc did not improve from 0.91888\n",
            "76/76 [==============================] - 445s 6s/step - loss: 0.3152 - acc: 0.8788 - val_loss: 0.2963 - val_acc: 0.8761 - lr: 0.0010\n",
            "Epoch 9/20\n",
            "76/76 [==============================] - ETA: 0s - loss: 0.3588 - acc: 0.8701\n",
            "Epoch 9: val_acc improved from 0.91888 to 0.92625, saving model to vgg19-saved-model-09-acc-0.93.hdf5\n",
            "76/76 [==============================] - 450s 6s/step - loss: 0.3588 - acc: 0.8701 - val_loss: 0.2300 - val_acc: 0.9263 - lr: 0.0010\n",
            "Epoch 10/20\n",
            "76/76 [==============================] - ETA: 0s - loss: 0.3225 - acc: 0.8797\n",
            "Epoch 10: val_acc did not improve from 0.92625\n",
            "76/76 [==============================] - 447s 6s/step - loss: 0.3225 - acc: 0.8797 - val_loss: 0.2074 - val_acc: 0.9218 - lr: 0.0010\n",
            "Epoch 11/20\n",
            "76/76 [==============================] - ETA: 0s - loss: 0.3026 - acc: 0.8913\n",
            "Epoch 11: val_acc improved from 0.92625 to 0.93953, saving model to vgg19-saved-model-11-acc-0.94.hdf5\n",
            "76/76 [==============================] - 443s 6s/step - loss: 0.3026 - acc: 0.8913 - val_loss: 0.1970 - val_acc: 0.9395 - lr: 0.0010\n",
            "Epoch 12/20\n",
            "76/76 [==============================] - ETA: 0s - loss: 0.2733 - acc: 0.9004\n",
            "Epoch 12: val_acc did not improve from 0.93953\n",
            "76/76 [==============================] - 443s 6s/step - loss: 0.2733 - acc: 0.9004 - val_loss: 0.2460 - val_acc: 0.9174 - lr: 0.0010\n",
            "Epoch 13/20\n",
            "76/76 [==============================] - ETA: 0s - loss: 0.3141 - acc: 0.8900\n",
            "Epoch 13: val_acc did not improve from 0.93953\n",
            "76/76 [==============================] - 441s 6s/step - loss: 0.3141 - acc: 0.8900 - val_loss: 0.1590 - val_acc: 0.9381 - lr: 0.0010\n",
            "Epoch 14/20\n",
            "76/76 [==============================] - ETA: 0s - loss: 0.2595 - acc: 0.9071\n",
            "Epoch 14: val_acc did not improve from 0.93953\n",
            "76/76 [==============================] - 442s 6s/step - loss: 0.2595 - acc: 0.9071 - val_loss: 0.3231 - val_acc: 0.8805 - lr: 0.0010\n",
            "Epoch 15/20\n",
            "76/76 [==============================] - ETA: 0s - loss: 0.2588 - acc: 0.9095\n",
            "Epoch 15: val_acc improved from 0.93953 to 0.94985, saving model to vgg19-saved-model-15-acc-0.95.hdf5\n",
            "76/76 [==============================] - 444s 6s/step - loss: 0.2588 - acc: 0.9095 - val_loss: 0.1841 - val_acc: 0.9499 - lr: 0.0010\n",
            "Epoch 16/20\n",
            "76/76 [==============================] - ETA: 0s - loss: 0.2768 - acc: 0.9075\n",
            "Epoch 16: val_acc did not improve from 0.94985\n",
            "76/76 [==============================] - 441s 6s/step - loss: 0.2768 - acc: 0.9075 - val_loss: 0.1982 - val_acc: 0.9322 - lr: 0.0010\n",
            "Epoch 17/20\n",
            "76/76 [==============================] - ETA: 0s - loss: 0.2626 - acc: 0.9075\n",
            "Epoch 17: val_acc did not improve from 0.94985\n",
            "76/76 [==============================] - 440s 6s/step - loss: 0.2626 - acc: 0.9075 - val_loss: 0.2798 - val_acc: 0.8982 - lr: 0.0010\n",
            "Epoch 18/20\n",
            "76/76 [==============================] - ETA: 0s - loss: 0.2488 - acc: 0.9141\n",
            "Epoch 18: val_acc did not improve from 0.94985\n",
            "76/76 [==============================] - 439s 6s/step - loss: 0.2488 - acc: 0.9141 - val_loss: 0.2109 - val_acc: 0.9233 - lr: 0.0010\n",
            "Epoch 19/20\n",
            "76/76 [==============================] - ETA: 0s - loss: 0.2041 - acc: 0.9324\n",
            "Epoch 19: val_acc improved from 0.94985 to 0.95575, saving model to vgg19-saved-model-19-acc-0.96.hdf5\n",
            "76/76 [==============================] - 441s 6s/step - loss: 0.2041 - acc: 0.9324 - val_loss: 0.1185 - val_acc: 0.9558 - lr: 5.0000e-05\n",
            "Epoch 20/20\n",
            "22/76 [=======>......................] - ETA: 4:03 - loss: 0.1767 - acc: 0.9318"
          ]
        }
      ]
    },
    {
      "cell_type": "markdown",
      "source": [
        "## History"
      ],
      "metadata": {
        "id": "Tv6u4f_dF3e3"
      }
    },
    {
      "cell_type": "code",
      "source": [
        "vgg19_model.plot_history()"
      ],
      "metadata": {
        "id": "YJeG4odwPIT9"
      },
      "execution_count": null,
      "outputs": []
    },
    {
      "cell_type": "markdown",
      "source": [
        "## Evaluate Model"
      ],
      "metadata": {
        "id": "Shtt8EgBF48h"
      }
    },
    {
      "cell_type": "code",
      "source": [
        "vgg19_model.evaluate_model()"
      ],
      "metadata": {
        "id": "1Wvehz6vFkfG"
      },
      "execution_count": null,
      "outputs": []
    },
    {
      "cell_type": "markdown",
      "source": [
        "## Evaluate Best Model"
      ],
      "metadata": {
        "id": "TASTQhyVF8UY"
      }
    },
    {
      "cell_type": "code",
      "source": [
        "vgg19_model.model_name = 'vgg19'\n",
        "vgg19_model.find_best_model('.')\n",
        "vgg19_model.evaluate_best_model()"
      ],
      "metadata": {
        "id": "O1POG8eIPAvA"
      },
      "execution_count": null,
      "outputs": []
    },
    {
      "cell_type": "code",
      "source": [
        "target_dir = '/content/drive/Shareddrives/Bangkit Capstone/Best Model'\n",
        "vgg19_model.save_best_model(target_dir=target_dir)"
      ],
      "metadata": {
        "id": "5L9XpvKfPRrj",
        "outputId": "2ac820a9-48bc-460a-a9a2-c2e266b34cec",
        "colab": {
          "base_uri": "https://localhost:8080/"
        }
      },
      "execution_count": null,
      "outputs": [
        {
          "output_type": "stream",
          "name": "stdout",
          "text": [
            "Copy ./vgg19-saved-model-13-acc-0.93.hdf5 to /content/drive/Shareddrives/Bangkit Capstone/Best Model\n"
          ]
        }
      ]
    },
    {
      "cell_type": "markdown",
      "source": [
        "# Predict Image"
      ],
      "metadata": {
        "id": "8m6gFgnNTL8U"
      }
    },
    {
      "cell_type": "code",
      "source": [
        "vgg16_model.model.load_weights(\"/content/drive/Shareddrives/Bangkit Capstone/Best Model2/vgg16-saved-model-20-acc-0.93.hdf5\")"
      ],
      "metadata": {
        "id": "jWDJ6255Snt6"
      },
      "execution_count": 38,
      "outputs": []
    },
    {
      "cell_type": "code",
      "source": [
        "def load_image(img_path, show=False):\n",
        "\n",
        "    img = load_img(img_path, target_size=(224, 224))\n",
        "    img_tensor = img_to_array(img)                    # (height, width, channels)\n",
        "    img_tensor = np.expand_dims(img_tensor, axis=0)         # (1, height, width, channels), add a dimension because the model expects this shape: (batch_size, height, width, channels)\n",
        "    img_tensor /= 255.                                      # imshow expects values in the range [0, 1]\n",
        "\n",
        "    if show:\n",
        "        plt.imshow(img_tensor[0])                           \n",
        "        plt.axis('off')\n",
        "        plt.show()\n",
        "\n",
        "    return img_tensor"
      ],
      "metadata": {
        "id": "EZxT5thPAveN"
      },
      "execution_count": 18,
      "outputs": []
    },
    {
      "cell_type": "code",
      "source": [
        "!wget https://www.static-src.com/wcsstore/Indraprastha/images/catalog/full//103/MTA-4596385/kedaisayur_kedaisayur_daun_pepaya_sayuran_-150_g-_full02_fzis2e6s.jpg -O daun-pepaya2.jpg"
      ],
      "metadata": {
        "id": "gwyeZrfJfCIQ",
        "outputId": "6b3624b8-ce79-4244-bfa6-7b0812cc5ce8",
        "colab": {
          "base_uri": "https://localhost:8080/"
        }
      },
      "execution_count": 35,
      "outputs": [
        {
          "output_type": "stream",
          "name": "stdout",
          "text": [
            "--2022-06-07 08:30:59--  https://www.static-src.com/wcsstore/Indraprastha/images/catalog/full//103/MTA-4596385/kedaisayur_kedaisayur_daun_pepaya_sayuran_-150_g-_full02_fzis2e6s.jpg\n",
            "Resolving www.static-src.com (www.static-src.com)... 104.18.8.153, 104.18.9.153, 2606:4700::6812:999, ...\n",
            "Connecting to www.static-src.com (www.static-src.com)|104.18.8.153|:443... connected.\n",
            "HTTP request sent, awaiting response... 200 OK\n",
            "Length: 29420 (29K) [image/jpeg]\n",
            "Saving to: ‘daun-pepaya2.jpg’\n",
            "\n",
            "\rdaun-pepaya2.jpg      0%[                    ]       0  --.-KB/s               \rdaun-pepaya2.jpg    100%[===================>]  28.73K  --.-KB/s    in 0s      \n",
            "\n",
            "2022-06-07 08:30:59 (105 MB/s) - ‘daun-pepaya2.jpg’ saved [29420/29420]\n",
            "\n"
          ]
        }
      ]
    },
    {
      "cell_type": "code",
      "source": [
        "model = vgg16_model.model\n",
        "label_map = (vgg16_model.train_generator.class_indices)\n",
        "label_map = {v: k for k, v in label_map.items()}\n",
        "image_path ='daun-anggur2.jpg'\n",
        "image = load_image(image_path, show=True)\n",
        "predict = model.predict(image)\n",
        "print(label_map[np.argmax(model.predict(image))])\n",
        "predicted_list = [ele * 100 for ele in predict.flatten()]\n",
        "\n",
        "for idx, ele in enumerate(predicted_list):\n",
        "  print(f\"{label_map[idx]}: {ele}\")"
      ],
      "metadata": {
        "id": "DHB9xo1Y-b10",
        "outputId": "4ba7c9ee-8444-4e53-b4c3-c542031d5be3",
        "colab": {
          "base_uri": "https://localhost:8080/",
          "height": 439
        }
      },
      "execution_count": 41,
      "outputs": [
        {
          "output_type": "display_data",
          "data": {
            "text/plain": [
              "<Figure size 432x288 with 1 Axes>"
            ],
            "image/png": "[encoded data removed]"
          },
          "metadata": {
            "needs_background": "light"
          }
        },
        {
          "output_type": "stream",
          "name": "stdout",
          "text": [
            "Pepaya\n",
            "Anggur: 0.7182085420936346\n",
            "Apel: 0.0018541626559454016\n",
            "Ceri: 6.651588529348373\n",
            "Delima: 0.0008230591447500046\n",
            "Jamblang: 1.3909087516367435\n",
            "Jambu Biji: 0.014436552010010928\n",
            "Kedelai: 0.02001006796490401\n",
            "Lemon: 0.036271201679483056\n",
            "Mangga: 0.0008362198059330694\n",
            "Pepaya: 91.16506576538086\n"
          ]
        }
      ]
    },
    {
      "cell_type": "markdown",
      "source": [
        "# Save Model"
      ],
      "metadata": {
        "id": "XUBTnnlsu7t4"
      }
    },
    {
      "cell_type": "code",
      "source": [
        "!pip install tensorflowjs"
      ],
      "metadata": {
        "id": "6pOa7UMZuAxf",
        "outputId": "6354b9e1-4d23-499e-a064-bfe81e831016",
        "colab": {
          "base_uri": "https://localhost:8080/",
          "height": 1000
        }
      },
      "execution_count": 46,
      "outputs": [
        {
          "output_type": "stream",
          "name": "stdout",
          "text": [
            "Looking in indexes: https://pypi.org/simple, https://us-python.pkg.dev/colab-wheels/public/simple/\n",
            "Collecting tensorflowjs\n",
            "  Downloading tensorflowjs-3.18.0-py3-none-any.whl (77 kB)\n",
            "\u001b[K     |████████████████████████████████| 77 kB 6.6 MB/s \n",
            "\u001b[?25hRequirement already satisfied: tensorflow-hub<0.13,>=0.7.0 in /usr/local/lib/python3.7/dist-packages (from tensorflowjs) (0.12.0)\n",
            "Requirement already satisfied: six<2,>=1.12.0 in /usr/local/lib/python3.7/dist-packages (from tensorflowjs) (1.15.0)\n",
            "Requirement already satisfied: tensorflow<3,>=2.1.0 in /usr/local/lib/python3.7/dist-packages (from tensorflowjs) (2.8.2+zzzcolab20220527125636)\n",
            "Collecting packaging~=20.9\n",
            "  Downloading packaging-20.9-py2.py3-none-any.whl (40 kB)\n",
            "\u001b[K     |████████████████████████████████| 40 kB 5.9 MB/s \n",
            "\u001b[?25hRequirement already satisfied: pyparsing>=2.0.2 in /usr/local/lib/python3.7/dist-packages (from packaging~=20.9->tensorflowjs) (3.0.9)\n",
            "Requirement already satisfied: libclang>=9.0.1 in /usr/local/lib/python3.7/dist-packages (from tensorflow<3,>=2.1.0->tensorflowjs) (14.0.1)\n",
            "Requirement already satisfied: keras-preprocessing>=1.1.1 in /usr/local/lib/python3.7/dist-packages (from tensorflow<3,>=2.1.0->tensorflowjs) (1.1.2)\n",
            "Requirement already satisfied: grpcio<2.0,>=1.24.3 in /usr/local/lib/python3.7/dist-packages (from tensorflow<3,>=2.1.0->tensorflowjs) (1.46.3)\n",
            "Requirement already satisfied: h5py>=2.9.0 in /usr/local/lib/python3.7/dist-packages (from tensorflow<3,>=2.1.0->tensorflowjs) (3.1.0)\n",
            "Requirement already satisfied: termcolor>=1.1.0 in /usr/local/lib/python3.7/dist-packages (from tensorflow<3,>=2.1.0->tensorflowjs) (1.1.0)\n",
            "Requirement already satisfied: wrapt>=1.11.0 in /usr/local/lib/python3.7/dist-packages (from tensorflow<3,>=2.1.0->tensorflowjs) (1.14.1)\n",
            "Requirement already satisfied: numpy>=1.20 in /usr/local/lib/python3.7/dist-packages (from tensorflow<3,>=2.1.0->tensorflowjs) (1.21.6)\n",
            "Requirement already satisfied: tensorflow-estimator<2.9,>=2.8 in /usr/local/lib/python3.7/dist-packages (from tensorflow<3,>=2.1.0->tensorflowjs) (2.8.0)\n",
            "Requirement already satisfied: google-pasta>=0.1.1 in /usr/local/lib/python3.7/dist-packages (from tensorflow<3,>=2.1.0->tensorflowjs) (0.2.0)\n",
            "Requirement already satisfied: opt-einsum>=2.3.2 in /usr/local/lib/python3.7/dist-packages (from tensorflow<3,>=2.1.0->tensorflowjs) (3.3.0)\n",
            "Requirement already satisfied: protobuf<3.20,>=3.9.2 in /usr/local/lib/python3.7/dist-packages (from tensorflow<3,>=2.1.0->tensorflowjs) (3.17.3)\n",
            "Requirement already satisfied: typing-extensions>=3.6.6 in /usr/local/lib/python3.7/dist-packages (from tensorflow<3,>=2.1.0->tensorflowjs) (4.2.0)\n",
            "Requirement already satisfied: tensorflow-io-gcs-filesystem>=0.23.1 in /usr/local/lib/python3.7/dist-packages (from tensorflow<3,>=2.1.0->tensorflowjs) (0.26.0)\n",
            "Requirement already satisfied: absl-py>=0.4.0 in /usr/local/lib/python3.7/dist-packages (from tensorflow<3,>=2.1.0->tensorflowjs) (1.0.0)\n",
            "Requirement already satisfied: flatbuffers>=1.12 in /usr/local/lib/python3.7/dist-packages (from tensorflow<3,>=2.1.0->tensorflowjs) (2.0)\n",
            "Requirement already satisfied: setuptools in /usr/local/lib/python3.7/dist-packages (from tensorflow<3,>=2.1.0->tensorflowjs) (57.4.0)\n",
            "Requirement already satisfied: keras<2.9,>=2.8.0rc0 in /usr/local/lib/python3.7/dist-packages (from tensorflow<3,>=2.1.0->tensorflowjs) (2.8.0)\n",
            "Requirement already satisfied: gast>=0.2.1 in /usr/local/lib/python3.7/dist-packages (from tensorflow<3,>=2.1.0->tensorflowjs) (0.5.3)\n",
            "Requirement already satisfied: tensorboard<2.9,>=2.8 in /usr/local/lib/python3.7/dist-packages (from tensorflow<3,>=2.1.0->tensorflowjs) (2.8.0)\n",
            "Requirement already satisfied: astunparse>=1.6.0 in /usr/local/lib/python3.7/dist-packages (from tensorflow<3,>=2.1.0->tensorflowjs) (1.6.3)\n",
            "Requirement already satisfied: wheel<1.0,>=0.23.0 in /usr/local/lib/python3.7/dist-packages (from astunparse>=1.6.0->tensorflow<3,>=2.1.0->tensorflowjs) (0.37.1)\n",
            "Requirement already satisfied: cached-property in /usr/local/lib/python3.7/dist-packages (from h5py>=2.9.0->tensorflow<3,>=2.1.0->tensorflowjs) (1.5.2)\n",
            "Requirement already satisfied: werkzeug>=0.11.15 in /usr/local/lib/python3.7/dist-packages (from tensorboard<2.9,>=2.8->tensorflow<3,>=2.1.0->tensorflowjs) (1.0.1)\n",
            "Requirement already satisfied: google-auth-oauthlib<0.5,>=0.4.1 in /usr/local/lib/python3.7/dist-packages (from tensorboard<2.9,>=2.8->tensorflow<3,>=2.1.0->tensorflowjs) (0.4.6)\n",
            "Requirement already satisfied: google-auth<3,>=1.6.3 in /usr/local/lib/python3.7/dist-packages (from tensorboard<2.9,>=2.8->tensorflow<3,>=2.1.0->tensorflowjs) (1.35.0)\n",
            "Requirement already satisfied: tensorboard-data-server<0.7.0,>=0.6.0 in /usr/local/lib/python3.7/dist-packages (from tensorboard<2.9,>=2.8->tensorflow<3,>=2.1.0->tensorflowjs) (0.6.1)\n",
            "Requirement already satisfied: markdown>=2.6.8 in /usr/local/lib/python3.7/dist-packages (from tensorboard<2.9,>=2.8->tensorflow<3,>=2.1.0->tensorflowjs) (3.3.7)\n",
            "Requirement already satisfied: requests<3,>=2.21.0 in /usr/local/lib/python3.7/dist-packages (from tensorboard<2.9,>=2.8->tensorflow<3,>=2.1.0->tensorflowjs) (2.23.0)\n",
            "Requirement already satisfied: tensorboard-plugin-wit>=1.6.0 in /usr/local/lib/python3.7/dist-packages (from tensorboard<2.9,>=2.8->tensorflow<3,>=2.1.0->tensorflowjs) (1.8.1)\n",
            "Requirement already satisfied: pyasn1-modules>=0.2.1 in /usr/local/lib/python3.7/dist-packages (from google-auth<3,>=1.6.3->tensorboard<2.9,>=2.8->tensorflow<3,>=2.1.0->tensorflowjs) (0.2.8)\n",
            "Requirement already satisfied: cachetools<5.0,>=2.0.0 in /usr/local/lib/python3.7/dist-packages (from google-auth<3,>=1.6.3->tensorboard<2.9,>=2.8->tensorflow<3,>=2.1.0->tensorflowjs) (4.2.4)\n",
            "Requirement already satisfied: rsa<5,>=3.1.4 in /usr/local/lib/python3.7/dist-packages (from google-auth<3,>=1.6.3->tensorboard<2.9,>=2.8->tensorflow<3,>=2.1.0->tensorflowjs) (4.8)\n",
            "Requirement already satisfied: requests-oauthlib>=0.7.0 in /usr/local/lib/python3.7/dist-packages (from google-auth-oauthlib<0.5,>=0.4.1->tensorboard<2.9,>=2.8->tensorflow<3,>=2.1.0->tensorflowjs) (1.3.1)\n",
            "Requirement already satisfied: importlib-metadata>=4.4 in /usr/local/lib/python3.7/dist-packages (from markdown>=2.6.8->tensorboard<2.9,>=2.8->tensorflow<3,>=2.1.0->tensorflowjs) (4.11.4)\n",
            "Requirement already satisfied: zipp>=0.5 in /usr/local/lib/python3.7/dist-packages (from importlib-metadata>=4.4->markdown>=2.6.8->tensorboard<2.9,>=2.8->tensorflow<3,>=2.1.0->tensorflowjs) (3.8.0)\n",
            "Requirement already satisfied: pyasn1<0.5.0,>=0.4.6 in /usr/local/lib/python3.7/dist-packages (from pyasn1-modules>=0.2.1->google-auth<3,>=1.6.3->tensorboard<2.9,>=2.8->tensorflow<3,>=2.1.0->tensorflowjs) (0.4.8)\n",
            "Requirement already satisfied: idna<3,>=2.5 in /usr/local/lib/python3.7/dist-packages (from requests<3,>=2.21.0->tensorboard<2.9,>=2.8->tensorflow<3,>=2.1.0->tensorflowjs) (2.10)\n",
            "Requirement already satisfied: chardet<4,>=3.0.2 in /usr/local/lib/python3.7/dist-packages (from requests<3,>=2.21.0->tensorboard<2.9,>=2.8->tensorflow<3,>=2.1.0->tensorflowjs) (3.0.4)\n",
            "Requirement already satisfied: certifi>=2017.4.17 in /usr/local/lib/python3.7/dist-packages (from requests<3,>=2.21.0->tensorboard<2.9,>=2.8->tensorflow<3,>=2.1.0->tensorflowjs) (2022.5.18.1)\n",
            "Requirement already satisfied: urllib3!=1.25.0,!=1.25.1,<1.26,>=1.21.1 in /usr/local/lib/python3.7/dist-packages (from requests<3,>=2.21.0->tensorboard<2.9,>=2.8->tensorflow<3,>=2.1.0->tensorflowjs) (1.24.3)\n",
            "Requirement already satisfied: oauthlib>=3.0.0 in /usr/local/lib/python3.7/dist-packages (from requests-oauthlib>=0.7.0->google-auth-oauthlib<0.5,>=0.4.1->tensorboard<2.9,>=2.8->tensorflow<3,>=2.1.0->tensorflowjs) (3.2.0)\n",
            "Installing collected packages: packaging, tensorflowjs\n",
            "  Attempting uninstall: packaging\n",
            "    Found existing installation: packaging 21.3\n",
            "    Uninstalling packaging-21.3:\n",
            "      Successfully uninstalled packaging-21.3\n",
            "\u001b[31mERROR: pip's dependency resolver does not currently take into account all the packages that are installed. This behaviour is the source of the following dependency conflicts.\n",
            "datascience 0.10.6 requires folium==0.2.1, but you have folium 0.8.3 which is incompatible.\u001b[0m\n",
            "Successfully installed packaging-20.9 tensorflowjs-3.18.0\n"
          ]
        },
        {
          "output_type": "display_data",
          "data": {
            "application/vnd.colab-display-data+json": {
              "pip_warning": {
                "packages": [
                  "packaging"
                ]
              }
            }
          },
          "metadata": {}
        }
      ]
    },
    {
      "cell_type": "code",
      "source": [
        "vgg16_model.model.save(\"asd\", save_format='tf')"
      ],
      "metadata": {
        "id": "qNVqFkHZTcVk",
        "outputId": "a061e208-e52f-4d38-999b-4247146cd176",
        "colab": {
          "base_uri": "https://localhost:8080/"
        }
      },
      "execution_count": 42,
      "outputs": [
        {
          "output_type": "stream",
          "name": "stdout",
          "text": [
            "INFO:tensorflow:Assets written to: asd/assets\n"
          ]
        }
      ]
    },
    {
      "cell_type": "code",
      "source": [
        "!tensorflowjs_converter --input_format tf_saved_model --output_format tfjs_graph_model asd vgg16_saved_model"
      ],
      "metadata": {
        "id": "D5f7lXkcuFgv",
        "outputId": "8c904775-4e6b-4224-acf6-841c86a6c9d3",
        "colab": {
          "base_uri": "https://localhost:8080/"
        }
      },
      "execution_count": 47,
      "outputs": [
        {
          "output_type": "stream",
          "name": "stdout",
          "text": [
            "2022-06-07 08:39:14.320473: W tensorflow/core/common_runtime/gpu/gpu_bfc_allocator.cc:39] Overriding allow_growth setting because the TF_FORCE_GPU_ALLOW_GROWTH environment variable is set. Original config value was 0.\n",
            "2022-06-07 08:39:15.869340: W tensorflow/core/framework/cpu_allocator_impl.cc:82] Allocation of 51380224 exceeds 10% of free system memory.\n",
            "2022-06-07 08:39:16.015684: W tensorflow/core/framework/cpu_allocator_impl.cc:82] Allocation of 51380224 exceeds 10% of free system memory.\n",
            "2022-06-07 08:39:16.108850: W tensorflow/core/framework/cpu_allocator_impl.cc:82] Allocation of 51380224 exceeds 10% of free system memory.\n",
            "2022-06-07 08:39:16.598163: W tensorflow/core/framework/cpu_allocator_impl.cc:82] Allocation of 51380224 exceeds 10% of free system memory.\n",
            "2022-06-07 08:39:19.941624: W tensorflow/core/framework/cpu_allocator_impl.cc:82] Allocation of 51380224 exceeds 10% of free system memory.\n",
            "Writing weight file vgg16_saved_model/model.json...\n"
          ]
        }
      ]
    },
    {
      "cell_type": "code",
      "source": [
        "!zip -r vgg16_best_model_last.zip vgg16_saved_model"
      ],
      "metadata": {
        "id": "X1C3dH_tuqIo",
        "outputId": "6182212d-e9a1-44d5-ae4e-be474fff3f26",
        "colab": {
          "base_uri": "https://localhost:8080/"
        }
      },
      "execution_count": 48,
      "outputs": [
        {
          "output_type": "stream",
          "name": "stdout",
          "text": [
            "  adding: vgg16_saved_model/ (stored 0%)\n",
            "  adding: vgg16_saved_model/group1-shard16of28.bin (deflated 7%)\n",
            "  adding: vgg16_saved_model/group1-shard2of28.bin (deflated 7%)\n",
            "  adding: vgg16_saved_model/group1-shard10of28.bin (deflated 7%)\n",
            "  adding: vgg16_saved_model/group1-shard3of28.bin (deflated 7%)\n",
            "  adding: vgg16_saved_model/group1-shard7of28.bin (deflated 7%)\n",
            "  adding: vgg16_saved_model/group1-shard25of28.bin (deflated 7%)\n",
            "  adding: vgg16_saved_model/group1-shard8of28.bin (deflated 7%)\n",
            "  adding: vgg16_saved_model/group1-shard27of28.bin (deflated 8%)\n",
            "  adding: vgg16_saved_model/group1-shard12of28.bin (deflated 7%)\n",
            "  adding: vgg16_saved_model/group1-shard28of28.bin (deflated 8%)\n",
            "  adding: vgg16_saved_model/group1-shard17of28.bin (deflated 7%)\n",
            "  adding: vgg16_saved_model/group1-shard20of28.bin (deflated 7%)\n",
            "  adding: vgg16_saved_model/group1-shard23of28.bin (deflated 7%)\n",
            "  adding: vgg16_saved_model/group1-shard5of28.bin (deflated 7%)\n",
            "  adding: vgg16_saved_model/group1-shard14of28.bin (deflated 7%)\n",
            "  adding: vgg16_saved_model/group1-shard22of28.bin (deflated 7%)\n",
            "  adding: vgg16_saved_model/group1-shard18of28.bin (deflated 7%)\n",
            "  adding: vgg16_saved_model/group1-shard11of28.bin (deflated 7%)\n",
            "  adding: vgg16_saved_model/model.json (deflated 93%)\n",
            "  adding: vgg16_saved_model/group1-shard1of28.bin (deflated 7%)\n",
            "  adding: vgg16_saved_model/group1-shard9of28.bin (deflated 7%)\n",
            "  adding: vgg16_saved_model/group1-shard24of28.bin (deflated 7%)\n",
            "  adding: vgg16_saved_model/group1-shard4of28.bin (deflated 7%)\n",
            "  adding: vgg16_saved_model/group1-shard13of28.bin (deflated 7%)\n",
            "  adding: vgg16_saved_model/group1-shard15of28.bin (deflated 7%)\n",
            "  adding: vgg16_saved_model/group1-shard19of28.bin (deflated 7%)\n",
            "  adding: vgg16_saved_model/group1-shard21of28.bin (deflated 7%)\n",
            "  adding: vgg16_saved_model/group1-shard6of28.bin (deflated 7%)\n",
            "  adding: vgg16_saved_model/group1-shard26of28.bin (deflated 7%)\n"
          ]
        }
      ]
    },
    {
      "cell_type": "code",
      "source": [
        "!cp vgg16_best_model_last.zip /content/drive/Shareddrives/Bangkit\\ Capstone/Saved\\ model"
      ],
      "metadata": {
        "id": "LSkO5FkyvKKH"
      },
      "execution_count": 49,
      "outputs": []
    },
    {
      "cell_type": "markdown",
      "source": [
        "# Miscellaneous"
      ],
      "metadata": {
        "id": "FFJOi5kAvBjL"
      }
    },
    {
      "cell_type": "code",
      "source": [
        "vgg16_model.train_generator.class_indices"
      ],
      "metadata": {
        "id": "STyyK9UqfPWp",
        "outputId": "90c623bb-c261-4f0a-ed3f-6a5690cc647b",
        "colab": {
          "base_uri": "https://localhost:8080/"
        }
      },
      "execution_count": 32,
      "outputs": [
        {
          "output_type": "execute_result",
          "data": {
            "text/plain": [
              "{'Anggur': 0,\n",
              " 'Apel': 1,\n",
              " 'Ceri': 2,\n",
              " 'Delima': 3,\n",
              " 'Jamblang': 4,\n",
              " 'Jambu Biji': 5,\n",
              " 'Kedelai': 6,\n",
              " 'Lemon': 7,\n",
              " 'Mangga': 8,\n",
              " 'Pepaya': 9}"
            ]
          },
          "metadata": {},
          "execution_count": 32
        }
      ]
    },
    {
      "cell_type": "code",
      "source": [
        "import cv2\n",
        "from google.colab.patches import cv2_imshow\n",
        "img =  cv2.imread('/istockphoto-584504750-1024x1024.jpg')\n",
        "hsv = cv2.cvtColor(img, cv2.COLOR_BGR2HSV)\n",
        "\n",
        "# find the green color \n",
        "mask_green = cv2.inRange(hsv, (36,0,0), (86,255,255))\n",
        "# find the brown color\n",
        "mask_brown = cv2.inRange(hsv, (8, 60, 20), (30, 255, 200))\n",
        "# find the yellow color in the leaf\n",
        "mask_yellow = cv2.inRange(hsv, (21, 39, 64), (40, 255, 255))\n",
        "\n",
        "# find any of the three colors(green or brown or yellow) in the image\n",
        "mask = cv2.bitwise_or(mask_green, mask_brown)\n",
        "mask = cv2.bitwise_or(mask, mask_yellow)\n",
        "\n",
        "# Bitwise-AND mask and original image\n",
        "res = cv2.bitwise_and(img,img, mask= mask)\n",
        "\n",
        "cv2_imshow(img)\n",
        "cv2_imshow(res)\n",
        "cv2.waitKey(0)\n",
        "cv2.destroyAllWindows()"
      ],
      "metadata": {
        "id": "EGleFz34CW9L"
      },
      "execution_count": null,
      "outputs": []
    },
    {
      "cell_type": "code",
      "source": [
        "train_generator.class_indices"
      ],
      "metadata": {
        "id": "ZgQMagyLzuz5",
        "outputId": "e1899804-d1e5-41c9-8254-7630a2c84f5f",
        "colab": {
          "base_uri": "https://localhost:8080/"
        }
      },
      "execution_count": null,
      "outputs": [
        {
          "output_type": "execute_result",
          "data": {
            "text/plain": [
              "{'Bayam Hijau': 0,\n",
              " 'Jahe': 1,\n",
              " 'Jambu Biji': 2,\n",
              " 'Jeruk Purut': 3,\n",
              " 'Kelor': 4,\n",
              " 'Kersen': 5,\n",
              " 'Lemon': 6,\n",
              " 'Lengkuas': 7,\n",
              " 'Mint': 8,\n",
              " 'Nangka': 9,\n",
              " 'Pepaya': 10}"
            ]
          },
          "metadata": {},
          "execution_count": 29
        }
      ]
    }
  ],
  "metadata": {
    "language_info": {
      "name": "python"
    },
    "orig_nbformat": 4,
    "colab": {
      "name": "03-ensemble.ipynb",
      "provenance": [],
      "include_colab_link": true
    },
    "kernelspec": {
      "name": "python3",
      "display_name": "Python 3"
    },
    "accelerator": "GPU"
  },
  "nbformat": 4,
  "nbformat_minor": 0
}